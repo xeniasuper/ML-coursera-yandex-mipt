{
 "cells": [
  {
   "cell_type": "markdown",
   "metadata": {},
   "source": [
    "Дан набор предложений, скопированных с Википедии. Каждое из них имеет \"кошачью тему\" в одном из трех смыслов:\n",
    "\n",
    "- кошки (животные)\n",
    "- UNIX-утилита cat для вывода содержимого файлов\n",
    "- версии операционной системы OS X, названные в честь семейства кошачьих\n",
    "\n",
    "Ваша задача — найти два предложения, которые ближе всего по смыслу к расположенному в самой первой строке. В качестве меры близости по смыслу мы будем использовать косинусное расстояние.\n",
    "\n",
    "Разумеется, использованный нами метод крайне простой. Например, он не учитывает формы слов (так, cat и cats он считает разными словами, хотя по сути они означают одно и то же), не удаляет из текстов артикли и прочие ненужные слова."
   ]
  },
  {
   "cell_type": "code",
   "execution_count": 18,
   "metadata": {},
   "outputs": [],
   "source": [
    "import re\n",
    "import numpy as np\n",
    "from scipy import spatial"
   ]
  },
  {
   "cell_type": "code",
   "execution_count": 19,
   "metadata": {},
   "outputs": [],
   "source": [
    "def two_dim_to_one_dim(list1): \n",
    "    '''Makes a one-dimensional array from a two-dimensional one'''\n",
    "    list2 = []\n",
    "    for arr in list1:\n",
    "        for elem in arr:\n",
    "            list2.append(elem)\n",
    "    return list2"
   ]
  },
  {
   "cell_type": "code",
   "execution_count": 20,
   "metadata": {},
   "outputs": [],
   "source": [
    "def two_the_most_similar(arr):\n",
    "    '''Returns an array which contains the two least elements of another array. \n",
    "    In our case these elements are the cosine distances'''\n",
    "    min1 = min2 = arr[0]\n",
    "    for i in range(len(arr)-1):\n",
    "        if arr[i+1] < min1:\n",
    "            min1 = arr[i+1]\n",
    "    for j in range(len(arr)-2):\n",
    "            if min1 < arr[j+1] < min2:\n",
    "                min2 = arr[j+1]\n",
    "    result = [min1, min2]\n",
    "    return result"
   ]
  },
  {
   "cell_type": "code",
   "execution_count": 21,
   "metadata": {},
   "outputs": [
    {
     "name": "stdout",
     "output_type": "stream",
     "text": [
      "0.7327387580875756 6\n",
      "0.7770887149698589 4\n"
     ]
    }
   ],
   "source": [
    "with open('sentences.txt') as file_obj:\n",
    "\n",
    "    sentences = []\n",
    "\n",
    "    for line in file_obj:\n",
    "        words = re.split('[^a-z]', line.lower())\n",
    "        sentence = list(filter(lambda x: x != '',  words))\n",
    "        sentences.append(sentence)\n",
    "    \n",
    "    words_list = list(set(two_dim_to_one_dim(sentences)))\n",
    "    words_dict = {word:index for index, word in enumerate(words_list)}\n",
    "\n",
    "    occurences_matrix = np.zeros((len(sentences), len(words_list)))\n",
    "    # an element with index (i, j) equals \n",
    "    # to the number of occurrences of the j-th word in the i-th sentence\n",
    "\n",
    "    for number, sentence in enumerate(sentences):\n",
    "        for word in sentence:\n",
    "            occurences_matrix[number, words_dict[word]] = sentence.count(word)\n",
    "\n",
    "    cosine_distances = []\n",
    "\n",
    "    for k in range(1, len(sentences)):\n",
    "        cosine = spatial.distance.cosine(occurences_matrix[0:1], occurences_matrix[k:k+1])\n",
    "        cosine_distances.append(cosine)\n",
    "\n",
    "    cosine_distances_enumerated = {cosine:index+1 for index, cosine in enumerate(cosine_distances)}\n",
    "\n",
    "    for elem in two_the_most_similar(cosine_distances):\n",
    "        print(elem, cosine_distances_enumerated[elem])"
   ]
  }
 ],
 "metadata": {
  "kernelspec": {
   "display_name": "Python 3",
   "language": "python",
   "name": "python3"
  },
  "language_info": {
   "codemirror_mode": {
    "name": "ipython",
    "version": 3
   },
   "file_extension": ".py",
   "mimetype": "text/x-python",
   "name": "python",
   "nbconvert_exporter": "python",
   "pygments_lexer": "ipython3",
   "version": "3.6.4"
  }
 },
 "nbformat": 4,
 "nbformat_minor": 2
}
