<!DOCTYPE html>
<html>
<head><meta charset="utf-8" />

<title>9-naive-bayes</title>

<script src="https://cdnjs.cloudflare.com/ajax/libs/require.js/2.1.10/require.min.js"></script>
<script src="https://cdnjs.cloudflare.com/ajax/libs/jquery/2.0.3/jquery.min.js"></script>



<style type="text/css">
    /*!
*
* Twitter Bootstrap
*
*/
/*!
 * Bootstrap v3.3.7 (http://getbootstrap.com)
 * Copyright 2011-2016 Twitter, Inc.
 * Licensed under MIT (https://github.com/twbs/bootstrap/blob/master/LICENSE)
 */
/*! normalize.css v3.0.3 | MIT License | github.com/necolas/normalize.css */
html {
  font-family: sans-serif;
  -ms-text-size-adjust: 100%;
  -webkit-text-size-adjust: 100%;
}
body {
  margin: 0;
}
article,
aside,
details,
figcaption,
figure,
footer,
header,
hgroup,
main,
menu,
nav,
section,
summary {
  display: block;
}
audio,
canvas,
progress,
video {
  display: inline-block;
  vertical-align: baseline;
}
audio:not([controls]) {
  display: none;
  height: 0;
}
[hidden],
template {
  display: none;
}
a {
  background-color: transparent;
}
a:active,
a:hover {
  outline: 0;
}
abbr[title] {
  border-bottom: 1px dotted;
}
b,
strong {
  font-weight: bold;
}
dfn {
  font-style: italic;
}
h1 {
  font-size: 2em;
  margin: 0.67em 0;
}
mark {
  background: #ff0;
  color: #000;
}
small {
  font-size: 80%;
}
sub,
sup {
  font-size: 75%;
  line-height: 0;
  position: relative;
  vertical-align: baseline;
}
sup {
  top: -0.5em;
}
sub {
  bottom: -0.25em;
}
img {
  border: 0;
}
svg:not(:root) {
  overflow: hidden;
}
figure {
  margin: 1em 40px;
}
hr {
  box-sizing: content-box;
  height: 0;
}
pre {
  overflow: auto;
}
code,
kbd,
pre,
samp {
  font-family: monospace, monospace;
  font-size: 1em;
}
button,
input,
optgroup,
select,
textarea {
  color: inherit;
  font: inherit;
  margin: 0;
}
button {
  overflow: visible;
}
button,
select {
  text-transform: none;
}
button,
html input[type="button"],
input[type="reset"],
input[type="submit"] {
  -webkit-appearance: button;
  cursor: pointer;
}
button[disabled],
html input[disabled] {
  cursor: default;
}
button::-moz-focus-inner,
input::-moz-focus-inner {
  border: 0;
  padding: 0;
}
input {
  line-height: normal;
}
input[type="checkbox"],
input[type="radio"] {
  box-sizing: border-box;
  padding: 0;
}
input[type="number"]::-webkit-inner-spin-button,
input[type="number"]::-webkit-outer-spin-button {
  height: auto;
}
input[type="search"] {
  -webkit-appearance: textfield;
  box-sizing: content-box;
}
input[type="search"]::-webkit-search-cancel-button,
input[type="search"]::-webkit-search-decoration {
  -webkit-appearance: none;
}
fieldset {
  border: 1px solid #c0c0c0;
  margin: 0 2px;
  padding: 0.35em 0.625em 0.75em;
}
legend {
  border: 0;
  padding: 0;
}
textarea {
  overflow: auto;
}
optgroup {
  font-weight: bold;
}
table {
  border-collapse: collapse;
  border-spacing: 0;
}
td,
th {
  padding: 0;
}
/*! Source: https://github.com/h5bp/html5-boilerplate/blob/master/src/css/main.css */
@media print {
  *,
  *:before,
  *:after {
    background: transparent !important;
    box-shadow: none !important;
    text-shadow: none !important;
  }
  a,
  a:visited {
    text-decoration: underline;
  }
  a[href]:after {
    content: " (" attr(href) ")";
  }
  abbr[title]:after {
    content: " (" attr(title) ")";
  }
  a[href^="#"]:after,
  a[href^="javascript:"]:after {
    content: "";
  }
  pre,
  blockquote {
    border: 1px solid #999;
    page-break-inside: avoid;
  }
  thead {
    display: table-header-group;
  }
  tr,
  img {
    page-break-inside: avoid;
  }
  img {
    max-width: 100% !important;
  }
  p,
  h2,
  h3 {
    orphans: 3;
    widows: 3;
  }
  h2,
  h3 {
    page-break-after: avoid;
  }
  .navbar {
    display: none;
  }
  .btn > .caret,
  .dropup > .btn > .caret {
    border-top-color: #000 !important;
  }
  .label {
    border: 1px solid #000;
  }
  .table {
    border-collapse: collapse !important;
  }
  .table td,
  .table th {
    background-color: #fff !important;
  }
  .table-bordered th,
  .table-bordered td {
    border: 1px solid #ddd !important;
  }
}
@font-face {
  font-family: 'Glyphicons Halflings';
  src: url('../components/bootstrap/fonts/glyphicons-halflings-regular.eot');
  src: url('../components/bootstrap/fonts/glyphicons-halflings-regular.eot?#iefix') format('embedded-opentype'), url('../components/bootstrap/fonts/glyphicons-halflings-regular.woff2') format('woff2'), url('../components/bootstrap/fonts/glyphicons-halflings-regular.woff') format('woff'), url('../components/bootstrap/fonts/glyphicons-halflings-regular.ttf') format('truetype'), url('../components/bootstrap/fonts/glyphicons-halflings-regular.svg#glyphicons_halflingsregular') format('svg');
}
.glyphicon {
  position: relative;
  top: 1px;
  display: inline-block;
  font-family: 'Glyphicons Halflings';
  font-style: normal;
  font-weight: normal;
  line-height: 1;
  -webkit-font-smoothing: antialiased;
  -moz-osx-font-smoothing: grayscale;
}
.glyphicon-asterisk:before {
  content: "\002a";
}
.glyphicon-plus:before {
  content: "\002b";
}
.glyphicon-euro:before,
.glyphicon-eur:before {
  content: "\20ac";
}
.glyphicon-minus:before {
  content: "\2212";
}
.glyphicon-cloud:before {
  content: "\2601";
}
.glyphicon-envelope:before {
  content: "\2709";
}
.glyphicon-pencil:before {
  content: "\270f";
}
.glyphicon-glass:before {
  content: "\e001";
}
.glyphicon-music:before {
  content: "\e002";
}
.glyphicon-search:before {
  content: "\e003";
}
.glyphicon-heart:before {
  content: "\e005";
}
.glyphicon-star:before {
  content: "\e006";
}
.glyphicon-star-empty:before {
  content: "\e007";
}
.glyphicon-user:before {
  content: "\e008";
}
.glyphicon-film:before {
  content: "\e009";
}
.glyphicon-th-large:before {
  content: "\e010";
}
.glyphicon-th:before {
  content: "\e011";
}
.glyphicon-th-list:before {
  content: "\e012";
}
.glyphicon-ok:before {
  content: "\e013";
}
.glyphicon-remove:before {
  content: "\e014";
}
.glyphicon-zoom-in:before {
  content: "\e015";
}
.glyphicon-zoom-out:before {
  content: "\e016";
}
.glyphicon-off:before {
  content: "\e017";
}
.glyphicon-signal:before {
  content: "\e018";
}
.glyphicon-cog:before {
  content: "\e019";
}
.glyphicon-trash:before {
  content: "\e020";
}
.glyphicon-home:before {
  content: "\e021";
}
.glyphicon-file:before {
  content: "\e022";
}
.glyphicon-time:before {
  content: "\e023";
}
.glyphicon-road:before {
  content: "\e024";
}
.glyphicon-download-alt:before {
  content: "\e025";
}
.glyphicon-download:before {
  content: "\e026";
}
.glyphicon-upload:before {
  content: "\e027";
}
.glyphicon-inbox:before {
  content: "\e028";
}
.glyphicon-play-circle:before {
  content: "\e029";
}
.glyphicon-repeat:before {
  content: "\e030";
}
.glyphicon-refresh:before {
  content: "\e031";
}
.glyphicon-list-alt:before {
  content: "\e032";
}
.glyphicon-lock:before {
  content: "\e033";
}
.glyphicon-flag:before {
  content: "\e034";
}
.glyphicon-headphones:before {
  content: "\e035";
}
.glyphicon-volume-off:before {
  content: "\e036";
}
.glyphicon-volume-down:before {
  content: "\e037";
}
.glyphicon-volume-up:before {
  content: "\e038";
}
.glyphicon-qrcode:before {
  content: "\e039";
}
.glyphicon-barcode:before {
  content: "\e040";
}
.glyphicon-tag:before {
  content: "\e041";
}
.glyphicon-tags:before {
  content: "\e042";
}
.glyphicon-book:before {
  content: "\e043";
}
.glyphicon-bookmark:before {
  content: "\e044";
}
.glyphicon-print:before {
  content: "\e045";
}
.glyphicon-camera:before {
  content: "\e046";
}
.glyphicon-font:before {
  content: "\e047";
}
.glyphicon-bold:before {
  content: "\e048";
}
.glyphicon-italic:before {
  content: "\e049";
}
.glyphicon-text-height:before {
  content: "\e050";
}
.glyphicon-text-width:before {
  content: "\e051";
}
.glyphicon-align-left:before {
  content: "\e052";
}
.glyphicon-align-center:before {
  content: "\e053";
}
.glyphicon-align-right:before {
  content: "\e054";
}
.glyphicon-align-justify:before {
  content: "\e055";
}
.glyphicon-list:before {
  content: "\e056";
}
.glyphicon-indent-left:before {
  content: "\e057";
}
.glyphicon-indent-right:before {
  content: "\e058";
}
.glyphicon-facetime-video:before {
  content: "\e059";
}
.glyphicon-picture:before {
  content: "\e060";
}
.glyphicon-map-marker:before {
  content: "\e062";
}
.glyphicon-adjust:before {
  content: "\e063";
}
.glyphicon-tint:before {
  content: "\e064";
}
.glyphicon-edit:before {
  content: "\e065";
}
.glyphicon-share:before {
  content: "\e066";
}
.glyphicon-check:before {
  content: "\e067";
}
.glyphicon-move:before {
  content: "\e068";
}
.glyphicon-step-backward:before {
  content: "\e069";
}
.glyphicon-fast-backward:before {
  content: "\e070";
}
.glyphicon-backward:before {
  content: "\e071";
}
.glyphicon-play:before {
  content: "\e072";
}
.glyphicon-pause:before {
  content: "\e073";
}
.glyphicon-stop:before {
  content: "\e074";
}
.glyphicon-forward:before {
  content: "\e075";
}
.glyphicon-fast-forward:before {
  content: "\e076";
}
.glyphicon-step-forward:before {
  content: "\e077";
}
.glyphicon-eject:before {
  content: "\e078";
}
.glyphicon-chevron-left:before {
  content: "\e079";
}
.glyphicon-chevron-right:before {
  content: "\e080";
}
.glyphicon-plus-sign:before {
  content: "\e081";
}
.glyphicon-minus-sign:before {
  content: "\e082";
}
.glyphicon-remove-sign:before {
  content: "\e083";
}
.glyphicon-ok-sign:before {
  content: "\e084";
}
.glyphicon-question-sign:before {
  content: "\e085";
}
.glyphicon-info-sign:before {
  content: "\e086";
}
.glyphicon-screenshot:before {
  content: "\e087";
}
.glyphicon-remove-circle:before {
  content: "\e088";
}
.glyphicon-ok-circle:before {
  content: "\e089";
}
.glyphicon-ban-circle:before {
  content: "\e090";
}
.glyphicon-arrow-left:before {
  content: "\e091";
}
.glyphicon-arrow-right:before {
  content: "\e092";
}
.glyphicon-arrow-up:before {
  content: "\e093";
}
.glyphicon-arrow-down:before {
  content: "\e094";
}
.glyphicon-share-alt:before {
  content: "\e095";
}
.glyphicon-resize-full:before {
  content: "\e096";
}
.glyphicon-resize-small:before {
  content: "\e097";
}
.glyphicon-exclamation-sign:before {
  content: "\e101";
}
.glyphicon-gift:before {
  content: "\e102";
}
.glyphicon-leaf:before {
  content: "\e103";
}
.glyphicon-fire:before {
  content: "\e104";
}
.glyphicon-eye-open:before {
  content: "\e105";
}
.glyphicon-eye-close:before {
  content: "\e106";
}
.glyphicon-warning-sign:before {
  content: "\e107";
}
.glyphicon-plane:before {
  content: "\e108";
}
.glyphicon-calendar:before {
  content: "\e109";
}
.glyphicon-random:before {
  content: "\e110";
}
.glyphicon-comment:before {
  content: "\e111";
}
.glyphicon-magnet:before {
  content: "\e112";
}
.glyphicon-chevron-up:before {
  content: "\e113";
}
.glyphicon-chevron-down:before {
  content: "\e114";
}
.glyphicon-retweet:before {
  content: "\e115";
}
.glyphicon-shopping-cart:before {
  content: "\e116";
}
.glyphicon-folder-close:before {
  content: "\e117";
}
.glyphicon-folder-open:before {
  content: "\e118";
}
.glyphicon-resize-vertical:before {
  content: "\e119";
}
.glyphicon-resize-horizontal:before {
  content: "\e120";
}
.glyphicon-hdd:before {
  content: "\e121";
}
.glyphicon-bullhorn:before {
  content: "\e122";
}
.glyphicon-bell:before {
  content: "\e123";
}
.glyphicon-certificate:before {
  content: "\e124";
}
.glyphicon-thumbs-up:before {
  content: "\e125";
}
.glyphicon-thumbs-down:before {
  content: "\e126";
}
.glyphicon-hand-right:before {
  content: "\e127";
}
.glyphicon-hand-left:before {
  content: "\e128";
}
.glyphicon-hand-up:before {
  content: "\e129";
}
.glyphicon-hand-down:before {
  content: "\e130";
}
.glyphicon-circle-arrow-right:before {
  content: "\e131";
}
.glyphicon-circle-arrow-left:before {
  content: "\e132";
}
.glyphicon-circle-arrow-up:before {
  content: "\e133";
}
.glyphicon-circle-arrow-down:before {
  content: "\e134";
}
.glyphicon-globe:before {
  content: "\e135";
}
.glyphicon-wrench:before {
  content: "\e136";
}
.glyphicon-tasks:before {
  content: "\e137";
}
.glyphicon-filter:before {
  content: "\e138";
}
.glyphicon-briefcase:before {
  content: "\e139";
}
.glyphicon-fullscreen:before {
  content: "\e140";
}
.glyphicon-dashboard:before {
  content: "\e141";
}
.glyphicon-paperclip:before {
  content: "\e142";
}
.glyphicon-heart-empty:before {
  content: "\e143";
}
.glyphicon-link:before {
  content: "\e144";
}
.glyphicon-phone:before {
  content: "\e145";
}
.glyphicon-pushpin:before {
  content: "\e146";
}
.glyphicon-usd:before {
  content: "\e148";
}
.glyphicon-gbp:before {
  content: "\e149";
}
.glyphicon-sort:before {
  content: "\e150";
}
.glyphicon-sort-by-alphabet:before {
  content: "\e151";
}
.glyphicon-sort-by-alphabet-alt:before {
  content: "\e152";
}
.glyphicon-sort-by-order:before {
  content: "\e153";
}
.glyphicon-sort-by-order-alt:before {
  content: "\e154";
}
.glyphicon-sort-by-attributes:before {
  content: "\e155";
}
.glyphicon-sort-by-attributes-alt:before {
  content: "\e156";
}
.glyphicon-unchecked:before {
  content: "\e157";
}
.glyphicon-expand:before {
  content: "\e158";
}
.glyphicon-collapse-down:before {
  content: "\e159";
}
.glyphicon-collapse-up:before {
  content: "\e160";
}
.glyphicon-log-in:before {
  content: "\e161";
}
.glyphicon-flash:before {
  content: "\e162";
}
.glyphicon-log-out:before {
  content: "\e163";
}
.glyphicon-new-window:before {
  content: "\e164";
}
.glyphicon-record:before {
  content: "\e165";
}
.glyphicon-save:before {
  content: "\e166";
}
.glyphicon-open:before {
  content: "\e167";
}
.glyphicon-saved:before {
  content: "\e168";
}
.glyphicon-import:before {
  content: "\e169";
}
.glyphicon-export:before {
  content: "\e170";
}
.glyphicon-send:before {
  content: "\e171";
}
.glyphicon-floppy-disk:before {
  content: "\e172";
}
.glyphicon-floppy-saved:before {
  content: "\e173";
}
.glyphicon-floppy-remove:before {
  content: "\e174";
}
.glyphicon-floppy-save:before {
  content: "\e175";
}
.glyphicon-floppy-open:before {
  content: "\e176";
}
.glyphicon-credit-card:before {
  content: "\e177";
}
.glyphicon-transfer:before {
  content: "\e178";
}
.glyphicon-cutlery:before {
  content: "\e179";
}
.glyphicon-header:before {
  content: "\e180";
}
.glyphicon-compressed:before {
  content: "\e181";
}
.glyphicon-earphone:before {
  content: "\e182";
}
.glyphicon-phone-alt:before {
  content: "\e183";
}
.glyphicon-tower:before {
  content: "\e184";
}
.glyphicon-stats:before {
  content: "\e185";
}
.glyphicon-sd-video:before {
  content: "\e186";
}
.glyphicon-hd-video:before {
  content: "\e187";
}
.glyphicon-subtitles:before {
  content: "\e188";
}
.glyphicon-sound-stereo:before {
  content: "\e189";
}
.glyphicon-sound-dolby:before {
  content: "\e190";
}
.glyphicon-sound-5-1:before {
  content: "\e191";
}
.glyphicon-sound-6-1:before {
  content: "\e192";
}
.glyphicon-sound-7-1:before {
  content: "\e193";
}
.glyphicon-copyright-mark:before {
  content: "\e194";
}
.glyphicon-registration-mark:before {
  content: "\e195";
}
.glyphicon-cloud-download:before {
  content: "\e197";
}
.glyphicon-cloud-upload:before {
  content: "\e198";
}
.glyphicon-tree-conifer:before {
  content: "\e199";
}
.glyphicon-tree-deciduous:before {
  content: "\e200";
}
.glyphicon-cd:before {
  content: "\e201";
}
.glyphicon-save-file:before {
  content: "\e202";
}
.glyphicon-open-file:before {
  content: "\e203";
}
.glyphicon-level-up:before {
  content: "\e204";
}
.glyphicon-copy:before {
  content: "\e205";
}
.glyphicon-paste:before {
  content: "\e206";
}
.glyphicon-alert:before {
  content: "\e209";
}
.glyphicon-equalizer:before {
  content: "\e210";
}
.glyphicon-king:before {
  content: "\e211";
}
.glyphicon-queen:before {
  content: "\e212";
}
.glyphicon-pawn:before {
  content: "\e213";
}
.glyphicon-bishop:before {
  content: "\e214";
}
.glyphicon-knight:before {
  content: "\e215";
}
.glyphicon-baby-formula:before {
  content: "\e216";
}
.glyphicon-tent:before {
  content: "\26fa";
}
.glyphicon-blackboard:before {
  content: "\e218";
}
.glyphicon-bed:before {
  content: "\e219";
}
.glyphicon-apple:before {
  content: "\f8ff";
}
.glyphicon-erase:before {
  content: "\e221";
}
.glyphicon-hourglass:before {
  content: "\231b";
}
.glyphicon-lamp:before {
  content: "\e223";
}
.glyphicon-duplicate:before {
  content: "\e224";
}
.glyphicon-piggy-bank:before {
  content: "\e225";
}
.glyphicon-scissors:before {
  content: "\e226";
}
.glyphicon-bitcoin:before {
  content: "\e227";
}
.glyphicon-btc:before {
  content: "\e227";
}
.glyphicon-xbt:before {
  content: "\e227";
}
.glyphicon-yen:before {
  content: "\00a5";
}
.glyphicon-jpy:before {
  content: "\00a5";
}
.glyphicon-ruble:before {
  content: "\20bd";
}
.glyphicon-rub:before {
  content: "\20bd";
}
.glyphicon-scale:before {
  content: "\e230";
}
.glyphicon-ice-lolly:before {
  content: "\e231";
}
.glyphicon-ice-lolly-tasted:before {
  content: "\e232";
}
.glyphicon-education:before {
  content: "\e233";
}
.glyphicon-option-horizontal:before {
  content: "\e234";
}
.glyphicon-option-vertical:before {
  content: "\e235";
}
.glyphicon-menu-hamburger:before {
  content: "\e236";
}
.glyphicon-modal-window:before {
  content: "\e237";
}
.glyphicon-oil:before {
  content: "\e238";
}
.glyphicon-grain:before {
  content: "\e239";
}
.glyphicon-sunglasses:before {
  content: "\e240";
}
.glyphicon-text-size:before {
  content: "\e241";
}
.glyphicon-text-color:before {
  content: "\e242";
}
.glyphicon-text-background:before {
  content: "\e243";
}
.glyphicon-object-align-top:before {
  content: "\e244";
}
.glyphicon-object-align-bottom:before {
  content: "\e245";
}
.glyphicon-object-align-horizontal:before {
  content: "\e246";
}
.glyphicon-object-align-left:before {
  content: "\e247";
}
.glyphicon-object-align-vertical:before {
  content: "\e248";
}
.glyphicon-object-align-right:before {
  content: "\e249";
}
.glyphicon-triangle-right:before {
  content: "\e250";
}
.glyphicon-triangle-left:before {
  content: "\e251";
}
.glyphicon-triangle-bottom:before {
  content: "\e252";
}
.glyphicon-triangle-top:before {
  content: "\e253";
}
.glyphicon-console:before {
  content: "\e254";
}
.glyphicon-superscript:before {
  content: "\e255";
}
.glyphicon-subscript:before {
  content: "\e256";
}
.glyphicon-menu-left:before {
  content: "\e257";
}
.glyphicon-menu-right:before {
  content: "\e258";
}
.glyphicon-menu-down:before {
  content: "\e259";
}
.glyphicon-menu-up:before {
  content: "\e260";
}
* {
  -webkit-box-sizing: border-box;
  -moz-box-sizing: border-box;
  box-sizing: border-box;
}
*:before,
*:after {
  -webkit-box-sizing: border-box;
  -moz-box-sizing: border-box;
  box-sizing: border-box;
}
html {
  font-size: 10px;
  -webkit-tap-highlight-color: rgba(0, 0, 0, 0);
}
body {
  font-family: "Helvetica Neue", Helvetica, Arial, sans-serif;
  font-size: 13px;
  line-height: 1.42857143;
  color: #000;
  background-color: #fff;
}
input,
button,
select,
textarea {
  font-family: inherit;
  font-size: inherit;
  line-height: inherit;
}
a {
  color: #337ab7;
  text-decoration: none;
}
a:hover,
a:focus {
  color: #23527c;
  text-decoration: underline;
}
a:focus {
  outline: 5px auto -webkit-focus-ring-color;
  outline-offset: -2px;
}
figure {
  margin: 0;
}
img {
  vertical-align: middle;
}
.img-responsive,
.thumbnail > img,
.thumbnail a > img,
.carousel-inner > .item > img,
.carousel-inner > .item > a > img {
  display: block;
  max-width: 100%;
  height: auto;
}
.img-rounded {
  border-radius: 3px;
}
.img-thumbnail {
  padding: 4px;
  line-height: 1.42857143;
  background-color: #fff;
  border: 1px solid #ddd;
  border-radius: 2px;
  -webkit-transition: all 0.2s ease-in-out;
  -o-transition: all 0.2s ease-in-out;
  transition: all 0.2s ease-in-out;
  display: inline-block;
  max-width: 100%;
  height: auto;
}
.img-circle {
  border-radius: 50%;
}
hr {
  margin-top: 18px;
  margin-bottom: 18px;
  border: 0;
  border-top: 1px solid #eeeeee;
}
.sr-only {
  position: absolute;
  width: 1px;
  height: 1px;
  margin: -1px;
  padding: 0;
  overflow: hidden;
  clip: rect(0, 0, 0, 0);
  border: 0;
}
.sr-only-focusable:active,
.sr-only-focusable:focus {
  position: static;
  width: auto;
  height: auto;
  margin: 0;
  overflow: visible;
  clip: auto;
}
[role="button"] {
  cursor: pointer;
}
h1,
h2,
h3,
h4,
h5,
h6,
.h1,
.h2,
.h3,
.h4,
.h5,
.h6 {
  font-family: inherit;
  font-weight: 500;
  line-height: 1.1;
  color: inherit;
}
h1 small,
h2 small,
h3 small,
h4 small,
h5 small,
h6 small,
.h1 small,
.h2 small,
.h3 small,
.h4 small,
.h5 small,
.h6 small,
h1 .small,
h2 .small,
h3 .small,
h4 .small,
h5 .small,
h6 .small,
.h1 .small,
.h2 .small,
.h3 .small,
.h4 .small,
.h5 .small,
.h6 .small {
  font-weight: normal;
  line-height: 1;
  color: #777777;
}
h1,
.h1,
h2,
.h2,
h3,
.h3 {
  margin-top: 18px;
  margin-bottom: 9px;
}
h1 small,
.h1 small,
h2 small,
.h2 small,
h3 small,
.h3 small,
h1 .small,
.h1 .small,
h2 .small,
.h2 .small,
h3 .small,
.h3 .small {
  font-size: 65%;
}
h4,
.h4,
h5,
.h5,
h6,
.h6 {
  margin-top: 9px;
  margin-bottom: 9px;
}
h4 small,
.h4 small,
h5 small,
.h5 small,
h6 small,
.h6 small,
h4 .small,
.h4 .small,
h5 .small,
.h5 .small,
h6 .small,
.h6 .small {
  font-size: 75%;
}
h1,
.h1 {
  font-size: 33px;
}
h2,
.h2 {
  font-size: 27px;
}
h3,
.h3 {
  font-size: 23px;
}
h4,
.h4 {
  font-size: 17px;
}
h5,
.h5 {
  font-size: 13px;
}
h6,
.h6 {
  font-size: 12px;
}
p {
  margin: 0 0 9px;
}
.lead {
  margin-bottom: 18px;
  font-size: 14px;
  font-weight: 300;
  line-height: 1.4;
}
@media (min-width: 768px) {
  .lead {
    font-size: 19.5px;
  }
}
small,
.small {
  font-size: 92%;
}
mark,
.mark {
  background-color: #fcf8e3;
  padding: .2em;
}
.text-left {
  text-align: left;
}
.text-right {
  text-align: right;
}
.text-center {
  text-align: center;
}
.text-justify {
  text-align: justify;
}
.text-nowrap {
  white-space: nowrap;
}
.text-lowercase {
  text-transform: lowercase;
}
.text-uppercase {
  text-transform: uppercase;
}
.text-capitalize {
  text-transform: capitalize;
}
.text-muted {
  color: #777777;
}
.text-primary {
  color: #337ab7;
}
a.text-primary:hover,
a.text-primary:focus {
  color: #286090;
}
.text-success {
  color: #3c763d;
}
a.text-success:hover,
a.text-success:focus {
  color: #2b542c;
}
.text-info {
  color: #31708f;
}
a.text-info:hover,
a.text-info:focus {
  color: #245269;
}
.text-warning {
  color: #8a6d3b;
}
a.text-warning:hover,
a.text-warning:focus {
  color: #66512c;
}
.text-danger {
  color: #a94442;
}
a.text-danger:hover,
a.text-danger:focus {
  color: #843534;
}
.bg-primary {
  color: #fff;
  background-color: #337ab7;
}
a.bg-primary:hover,
a.bg-primary:focus {
  background-color: #286090;
}
.bg-success {
  background-color: #dff0d8;
}
a.bg-success:hover,
a.bg-success:focus {
  background-color: #c1e2b3;
}
.bg-info {
  background-color: #d9edf7;
}
a.bg-info:hover,
a.bg-info:focus {
  background-color: #afd9ee;
}
.bg-warning {
  background-color: #fcf8e3;
}
a.bg-warning:hover,
a.bg-warning:focus {
  background-color: #f7ecb5;
}
.bg-danger {
  background-color: #f2dede;
}
a.bg-danger:hover,
a.bg-danger:focus {
  background-color: #e4b9b9;
}
.page-header {
  padding-bottom: 8px;
  margin: 36px 0 18px;
  border-bottom: 1px solid #eeeeee;
}
ul,
ol {
  margin-top: 0;
  margin-bottom: 9px;
}
ul ul,
ol ul,
ul ol,
ol ol {
  margin-bottom: 0;
}
.list-unstyled {
  padding-left: 0;
  list-style: none;
}
.list-inline {
  padding-left: 0;
  list-style: none;
  margin-left: -5px;
}
.list-inline > li {
  display: inline-block;
  padding-left: 5px;
  padding-right: 5px;
}
dl {
  margin-top: 0;
  margin-bottom: 18px;
}
dt,
dd {
  line-height: 1.42857143;
}
dt {
  font-weight: bold;
}
dd {
  margin-left: 0;
}
@media (min-width: 541px) {
  .dl-horizontal dt {
    float: left;
    width: 160px;
    clear: left;
    text-align: right;
    overflow: hidden;
    text-overflow: ellipsis;
    white-space: nowrap;
  }
  .dl-horizontal dd {
    margin-left: 180px;
  }
}
abbr[title],
abbr[data-original-title] {
  cursor: help;
  border-bottom: 1px dotted #777777;
}
.initialism {
  font-size: 90%;
  text-transform: uppercase;
}
blockquote {
  padding: 9px 18px;
  margin: 0 0 18px;
  font-size: inherit;
  border-left: 5px solid #eeeeee;
}
blockquote p:last-child,
blockquote ul:last-child,
blockquote ol:last-child {
  margin-bottom: 0;
}
blockquote footer,
blockquote small,
blockquote .small {
  display: block;
  font-size: 80%;
  line-height: 1.42857143;
  color: #777777;
}
blockquote footer:before,
blockquote small:before,
blockquote .small:before {
  content: '\2014 \00A0';
}
.blockquote-reverse,
blockquote.pull-right {
  padding-right: 15px;
  padding-left: 0;
  border-right: 5px solid #eeeeee;
  border-left: 0;
  text-align: right;
}
.blockquote-reverse footer:before,
blockquote.pull-right footer:before,
.blockquote-reverse small:before,
blockquote.pull-right small:before,
.blockquote-reverse .small:before,
blockquote.pull-right .small:before {
  content: '';
}
.blockquote-reverse footer:after,
blockquote.pull-right footer:after,
.blockquote-reverse small:after,
blockquote.pull-right small:after,
.blockquote-reverse .small:after,
blockquote.pull-right .small:after {
  content: '\00A0 \2014';
}
address {
  margin-bottom: 18px;
  font-style: normal;
  line-height: 1.42857143;
}
code,
kbd,
pre,
samp {
  font-family: monospace;
}
code {
  padding: 2px 4px;
  font-size: 90%;
  color: #c7254e;
  background-color: #f9f2f4;
  border-radius: 2px;
}
kbd {
  padding: 2px 4px;
  font-size: 90%;
  color: #888;
  background-color: transparent;
  border-radius: 1px;
  box-shadow: inset 0 -1px 0 rgba(0, 0, 0, 0.25);
}
kbd kbd {
  padding: 0;
  font-size: 100%;
  font-weight: bold;
  box-shadow: none;
}
pre {
  display: block;
  padding: 8.5px;
  margin: 0 0 9px;
  font-size: 12px;
  line-height: 1.42857143;
  word-break: break-all;
  word-wrap: break-word;
  color: #333333;
  background-color: #f5f5f5;
  border: 1px solid #ccc;
  border-radius: 2px;
}
pre code {
  padding: 0;
  font-size: inherit;
  color: inherit;
  white-space: pre-wrap;
  background-color: transparent;
  border-radius: 0;
}
.pre-scrollable {
  max-height: 340px;
  overflow-y: scroll;
}
.container {
  margin-right: auto;
  margin-left: auto;
  padding-left: 0px;
  padding-right: 0px;
}
@media (min-width: 768px) {
  .container {
    width: 768px;
  }
}
@media (min-width: 992px) {
  .container {
    width: 940px;
  }
}
@media (min-width: 1200px) {
  .container {
    width: 1140px;
  }
}
.container-fluid {
  margin-right: auto;
  margin-left: auto;
  padding-left: 0px;
  padding-right: 0px;
}
.row {
  margin-left: 0px;
  margin-right: 0px;
}
.col-xs-1, .col-sm-1, .col-md-1, .col-lg-1, .col-xs-2, .col-sm-2, .col-md-2, .col-lg-2, .col-xs-3, .col-sm-3, .col-md-3, .col-lg-3, .col-xs-4, .col-sm-4, .col-md-4, .col-lg-4, .col-xs-5, .col-sm-5, .col-md-5, .col-lg-5, .col-xs-6, .col-sm-6, .col-md-6, .col-lg-6, .col-xs-7, .col-sm-7, .col-md-7, .col-lg-7, .col-xs-8, .col-sm-8, .col-md-8, .col-lg-8, .col-xs-9, .col-sm-9, .col-md-9, .col-lg-9, .col-xs-10, .col-sm-10, .col-md-10, .col-lg-10, .col-xs-11, .col-sm-11, .col-md-11, .col-lg-11, .col-xs-12, .col-sm-12, .col-md-12, .col-lg-12 {
  position: relative;
  min-height: 1px;
  padding-left: 0px;
  padding-right: 0px;
}
.col-xs-1, .col-xs-2, .col-xs-3, .col-xs-4, .col-xs-5, .col-xs-6, .col-xs-7, .col-xs-8, .col-xs-9, .col-xs-10, .col-xs-11, .col-xs-12 {
  float: left;
}
.col-xs-12 {
  width: 100%;
}
.col-xs-11 {
  width: 91.66666667%;
}
.col-xs-10 {
  width: 83.33333333%;
}
.col-xs-9 {
  width: 75%;
}
.col-xs-8 {
  width: 66.66666667%;
}
.col-xs-7 {
  width: 58.33333333%;
}
.col-xs-6 {
  width: 50%;
}
.col-xs-5 {
  width: 41.66666667%;
}
.col-xs-4 {
  width: 33.33333333%;
}
.col-xs-3 {
  width: 25%;
}
.col-xs-2 {
  width: 16.66666667%;
}
.col-xs-1 {
  width: 8.33333333%;
}
.col-xs-pull-12 {
  right: 100%;
}
.col-xs-pull-11 {
  right: 91.66666667%;
}
.col-xs-pull-10 {
  right: 83.33333333%;
}
.col-xs-pull-9 {
  right: 75%;
}
.col-xs-pull-8 {
  right: 66.66666667%;
}
.col-xs-pull-7 {
  right: 58.33333333%;
}
.col-xs-pull-6 {
  right: 50%;
}
.col-xs-pull-5 {
  right: 41.66666667%;
}
.col-xs-pull-4 {
  right: 33.33333333%;
}
.col-xs-pull-3 {
  right: 25%;
}
.col-xs-pull-2 {
  right: 16.66666667%;
}
.col-xs-pull-1 {
  right: 8.33333333%;
}
.col-xs-pull-0 {
  right: auto;
}
.col-xs-push-12 {
  left: 100%;
}
.col-xs-push-11 {
  left: 91.66666667%;
}
.col-xs-push-10 {
  left: 83.33333333%;
}
.col-xs-push-9 {
  left: 75%;
}
.col-xs-push-8 {
  left: 66.66666667%;
}
.col-xs-push-7 {
  left: 58.33333333%;
}
.col-xs-push-6 {
  left: 50%;
}
.col-xs-push-5 {
  left: 41.66666667%;
}
.col-xs-push-4 {
  left: 33.33333333%;
}
.col-xs-push-3 {
  left: 25%;
}
.col-xs-push-2 {
  left: 16.66666667%;
}
.col-xs-push-1 {
  left: 8.33333333%;
}
.col-xs-push-0 {
  left: auto;
}
.col-xs-offset-12 {
  margin-left: 100%;
}
.col-xs-offset-11 {
  margin-left: 91.66666667%;
}
.col-xs-offset-10 {
  margin-left: 83.33333333%;
}
.col-xs-offset-9 {
  margin-left: 75%;
}
.col-xs-offset-8 {
  margin-left: 66.66666667%;
}
.col-xs-offset-7 {
  margin-left: 58.33333333%;
}
.col-xs-offset-6 {
  margin-left: 50%;
}
.col-xs-offset-5 {
  margin-left: 41.66666667%;
}
.col-xs-offset-4 {
  margin-left: 33.33333333%;
}
.col-xs-offset-3 {
  margin-left: 25%;
}
.col-xs-offset-2 {
  margin-left: 16.66666667%;
}
.col-xs-offset-1 {
  margin-left: 8.33333333%;
}
.col-xs-offset-0 {
  margin-left: 0%;
}
@media (min-width: 768px) {
  .col-sm-1, .col-sm-2, .col-sm-3, .col-sm-4, .col-sm-5, .col-sm-6, .col-sm-7, .col-sm-8, .col-sm-9, .col-sm-10, .col-sm-11, .col-sm-12 {
    float: left;
  }
  .col-sm-12 {
    width: 100%;
  }
  .col-sm-11 {
    width: 91.66666667%;
  }
  .col-sm-10 {
    width: 83.33333333%;
  }
  .col-sm-9 {
    width: 75%;
  }
  .col-sm-8 {
    width: 66.66666667%;
  }
  .col-sm-7 {
    width: 58.33333333%;
  }
  .col-sm-6 {
    width: 50%;
  }
  .col-sm-5 {
    width: 41.66666667%;
  }
  .col-sm-4 {
    width: 33.33333333%;
  }
  .col-sm-3 {
    width: 25%;
  }
  .col-sm-2 {
    width: 16.66666667%;
  }
  .col-sm-1 {
    width: 8.33333333%;
  }
  .col-sm-pull-12 {
    right: 100%;
  }
  .col-sm-pull-11 {
    right: 91.66666667%;
  }
  .col-sm-pull-10 {
    right: 83.33333333%;
  }
  .col-sm-pull-9 {
    right: 75%;
  }
  .col-sm-pull-8 {
    right: 66.66666667%;
  }
  .col-sm-pull-7 {
    right: 58.33333333%;
  }
  .col-sm-pull-6 {
    right: 50%;
  }
  .col-sm-pull-5 {
    right: 41.66666667%;
  }
  .col-sm-pull-4 {
    right: 33.33333333%;
  }
  .col-sm-pull-3 {
    right: 25%;
  }
  .col-sm-pull-2 {
    right: 16.66666667%;
  }
  .col-sm-pull-1 {
    right: 8.33333333%;
  }
  .col-sm-pull-0 {
    right: auto;
  }
  .col-sm-push-12 {
    left: 100%;
  }
  .col-sm-push-11 {
    left: 91.66666667%;
  }
  .col-sm-push-10 {
    left: 83.33333333%;
  }
  .col-sm-push-9 {
    left: 75%;
  }
  .col-sm-push-8 {
    left: 66.66666667%;
  }
  .col-sm-push-7 {
    left: 58.33333333%;
  }
  .col-sm-push-6 {
    left: 50%;
  }
  .col-sm-push-5 {
    left: 41.66666667%;
  }
  .col-sm-push-4 {
    left: 33.33333333%;
  }
  .col-sm-push-3 {
    left: 25%;
  }
  .col-sm-push-2 {
    left: 16.66666667%;
  }
  .col-sm-push-1 {
    left: 8.33333333%;
  }
  .col-sm-push-0 {
    left: auto;
  }
  .col-sm-offset-12 {
    margin-left: 100%;
  }
  .col-sm-offset-11 {
    margin-left: 91.66666667%;
  }
  .col-sm-offset-10 {
    margin-left: 83.33333333%;
  }
  .col-sm-offset-9 {
    margin-left: 75%;
  }
  .col-sm-offset-8 {
    margin-left: 66.66666667%;
  }
  .col-sm-offset-7 {
    margin-left: 58.33333333%;
  }
  .col-sm-offset-6 {
    margin-left: 50%;
  }
  .col-sm-offset-5 {
    margin-left: 41.66666667%;
  }
  .col-sm-offset-4 {
    margin-left: 33.33333333%;
  }
  .col-sm-offset-3 {
    margin-left: 25%;
  }
  .col-sm-offset-2 {
    margin-left: 16.66666667%;
  }
  .col-sm-offset-1 {
    margin-left: 8.33333333%;
  }
  .col-sm-offset-0 {
    margin-left: 0%;
  }
}
@media (min-width: 992px) {
  .col-md-1, .col-md-2, .col-md-3, .col-md-4, .col-md-5, .col-md-6, .col-md-7, .col-md-8, .col-md-9, .col-md-10, .col-md-11, .col-md-12 {
    float: left;
  }
  .col-md-12 {
    width: 100%;
  }
  .col-md-11 {
    width: 91.66666667%;
  }
  .col-md-10 {
    width: 83.33333333%;
  }
  .col-md-9 {
    width: 75%;
  }
  .col-md-8 {
    width: 66.66666667%;
  }
  .col-md-7 {
    width: 58.33333333%;
  }
  .col-md-6 {
    width: 50%;
  }
  .col-md-5 {
    width: 41.66666667%;
  }
  .col-md-4 {
    width: 33.33333333%;
  }
  .col-md-3 {
    width: 25%;
  }
  .col-md-2 {
    width: 16.66666667%;
  }
  .col-md-1 {
    width: 8.33333333%;
  }
  .col-md-pull-12 {
    right: 100%;
  }
  .col-md-pull-11 {
    right: 91.66666667%;
  }
  .col-md-pull-10 {
    right: 83.33333333%;
  }
  .col-md-pull-9 {
    right: 75%;
  }
  .col-md-pull-8 {
    right: 66.66666667%;
  }
  .col-md-pull-7 {
    right: 58.33333333%;
  }
  .col-md-pull-6 {
    right: 50%;
  }
  .col-md-pull-5 {
    right: 41.66666667%;
  }
  .col-md-pull-4 {
    right: 33.33333333%;
  }
  .col-md-pull-3 {
    right: 25%;
  }
  .col-md-pull-2 {
    right: 16.66666667%;
  }
  .col-md-pull-1 {
    right: 8.33333333%;
  }
  .col-md-pull-0 {
    right: auto;
  }
  .col-md-push-12 {
    left: 100%;
  }
  .col-md-push-11 {
    left: 91.66666667%;
  }
  .col-md-push-10 {
    left: 83.33333333%;
  }
  .col-md-push-9 {
    left: 75%;
  }
  .col-md-push-8 {
    left: 66.66666667%;
  }
  .col-md-push-7 {
    left: 58.33333333%;
  }
  .col-md-push-6 {
    left: 50%;
  }
  .col-md-push-5 {
    left: 41.66666667%;
  }
  .col-md-push-4 {
    left: 33.33333333%;
  }
  .col-md-push-3 {
    left: 25%;
  }
  .col-md-push-2 {
    left: 16.66666667%;
  }
  .col-md-push-1 {
    left: 8.33333333%;
  }
  .col-md-push-0 {
    left: auto;
  }
  .col-md-offset-12 {
    margin-left: 100%;
  }
  .col-md-offset-11 {
    margin-left: 91.66666667%;
  }
  .col-md-offset-10 {
    margin-left: 83.33333333%;
  }
  .col-md-offset-9 {
    margin-left: 75%;
  }
  .col-md-offset-8 {
    margin-left: 66.66666667%;
  }
  .col-md-offset-7 {
    margin-left: 58.33333333%;
  }
  .col-md-offset-6 {
    margin-left: 50%;
  }
  .col-md-offset-5 {
    margin-left: 41.66666667%;
  }
  .col-md-offset-4 {
    margin-left: 33.33333333%;
  }
  .col-md-offset-3 {
    margin-left: 25%;
  }
  .col-md-offset-2 {
    margin-left: 16.66666667%;
  }
  .col-md-offset-1 {
    margin-left: 8.33333333%;
  }
  .col-md-offset-0 {
    margin-left: 0%;
  }
}
@media (min-width: 1200px) {
  .col-lg-1, .col-lg-2, .col-lg-3, .col-lg-4, .col-lg-5, .col-lg-6, .col-lg-7, .col-lg-8, .col-lg-9, .col-lg-10, .col-lg-11, .col-lg-12 {
    float: left;
  }
  .col-lg-12 {
    width: 100%;
  }
  .col-lg-11 {
    width: 91.66666667%;
  }
  .col-lg-10 {
    width: 83.33333333%;
  }
  .col-lg-9 {
    width: 75%;
  }
  .col-lg-8 {
    width: 66.66666667%;
  }
  .col-lg-7 {
    width: 58.33333333%;
  }
  .col-lg-6 {
    width: 50%;
  }
  .col-lg-5 {
    width: 41.66666667%;
  }
  .col-lg-4 {
    width: 33.33333333%;
  }
  .col-lg-3 {
    width: 25%;
  }
  .col-lg-2 {
    width: 16.66666667%;
  }
  .col-lg-1 {
    width: 8.33333333%;
  }
  .col-lg-pull-12 {
    right: 100%;
  }
  .col-lg-pull-11 {
    right: 91.66666667%;
  }
  .col-lg-pull-10 {
    right: 83.33333333%;
  }
  .col-lg-pull-9 {
    right: 75%;
  }
  .col-lg-pull-8 {
    right: 66.66666667%;
  }
  .col-lg-pull-7 {
    right: 58.33333333%;
  }
  .col-lg-pull-6 {
    right: 50%;
  }
  .col-lg-pull-5 {
    right: 41.66666667%;
  }
  .col-lg-pull-4 {
    right: 33.33333333%;
  }
  .col-lg-pull-3 {
    right: 25%;
  }
  .col-lg-pull-2 {
    right: 16.66666667%;
  }
  .col-lg-pull-1 {
    right: 8.33333333%;
  }
  .col-lg-pull-0 {
    right: auto;
  }
  .col-lg-push-12 {
    left: 100%;
  }
  .col-lg-push-11 {
    left: 91.66666667%;
  }
  .col-lg-push-10 {
    left: 83.33333333%;
  }
  .col-lg-push-9 {
    left: 75%;
  }
  .col-lg-push-8 {
    left: 66.66666667%;
  }
  .col-lg-push-7 {
    left: 58.33333333%;
  }
  .col-lg-push-6 {
    left: 50%;
  }
  .col-lg-push-5 {
    left: 41.66666667%;
  }
  .col-lg-push-4 {
    left: 33.33333333%;
  }
  .col-lg-push-3 {
    left: 25%;
  }
  .col-lg-push-2 {
    left: 16.66666667%;
  }
  .col-lg-push-1 {
    left: 8.33333333%;
  }
  .col-lg-push-0 {
    left: auto;
  }
  .col-lg-offset-12 {
    margin-left: 100%;
  }
  .col-lg-offset-11 {
    margin-left: 91.66666667%;
  }
  .col-lg-offset-10 {
    margin-left: 83.33333333%;
  }
  .col-lg-offset-9 {
    margin-left: 75%;
  }
  .col-lg-offset-8 {
    margin-left: 66.66666667%;
  }
  .col-lg-offset-7 {
    margin-left: 58.33333333%;
  }
  .col-lg-offset-6 {
    margin-left: 50%;
  }
  .col-lg-offset-5 {
    margin-left: 41.66666667%;
  }
  .col-lg-offset-4 {
    margin-left: 33.33333333%;
  }
  .col-lg-offset-3 {
    margin-left: 25%;
  }
  .col-lg-offset-2 {
    margin-left: 16.66666667%;
  }
  .col-lg-offset-1 {
    margin-left: 8.33333333%;
  }
  .col-lg-offset-0 {
    margin-left: 0%;
  }
}
table {
  background-color: transparent;
}
caption {
  padding-top: 8px;
  padding-bottom: 8px;
  color: #777777;
  text-align: left;
}
th {
  text-align: left;
}
.table {
  width: 100%;
  max-width: 100%;
  margin-bottom: 18px;
}
.table > thead > tr > th,
.table > tbody > tr > th,
.table > tfoot > tr > th,
.table > thead > tr > td,
.table > tbody > tr > td,
.table > tfoot > tr > td {
  padding: 8px;
  line-height: 1.42857143;
  vertical-align: top;
  border-top: 1px solid #ddd;
}
.table > thead > tr > th {
  vertical-align: bottom;
  border-bottom: 2px solid #ddd;
}
.table > caption + thead > tr:first-child > th,
.table > colgroup + thead > tr:first-child > th,
.table > thead:first-child > tr:first-child > th,
.table > caption + thead > tr:first-child > td,
.table > colgroup + thead > tr:first-child > td,
.table > thead:first-child > tr:first-child > td {
  border-top: 0;
}
.table > tbody + tbody {
  border-top: 2px solid #ddd;
}
.table .table {
  background-color: #fff;
}
.table-condensed > thead > tr > th,
.table-condensed > tbody > tr > th,
.table-condensed > tfoot > tr > th,
.table-condensed > thead > tr > td,
.table-condensed > tbody > tr > td,
.table-condensed > tfoot > tr > td {
  padding: 5px;
}
.table-bordered {
  border: 1px solid #ddd;
}
.table-bordered > thead > tr > th,
.table-bordered > tbody > tr > th,
.table-bordered > tfoot > tr > th,
.table-bordered > thead > tr > td,
.table-bordered > tbody > tr > td,
.table-bordered > tfoot > tr > td {
  border: 1px solid #ddd;
}
.table-bordered > thead > tr > th,
.table-bordered > thead > tr > td {
  border-bottom-width: 2px;
}
.table-striped > tbody > tr:nth-of-type(odd) {
  background-color: #f9f9f9;
}
.table-hover > tbody > tr:hover {
  background-color: #f5f5f5;
}
table col[class*="col-"] {
  position: static;
  float: none;
  display: table-column;
}
table td[class*="col-"],
table th[class*="col-"] {
  position: static;
  float: none;
  display: table-cell;
}
.table > thead > tr > td.active,
.table > tbody > tr > td.active,
.table > tfoot > tr > td.active,
.table > thead > tr > th.active,
.table > tbody > tr > th.active,
.table > tfoot > tr > th.active,
.table > thead > tr.active > td,
.table > tbody > tr.active > td,
.table > tfoot > tr.active > td,
.table > thead > tr.active > th,
.table > tbody > tr.active > th,
.table > tfoot > tr.active > th {
  background-color: #f5f5f5;
}
.table-hover > tbody > tr > td.active:hover,
.table-hover > tbody > tr > th.active:hover,
.table-hover > tbody > tr.active:hover > td,
.table-hover > tbody > tr:hover > .active,
.table-hover > tbody > tr.active:hover > th {
  background-color: #e8e8e8;
}
.table > thead > tr > td.success,
.table > tbody > tr > td.success,
.table > tfoot > tr > td.success,
.table > thead > tr > th.success,
.table > tbody > tr > th.success,
.table > tfoot > tr > th.success,
.table > thead > tr.success > td,
.table > tbody > tr.success > td,
.table > tfoot > tr.success > td,
.table > thead > tr.success > th,
.table > tbody > tr.success > th,
.table > tfoot > tr.success > th {
  background-color: #dff0d8;
}
.table-hover > tbody > tr > td.success:hover,
.table-hover > tbody > tr > th.success:hover,
.table-hover > tbody > tr.success:hover > td,
.table-hover > tbody > tr:hover > .success,
.table-hover > tbody > tr.success:hover > th {
  background-color: #d0e9c6;
}
.table > thead > tr > td.info,
.table > tbody > tr > td.info,
.table > tfoot > tr > td.info,
.table > thead > tr > th.info,
.table > tbody > tr > th.info,
.table > tfoot > tr > th.info,
.table > thead > tr.info > td,
.table > tbody > tr.info > td,
.table > tfoot > tr.info > td,
.table > thead > tr.info > th,
.table > tbody > tr.info > th,
.table > tfoot > tr.info > th {
  background-color: #d9edf7;
}
.table-hover > tbody > tr > td.info:hover,
.table-hover > tbody > tr > th.info:hover,
.table-hover > tbody > tr.info:hover > td,
.table-hover > tbody > tr:hover > .info,
.table-hover > tbody > tr.info:hover > th {
  background-color: #c4e3f3;
}
.table > thead > tr > td.warning,
.table > tbody > tr > td.warning,
.table > tfoot > tr > td.warning,
.table > thead > tr > th.warning,
.table > tbody > tr > th.warning,
.table > tfoot > tr > th.warning,
.table > thead > tr.warning > td,
.table > tbody > tr.warning > td,
.table > tfoot > tr.warning > td,
.table > thead > tr.warning > th,
.table > tbody > tr.warning > th,
.table > tfoot > tr.warning > th {
  background-color: #fcf8e3;
}
.table-hover > tbody > tr > td.warning:hover,
.table-hover > tbody > tr > th.warning:hover,
.table-hover > tbody > tr.warning:hover > td,
.table-hover > tbody > tr:hover > .warning,
.table-hover > tbody > tr.warning:hover > th {
  background-color: #faf2cc;
}
.table > thead > tr > td.danger,
.table > tbody > tr > td.danger,
.table > tfoot > tr > td.danger,
.table > thead > tr > th.danger,
.table > tbody > tr > th.danger,
.table > tfoot > tr > th.danger,
.table > thead > tr.danger > td,
.table > tbody > tr.danger > td,
.table > tfoot > tr.danger > td,
.table > thead > tr.danger > th,
.table > tbody > tr.danger > th,
.table > tfoot > tr.danger > th {
  background-color: #f2dede;
}
.table-hover > tbody > tr > td.danger:hover,
.table-hover > tbody > tr > th.danger:hover,
.table-hover > tbody > tr.danger:hover > td,
.table-hover > tbody > tr:hover > .danger,
.table-hover > tbody > tr.danger:hover > th {
  background-color: #ebcccc;
}
.table-responsive {
  overflow-x: auto;
  min-height: 0.01%;
}
@media screen and (max-width: 767px) {
  .table-responsive {
    width: 100%;
    margin-bottom: 13.5px;
    overflow-y: hidden;
    -ms-overflow-style: -ms-autohiding-scrollbar;
    border: 1px solid #ddd;
  }
  .table-responsive > .table {
    margin-bottom: 0;
  }
  .table-responsive > .table > thead > tr > th,
  .table-responsive > .table > tbody > tr > th,
  .table-responsive > .table > tfoot > tr > th,
  .table-responsive > .table > thead > tr > td,
  .table-responsive > .table > tbody > tr > td,
  .table-responsive > .table > tfoot > tr > td {
    white-space: nowrap;
  }
  .table-responsive > .table-bordered {
    border: 0;
  }
  .table-responsive > .table-bordered > thead > tr > th:first-child,
  .table-responsive > .table-bordered > tbody > tr > th:first-child,
  .table-responsive > .table-bordered > tfoot > tr > th:first-child,
  .table-responsive > .table-bordered > thead > tr > td:first-child,
  .table-responsive > .table-bordered > tbody > tr > td:first-child,
  .table-responsive > .table-bordered > tfoot > tr > td:first-child {
    border-left: 0;
  }
  .table-responsive > .table-bordered > thead > tr > th:last-child,
  .table-responsive > .table-bordered > tbody > tr > th:last-child,
  .table-responsive > .table-bordered > tfoot > tr > th:last-child,
  .table-responsive > .table-bordered > thead > tr > td:last-child,
  .table-responsive > .table-bordered > tbody > tr > td:last-child,
  .table-responsive > .table-bordered > tfoot > tr > td:last-child {
    border-right: 0;
  }
  .table-responsive > .table-bordered > tbody > tr:last-child > th,
  .table-responsive > .table-bordered > tfoot > tr:last-child > th,
  .table-responsive > .table-bordered > tbody > tr:last-child > td,
  .table-responsive > .table-bordered > tfoot > tr:last-child > td {
    border-bottom: 0;
  }
}
fieldset {
  padding: 0;
  margin: 0;
  border: 0;
  min-width: 0;
}
legend {
  display: block;
  width: 100%;
  padding: 0;
  margin-bottom: 18px;
  font-size: 19.5px;
  line-height: inherit;
  color: #333333;
  border: 0;
  border-bottom: 1px solid #e5e5e5;
}
label {
  display: inline-block;
  max-width: 100%;
  margin-bottom: 5px;
  font-weight: bold;
}
input[type="search"] {
  -webkit-box-sizing: border-box;
  -moz-box-sizing: border-box;
  box-sizing: border-box;
}
input[type="radio"],
input[type="checkbox"] {
  margin: 4px 0 0;
  margin-top: 1px \9;
  line-height: normal;
}
input[type="file"] {
  display: block;
}
input[type="range"] {
  display: block;
  width: 100%;
}
select[multiple],
select[size] {
  height: auto;
}
input[type="file"]:focus,
input[type="radio"]:focus,
input[type="checkbox"]:focus {
  outline: 5px auto -webkit-focus-ring-color;
  outline-offset: -2px;
}
output {
  display: block;
  padding-top: 7px;
  font-size: 13px;
  line-height: 1.42857143;
  color: #555555;
}
.form-control {
  display: block;
  width: 100%;
  height: 32px;
  padding: 6px 12px;
  font-size: 13px;
  line-height: 1.42857143;
  color: #555555;
  background-color: #fff;
  background-image: none;
  border: 1px solid #ccc;
  border-radius: 2px;
  -webkit-box-shadow: inset 0 1px 1px rgba(0, 0, 0, 0.075);
  box-shadow: inset 0 1px 1px rgba(0, 0, 0, 0.075);
  -webkit-transition: border-color ease-in-out .15s, box-shadow ease-in-out .15s;
  -o-transition: border-color ease-in-out .15s, box-shadow ease-in-out .15s;
  transition: border-color ease-in-out .15s, box-shadow ease-in-out .15s;
}
.form-control:focus {
  border-color: #66afe9;
  outline: 0;
  -webkit-box-shadow: inset 0 1px 1px rgba(0,0,0,.075), 0 0 8px rgba(102, 175, 233, 0.6);
  box-shadow: inset 0 1px 1px rgba(0,0,0,.075), 0 0 8px rgba(102, 175, 233, 0.6);
}
.form-control::-moz-placeholder {
  color: #999;
  opacity: 1;
}
.form-control:-ms-input-placeholder {
  color: #999;
}
.form-control::-webkit-input-placeholder {
  color: #999;
}
.form-control::-ms-expand {
  border: 0;
  background-color: transparent;
}
.form-control[disabled],
.form-control[readonly],
fieldset[disabled] .form-control {
  background-color: #eeeeee;
  opacity: 1;
}
.form-control[disabled],
fieldset[disabled] .form-control {
  cursor: not-allowed;
}
textarea.form-control {
  height: auto;
}
input[type="search"] {
  -webkit-appearance: none;
}
@media screen and (-webkit-min-device-pixel-ratio: 0) {
  input[type="date"].form-control,
  input[type="time"].form-control,
  input[type="datetime-local"].form-control,
  input[type="month"].form-control {
    line-height: 32px;
  }
  input[type="date"].input-sm,
  input[type="time"].input-sm,
  input[type="datetime-local"].input-sm,
  input[type="month"].input-sm,
  .input-group-sm input[type="date"],
  .input-group-sm input[type="time"],
  .input-group-sm input[type="datetime-local"],
  .input-group-sm input[type="month"] {
    line-height: 30px;
  }
  input[type="date"].input-lg,
  input[type="time"].input-lg,
  input[type="datetime-local"].input-lg,
  input[type="month"].input-lg,
  .input-group-lg input[type="date"],
  .input-group-lg input[type="time"],
  .input-group-lg input[type="datetime-local"],
  .input-group-lg input[type="month"] {
    line-height: 45px;
  }
}
.form-group {
  margin-bottom: 15px;
}
.radio,
.checkbox {
  position: relative;
  display: block;
  margin-top: 10px;
  margin-bottom: 10px;
}
.radio label,
.checkbox label {
  min-height: 18px;
  padding-left: 20px;
  margin-bottom: 0;
  font-weight: normal;
  cursor: pointer;
}
.radio input[type="radio"],
.radio-inline input[type="radio"],
.checkbox input[type="checkbox"],
.checkbox-inline input[type="checkbox"] {
  position: absolute;
  margin-left: -20px;
  margin-top: 4px \9;
}
.radio + .radio,
.checkbox + .checkbox {
  margin-top: -5px;
}
.radio-inline,
.checkbox-inline {
  position: relative;
  display: inline-block;
  padding-left: 20px;
  margin-bottom: 0;
  vertical-align: middle;
  font-weight: normal;
  cursor: pointer;
}
.radio-inline + .radio-inline,
.checkbox-inline + .checkbox-inline {
  margin-top: 0;
  margin-left: 10px;
}
input[type="radio"][disabled],
input[type="checkbox"][disabled],
input[type="radio"].disabled,
input[type="checkbox"].disabled,
fieldset[disabled] input[type="radio"],
fieldset[disabled] input[type="checkbox"] {
  cursor: not-allowed;
}
.radio-inline.disabled,
.checkbox-inline.disabled,
fieldset[disabled] .radio-inline,
fieldset[disabled] .checkbox-inline {
  cursor: not-allowed;
}
.radio.disabled label,
.checkbox.disabled label,
fieldset[disabled] .radio label,
fieldset[disabled] .checkbox label {
  cursor: not-allowed;
}
.form-control-static {
  padding-top: 7px;
  padding-bottom: 7px;
  margin-bottom: 0;
  min-height: 31px;
}
.form-control-static.input-lg,
.form-control-static.input-sm {
  padding-left: 0;
  padding-right: 0;
}
.input-sm {
  height: 30px;
  padding: 5px 10px;
  font-size: 12px;
  line-height: 1.5;
  border-radius: 1px;
}
select.input-sm {
  height: 30px;
  line-height: 30px;
}
textarea.input-sm,
select[multiple].input-sm {
  height: auto;
}
.form-group-sm .form-control {
  height: 30px;
  padding: 5px 10px;
  font-size: 12px;
  line-height: 1.5;
  border-radius: 1px;
}
.form-group-sm select.form-control {
  height: 30px;
  line-height: 30px;
}
.form-group-sm textarea.form-control,
.form-group-sm select[multiple].form-control {
  height: auto;
}
.form-group-sm .form-control-static {
  height: 30px;
  min-height: 30px;
  padding: 6px 10px;
  font-size: 12px;
  line-height: 1.5;
}
.input-lg {
  height: 45px;
  padding: 10px 16px;
  font-size: 17px;
  line-height: 1.3333333;
  border-radius: 3px;
}
select.input-lg {
  height: 45px;
  line-height: 45px;
}
textarea.input-lg,
select[multiple].input-lg {
  height: auto;
}
.form-group-lg .form-control {
  height: 45px;
  padding: 10px 16px;
  font-size: 17px;
  line-height: 1.3333333;
  border-radius: 3px;
}
.form-group-lg select.form-control {
  height: 45px;
  line-height: 45px;
}
.form-group-lg textarea.form-control,
.form-group-lg select[multiple].form-control {
  height: auto;
}
.form-group-lg .form-control-static {
  height: 45px;
  min-height: 35px;
  padding: 11px 16px;
  font-size: 17px;
  line-height: 1.3333333;
}
.has-feedback {
  position: relative;
}
.has-feedback .form-control {
  padding-right: 40px;
}
.form-control-feedback {
  position: absolute;
  top: 0;
  right: 0;
  z-index: 2;
  display: block;
  width: 32px;
  height: 32px;
  line-height: 32px;
  text-align: center;
  pointer-events: none;
}
.input-lg + .form-control-feedback,
.input-group-lg + .form-control-feedback,
.form-group-lg .form-control + .form-control-feedback {
  width: 45px;
  height: 45px;
  line-height: 45px;
}
.input-sm + .form-control-feedback,
.input-group-sm + .form-control-feedback,
.form-group-sm .form-control + .form-control-feedback {
  width: 30px;
  height: 30px;
  line-height: 30px;
}
.has-success .help-block,
.has-success .control-label,
.has-success .radio,
.has-success .checkbox,
.has-success .radio-inline,
.has-success .checkbox-inline,
.has-success.radio label,
.has-success.checkbox label,
.has-success.radio-inline label,
.has-success.checkbox-inline label {
  color: #3c763d;
}
.has-success .form-control {
  border-color: #3c763d;
  -webkit-box-shadow: inset 0 1px 1px rgba(0, 0, 0, 0.075);
  box-shadow: inset 0 1px 1px rgba(0, 0, 0, 0.075);
}
.has-success .form-control:focus {
  border-color: #2b542c;
  -webkit-box-shadow: inset 0 1px 1px rgba(0, 0, 0, 0.075), 0 0 6px #67b168;
  box-shadow: inset 0 1px 1px rgba(0, 0, 0, 0.075), 0 0 6px #67b168;
}
.has-success .input-group-addon {
  color: #3c763d;
  border-color: #3c763d;
  background-color: #dff0d8;
}
.has-success .form-control-feedback {
  color: #3c763d;
}
.has-warning .help-block,
.has-warning .control-label,
.has-warning .radio,
.has-warning .checkbox,
.has-warning .radio-inline,
.has-warning .checkbox-inline,
.has-warning.radio label,
.has-warning.checkbox label,
.has-warning.radio-inline label,
.has-warning.checkbox-inline label {
  color: #8a6d3b;
}
.has-warning .form-control {
  border-color: #8a6d3b;
  -webkit-box-shadow: inset 0 1px 1px rgba(0, 0, 0, 0.075);
  box-shadow: inset 0 1px 1px rgba(0, 0, 0, 0.075);
}
.has-warning .form-control:focus {
  border-color: #66512c;
  -webkit-box-shadow: inset 0 1px 1px rgba(0, 0, 0, 0.075), 0 0 6px #c0a16b;
  box-shadow: inset 0 1px 1px rgba(0, 0, 0, 0.075), 0 0 6px #c0a16b;
}
.has-warning .input-group-addon {
  color: #8a6d3b;
  border-color: #8a6d3b;
  background-color: #fcf8e3;
}
.has-warning .form-control-feedback {
  color: #8a6d3b;
}
.has-error .help-block,
.has-error .control-label,
.has-error .radio,
.has-error .checkbox,
.has-error .radio-inline,
.has-error .checkbox-inline,
.has-error.radio label,
.has-error.checkbox label,
.has-error.radio-inline label,
.has-error.checkbox-inline label {
  color: #a94442;
}
.has-error .form-control {
  border-color: #a94442;
  -webkit-box-shadow: inset 0 1px 1px rgba(0, 0, 0, 0.075);
  box-shadow: inset 0 1px 1px rgba(0, 0, 0, 0.075);
}
.has-error .form-control:focus {
  border-color: #843534;
  -webkit-box-shadow: inset 0 1px 1px rgba(0, 0, 0, 0.075), 0 0 6px #ce8483;
  box-shadow: inset 0 1px 1px rgba(0, 0, 0, 0.075), 0 0 6px #ce8483;
}
.has-error .input-group-addon {
  color: #a94442;
  border-color: #a94442;
  background-color: #f2dede;
}
.has-error .form-control-feedback {
  color: #a94442;
}
.has-feedback label ~ .form-control-feedback {
  top: 23px;
}
.has-feedback label.sr-only ~ .form-control-feedback {
  top: 0;
}
.help-block {
  display: block;
  margin-top: 5px;
  margin-bottom: 10px;
  color: #404040;
}
@media (min-width: 768px) {
  .form-inline .form-group {
    display: inline-block;
    margin-bottom: 0;
    vertical-align: middle;
  }
  .form-inline .form-control {
    display: inline-block;
    width: auto;
    vertical-align: middle;
  }
  .form-inline .form-control-static {
    display: inline-block;
  }
  .form-inline .input-group {
    display: inline-table;
    vertical-align: middle;
  }
  .form-inline .input-group .input-group-addon,
  .form-inline .input-group .input-group-btn,
  .form-inline .input-group .form-control {
    width: auto;
  }
  .form-inline .input-group > .form-control {
    width: 100%;
  }
  .form-inline .control-label {
    margin-bottom: 0;
    vertical-align: middle;
  }
  .form-inline .radio,
  .form-inline .checkbox {
    display: inline-block;
    margin-top: 0;
    margin-bottom: 0;
    vertical-align: middle;
  }
  .form-inline .radio label,
  .form-inline .checkbox label {
    padding-left: 0;
  }
  .form-inline .radio input[type="radio"],
  .form-inline .checkbox input[type="checkbox"] {
    position: relative;
    margin-left: 0;
  }
  .form-inline .has-feedback .form-control-feedback {
    top: 0;
  }
}
.form-horizontal .radio,
.form-horizontal .checkbox,
.form-horizontal .radio-inline,
.form-horizontal .checkbox-inline {
  margin-top: 0;
  margin-bottom: 0;
  padding-top: 7px;
}
.form-horizontal .radio,
.form-horizontal .checkbox {
  min-height: 25px;
}
.form-horizontal .form-group {
  margin-left: 0px;
  margin-right: 0px;
}
@media (min-width: 768px) {
  .form-horizontal .control-label {
    text-align: right;
    margin-bottom: 0;
    padding-top: 7px;
  }
}
.form-horizontal .has-feedback .form-control-feedback {
  right: 0px;
}
@media (min-width: 768px) {
  .form-horizontal .form-group-lg .control-label {
    padding-top: 11px;
    font-size: 17px;
  }
}
@media (min-width: 768px) {
  .form-horizontal .form-group-sm .control-label {
    padding-top: 6px;
    font-size: 12px;
  }
}
.btn {
  display: inline-block;
  margin-bottom: 0;
  font-weight: normal;
  text-align: center;
  vertical-align: middle;
  touch-action: manipulation;
  cursor: pointer;
  background-image: none;
  border: 1px solid transparent;
  white-space: nowrap;
  padding: 6px 12px;
  font-size: 13px;
  line-height: 1.42857143;
  border-radius: 2px;
  -webkit-user-select: none;
  -moz-user-select: none;
  -ms-user-select: none;
  user-select: none;
}
.btn:focus,
.btn:active:focus,
.btn.active:focus,
.btn.focus,
.btn:active.focus,
.btn.active.focus {
  outline: 5px auto -webkit-focus-ring-color;
  outline-offset: -2px;
}
.btn:hover,
.btn:focus,
.btn.focus {
  color: #333;
  text-decoration: none;
}
.btn:active,
.btn.active {
  outline: 0;
  background-image: none;
  -webkit-box-shadow: inset 0 3px 5px rgba(0, 0, 0, 0.125);
  box-shadow: inset 0 3px 5px rgba(0, 0, 0, 0.125);
}
.btn.disabled,
.btn[disabled],
fieldset[disabled] .btn {
  cursor: not-allowed;
  opacity: 0.65;
  filter: alpha(opacity=65);
  -webkit-box-shadow: none;
  box-shadow: none;
}
a.btn.disabled,
fieldset[disabled] a.btn {
  pointer-events: none;
}
.btn-default {
  color: #333;
  background-color: #fff;
  border-color: #ccc;
}
.btn-default:focus,
.btn-default.focus {
  color: #333;
  background-color: #e6e6e6;
  border-color: #8c8c8c;
}
.btn-default:hover {
  color: #333;
  background-color: #e6e6e6;
  border-color: #adadad;
}
.btn-default:active,
.btn-default.active,
.open > .dropdown-toggle.btn-default {
  color: #333;
  background-color: #e6e6e6;
  border-color: #adadad;
}
.btn-default:active:hover,
.btn-default.active:hover,
.open > .dropdown-toggle.btn-default:hover,
.btn-default:active:focus,
.btn-default.active:focus,
.open > .dropdown-toggle.btn-default:focus,
.btn-default:active.focus,
.btn-default.active.focus,
.open > .dropdown-toggle.btn-default.focus {
  color: #333;
  background-color: #d4d4d4;
  border-color: #8c8c8c;
}
.btn-default:active,
.btn-default.active,
.open > .dropdown-toggle.btn-default {
  background-image: none;
}
.btn-default.disabled:hover,
.btn-default[disabled]:hover,
fieldset[disabled] .btn-default:hover,
.btn-default.disabled:focus,
.btn-default[disabled]:focus,
fieldset[disabled] .btn-default:focus,
.btn-default.disabled.focus,
.btn-default[disabled].focus,
fieldset[disabled] .btn-default.focus {
  background-color: #fff;
  border-color: #ccc;
}
.btn-default .badge {
  color: #fff;
  background-color: #333;
}
.btn-primary {
  color: #fff;
  background-color: #337ab7;
  border-color: #2e6da4;
}
.btn-primary:focus,
.btn-primary.focus {
  color: #fff;
  background-color: #286090;
  border-color: #122b40;
}
.btn-primary:hover {
  color: #fff;
  background-color: #286090;
  border-color: #204d74;
}
.btn-primary:active,
.btn-primary.active,
.open > .dropdown-toggle.btn-primary {
  color: #fff;
  background-color: #286090;
  border-color: #204d74;
}
.btn-primary:active:hover,
.btn-primary.active:hover,
.open > .dropdown-toggle.btn-primary:hover,
.btn-primary:active:focus,
.btn-primary.active:focus,
.open > .dropdown-toggle.btn-primary:focus,
.btn-primary:active.focus,
.btn-primary.active.focus,
.open > .dropdown-toggle.btn-primary.focus {
  color: #fff;
  background-color: #204d74;
  border-color: #122b40;
}
.btn-primary:active,
.btn-primary.active,
.open > .dropdown-toggle.btn-primary {
  background-image: none;
}
.btn-primary.disabled:hover,
.btn-primary[disabled]:hover,
fieldset[disabled] .btn-primary:hover,
.btn-primary.disabled:focus,
.btn-primary[disabled]:focus,
fieldset[disabled] .btn-primary:focus,
.btn-primary.disabled.focus,
.btn-primary[disabled].focus,
fieldset[disabled] .btn-primary.focus {
  background-color: #337ab7;
  border-color: #2e6da4;
}
.btn-primary .badge {
  color: #337ab7;
  background-color: #fff;
}
.btn-success {
  color: #fff;
  background-color: #5cb85c;
  border-color: #4cae4c;
}
.btn-success:focus,
.btn-success.focus {
  color: #fff;
  background-color: #449d44;
  border-color: #255625;
}
.btn-success:hover {
  color: #fff;
  background-color: #449d44;
  border-color: #398439;
}
.btn-success:active,
.btn-success.active,
.open > .dropdown-toggle.btn-success {
  color: #fff;
  background-color: #449d44;
  border-color: #398439;
}
.btn-success:active:hover,
.btn-success.active:hover,
.open > .dropdown-toggle.btn-success:hover,
.btn-success:active:focus,
.btn-success.active:focus,
.open > .dropdown-toggle.btn-success:focus,
.btn-success:active.focus,
.btn-success.active.focus,
.open > .dropdown-toggle.btn-success.focus {
  color: #fff;
  background-color: #398439;
  border-color: #255625;
}
.btn-success:active,
.btn-success.active,
.open > .dropdown-toggle.btn-success {
  background-image: none;
}
.btn-success.disabled:hover,
.btn-success[disabled]:hover,
fieldset[disabled] .btn-success:hover,
.btn-success.disabled:focus,
.btn-success[disabled]:focus,
fieldset[disabled] .btn-success:focus,
.btn-success.disabled.focus,
.btn-success[disabled].focus,
fieldset[disabled] .btn-success.focus {
  background-color: #5cb85c;
  border-color: #4cae4c;
}
.btn-success .badge {
  color: #5cb85c;
  background-color: #fff;
}
.btn-info {
  color: #fff;
  background-color: #5bc0de;
  border-color: #46b8da;
}
.btn-info:focus,
.btn-info.focus {
  color: #fff;
  background-color: #31b0d5;
  border-color: #1b6d85;
}
.btn-info:hover {
  color: #fff;
  background-color: #31b0d5;
  border-color: #269abc;
}
.btn-info:active,
.btn-info.active,
.open > .dropdown-toggle.btn-info {
  color: #fff;
  background-color: #31b0d5;
  border-color: #269abc;
}
.btn-info:active:hover,
.btn-info.active:hover,
.open > .dropdown-toggle.btn-info:hover,
.btn-info:active:focus,
.btn-info.active:focus,
.open > .dropdown-toggle.btn-info:focus,
.btn-info:active.focus,
.btn-info.active.focus,
.open > .dropdown-toggle.btn-info.focus {
  color: #fff;
  background-color: #269abc;
  border-color: #1b6d85;
}
.btn-info:active,
.btn-info.active,
.open > .dropdown-toggle.btn-info {
  background-image: none;
}
.btn-info.disabled:hover,
.btn-info[disabled]:hover,
fieldset[disabled] .btn-info:hover,
.btn-info.disabled:focus,
.btn-info[disabled]:focus,
fieldset[disabled] .btn-info:focus,
.btn-info.disabled.focus,
.btn-info[disabled].focus,
fieldset[disabled] .btn-info.focus {
  background-color: #5bc0de;
  border-color: #46b8da;
}
.btn-info .badge {
  color: #5bc0de;
  background-color: #fff;
}
.btn-warning {
  color: #fff;
  background-color: #f0ad4e;
  border-color: #eea236;
}
.btn-warning:focus,
.btn-warning.focus {
  color: #fff;
  background-color: #ec971f;
  border-color: #985f0d;
}
.btn-warning:hover {
  color: #fff;
  background-color: #ec971f;
  border-color: #d58512;
}
.btn-warning:active,
.btn-warning.active,
.open > .dropdown-toggle.btn-warning {
  color: #fff;
  background-color: #ec971f;
  border-color: #d58512;
}
.btn-warning:active:hover,
.btn-warning.active:hover,
.open > .dropdown-toggle.btn-warning:hover,
.btn-warning:active:focus,
.btn-warning.active:focus,
.open > .dropdown-toggle.btn-warning:focus,
.btn-warning:active.focus,
.btn-warning.active.focus,
.open > .dropdown-toggle.btn-warning.focus {
  color: #fff;
  background-color: #d58512;
  border-color: #985f0d;
}
.btn-warning:active,
.btn-warning.active,
.open > .dropdown-toggle.btn-warning {
  background-image: none;
}
.btn-warning.disabled:hover,
.btn-warning[disabled]:hover,
fieldset[disabled] .btn-warning:hover,
.btn-warning.disabled:focus,
.btn-warning[disabled]:focus,
fieldset[disabled] .btn-warning:focus,
.btn-warning.disabled.focus,
.btn-warning[disabled].focus,
fieldset[disabled] .btn-warning.focus {
  background-color: #f0ad4e;
  border-color: #eea236;
}
.btn-warning .badge {
  color: #f0ad4e;
  background-color: #fff;
}
.btn-danger {
  color: #fff;
  background-color: #d9534f;
  border-color: #d43f3a;
}
.btn-danger:focus,
.btn-danger.focus {
  color: #fff;
  background-color: #c9302c;
  border-color: #761c19;
}
.btn-danger:hover {
  color: #fff;
  background-color: #c9302c;
  border-color: #ac2925;
}
.btn-danger:active,
.btn-danger.active,
.open > .dropdown-toggle.btn-danger {
  color: #fff;
  background-color: #c9302c;
  border-color: #ac2925;
}
.btn-danger:active:hover,
.btn-danger.active:hover,
.open > .dropdown-toggle.btn-danger:hover,
.btn-danger:active:focus,
.btn-danger.active:focus,
.open > .dropdown-toggle.btn-danger:focus,
.btn-danger:active.focus,
.btn-danger.active.focus,
.open > .dropdown-toggle.btn-danger.focus {
  color: #fff;
  background-color: #ac2925;
  border-color: #761c19;
}
.btn-danger:active,
.btn-danger.active,
.open > .dropdown-toggle.btn-danger {
  background-image: none;
}
.btn-danger.disabled:hover,
.btn-danger[disabled]:hover,
fieldset[disabled] .btn-danger:hover,
.btn-danger.disabled:focus,
.btn-danger[disabled]:focus,
fieldset[disabled] .btn-danger:focus,
.btn-danger.disabled.focus,
.btn-danger[disabled].focus,
fieldset[disabled] .btn-danger.focus {
  background-color: #d9534f;
  border-color: #d43f3a;
}
.btn-danger .badge {
  color: #d9534f;
  background-color: #fff;
}
.btn-link {
  color: #337ab7;
  font-weight: normal;
  border-radius: 0;
}
.btn-link,
.btn-link:active,
.btn-link.active,
.btn-link[disabled],
fieldset[disabled] .btn-link {
  background-color: transparent;
  -webkit-box-shadow: none;
  box-shadow: none;
}
.btn-link,
.btn-link:hover,
.btn-link:focus,
.btn-link:active {
  border-color: transparent;
}
.btn-link:hover,
.btn-link:focus {
  color: #23527c;
  text-decoration: underline;
  background-color: transparent;
}
.btn-link[disabled]:hover,
fieldset[disabled] .btn-link:hover,
.btn-link[disabled]:focus,
fieldset[disabled] .btn-link:focus {
  color: #777777;
  text-decoration: none;
}
.btn-lg,
.btn-group-lg > .btn {
  padding: 10px 16px;
  font-size: 17px;
  line-height: 1.3333333;
  border-radius: 3px;
}
.btn-sm,
.btn-group-sm > .btn {
  padding: 5px 10px;
  font-size: 12px;
  line-height: 1.5;
  border-radius: 1px;
}
.btn-xs,
.btn-group-xs > .btn {
  padding: 1px 5px;
  font-size: 12px;
  line-height: 1.5;
  border-radius: 1px;
}
.btn-block {
  display: block;
  width: 100%;
}
.btn-block + .btn-block {
  margin-top: 5px;
}
input[type="submit"].btn-block,
input[type="reset"].btn-block,
input[type="button"].btn-block {
  width: 100%;
}
.fade {
  opacity: 0;
  -webkit-transition: opacity 0.15s linear;
  -o-transition: opacity 0.15s linear;
  transition: opacity 0.15s linear;
}
.fade.in {
  opacity: 1;
}
.collapse {
  display: none;
}
.collapse.in {
  display: block;
}
tr.collapse.in {
  display: table-row;
}
tbody.collapse.in {
  display: table-row-group;
}
.collapsing {
  position: relative;
  height: 0;
  overflow: hidden;
  -webkit-transition-property: height, visibility;
  transition-property: height, visibility;
  -webkit-transition-duration: 0.35s;
  transition-duration: 0.35s;
  -webkit-transition-timing-function: ease;
  transition-timing-function: ease;
}
.caret {
  display: inline-block;
  width: 0;
  height: 0;
  margin-left: 2px;
  vertical-align: middle;
  border-top: 4px dashed;
  border-top: 4px solid \9;
  border-right: 4px solid transparent;
  border-left: 4px solid transparent;
}
.dropup,
.dropdown {
  position: relative;
}
.dropdown-toggle:focus {
  outline: 0;
}
.dropdown-menu {
  position: absolute;
  top: 100%;
  left: 0;
  z-index: 1000;
  display: none;
  float: left;
  min-width: 160px;
  padding: 5px 0;
  margin: 2px 0 0;
  list-style: none;
  font-size: 13px;
  text-align: left;
  background-color: #fff;
  border: 1px solid #ccc;
  border: 1px solid rgba(0, 0, 0, 0.15);
  border-radius: 2px;
  -webkit-box-shadow: 0 6px 12px rgba(0, 0, 0, 0.175);
  box-shadow: 0 6px 12px rgba(0, 0, 0, 0.175);
  background-clip: padding-box;
}
.dropdown-menu.pull-right {
  right: 0;
  left: auto;
}
.dropdown-menu .divider {
  height: 1px;
  margin: 8px 0;
  overflow: hidden;
  background-color: #e5e5e5;
}
.dropdown-menu > li > a {
  display: block;
  padding: 3px 20px;
  clear: both;
  font-weight: normal;
  line-height: 1.42857143;
  color: #333333;
  white-space: nowrap;
}
.dropdown-menu > li > a:hover,
.dropdown-menu > li > a:focus {
  text-decoration: none;
  color: #262626;
  background-color: #f5f5f5;
}
.dropdown-menu > .active > a,
.dropdown-menu > .active > a:hover,
.dropdown-menu > .active > a:focus {
  color: #fff;
  text-decoration: none;
  outline: 0;
  background-color: #337ab7;
}
.dropdown-menu > .disabled > a,
.dropdown-menu > .disabled > a:hover,
.dropdown-menu > .disabled > a:focus {
  color: #777777;
}
.dropdown-menu > .disabled > a:hover,
.dropdown-menu > .disabled > a:focus {
  text-decoration: none;
  background-color: transparent;
  background-image: none;
  filter: progid:DXImageTransform.Microsoft.gradient(enabled = false);
  cursor: not-allowed;
}
.open > .dropdown-menu {
  display: block;
}
.open > a {
  outline: 0;
}
.dropdown-menu-right {
  left: auto;
  right: 0;
}
.dropdown-menu-left {
  left: 0;
  right: auto;
}
.dropdown-header {
  display: block;
  padding: 3px 20px;
  font-size: 12px;
  line-height: 1.42857143;
  color: #777777;
  white-space: nowrap;
}
.dropdown-backdrop {
  position: fixed;
  left: 0;
  right: 0;
  bottom: 0;
  top: 0;
  z-index: 990;
}
.pull-right > .dropdown-menu {
  right: 0;
  left: auto;
}
.dropup .caret,
.navbar-fixed-bottom .dropdown .caret {
  border-top: 0;
  border-bottom: 4px dashed;
  border-bottom: 4px solid \9;
  content: "";
}
.dropup .dropdown-menu,
.navbar-fixed-bottom .dropdown .dropdown-menu {
  top: auto;
  bottom: 100%;
  margin-bottom: 2px;
}
@media (min-width: 541px) {
  .navbar-right .dropdown-menu {
    left: auto;
    right: 0;
  }
  .navbar-right .dropdown-menu-left {
    left: 0;
    right: auto;
  }
}
.btn-group,
.btn-group-vertical {
  position: relative;
  display: inline-block;
  vertical-align: middle;
}
.btn-group > .btn,
.btn-group-vertical > .btn {
  position: relative;
  float: left;
}
.btn-group > .btn:hover,
.btn-group-vertical > .btn:hover,
.btn-group > .btn:focus,
.btn-group-vertical > .btn:focus,
.btn-group > .btn:active,
.btn-group-vertical > .btn:active,
.btn-group > .btn.active,
.btn-group-vertical > .btn.active {
  z-index: 2;
}
.btn-group .btn + .btn,
.btn-group .btn + .btn-group,
.btn-group .btn-group + .btn,
.btn-group .btn-group + .btn-group {
  margin-left: -1px;
}
.btn-toolbar {
  margin-left: -5px;
}
.btn-toolbar .btn,
.btn-toolbar .btn-group,
.btn-toolbar .input-group {
  float: left;
}
.btn-toolbar > .btn,
.btn-toolbar > .btn-group,
.btn-toolbar > .input-group {
  margin-left: 5px;
}
.btn-group > .btn:not(:first-child):not(:last-child):not(.dropdown-toggle) {
  border-radius: 0;
}
.btn-group > .btn:first-child {
  margin-left: 0;
}
.btn-group > .btn:first-child:not(:last-child):not(.dropdown-toggle) {
  border-bottom-right-radius: 0;
  border-top-right-radius: 0;
}
.btn-group > .btn:last-child:not(:first-child),
.btn-group > .dropdown-toggle:not(:first-child) {
  border-bottom-left-radius: 0;
  border-top-left-radius: 0;
}
.btn-group > .btn-group {
  float: left;
}
.btn-group > .btn-group:not(:first-child):not(:last-child) > .btn {
  border-radius: 0;
}
.btn-group > .btn-group:first-child:not(:last-child) > .btn:last-child,
.btn-group > .btn-group:first-child:not(:last-child) > .dropdown-toggle {
  border-bottom-right-radius: 0;
  border-top-right-radius: 0;
}
.btn-group > .btn-group:last-child:not(:first-child) > .btn:first-child {
  border-bottom-left-radius: 0;
  border-top-left-radius: 0;
}
.btn-group .dropdown-toggle:active,
.btn-group.open .dropdown-toggle {
  outline: 0;
}
.btn-group > .btn + .dropdown-toggle {
  padding-left: 8px;
  padding-right: 8px;
}
.btn-group > .btn-lg + .dropdown-toggle {
  padding-left: 12px;
  padding-right: 12px;
}
.btn-group.open .dropdown-toggle {
  -webkit-box-shadow: inset 0 3px 5px rgba(0, 0, 0, 0.125);
  box-shadow: inset 0 3px 5px rgba(0, 0, 0, 0.125);
}
.btn-group.open .dropdown-toggle.btn-link {
  -webkit-box-shadow: none;
  box-shadow: none;
}
.btn .caret {
  margin-left: 0;
}
.btn-lg .caret {
  border-width: 5px 5px 0;
  border-bottom-width: 0;
}
.dropup .btn-lg .caret {
  border-width: 0 5px 5px;
}
.btn-group-vertical > .btn,
.btn-group-vertical > .btn-group,
.btn-group-vertical > .btn-group > .btn {
  display: block;
  float: none;
  width: 100%;
  max-width: 100%;
}
.btn-group-vertical > .btn-group > .btn {
  float: none;
}
.btn-group-vertical > .btn + .btn,
.btn-group-vertical > .btn + .btn-group,
.btn-group-vertical > .btn-group + .btn,
.btn-group-vertical > .btn-group + .btn-group {
  margin-top: -1px;
  margin-left: 0;
}
.btn-group-vertical > .btn:not(:first-child):not(:last-child) {
  border-radius: 0;
}
.btn-group-vertical > .btn:first-child:not(:last-child) {
  border-top-right-radius: 2px;
  border-top-left-radius: 2px;
  border-bottom-right-radius: 0;
  border-bottom-left-radius: 0;
}
.btn-group-vertical > .btn:last-child:not(:first-child) {
  border-top-right-radius: 0;
  border-top-left-radius: 0;
  border-bottom-right-radius: 2px;
  border-bottom-left-radius: 2px;
}
.btn-group-vertical > .btn-group:not(:first-child):not(:last-child) > .btn {
  border-radius: 0;
}
.btn-group-vertical > .btn-group:first-child:not(:last-child) > .btn:last-child,
.btn-group-vertical > .btn-group:first-child:not(:last-child) > .dropdown-toggle {
  border-bottom-right-radius: 0;
  border-bottom-left-radius: 0;
}
.btn-group-vertical > .btn-group:last-child:not(:first-child) > .btn:first-child {
  border-top-right-radius: 0;
  border-top-left-radius: 0;
}
.btn-group-justified {
  display: table;
  width: 100%;
  table-layout: fixed;
  border-collapse: separate;
}
.btn-group-justified > .btn,
.btn-group-justified > .btn-group {
  float: none;
  display: table-cell;
  width: 1%;
}
.btn-group-justified > .btn-group .btn {
  width: 100%;
}
.btn-group-justified > .btn-group .dropdown-menu {
  left: auto;
}
[data-toggle="buttons"] > .btn input[type="radio"],
[data-toggle="buttons"] > .btn-group > .btn input[type="radio"],
[data-toggle="buttons"] > .btn input[type="checkbox"],
[data-toggle="buttons"] > .btn-group > .btn input[type="checkbox"] {
  position: absolute;
  clip: rect(0, 0, 0, 0);
  pointer-events: none;
}
.input-group {
  position: relative;
  display: table;
  border-collapse: separate;
}
.input-group[class*="col-"] {
  float: none;
  padding-left: 0;
  padding-right: 0;
}
.input-group .form-control {
  position: relative;
  z-index: 2;
  float: left;
  width: 100%;
  margin-bottom: 0;
}
.input-group .form-control:focus {
  z-index: 3;
}
.input-group-lg > .form-control,
.input-group-lg > .input-group-addon,
.input-group-lg > .input-group-btn > .btn {
  height: 45px;
  padding: 10px 16px;
  font-size: 17px;
  line-height: 1.3333333;
  border-radius: 3px;
}
select.input-group-lg > .form-control,
select.input-group-lg > .input-group-addon,
select.input-group-lg > .input-group-btn > .btn {
  height: 45px;
  line-height: 45px;
}
textarea.input-group-lg > .form-control,
textarea.input-group-lg > .input-group-addon,
textarea.input-group-lg > .input-group-btn > .btn,
select[multiple].input-group-lg > .form-control,
select[multiple].input-group-lg > .input-group-addon,
select[multiple].input-group-lg > .input-group-btn > .btn {
  height: auto;
}
.input-group-sm > .form-control,
.input-group-sm > .input-group-addon,
.input-group-sm > .input-group-btn > .btn {
  height: 30px;
  padding: 5px 10px;
  font-size: 12px;
  line-height: 1.5;
  border-radius: 1px;
}
select.input-group-sm > .form-control,
select.input-group-sm > .input-group-addon,
select.input-group-sm > .input-group-btn > .btn {
  height: 30px;
  line-height: 30px;
}
textarea.input-group-sm > .form-control,
textarea.input-group-sm > .input-group-addon,
textarea.input-group-sm > .input-group-btn > .btn,
select[multiple].input-group-sm > .form-control,
select[multiple].input-group-sm > .input-group-addon,
select[multiple].input-group-sm > .input-group-btn > .btn {
  height: auto;
}
.input-group-addon,
.input-group-btn,
.input-group .form-control {
  display: table-cell;
}
.input-group-addon:not(:first-child):not(:last-child),
.input-group-btn:not(:first-child):not(:last-child),
.input-group .form-control:not(:first-child):not(:last-child) {
  border-radius: 0;
}
.input-group-addon,
.input-group-btn {
  width: 1%;
  white-space: nowrap;
  vertical-align: middle;
}
.input-group-addon {
  padding: 6px 12px;
  font-size: 13px;
  font-weight: normal;
  line-height: 1;
  color: #555555;
  text-align: center;
  background-color: #eeeeee;
  border: 1px solid #ccc;
  border-radius: 2px;
}
.input-group-addon.input-sm {
  padding: 5px 10px;
  font-size: 12px;
  border-radius: 1px;
}
.input-group-addon.input-lg {
  padding: 10px 16px;
  font-size: 17px;
  border-radius: 3px;
}
.input-group-addon input[type="radio"],
.input-group-addon input[type="checkbox"] {
  margin-top: 0;
}
.input-group .form-control:first-child,
.input-group-addon:first-child,
.input-group-btn:first-child > .btn,
.input-group-btn:first-child > .btn-group > .btn,
.input-group-btn:first-child > .dropdown-toggle,
.input-group-btn:last-child > .btn:not(:last-child):not(.dropdown-toggle),
.input-group-btn:last-child > .btn-group:not(:last-child) > .btn {
  border-bottom-right-radius: 0;
  border-top-right-radius: 0;
}
.input-group-addon:first-child {
  border-right: 0;
}
.input-group .form-control:last-child,
.input-group-addon:last-child,
.input-group-btn:last-child > .btn,
.input-group-btn:last-child > .btn-group > .btn,
.input-group-btn:last-child > .dropdown-toggle,
.input-group-btn:first-child > .btn:not(:first-child),
.input-group-btn:first-child > .btn-group:not(:first-child) > .btn {
  border-bottom-left-radius: 0;
  border-top-left-radius: 0;
}
.input-group-addon:last-child {
  border-left: 0;
}
.input-group-btn {
  position: relative;
  font-size: 0;
  white-space: nowrap;
}
.input-group-btn > .btn {
  position: relative;
}
.input-group-btn > .btn + .btn {
  margin-left: -1px;
}
.input-group-btn > .btn:hover,
.input-group-btn > .btn:focus,
.input-group-btn > .btn:active {
  z-index: 2;
}
.input-group-btn:first-child > .btn,
.input-group-btn:first-child > .btn-group {
  margin-right: -1px;
}
.input-group-btn:last-child > .btn,
.input-group-btn:last-child > .btn-group {
  z-index: 2;
  margin-left: -1px;
}
.nav {
  margin-bottom: 0;
  padding-left: 0;
  list-style: none;
}
.nav > li {
  position: relative;
  display: block;
}
.nav > li > a {
  position: relative;
  display: block;
  padding: 10px 15px;
}
.nav > li > a:hover,
.nav > li > a:focus {
  text-decoration: none;
  background-color: #eeeeee;
}
.nav > li.disabled > a {
  color: #777777;
}
.nav > li.disabled > a:hover,
.nav > li.disabled > a:focus {
  color: #777777;
  text-decoration: none;
  background-color: transparent;
  cursor: not-allowed;
}
.nav .open > a,
.nav .open > a:hover,
.nav .open > a:focus {
  background-color: #eeeeee;
  border-color: #337ab7;
}
.nav .nav-divider {
  height: 1px;
  margin: 8px 0;
  overflow: hidden;
  background-color: #e5e5e5;
}
.nav > li > a > img {
  max-width: none;
}
.nav-tabs {
  border-bottom: 1px solid #ddd;
}
.nav-tabs > li {
  float: left;
  margin-bottom: -1px;
}
.nav-tabs > li > a {
  margin-right: 2px;
  line-height: 1.42857143;
  border: 1px solid transparent;
  border-radius: 2px 2px 0 0;
}
.nav-tabs > li > a:hover {
  border-color: #eeeeee #eeeeee #ddd;
}
.nav-tabs > li.active > a,
.nav-tabs > li.active > a:hover,
.nav-tabs > li.active > a:focus {
  color: #555555;
  background-color: #fff;
  border: 1px solid #ddd;
  border-bottom-color: transparent;
  cursor: default;
}
.nav-tabs.nav-justified {
  width: 100%;
  border-bottom: 0;
}
.nav-tabs.nav-justified > li {
  float: none;
}
.nav-tabs.nav-justified > li > a {
  text-align: center;
  margin-bottom: 5px;
}
.nav-tabs.nav-justified > .dropdown .dropdown-menu {
  top: auto;
  left: auto;
}
@media (min-width: 768px) {
  .nav-tabs.nav-justified > li {
    display: table-cell;
    width: 1%;
  }
  .nav-tabs.nav-justified > li > a {
    margin-bottom: 0;
  }
}
.nav-tabs.nav-justified > li > a {
  margin-right: 0;
  border-radius: 2px;
}
.nav-tabs.nav-justified > .active > a,
.nav-tabs.nav-justified > .active > a:hover,
.nav-tabs.nav-justified > .active > a:focus {
  border: 1px solid #ddd;
}
@media (min-width: 768px) {
  .nav-tabs.nav-justified > li > a {
    border-bottom: 1px solid #ddd;
    border-radius: 2px 2px 0 0;
  }
  .nav-tabs.nav-justified > .active > a,
  .nav-tabs.nav-justified > .active > a:hover,
  .nav-tabs.nav-justified > .active > a:focus {
    border-bottom-color: #fff;
  }
}
.nav-pills > li {
  float: left;
}
.nav-pills > li > a {
  border-radius: 2px;
}
.nav-pills > li + li {
  margin-left: 2px;
}
.nav-pills > li.active > a,
.nav-pills > li.active > a:hover,
.nav-pills > li.active > a:focus {
  color: #fff;
  background-color: #337ab7;
}
.nav-stacked > li {
  float: none;
}
.nav-stacked > li + li {
  margin-top: 2px;
  margin-left: 0;
}
.nav-justified {
  width: 100%;
}
.nav-justified > li {
  float: none;
}
.nav-justified > li > a {
  text-align: center;
  margin-bottom: 5px;
}
.nav-justified > .dropdown .dropdown-menu {
  top: auto;
  left: auto;
}
@media (min-width: 768px) {
  .nav-justified > li {
    display: table-cell;
    width: 1%;
  }
  .nav-justified > li > a {
    margin-bottom: 0;
  }
}
.nav-tabs-justified {
  border-bottom: 0;
}
.nav-tabs-justified > li > a {
  margin-right: 0;
  border-radius: 2px;
}
.nav-tabs-justified > .active > a,
.nav-tabs-justified > .active > a:hover,
.nav-tabs-justified > .active > a:focus {
  border: 1px solid #ddd;
}
@media (min-width: 768px) {
  .nav-tabs-justified > li > a {
    border-bottom: 1px solid #ddd;
    border-radius: 2px 2px 0 0;
  }
  .nav-tabs-justified > .active > a,
  .nav-tabs-justified > .active > a:hover,
  .nav-tabs-justified > .active > a:focus {
    border-bottom-color: #fff;
  }
}
.tab-content > .tab-pane {
  display: none;
}
.tab-content > .active {
  display: block;
}
.nav-tabs .dropdown-menu {
  margin-top: -1px;
  border-top-right-radius: 0;
  border-top-left-radius: 0;
}
.navbar {
  position: relative;
  min-height: 30px;
  margin-bottom: 18px;
  border: 1px solid transparent;
}
@media (min-width: 541px) {
  .navbar {
    border-radius: 2px;
  }
}
@media (min-width: 541px) {
  .navbar-header {
    float: left;
  }
}
.navbar-collapse {
  overflow-x: visible;
  padding-right: 0px;
  padding-left: 0px;
  border-top: 1px solid transparent;
  box-shadow: inset 0 1px 0 rgba(255, 255, 255, 0.1);
  -webkit-overflow-scrolling: touch;
}
.navbar-collapse.in {
  overflow-y: auto;
}
@media (min-width: 541px) {
  .navbar-collapse {
    width: auto;
    border-top: 0;
    box-shadow: none;
  }
  .navbar-collapse.collapse {
    display: block !important;
    height: auto !important;
    padding-bottom: 0;
    overflow: visible !important;
  }
  .navbar-collapse.in {
    overflow-y: visible;
  }
  .navbar-fixed-top .navbar-collapse,
  .navbar-static-top .navbar-collapse,
  .navbar-fixed-bottom .navbar-collapse {
    padding-left: 0;
    padding-right: 0;
  }
}
.navbar-fixed-top .navbar-collapse,
.navbar-fixed-bottom .navbar-collapse {
  max-height: 340px;
}
@media (max-device-width: 540px) and (orientation: landscape) {
  .navbar-fixed-top .navbar-collapse,
  .navbar-fixed-bottom .navbar-collapse {
    max-height: 200px;
  }
}
.container > .navbar-header,
.container-fluid > .navbar-header,
.container > .navbar-collapse,
.container-fluid > .navbar-collapse {
  margin-right: 0px;
  margin-left: 0px;
}
@media (min-width: 541px) {
  .container > .navbar-header,
  .container-fluid > .navbar-header,
  .container > .navbar-collapse,
  .container-fluid > .navbar-collapse {
    margin-right: 0;
    margin-left: 0;
  }
}
.navbar-static-top {
  z-index: 1000;
  border-width: 0 0 1px;
}
@media (min-width: 541px) {
  .navbar-static-top {
    border-radius: 0;
  }
}
.navbar-fixed-top,
.navbar-fixed-bottom {
  position: fixed;
  right: 0;
  left: 0;
  z-index: 1030;
}
@media (min-width: 541px) {
  .navbar-fixed-top,
  .navbar-fixed-bottom {
    border-radius: 0;
  }
}
.navbar-fixed-top {
  top: 0;
  border-width: 0 0 1px;
}
.navbar-fixed-bottom {
  bottom: 0;
  margin-bottom: 0;
  border-width: 1px 0 0;
}
.navbar-brand {
  float: left;
  padding: 6px 0px;
  font-size: 17px;
  line-height: 18px;
  height: 30px;
}
.navbar-brand:hover,
.navbar-brand:focus {
  text-decoration: none;
}
.navbar-brand > img {
  display: block;
}
@media (min-width: 541px) {
  .navbar > .container .navbar-brand,
  .navbar > .container-fluid .navbar-brand {
    margin-left: 0px;
  }
}
.navbar-toggle {
  position: relative;
  float: right;
  margin-right: 0px;
  padding: 9px 10px;
  margin-top: -2px;
  margin-bottom: -2px;
  background-color: transparent;
  background-image: none;
  border: 1px solid transparent;
  border-radius: 2px;
}
.navbar-toggle:focus {
  outline: 0;
}
.navbar-toggle .icon-bar {
  display: block;
  width: 22px;
  height: 2px;
  border-radius: 1px;
}
.navbar-toggle .icon-bar + .icon-bar {
  margin-top: 4px;
}
@media (min-width: 541px) {
  .navbar-toggle {
    display: none;
  }
}
.navbar-nav {
  margin: 3px 0px;
}
.navbar-nav > li > a {
  padding-top: 10px;
  padding-bottom: 10px;
  line-height: 18px;
}
@media (max-width: 540px) {
  .navbar-nav .open .dropdown-menu {
    position: static;
    float: none;
    width: auto;
    margin-top: 0;
    background-color: transparent;
    border: 0;
    box-shadow: none;
  }
  .navbar-nav .open .dropdown-menu > li > a,
  .navbar-nav .open .dropdown-menu .dropdown-header {
    padding: 5px 15px 5px 25px;
  }
  .navbar-nav .open .dropdown-menu > li > a {
    line-height: 18px;
  }
  .navbar-nav .open .dropdown-menu > li > a:hover,
  .navbar-nav .open .dropdown-menu > li > a:focus {
    background-image: none;
  }
}
@media (min-width: 541px) {
  .navbar-nav {
    float: left;
    margin: 0;
  }
  .navbar-nav > li {
    float: left;
  }
  .navbar-nav > li > a {
    padding-top: 6px;
    padding-bottom: 6px;
  }
}
.navbar-form {
  margin-left: 0px;
  margin-right: 0px;
  padding: 10px 0px;
  border-top: 1px solid transparent;
  border-bottom: 1px solid transparent;
  -webkit-box-shadow: inset 0 1px 0 rgba(255, 255, 255, 0.1), 0 1px 0 rgba(255, 255, 255, 0.1);
  box-shadow: inset 0 1px 0 rgba(255, 255, 255, 0.1), 0 1px 0 rgba(255, 255, 255, 0.1);
  margin-top: -1px;
  margin-bottom: -1px;
}
@media (min-width: 768px) {
  .navbar-form .form-group {
    display: inline-block;
    margin-bottom: 0;
    vertical-align: middle;
  }
  .navbar-form .form-control {
    display: inline-block;
    width: auto;
    vertical-align: middle;
  }
  .navbar-form .form-control-static {
    display: inline-block;
  }
  .navbar-form .input-group {
    display: inline-table;
    vertical-align: middle;
  }
  .navbar-form .input-group .input-group-addon,
  .navbar-form .input-group .input-group-btn,
  .navbar-form .input-group .form-control {
    width: auto;
  }
  .navbar-form .input-group > .form-control {
    width: 100%;
  }
  .navbar-form .control-label {
    margin-bottom: 0;
    vertical-align: middle;
  }
  .navbar-form .radio,
  .navbar-form .checkbox {
    display: inline-block;
    margin-top: 0;
    margin-bottom: 0;
    vertical-align: middle;
  }
  .navbar-form .radio label,
  .navbar-form .checkbox label {
    padding-left: 0;
  }
  .navbar-form .radio input[type="radio"],
  .navbar-form .checkbox input[type="checkbox"] {
    position: relative;
    margin-left: 0;
  }
  .navbar-form .has-feedback .form-control-feedback {
    top: 0;
  }
}
@media (max-width: 540px) {
  .navbar-form .form-group {
    margin-bottom: 5px;
  }
  .navbar-form .form-group:last-child {
    margin-bottom: 0;
  }
}
@media (min-width: 541px) {
  .navbar-form {
    width: auto;
    border: 0;
    margin-left: 0;
    margin-right: 0;
    padding-top: 0;
    padding-bottom: 0;
    -webkit-box-shadow: none;
    box-shadow: none;
  }
}
.navbar-nav > li > .dropdown-menu {
  margin-top: 0;
  border-top-right-radius: 0;
  border-top-left-radius: 0;
}
.navbar-fixed-bottom .navbar-nav > li > .dropdown-menu {
  margin-bottom: 0;
  border-top-right-radius: 2px;
  border-top-left-radius: 2px;
  border-bottom-right-radius: 0;
  border-bottom-left-radius: 0;
}
.navbar-btn {
  margin-top: -1px;
  margin-bottom: -1px;
}
.navbar-btn.btn-sm {
  margin-top: 0px;
  margin-bottom: 0px;
}
.navbar-btn.btn-xs {
  margin-top: 4px;
  margin-bottom: 4px;
}
.navbar-text {
  margin-top: 6px;
  margin-bottom: 6px;
}
@media (min-width: 541px) {
  .navbar-text {
    float: left;
    margin-left: 0px;
    margin-right: 0px;
  }
}
@media (min-width: 541px) {
  .navbar-left {
    float: left !important;
    float: left;
  }
  .navbar-right {
    float: right !important;
    float: right;
    margin-right: 0px;
  }
  .navbar-right ~ .navbar-right {
    margin-right: 0;
  }
}
.navbar-default {
  background-color: #f8f8f8;
  border-color: #e7e7e7;
}
.navbar-default .navbar-brand {
  color: #777;
}
.navbar-default .navbar-brand:hover,
.navbar-default .navbar-brand:focus {
  color: #5e5e5e;
  background-color: transparent;
}
.navbar-default .navbar-text {
  color: #777;
}
.navbar-default .navbar-nav > li > a {
  color: #777;
}
.navbar-default .navbar-nav > li > a:hover,
.navbar-default .navbar-nav > li > a:focus {
  color: #333;
  background-color: transparent;
}
.navbar-default .navbar-nav > .active > a,
.navbar-default .navbar-nav > .active > a:hover,
.navbar-default .navbar-nav > .active > a:focus {
  color: #555;
  background-color: #e7e7e7;
}
.navbar-default .navbar-nav > .disabled > a,
.navbar-default .navbar-nav > .disabled > a:hover,
.navbar-default .navbar-nav > .disabled > a:focus {
  color: #ccc;
  background-color: transparent;
}
.navbar-default .navbar-toggle {
  border-color: #ddd;
}
.navbar-default .navbar-toggle:hover,
.navbar-default .navbar-toggle:focus {
  background-color: #ddd;
}
.navbar-default .navbar-toggle .icon-bar {
  background-color: #888;
}
.navbar-default .navbar-collapse,
.navbar-default .navbar-form {
  border-color: #e7e7e7;
}
.navbar-default .navbar-nav > .open > a,
.navbar-default .navbar-nav > .open > a:hover,
.navbar-default .navbar-nav > .open > a:focus {
  background-color: #e7e7e7;
  color: #555;
}
@media (max-width: 540px) {
  .navbar-default .navbar-nav .open .dropdown-menu > li > a {
    color: #777;
  }
  .navbar-default .navbar-nav .open .dropdown-menu > li > a:hover,
  .navbar-default .navbar-nav .open .dropdown-menu > li > a:focus {
    color: #333;
    background-color: transparent;
  }
  .navbar-default .navbar-nav .open .dropdown-menu > .active > a,
  .navbar-default .navbar-nav .open .dropdown-menu > .active > a:hover,
  .navbar-default .navbar-nav .open .dropdown-menu > .active > a:focus {
    color: #555;
    background-color: #e7e7e7;
  }
  .navbar-default .navbar-nav .open .dropdown-menu > .disabled > a,
  .navbar-default .navbar-nav .open .dropdown-menu > .disabled > a:hover,
  .navbar-default .navbar-nav .open .dropdown-menu > .disabled > a:focus {
    color: #ccc;
    background-color: transparent;
  }
}
.navbar-default .navbar-link {
  color: #777;
}
.navbar-default .navbar-link:hover {
  color: #333;
}
.navbar-default .btn-link {
  color: #777;
}
.navbar-default .btn-link:hover,
.navbar-default .btn-link:focus {
  color: #333;
}
.navbar-default .btn-link[disabled]:hover,
fieldset[disabled] .navbar-default .btn-link:hover,
.navbar-default .btn-link[disabled]:focus,
fieldset[disabled] .navbar-default .btn-link:focus {
  color: #ccc;
}
.navbar-inverse {
  background-color: #222;
  border-color: #080808;
}
.navbar-inverse .navbar-brand {
  color: #9d9d9d;
}
.navbar-inverse .navbar-brand:hover,
.navbar-inverse .navbar-brand:focus {
  color: #fff;
  background-color: transparent;
}
.navbar-inverse .navbar-text {
  color: #9d9d9d;
}
.navbar-inverse .navbar-nav > li > a {
  color: #9d9d9d;
}
.navbar-inverse .navbar-nav > li > a:hover,
.navbar-inverse .navbar-nav > li > a:focus {
  color: #fff;
  background-color: transparent;
}
.navbar-inverse .navbar-nav > .active > a,
.navbar-inverse .navbar-nav > .active > a:hover,
.navbar-inverse .navbar-nav > .active > a:focus {
  color: #fff;
  background-color: #080808;
}
.navbar-inverse .navbar-nav > .disabled > a,
.navbar-inverse .navbar-nav > .disabled > a:hover,
.navbar-inverse .navbar-nav > .disabled > a:focus {
  color: #444;
  background-color: transparent;
}
.navbar-inverse .navbar-toggle {
  border-color: #333;
}
.navbar-inverse .navbar-toggle:hover,
.navbar-inverse .navbar-toggle:focus {
  background-color: #333;
}
.navbar-inverse .navbar-toggle .icon-bar {
  background-color: #fff;
}
.navbar-inverse .navbar-collapse,
.navbar-inverse .navbar-form {
  border-color: #101010;
}
.navbar-inverse .navbar-nav > .open > a,
.navbar-inverse .navbar-nav > .open > a:hover,
.navbar-inverse .navbar-nav > .open > a:focus {
  background-color: #080808;
  color: #fff;
}
@media (max-width: 540px) {
  .navbar-inverse .navbar-nav .open .dropdown-menu > .dropdown-header {
    border-color: #080808;
  }
  .navbar-inverse .navbar-nav .open .dropdown-menu .divider {
    background-color: #080808;
  }
  .navbar-inverse .navbar-nav .open .dropdown-menu > li > a {
    color: #9d9d9d;
  }
  .navbar-inverse .navbar-nav .open .dropdown-menu > li > a:hover,
  .navbar-inverse .navbar-nav .open .dropdown-menu > li > a:focus {
    color: #fff;
    background-color: transparent;
  }
  .navbar-inverse .navbar-nav .open .dropdown-menu > .active > a,
  .navbar-inverse .navbar-nav .open .dropdown-menu > .active > a:hover,
  .navbar-inverse .navbar-nav .open .dropdown-menu > .active > a:focus {
    color: #fff;
    background-color: #080808;
  }
  .navbar-inverse .navbar-nav .open .dropdown-menu > .disabled > a,
  .navbar-inverse .navbar-nav .open .dropdown-menu > .disabled > a:hover,
  .navbar-inverse .navbar-nav .open .dropdown-menu > .disabled > a:focus {
    color: #444;
    background-color: transparent;
  }
}
.navbar-inverse .navbar-link {
  color: #9d9d9d;
}
.navbar-inverse .navbar-link:hover {
  color: #fff;
}
.navbar-inverse .btn-link {
  color: #9d9d9d;
}
.navbar-inverse .btn-link:hover,
.navbar-inverse .btn-link:focus {
  color: #fff;
}
.navbar-inverse .btn-link[disabled]:hover,
fieldset[disabled] .navbar-inverse .btn-link:hover,
.navbar-inverse .btn-link[disabled]:focus,
fieldset[disabled] .navbar-inverse .btn-link:focus {
  color: #444;
}
.breadcrumb {
  padding: 8px 15px;
  margin-bottom: 18px;
  list-style: none;
  background-color: #f5f5f5;
  border-radius: 2px;
}
.breadcrumb > li {
  display: inline-block;
}
.breadcrumb > li + li:before {
  content: "/\00a0";
  padding: 0 5px;
  color: #5e5e5e;
}
.breadcrumb > .active {
  color: #777777;
}
.pagination {
  display: inline-block;
  padding-left: 0;
  margin: 18px 0;
  border-radius: 2px;
}
.pagination > li {
  display: inline;
}
.pagination > li > a,
.pagination > li > span {
  position: relative;
  float: left;
  padding: 6px 12px;
  line-height: 1.42857143;
  text-decoration: none;
  color: #337ab7;
  background-color: #fff;
  border: 1px solid #ddd;
  margin-left: -1px;
}
.pagination > li:first-child > a,
.pagination > li:first-child > span {
  margin-left: 0;
  border-bottom-left-radius: 2px;
  border-top-left-radius: 2px;
}
.pagination > li:last-child > a,
.pagination > li:last-child > span {
  border-bottom-right-radius: 2px;
  border-top-right-radius: 2px;
}
.pagination > li > a:hover,
.pagination > li > span:hover,
.pagination > li > a:focus,
.pagination > li > span:focus {
  z-index: 2;
  color: #23527c;
  background-color: #eeeeee;
  border-color: #ddd;
}
.pagination > .active > a,
.pagination > .active > span,
.pagination > .active > a:hover,
.pagination > .active > span:hover,
.pagination > .active > a:focus,
.pagination > .active > span:focus {
  z-index: 3;
  color: #fff;
  background-color: #337ab7;
  border-color: #337ab7;
  cursor: default;
}
.pagination > .disabled > span,
.pagination > .disabled > span:hover,
.pagination > .disabled > span:focus,
.pagination > .disabled > a,
.pagination > .disabled > a:hover,
.pagination > .disabled > a:focus {
  color: #777777;
  background-color: #fff;
  border-color: #ddd;
  cursor: not-allowed;
}
.pagination-lg > li > a,
.pagination-lg > li > span {
  padding: 10px 16px;
  font-size: 17px;
  line-height: 1.3333333;
}
.pagination-lg > li:first-child > a,
.pagination-lg > li:first-child > span {
  border-bottom-left-radius: 3px;
  border-top-left-radius: 3px;
}
.pagination-lg > li:last-child > a,
.pagination-lg > li:last-child > span {
  border-bottom-right-radius: 3px;
  border-top-right-radius: 3px;
}
.pagination-sm > li > a,
.pagination-sm > li > span {
  padding: 5px 10px;
  font-size: 12px;
  line-height: 1.5;
}
.pagination-sm > li:first-child > a,
.pagination-sm > li:first-child > span {
  border-bottom-left-radius: 1px;
  border-top-left-radius: 1px;
}
.pagination-sm > li:last-child > a,
.pagination-sm > li:last-child > span {
  border-bottom-right-radius: 1px;
  border-top-right-radius: 1px;
}
.pager {
  padding-left: 0;
  margin: 18px 0;
  list-style: none;
  text-align: center;
}
.pager li {
  display: inline;
}
.pager li > a,
.pager li > span {
  display: inline-block;
  padding: 5px 14px;
  background-color: #fff;
  border: 1px solid #ddd;
  border-radius: 15px;
}
.pager li > a:hover,
.pager li > a:focus {
  text-decoration: none;
  background-color: #eeeeee;
}
.pager .next > a,
.pager .next > span {
  float: right;
}
.pager .previous > a,
.pager .previous > span {
  float: left;
}
.pager .disabled > a,
.pager .disabled > a:hover,
.pager .disabled > a:focus,
.pager .disabled > span {
  color: #777777;
  background-color: #fff;
  cursor: not-allowed;
}
.label {
  display: inline;
  padding: .2em .6em .3em;
  font-size: 75%;
  font-weight: bold;
  line-height: 1;
  color: #fff;
  text-align: center;
  white-space: nowrap;
  vertical-align: baseline;
  border-radius: .25em;
}
a.label:hover,
a.label:focus {
  color: #fff;
  text-decoration: none;
  cursor: pointer;
}
.label:empty {
  display: none;
}
.btn .label {
  position: relative;
  top: -1px;
}
.label-default {
  background-color: #777777;
}
.label-default[href]:hover,
.label-default[href]:focus {
  background-color: #5e5e5e;
}
.label-primary {
  background-color: #337ab7;
}
.label-primary[href]:hover,
.label-primary[href]:focus {
  background-color: #286090;
}
.label-success {
  background-color: #5cb85c;
}
.label-success[href]:hover,
.label-success[href]:focus {
  background-color: #449d44;
}
.label-info {
  background-color: #5bc0de;
}
.label-info[href]:hover,
.label-info[href]:focus {
  background-color: #31b0d5;
}
.label-warning {
  background-color: #f0ad4e;
}
.label-warning[href]:hover,
.label-warning[href]:focus {
  background-color: #ec971f;
}
.label-danger {
  background-color: #d9534f;
}
.label-danger[href]:hover,
.label-danger[href]:focus {
  background-color: #c9302c;
}
.badge {
  display: inline-block;
  min-width: 10px;
  padding: 3px 7px;
  font-size: 12px;
  font-weight: bold;
  color: #fff;
  line-height: 1;
  vertical-align: middle;
  white-space: nowrap;
  text-align: center;
  background-color: #777777;
  border-radius: 10px;
}
.badge:empty {
  display: none;
}
.btn .badge {
  position: relative;
  top: -1px;
}
.btn-xs .badge,
.btn-group-xs > .btn .badge {
  top: 0;
  padding: 1px 5px;
}
a.badge:hover,
a.badge:focus {
  color: #fff;
  text-decoration: none;
  cursor: pointer;
}
.list-group-item.active > .badge,
.nav-pills > .active > a > .badge {
  color: #337ab7;
  background-color: #fff;
}
.list-group-item > .badge {
  float: right;
}
.list-group-item > .badge + .badge {
  margin-right: 5px;
}
.nav-pills > li > a > .badge {
  margin-left: 3px;
}
.jumbotron {
  padding-top: 30px;
  padding-bottom: 30px;
  margin-bottom: 30px;
  color: inherit;
  background-color: #eeeeee;
}
.jumbotron h1,
.jumbotron .h1 {
  color: inherit;
}
.jumbotron p {
  margin-bottom: 15px;
  font-size: 20px;
  font-weight: 200;
}
.jumbotron > hr {
  border-top-color: #d5d5d5;
}
.container .jumbotron,
.container-fluid .jumbotron {
  border-radius: 3px;
  padding-left: 0px;
  padding-right: 0px;
}
.jumbotron .container {
  max-width: 100%;
}
@media screen and (min-width: 768px) {
  .jumbotron {
    padding-top: 48px;
    padding-bottom: 48px;
  }
  .container .jumbotron,
  .container-fluid .jumbotron {
    padding-left: 60px;
    padding-right: 60px;
  }
  .jumbotron h1,
  .jumbotron .h1 {
    font-size: 59px;
  }
}
.thumbnail {
  display: block;
  padding: 4px;
  margin-bottom: 18px;
  line-height: 1.42857143;
  background-color: #fff;
  border: 1px solid #ddd;
  border-radius: 2px;
  -webkit-transition: border 0.2s ease-in-out;
  -o-transition: border 0.2s ease-in-out;
  transition: border 0.2s ease-in-out;
}
.thumbnail > img,
.thumbnail a > img {
  margin-left: auto;
  margin-right: auto;
}
a.thumbnail:hover,
a.thumbnail:focus,
a.thumbnail.active {
  border-color: #337ab7;
}
.thumbnail .caption {
  padding: 9px;
  color: #000;
}
.alert {
  padding: 15px;
  margin-bottom: 18px;
  border: 1px solid transparent;
  border-radius: 2px;
}
.alert h4 {
  margin-top: 0;
  color: inherit;
}
.alert .alert-link {
  font-weight: bold;
}
.alert > p,
.alert > ul {
  margin-bottom: 0;
}
.alert > p + p {
  margin-top: 5px;
}
.alert-dismissable,
.alert-dismissible {
  padding-right: 35px;
}
.alert-dismissable .close,
.alert-dismissible .close {
  position: relative;
  top: -2px;
  right: -21px;
  color: inherit;
}
.alert-success {
  background-color: #dff0d8;
  border-color: #d6e9c6;
  color: #3c763d;
}
.alert-success hr {
  border-top-color: #c9e2b3;
}
.alert-success .alert-link {
  color: #2b542c;
}
.alert-info {
  background-color: #d9edf7;
  border-color: #bce8f1;
  color: #31708f;
}
.alert-info hr {
  border-top-color: #a6e1ec;
}
.alert-info .alert-link {
  color: #245269;
}
.alert-warning {
  background-color: #fcf8e3;
  border-color: #faebcc;
  color: #8a6d3b;
}
.alert-warning hr {
  border-top-color: #f7e1b5;
}
.alert-warning .alert-link {
  color: #66512c;
}
.alert-danger {
  background-color: #f2dede;
  border-color: #ebccd1;
  color: #a94442;
}
.alert-danger hr {
  border-top-color: #e4b9c0;
}
.alert-danger .alert-link {
  color: #843534;
}
@-webkit-keyframes progress-bar-stripes {
  from {
    background-position: 40px 0;
  }
  to {
    background-position: 0 0;
  }
}
@keyframes progress-bar-stripes {
  from {
    background-position: 40px 0;
  }
  to {
    background-position: 0 0;
  }
}
.progress {
  overflow: hidden;
  height: 18px;
  margin-bottom: 18px;
  background-color: #f5f5f5;
  border-radius: 2px;
  -webkit-box-shadow: inset 0 1px 2px rgba(0, 0, 0, 0.1);
  box-shadow: inset 0 1px 2px rgba(0, 0, 0, 0.1);
}
.progress-bar {
  float: left;
  width: 0%;
  height: 100%;
  font-size: 12px;
  line-height: 18px;
  color: #fff;
  text-align: center;
  background-color: #337ab7;
  -webkit-box-shadow: inset 0 -1px 0 rgba(0, 0, 0, 0.15);
  box-shadow: inset 0 -1px 0 rgba(0, 0, 0, 0.15);
  -webkit-transition: width 0.6s ease;
  -o-transition: width 0.6s ease;
  transition: width 0.6s ease;
}
.progress-striped .progress-bar,
.progress-bar-striped {
  background-image: -webkit-linear-gradient(45deg, rgba(255, 255, 255, 0.15) 25%, transparent 25%, transparent 50%, rgba(255, 255, 255, 0.15) 50%, rgba(255, 255, 255, 0.15) 75%, transparent 75%, transparent);
  background-image: -o-linear-gradient(45deg, rgba(255, 255, 255, 0.15) 25%, transparent 25%, transparent 50%, rgba(255, 255, 255, 0.15) 50%, rgba(255, 255, 255, 0.15) 75%, transparent 75%, transparent);
  background-image: linear-gradient(45deg, rgba(255, 255, 255, 0.15) 25%, transparent 25%, transparent 50%, rgba(255, 255, 255, 0.15) 50%, rgba(255, 255, 255, 0.15) 75%, transparent 75%, transparent);
  background-size: 40px 40px;
}
.progress.active .progress-bar,
.progress-bar.active {
  -webkit-animation: progress-bar-stripes 2s linear infinite;
  -o-animation: progress-bar-stripes 2s linear infinite;
  animation: progress-bar-stripes 2s linear infinite;
}
.progress-bar-success {
  background-color: #5cb85c;
}
.progress-striped .progress-bar-success {
  background-image: -webkit-linear-gradient(45deg, rgba(255, 255, 255, 0.15) 25%, transparent 25%, transparent 50%, rgba(255, 255, 255, 0.15) 50%, rgba(255, 255, 255, 0.15) 75%, transparent 75%, transparent);
  background-image: -o-linear-gradient(45deg, rgba(255, 255, 255, 0.15) 25%, transparent 25%, transparent 50%, rgba(255, 255, 255, 0.15) 50%, rgba(255, 255, 255, 0.15) 75%, transparent 75%, transparent);
  background-image: linear-gradient(45deg, rgba(255, 255, 255, 0.15) 25%, transparent 25%, transparent 50%, rgba(255, 255, 255, 0.15) 50%, rgba(255, 255, 255, 0.15) 75%, transparent 75%, transparent);
}
.progress-bar-info {
  background-color: #5bc0de;
}
.progress-striped .progress-bar-info {
  background-image: -webkit-linear-gradient(45deg, rgba(255, 255, 255, 0.15) 25%, transparent 25%, transparent 50%, rgba(255, 255, 255, 0.15) 50%, rgba(255, 255, 255, 0.15) 75%, transparent 75%, transparent);
  background-image: -o-linear-gradient(45deg, rgba(255, 255, 255, 0.15) 25%, transparent 25%, transparent 50%, rgba(255, 255, 255, 0.15) 50%, rgba(255, 255, 255, 0.15) 75%, transparent 75%, transparent);
  background-image: linear-gradient(45deg, rgba(255, 255, 255, 0.15) 25%, transparent 25%, transparent 50%, rgba(255, 255, 255, 0.15) 50%, rgba(255, 255, 255, 0.15) 75%, transparent 75%, transparent);
}
.progress-bar-warning {
  background-color: #f0ad4e;
}
.progress-striped .progress-bar-warning {
  background-image: -webkit-linear-gradient(45deg, rgba(255, 255, 255, 0.15) 25%, transparent 25%, transparent 50%, rgba(255, 255, 255, 0.15) 50%, rgba(255, 255, 255, 0.15) 75%, transparent 75%, transparent);
  background-image: -o-linear-gradient(45deg, rgba(255, 255, 255, 0.15) 25%, transparent 25%, transparent 50%, rgba(255, 255, 255, 0.15) 50%, rgba(255, 255, 255, 0.15) 75%, transparent 75%, transparent);
  background-image: linear-gradient(45deg, rgba(255, 255, 255, 0.15) 25%, transparent 25%, transparent 50%, rgba(255, 255, 255, 0.15) 50%, rgba(255, 255, 255, 0.15) 75%, transparent 75%, transparent);
}
.progress-bar-danger {
  background-color: #d9534f;
}
.progress-striped .progress-bar-danger {
  background-image: -webkit-linear-gradient(45deg, rgba(255, 255, 255, 0.15) 25%, transparent 25%, transparent 50%, rgba(255, 255, 255, 0.15) 50%, rgba(255, 255, 255, 0.15) 75%, transparent 75%, transparent);
  background-image: -o-linear-gradient(45deg, rgba(255, 255, 255, 0.15) 25%, transparent 25%, transparent 50%, rgba(255, 255, 255, 0.15) 50%, rgba(255, 255, 255, 0.15) 75%, transparent 75%, transparent);
  background-image: linear-gradient(45deg, rgba(255, 255, 255, 0.15) 25%, transparent 25%, transparent 50%, rgba(255, 255, 255, 0.15) 50%, rgba(255, 255, 255, 0.15) 75%, transparent 75%, transparent);
}
.media {
  margin-top: 15px;
}
.media:first-child {
  margin-top: 0;
}
.media,
.media-body {
  zoom: 1;
  overflow: hidden;
}
.media-body {
  width: 10000px;
}
.media-object {
  display: block;
}
.media-object.img-thumbnail {
  max-width: none;
}
.media-right,
.media > .pull-right {
  padding-left: 10px;
}
.media-left,
.media > .pull-left {
  padding-right: 10px;
}
.media-left,
.media-right,
.media-body {
  display: table-cell;
  vertical-align: top;
}
.media-middle {
  vertical-align: middle;
}
.media-bottom {
  vertical-align: bottom;
}
.media-heading {
  margin-top: 0;
  margin-bottom: 5px;
}
.media-list {
  padding-left: 0;
  list-style: none;
}
.list-group {
  margin-bottom: 20px;
  padding-left: 0;
}
.list-group-item {
  position: relative;
  display: block;
  padding: 10px 15px;
  margin-bottom: -1px;
  background-color: #fff;
  border: 1px solid #ddd;
}
.list-group-item:first-child {
  border-top-right-radius: 2px;
  border-top-left-radius: 2px;
}
.list-group-item:last-child {
  margin-bottom: 0;
  border-bottom-right-radius: 2px;
  border-bottom-left-radius: 2px;
}
a.list-group-item,
button.list-group-item {
  color: #555;
}
a.list-group-item .list-group-item-heading,
button.list-group-item .list-group-item-heading {
  color: #333;
}
a.list-group-item:hover,
button.list-group-item:hover,
a.list-group-item:focus,
button.list-group-item:focus {
  text-decoration: none;
  color: #555;
  background-color: #f5f5f5;
}
button.list-group-item {
  width: 100%;
  text-align: left;
}
.list-group-item.disabled,
.list-group-item.disabled:hover,
.list-group-item.disabled:focus {
  background-color: #eeeeee;
  color: #777777;
  cursor: not-allowed;
}
.list-group-item.disabled .list-group-item-heading,
.list-group-item.disabled:hover .list-group-item-heading,
.list-group-item.disabled:focus .list-group-item-heading {
  color: inherit;
}
.list-group-item.disabled .list-group-item-text,
.list-group-item.disabled:hover .list-group-item-text,
.list-group-item.disabled:focus .list-group-item-text {
  color: #777777;
}
.list-group-item.active,
.list-group-item.active:hover,
.list-group-item.active:focus {
  z-index: 2;
  color: #fff;
  background-color: #337ab7;
  border-color: #337ab7;
}
.list-group-item.active .list-group-item-heading,
.list-group-item.active:hover .list-group-item-heading,
.list-group-item.active:focus .list-group-item-heading,
.list-group-item.active .list-group-item-heading > small,
.list-group-item.active:hover .list-group-item-heading > small,
.list-group-item.active:focus .list-group-item-heading > small,
.list-group-item.active .list-group-item-heading > .small,
.list-group-item.active:hover .list-group-item-heading > .small,
.list-group-item.active:focus .list-group-item-heading > .small {
  color: inherit;
}
.list-group-item.active .list-group-item-text,
.list-group-item.active:hover .list-group-item-text,
.list-group-item.active:focus .list-group-item-text {
  color: #c7ddef;
}
.list-group-item-success {
  color: #3c763d;
  background-color: #dff0d8;
}
a.list-group-item-success,
button.list-group-item-success {
  color: #3c763d;
}
a.list-group-item-success .list-group-item-heading,
button.list-group-item-success .list-group-item-heading {
  color: inherit;
}
a.list-group-item-success:hover,
button.list-group-item-success:hover,
a.list-group-item-success:focus,
button.list-group-item-success:focus {
  color: #3c763d;
  background-color: #d0e9c6;
}
a.list-group-item-success.active,
button.list-group-item-success.active,
a.list-group-item-success.active:hover,
button.list-group-item-success.active:hover,
a.list-group-item-success.active:focus,
button.list-group-item-success.active:focus {
  color: #fff;
  background-color: #3c763d;
  border-color: #3c763d;
}
.list-group-item-info {
  color: #31708f;
  background-color: #d9edf7;
}
a.list-group-item-info,
button.list-group-item-info {
  color: #31708f;
}
a.list-group-item-info .list-group-item-heading,
button.list-group-item-info .list-group-item-heading {
  color: inherit;
}
a.list-group-item-info:hover,
button.list-group-item-info:hover,
a.list-group-item-info:focus,
button.list-group-item-info:focus {
  color: #31708f;
  background-color: #c4e3f3;
}
a.list-group-item-info.active,
button.list-group-item-info.active,
a.list-group-item-info.active:hover,
button.list-group-item-info.active:hover,
a.list-group-item-info.active:focus,
button.list-group-item-info.active:focus {
  color: #fff;
  background-color: #31708f;
  border-color: #31708f;
}
.list-group-item-warning {
  color: #8a6d3b;
  background-color: #fcf8e3;
}
a.list-group-item-warning,
button.list-group-item-warning {
  color: #8a6d3b;
}
a.list-group-item-warning .list-group-item-heading,
button.list-group-item-warning .list-group-item-heading {
  color: inherit;
}
a.list-group-item-warning:hover,
button.list-group-item-warning:hover,
a.list-group-item-warning:focus,
button.list-group-item-warning:focus {
  color: #8a6d3b;
  background-color: #faf2cc;
}
a.list-group-item-warning.active,
button.list-group-item-warning.active,
a.list-group-item-warning.active:hover,
button.list-group-item-warning.active:hover,
a.list-group-item-warning.active:focus,
button.list-group-item-warning.active:focus {
  color: #fff;
  background-color: #8a6d3b;
  border-color: #8a6d3b;
}
.list-group-item-danger {
  color: #a94442;
  background-color: #f2dede;
}
a.list-group-item-danger,
button.list-group-item-danger {
  color: #a94442;
}
a.list-group-item-danger .list-group-item-heading,
button.list-group-item-danger .list-group-item-heading {
  color: inherit;
}
a.list-group-item-danger:hover,
button.list-group-item-danger:hover,
a.list-group-item-danger:focus,
button.list-group-item-danger:focus {
  color: #a94442;
  background-color: #ebcccc;
}
a.list-group-item-danger.active,
button.list-group-item-danger.active,
a.list-group-item-danger.active:hover,
button.list-group-item-danger.active:hover,
a.list-group-item-danger.active:focus,
button.list-group-item-danger.active:focus {
  color: #fff;
  background-color: #a94442;
  border-color: #a94442;
}
.list-group-item-heading {
  margin-top: 0;
  margin-bottom: 5px;
}
.list-group-item-text {
  margin-bottom: 0;
  line-height: 1.3;
}
.panel {
  margin-bottom: 18px;
  background-color: #fff;
  border: 1px solid transparent;
  border-radius: 2px;
  -webkit-box-shadow: 0 1px 1px rgba(0, 0, 0, 0.05);
  box-shadow: 0 1px 1px rgba(0, 0, 0, 0.05);
}
.panel-body {
  padding: 15px;
}
.panel-heading {
  padding: 10px 15px;
  border-bottom: 1px solid transparent;
  border-top-right-radius: 1px;
  border-top-left-radius: 1px;
}
.panel-heading > .dropdown .dropdown-toggle {
  color: inherit;
}
.panel-title {
  margin-top: 0;
  margin-bottom: 0;
  font-size: 15px;
  color: inherit;
}
.panel-title > a,
.panel-title > small,
.panel-title > .small,
.panel-title > small > a,
.panel-title > .small > a {
  color: inherit;
}
.panel-footer {
  padding: 10px 15px;
  background-color: #f5f5f5;
  border-top: 1px solid #ddd;
  border-bottom-right-radius: 1px;
  border-bottom-left-radius: 1px;
}
.panel > .list-group,
.panel > .panel-collapse > .list-group {
  margin-bottom: 0;
}
.panel > .list-group .list-group-item,
.panel > .panel-collapse > .list-group .list-group-item {
  border-width: 1px 0;
  border-radius: 0;
}
.panel > .list-group:first-child .list-group-item:first-child,
.panel > .panel-collapse > .list-group:first-child .list-group-item:first-child {
  border-top: 0;
  border-top-right-radius: 1px;
  border-top-left-radius: 1px;
}
.panel > .list-group:last-child .list-group-item:last-child,
.panel > .panel-collapse > .list-group:last-child .list-group-item:last-child {
  border-bottom: 0;
  border-bottom-right-radius: 1px;
  border-bottom-left-radius: 1px;
}
.panel > .panel-heading + .panel-collapse > .list-group .list-group-item:first-child {
  border-top-right-radius: 0;
  border-top-left-radius: 0;
}
.panel-heading + .list-group .list-group-item:first-child {
  border-top-width: 0;
}
.list-group + .panel-footer {
  border-top-width: 0;
}
.panel > .table,
.panel > .table-responsive > .table,
.panel > .panel-collapse > .table {
  margin-bottom: 0;
}
.panel > .table caption,
.panel > .table-responsive > .table caption,
.panel > .panel-collapse > .table caption {
  padding-left: 15px;
  padding-right: 15px;
}
.panel > .table:first-child,
.panel > .table-responsive:first-child > .table:first-child {
  border-top-right-radius: 1px;
  border-top-left-radius: 1px;
}
.panel > .table:first-child > thead:first-child > tr:first-child,
.panel > .table-responsive:first-child > .table:first-child > thead:first-child > tr:first-child,
.panel > .table:first-child > tbody:first-child > tr:first-child,
.panel > .table-responsive:first-child > .table:first-child > tbody:first-child > tr:first-child {
  border-top-left-radius: 1px;
  border-top-right-radius: 1px;
}
.panel > .table:first-child > thead:first-child > tr:first-child td:first-child,
.panel > .table-responsive:first-child > .table:first-child > thead:first-child > tr:first-child td:first-child,
.panel > .table:first-child > tbody:first-child > tr:first-child td:first-child,
.panel > .table-responsive:first-child > .table:first-child > tbody:first-child > tr:first-child td:first-child,
.panel > .table:first-child > thead:first-child > tr:first-child th:first-child,
.panel > .table-responsive:first-child > .table:first-child > thead:first-child > tr:first-child th:first-child,
.panel > .table:first-child > tbody:first-child > tr:first-child th:first-child,
.panel > .table-responsive:first-child > .table:first-child > tbody:first-child > tr:first-child th:first-child {
  border-top-left-radius: 1px;
}
.panel > .table:first-child > thead:first-child > tr:first-child td:last-child,
.panel > .table-responsive:first-child > .table:first-child > thead:first-child > tr:first-child td:last-child,
.panel > .table:first-child > tbody:first-child > tr:first-child td:last-child,
.panel > .table-responsive:first-child > .table:first-child > tbody:first-child > tr:first-child td:last-child,
.panel > .table:first-child > thead:first-child > tr:first-child th:last-child,
.panel > .table-responsive:first-child > .table:first-child > thead:first-child > tr:first-child th:last-child,
.panel > .table:first-child > tbody:first-child > tr:first-child th:last-child,
.panel > .table-responsive:first-child > .table:first-child > tbody:first-child > tr:first-child th:last-child {
  border-top-right-radius: 1px;
}
.panel > .table:last-child,
.panel > .table-responsive:last-child > .table:last-child {
  border-bottom-right-radius: 1px;
  border-bottom-left-radius: 1px;
}
.panel > .table:last-child > tbody:last-child > tr:last-child,
.panel > .table-responsive:last-child > .table:last-child > tbody:last-child > tr:last-child,
.panel > .table:last-child > tfoot:last-child > tr:last-child,
.panel > .table-responsive:last-child > .table:last-child > tfoot:last-child > tr:last-child {
  border-bottom-left-radius: 1px;
  border-bottom-right-radius: 1px;
}
.panel > .table:last-child > tbody:last-child > tr:last-child td:first-child,
.panel > .table-responsive:last-child > .table:last-child > tbody:last-child > tr:last-child td:first-child,
.panel > .table:last-child > tfoot:last-child > tr:last-child td:first-child,
.panel > .table-responsive:last-child > .table:last-child > tfoot:last-child > tr:last-child td:first-child,
.panel > .table:last-child > tbody:last-child > tr:last-child th:first-child,
.panel > .table-responsive:last-child > .table:last-child > tbody:last-child > tr:last-child th:first-child,
.panel > .table:last-child > tfoot:last-child > tr:last-child th:first-child,
.panel > .table-responsive:last-child > .table:last-child > tfoot:last-child > tr:last-child th:first-child {
  border-bottom-left-radius: 1px;
}
.panel > .table:last-child > tbody:last-child > tr:last-child td:last-child,
.panel > .table-responsive:last-child > .table:last-child > tbody:last-child > tr:last-child td:last-child,
.panel > .table:last-child > tfoot:last-child > tr:last-child td:last-child,
.panel > .table-responsive:last-child > .table:last-child > tfoot:last-child > tr:last-child td:last-child,
.panel > .table:last-child > tbody:last-child > tr:last-child th:last-child,
.panel > .table-responsive:last-child > .table:last-child > tbody:last-child > tr:last-child th:last-child,
.panel > .table:last-child > tfoot:last-child > tr:last-child th:last-child,
.panel > .table-responsive:last-child > .table:last-child > tfoot:last-child > tr:last-child th:last-child {
  border-bottom-right-radius: 1px;
}
.panel > .panel-body + .table,
.panel > .panel-body + .table-responsive,
.panel > .table + .panel-body,
.panel > .table-responsive + .panel-body {
  border-top: 1px solid #ddd;
}
.panel > .table > tbody:first-child > tr:first-child th,
.panel > .table > tbody:first-child > tr:first-child td {
  border-top: 0;
}
.panel > .table-bordered,
.panel > .table-responsive > .table-bordered {
  border: 0;
}
.panel > .table-bordered > thead > tr > th:first-child,
.panel > .table-responsive > .table-bordered > thead > tr > th:first-child,
.panel > .table-bordered > tbody > tr > th:first-child,
.panel > .table-responsive > .table-bordered > tbody > tr > th:first-child,
.panel > .table-bordered > tfoot > tr > th:first-child,
.panel > .table-responsive > .table-bordered > tfoot > tr > th:first-child,
.panel > .table-bordered > thead > tr > td:first-child,
.panel > .table-responsive > .table-bordered > thead > tr > td:first-child,
.panel > .table-bordered > tbody > tr > td:first-child,
.panel > .table-responsive > .table-bordered > tbody > tr > td:first-child,
.panel > .table-bordered > tfoot > tr > td:first-child,
.panel > .table-responsive > .table-bordered > tfoot > tr > td:first-child {
  border-left: 0;
}
.panel > .table-bordered > thead > tr > th:last-child,
.panel > .table-responsive > .table-bordered > thead > tr > th:last-child,
.panel > .table-bordered > tbody > tr > th:last-child,
.panel > .table-responsive > .table-bordered > tbody > tr > th:last-child,
.panel > .table-bordered > tfoot > tr > th:last-child,
.panel > .table-responsive > .table-bordered > tfoot > tr > th:last-child,
.panel > .table-bordered > thead > tr > td:last-child,
.panel > .table-responsive > .table-bordered > thead > tr > td:last-child,
.panel > .table-bordered > tbody > tr > td:last-child,
.panel > .table-responsive > .table-bordered > tbody > tr > td:last-child,
.panel > .table-bordered > tfoot > tr > td:last-child,
.panel > .table-responsive > .table-bordered > tfoot > tr > td:last-child {
  border-right: 0;
}
.panel > .table-bordered > thead > tr:first-child > td,
.panel > .table-responsive > .table-bordered > thead > tr:first-child > td,
.panel > .table-bordered > tbody > tr:first-child > td,
.panel > .table-responsive > .table-bordered > tbody > tr:first-child > td,
.panel > .table-bordered > thead > tr:first-child > th,
.panel > .table-responsive > .table-bordered > thead > tr:first-child > th,
.panel > .table-bordered > tbody > tr:first-child > th,
.panel > .table-responsive > .table-bordered > tbody > tr:first-child > th {
  border-bottom: 0;
}
.panel > .table-bordered > tbody > tr:last-child > td,
.panel > .table-responsive > .table-bordered > tbody > tr:last-child > td,
.panel > .table-bordered > tfoot > tr:last-child > td,
.panel > .table-responsive > .table-bordered > tfoot > tr:last-child > td,
.panel > .table-bordered > tbody > tr:last-child > th,
.panel > .table-responsive > .table-bordered > tbody > tr:last-child > th,
.panel > .table-bordered > tfoot > tr:last-child > th,
.panel > .table-responsive > .table-bordered > tfoot > tr:last-child > th {
  border-bottom: 0;
}
.panel > .table-responsive {
  border: 0;
  margin-bottom: 0;
}
.panel-group {
  margin-bottom: 18px;
}
.panel-group .panel {
  margin-bottom: 0;
  border-radius: 2px;
}
.panel-group .panel + .panel {
  margin-top: 5px;
}
.panel-group .panel-heading {
  border-bottom: 0;
}
.panel-group .panel-heading + .panel-collapse > .panel-body,
.panel-group .panel-heading + .panel-collapse > .list-group {
  border-top: 1px solid #ddd;
}
.panel-group .panel-footer {
  border-top: 0;
}
.panel-group .panel-footer + .panel-collapse .panel-body {
  border-bottom: 1px solid #ddd;
}
.panel-default {
  border-color: #ddd;
}
.panel-default > .panel-heading {
  color: #333333;
  background-color: #f5f5f5;
  border-color: #ddd;
}
.panel-default > .panel-heading + .panel-collapse > .panel-body {
  border-top-color: #ddd;
}
.panel-default > .panel-heading .badge {
  color: #f5f5f5;
  background-color: #333333;
}
.panel-default > .panel-footer + .panel-collapse > .panel-body {
  border-bottom-color: #ddd;
}
.panel-primary {
  border-color: #337ab7;
}
.panel-primary > .panel-heading {
  color: #fff;
  background-color: #337ab7;
  border-color: #337ab7;
}
.panel-primary > .panel-heading + .panel-collapse > .panel-body {
  border-top-color: #337ab7;
}
.panel-primary > .panel-heading .badge {
  color: #337ab7;
  background-color: #fff;
}
.panel-primary > .panel-footer + .panel-collapse > .panel-body {
  border-bottom-color: #337ab7;
}
.panel-success {
  border-color: #d6e9c6;
}
.panel-success > .panel-heading {
  color: #3c763d;
  background-color: #dff0d8;
  border-color: #d6e9c6;
}
.panel-success > .panel-heading + .panel-collapse > .panel-body {
  border-top-color: #d6e9c6;
}
.panel-success > .panel-heading .badge {
  color: #dff0d8;
  background-color: #3c763d;
}
.panel-success > .panel-footer + .panel-collapse > .panel-body {
  border-bottom-color: #d6e9c6;
}
.panel-info {
  border-color: #bce8f1;
}
.panel-info > .panel-heading {
  color: #31708f;
  background-color: #d9edf7;
  border-color: #bce8f1;
}
.panel-info > .panel-heading + .panel-collapse > .panel-body {
  border-top-color: #bce8f1;
}
.panel-info > .panel-heading .badge {
  color: #d9edf7;
  background-color: #31708f;
}
.panel-info > .panel-footer + .panel-collapse > .panel-body {
  border-bottom-color: #bce8f1;
}
.panel-warning {
  border-color: #faebcc;
}
.panel-warning > .panel-heading {
  color: #8a6d3b;
  background-color: #fcf8e3;
  border-color: #faebcc;
}
.panel-warning > .panel-heading + .panel-collapse > .panel-body {
  border-top-color: #faebcc;
}
.panel-warning > .panel-heading .badge {
  color: #fcf8e3;
  background-color: #8a6d3b;
}
.panel-warning > .panel-footer + .panel-collapse > .panel-body {
  border-bottom-color: #faebcc;
}
.panel-danger {
  border-color: #ebccd1;
}
.panel-danger > .panel-heading {
  color: #a94442;
  background-color: #f2dede;
  border-color: #ebccd1;
}
.panel-danger > .panel-heading + .panel-collapse > .panel-body {
  border-top-color: #ebccd1;
}
.panel-danger > .panel-heading .badge {
  color: #f2dede;
  background-color: #a94442;
}
.panel-danger > .panel-footer + .panel-collapse > .panel-body {
  border-bottom-color: #ebccd1;
}
.embed-responsive {
  position: relative;
  display: block;
  height: 0;
  padding: 0;
  overflow: hidden;
}
.embed-responsive .embed-responsive-item,
.embed-responsive iframe,
.embed-responsive embed,
.embed-responsive object,
.embed-responsive video {
  position: absolute;
  top: 0;
  left: 0;
  bottom: 0;
  height: 100%;
  width: 100%;
  border: 0;
}
.embed-responsive-16by9 {
  padding-bottom: 56.25%;
}
.embed-responsive-4by3 {
  padding-bottom: 75%;
}
.well {
  min-height: 20px;
  padding: 19px;
  margin-bottom: 20px;
  background-color: #f5f5f5;
  border: 1px solid #e3e3e3;
  border-radius: 2px;
  -webkit-box-shadow: inset 0 1px 1px rgba(0, 0, 0, 0.05);
  box-shadow: inset 0 1px 1px rgba(0, 0, 0, 0.05);
}
.well blockquote {
  border-color: #ddd;
  border-color: rgba(0, 0, 0, 0.15);
}
.well-lg {
  padding: 24px;
  border-radius: 3px;
}
.well-sm {
  padding: 9px;
  border-radius: 1px;
}
.close {
  float: right;
  font-size: 19.5px;
  font-weight: bold;
  line-height: 1;
  color: #000;
  text-shadow: 0 1px 0 #fff;
  opacity: 0.2;
  filter: alpha(opacity=20);
}
.close:hover,
.close:focus {
  color: #000;
  text-decoration: none;
  cursor: pointer;
  opacity: 0.5;
  filter: alpha(opacity=50);
}
button.close {
  padding: 0;
  cursor: pointer;
  background: transparent;
  border: 0;
  -webkit-appearance: none;
}
.modal-open {
  overflow: hidden;
}
.modal {
  display: none;
  overflow: hidden;
  position: fixed;
  top: 0;
  right: 0;
  bottom: 0;
  left: 0;
  z-index: 1050;
  -webkit-overflow-scrolling: touch;
  outline: 0;
}
.modal.fade .modal-dialog {
  -webkit-transform: translate(0, -25%);
  -ms-transform: translate(0, -25%);
  -o-transform: translate(0, -25%);
  transform: translate(0, -25%);
  -webkit-transition: -webkit-transform 0.3s ease-out;
  -moz-transition: -moz-transform 0.3s ease-out;
  -o-transition: -o-transform 0.3s ease-out;
  transition: transform 0.3s ease-out;
}
.modal.in .modal-dialog {
  -webkit-transform: translate(0, 0);
  -ms-transform: translate(0, 0);
  -o-transform: translate(0, 0);
  transform: translate(0, 0);
}
.modal-open .modal {
  overflow-x: hidden;
  overflow-y: auto;
}
.modal-dialog {
  position: relative;
  width: auto;
  margin: 10px;
}
.modal-content {
  position: relative;
  background-color: #fff;
  border: 1px solid #999;
  border: 1px solid rgba(0, 0, 0, 0.2);
  border-radius: 3px;
  -webkit-box-shadow: 0 3px 9px rgba(0, 0, 0, 0.5);
  box-shadow: 0 3px 9px rgba(0, 0, 0, 0.5);
  background-clip: padding-box;
  outline: 0;
}
.modal-backdrop {
  position: fixed;
  top: 0;
  right: 0;
  bottom: 0;
  left: 0;
  z-index: 1040;
  background-color: #000;
}
.modal-backdrop.fade {
  opacity: 0;
  filter: alpha(opacity=0);
}
.modal-backdrop.in {
  opacity: 0.5;
  filter: alpha(opacity=50);
}
.modal-header {
  padding: 15px;
  border-bottom: 1px solid #e5e5e5;
}
.modal-header .close {
  margin-top: -2px;
}
.modal-title {
  margin: 0;
  line-height: 1.42857143;
}
.modal-body {
  position: relative;
  padding: 15px;
}
.modal-footer {
  padding: 15px;
  text-align: right;
  border-top: 1px solid #e5e5e5;
}
.modal-footer .btn + .btn {
  margin-left: 5px;
  margin-bottom: 0;
}
.modal-footer .btn-group .btn + .btn {
  margin-left: -1px;
}
.modal-footer .btn-block + .btn-block {
  margin-left: 0;
}
.modal-scrollbar-measure {
  position: absolute;
  top: -9999px;
  width: 50px;
  height: 50px;
  overflow: scroll;
}
@media (min-width: 768px) {
  .modal-dialog {
    width: 600px;
    margin: 30px auto;
  }
  .modal-content {
    -webkit-box-shadow: 0 5px 15px rgba(0, 0, 0, 0.5);
    box-shadow: 0 5px 15px rgba(0, 0, 0, 0.5);
  }
  .modal-sm {
    width: 300px;
  }
}
@media (min-width: 992px) {
  .modal-lg {
    width: 900px;
  }
}
.tooltip {
  position: absolute;
  z-index: 1070;
  display: block;
  font-family: "Helvetica Neue", Helvetica, Arial, sans-serif;
  font-style: normal;
  font-weight: normal;
  letter-spacing: normal;
  line-break: auto;
  line-height: 1.42857143;
  text-align: left;
  text-align: start;
  text-decoration: none;
  text-shadow: none;
  text-transform: none;
  white-space: normal;
  word-break: normal;
  word-spacing: normal;
  word-wrap: normal;
  font-size: 12px;
  opacity: 0;
  filter: alpha(opacity=0);
}
.tooltip.in {
  opacity: 0.9;
  filter: alpha(opacity=90);
}
.tooltip.top {
  margin-top: -3px;
  padding: 5px 0;
}
.tooltip.right {
  margin-left: 3px;
  padding: 0 5px;
}
.tooltip.bottom {
  margin-top: 3px;
  padding: 5px 0;
}
.tooltip.left {
  margin-left: -3px;
  padding: 0 5px;
}
.tooltip-inner {
  max-width: 200px;
  padding: 3px 8px;
  color: #fff;
  text-align: center;
  background-color: #000;
  border-radius: 2px;
}
.tooltip-arrow {
  position: absolute;
  width: 0;
  height: 0;
  border-color: transparent;
  border-style: solid;
}
.tooltip.top .tooltip-arrow {
  bottom: 0;
  left: 50%;
  margin-left: -5px;
  border-width: 5px 5px 0;
  border-top-color: #000;
}
.tooltip.top-left .tooltip-arrow {
  bottom: 0;
  right: 5px;
  margin-bottom: -5px;
  border-width: 5px 5px 0;
  border-top-color: #000;
}
.tooltip.top-right .tooltip-arrow {
  bottom: 0;
  left: 5px;
  margin-bottom: -5px;
  border-width: 5px 5px 0;
  border-top-color: #000;
}
.tooltip.right .tooltip-arrow {
  top: 50%;
  left: 0;
  margin-top: -5px;
  border-width: 5px 5px 5px 0;
  border-right-color: #000;
}
.tooltip.left .tooltip-arrow {
  top: 50%;
  right: 0;
  margin-top: -5px;
  border-width: 5px 0 5px 5px;
  border-left-color: #000;
}
.tooltip.bottom .tooltip-arrow {
  top: 0;
  left: 50%;
  margin-left: -5px;
  border-width: 0 5px 5px;
  border-bottom-color: #000;
}
.tooltip.bottom-left .tooltip-arrow {
  top: 0;
  right: 5px;
  margin-top: -5px;
  border-width: 0 5px 5px;
  border-bottom-color: #000;
}
.tooltip.bottom-right .tooltip-arrow {
  top: 0;
  left: 5px;
  margin-top: -5px;
  border-width: 0 5px 5px;
  border-bottom-color: #000;
}
.popover {
  position: absolute;
  top: 0;
  left: 0;
  z-index: 1060;
  display: none;
  max-width: 276px;
  padding: 1px;
  font-family: "Helvetica Neue", Helvetica, Arial, sans-serif;
  font-style: normal;
  font-weight: normal;
  letter-spacing: normal;
  line-break: auto;
  line-height: 1.42857143;
  text-align: left;
  text-align: start;
  text-decoration: none;
  text-shadow: none;
  text-transform: none;
  white-space: normal;
  word-break: normal;
  word-spacing: normal;
  word-wrap: normal;
  font-size: 13px;
  background-color: #fff;
  background-clip: padding-box;
  border: 1px solid #ccc;
  border: 1px solid rgba(0, 0, 0, 0.2);
  border-radius: 3px;
  -webkit-box-shadow: 0 5px 10px rgba(0, 0, 0, 0.2);
  box-shadow: 0 5px 10px rgba(0, 0, 0, 0.2);
}
.popover.top {
  margin-top: -10px;
}
.popover.right {
  margin-left: 10px;
}
.popover.bottom {
  margin-top: 10px;
}
.popover.left {
  margin-left: -10px;
}
.popover-title {
  margin: 0;
  padding: 8px 14px;
  font-size: 13px;
  background-color: #f7f7f7;
  border-bottom: 1px solid #ebebeb;
  border-radius: 2px 2px 0 0;
}
.popover-content {
  padding: 9px 14px;
}
.popover > .arrow,
.popover > .arrow:after {
  position: absolute;
  display: block;
  width: 0;
  height: 0;
  border-color: transparent;
  border-style: solid;
}
.popover > .arrow {
  border-width: 11px;
}
.popover > .arrow:after {
  border-width: 10px;
  content: "";
}
.popover.top > .arrow {
  left: 50%;
  margin-left: -11px;
  border-bottom-width: 0;
  border-top-color: #999999;
  border-top-color: rgba(0, 0, 0, 0.25);
  bottom: -11px;
}
.popover.top > .arrow:after {
  content: " ";
  bottom: 1px;
  margin-left: -10px;
  border-bottom-width: 0;
  border-top-color: #fff;
}
.popover.right > .arrow {
  top: 50%;
  left: -11px;
  margin-top: -11px;
  border-left-width: 0;
  border-right-color: #999999;
  border-right-color: rgba(0, 0, 0, 0.25);
}
.popover.right > .arrow:after {
  content: " ";
  left: 1px;
  bottom: -10px;
  border-left-width: 0;
  border-right-color: #fff;
}
.popover.bottom > .arrow {
  left: 50%;
  margin-left: -11px;
  border-top-width: 0;
  border-bottom-color: #999999;
  border-bottom-color: rgba(0, 0, 0, 0.25);
  top: -11px;
}
.popover.bottom > .arrow:after {
  content: " ";
  top: 1px;
  margin-left: -10px;
  border-top-width: 0;
  border-bottom-color: #fff;
}
.popover.left > .arrow {
  top: 50%;
  right: -11px;
  margin-top: -11px;
  border-right-width: 0;
  border-left-color: #999999;
  border-left-color: rgba(0, 0, 0, 0.25);
}
.popover.left > .arrow:after {
  content: " ";
  right: 1px;
  border-right-width: 0;
  border-left-color: #fff;
  bottom: -10px;
}
.carousel {
  position: relative;
}
.carousel-inner {
  position: relative;
  overflow: hidden;
  width: 100%;
}
.carousel-inner > .item {
  display: none;
  position: relative;
  -webkit-transition: 0.6s ease-in-out left;
  -o-transition: 0.6s ease-in-out left;
  transition: 0.6s ease-in-out left;
}
.carousel-inner > .item > img,
.carousel-inner > .item > a > img {
  line-height: 1;
}
@media all and (transform-3d), (-webkit-transform-3d) {
  .carousel-inner > .item {
    -webkit-transition: -webkit-transform 0.6s ease-in-out;
    -moz-transition: -moz-transform 0.6s ease-in-out;
    -o-transition: -o-transform 0.6s ease-in-out;
    transition: transform 0.6s ease-in-out;
    -webkit-backface-visibility: hidden;
    -moz-backface-visibility: hidden;
    backface-visibility: hidden;
    -webkit-perspective: 1000px;
    -moz-perspective: 1000px;
    perspective: 1000px;
  }
  .carousel-inner > .item.next,
  .carousel-inner > .item.active.right {
    -webkit-transform: translate3d(100%, 0, 0);
    transform: translate3d(100%, 0, 0);
    left: 0;
  }
  .carousel-inner > .item.prev,
  .carousel-inner > .item.active.left {
    -webkit-transform: translate3d(-100%, 0, 0);
    transform: translate3d(-100%, 0, 0);
    left: 0;
  }
  .carousel-inner > .item.next.left,
  .carousel-inner > .item.prev.right,
  .carousel-inner > .item.active {
    -webkit-transform: translate3d(0, 0, 0);
    transform: translate3d(0, 0, 0);
    left: 0;
  }
}
.carousel-inner > .active,
.carousel-inner > .next,
.carousel-inner > .prev {
  display: block;
}
.carousel-inner > .active {
  left: 0;
}
.carousel-inner > .next,
.carousel-inner > .prev {
  position: absolute;
  top: 0;
  width: 100%;
}
.carousel-inner > .next {
  left: 100%;
}
.carousel-inner > .prev {
  left: -100%;
}
.carousel-inner > .next.left,
.carousel-inner > .prev.right {
  left: 0;
}
.carousel-inner > .active.left {
  left: -100%;
}
.carousel-inner > .active.right {
  left: 100%;
}
.carousel-control {
  position: absolute;
  top: 0;
  left: 0;
  bottom: 0;
  width: 15%;
  opacity: 0.5;
  filter: alpha(opacity=50);
  font-size: 20px;
  color: #fff;
  text-align: center;
  text-shadow: 0 1px 2px rgba(0, 0, 0, 0.6);
  background-color: rgba(0, 0, 0, 0);
}
.carousel-control.left {
  background-image: -webkit-linear-gradient(left, rgba(0, 0, 0, 0.5) 0%, rgba(0, 0, 0, 0.0001) 100%);
  background-image: -o-linear-gradient(left, rgba(0, 0, 0, 0.5) 0%, rgba(0, 0, 0, 0.0001) 100%);
  background-image: linear-gradient(to right, rgba(0, 0, 0, 0.5) 0%, rgba(0, 0, 0, 0.0001) 100%);
  background-repeat: repeat-x;
  filter: progid:DXImageTransform.Microsoft.gradient(startColorstr='#80000000', endColorstr='#00000000', GradientType=1);
}
.carousel-control.right {
  left: auto;
  right: 0;
  background-image: -webkit-linear-gradient(left, rgba(0, 0, 0, 0.0001) 0%, rgba(0, 0, 0, 0.5) 100%);
  background-image: -o-linear-gradient(left, rgba(0, 0, 0, 0.0001) 0%, rgba(0, 0, 0, 0.5) 100%);
  background-image: linear-gradient(to right, rgba(0, 0, 0, 0.0001) 0%, rgba(0, 0, 0, 0.5) 100%);
  background-repeat: repeat-x;
  filter: progid:DXImageTransform.Microsoft.gradient(startColorstr='#00000000', endColorstr='#80000000', GradientType=1);
}
.carousel-control:hover,
.carousel-control:focus {
  outline: 0;
  color: #fff;
  text-decoration: none;
  opacity: 0.9;
  filter: alpha(opacity=90);
}
.carousel-control .icon-prev,
.carousel-control .icon-next,
.carousel-control .glyphicon-chevron-left,
.carousel-control .glyphicon-chevron-right {
  position: absolute;
  top: 50%;
  margin-top: -10px;
  z-index: 5;
  display: inline-block;
}
.carousel-control .icon-prev,
.carousel-control .glyphicon-chevron-left {
  left: 50%;
  margin-left: -10px;
}
.carousel-control .icon-next,
.carousel-control .glyphicon-chevron-right {
  right: 50%;
  margin-right: -10px;
}
.carousel-control .icon-prev,
.carousel-control .icon-next {
  width: 20px;
  height: 20px;
  line-height: 1;
  font-family: serif;
}
.carousel-control .icon-prev:before {
  content: '\2039';
}
.carousel-control .icon-next:before {
  content: '\203a';
}
.carousel-indicators {
  position: absolute;
  bottom: 10px;
  left: 50%;
  z-index: 15;
  width: 60%;
  margin-left: -30%;
  padding-left: 0;
  list-style: none;
  text-align: center;
}
.carousel-indicators li {
  display: inline-block;
  width: 10px;
  height: 10px;
  margin: 1px;
  text-indent: -999px;
  border: 1px solid #fff;
  border-radius: 10px;
  cursor: pointer;
  background-color: #000 \9;
  background-color: rgba(0, 0, 0, 0);
}
.carousel-indicators .active {
  margin: 0;
  width: 12px;
  height: 12px;
  background-color: #fff;
}
.carousel-caption {
  position: absolute;
  left: 15%;
  right: 15%;
  bottom: 20px;
  z-index: 10;
  padding-top: 20px;
  padding-bottom: 20px;
  color: #fff;
  text-align: center;
  text-shadow: 0 1px 2px rgba(0, 0, 0, 0.6);
}
.carousel-caption .btn {
  text-shadow: none;
}
@media screen and (min-width: 768px) {
  .carousel-control .glyphicon-chevron-left,
  .carousel-control .glyphicon-chevron-right,
  .carousel-control .icon-prev,
  .carousel-control .icon-next {
    width: 30px;
    height: 30px;
    margin-top: -10px;
    font-size: 30px;
  }
  .carousel-control .glyphicon-chevron-left,
  .carousel-control .icon-prev {
    margin-left: -10px;
  }
  .carousel-control .glyphicon-chevron-right,
  .carousel-control .icon-next {
    margin-right: -10px;
  }
  .carousel-caption {
    left: 20%;
    right: 20%;
    padding-bottom: 30px;
  }
  .carousel-indicators {
    bottom: 20px;
  }
}
.clearfix:before,
.clearfix:after,
.dl-horizontal dd:before,
.dl-horizontal dd:after,
.container:before,
.container:after,
.container-fluid:before,
.container-fluid:after,
.row:before,
.row:after,
.form-horizontal .form-group:before,
.form-horizontal .form-group:after,
.btn-toolbar:before,
.btn-toolbar:after,
.btn-group-vertical > .btn-group:before,
.btn-group-vertical > .btn-group:after,
.nav:before,
.nav:after,
.navbar:before,
.navbar:after,
.navbar-header:before,
.navbar-header:after,
.navbar-collapse:before,
.navbar-collapse:after,
.pager:before,
.pager:after,
.panel-body:before,
.panel-body:after,
.modal-header:before,
.modal-header:after,
.modal-footer:before,
.modal-footer:after,
.item_buttons:before,
.item_buttons:after {
  content: " ";
  display: table;
}
.clearfix:after,
.dl-horizontal dd:after,
.container:after,
.container-fluid:after,
.row:after,
.form-horizontal .form-group:after,
.btn-toolbar:after,
.btn-group-vertical > .btn-group:after,
.nav:after,
.navbar:after,
.navbar-header:after,
.navbar-collapse:after,
.pager:after,
.panel-body:after,
.modal-header:after,
.modal-footer:after,
.item_buttons:after {
  clear: both;
}
.center-block {
  display: block;
  margin-left: auto;
  margin-right: auto;
}
.pull-right {
  float: right !important;
}
.pull-left {
  float: left !important;
}
.hide {
  display: none !important;
}
.show {
  display: block !important;
}
.invisible {
  visibility: hidden;
}
.text-hide {
  font: 0/0 a;
  color: transparent;
  text-shadow: none;
  background-color: transparent;
  border: 0;
}
.hidden {
  display: none !important;
}
.affix {
  position: fixed;
}
@-ms-viewport {
  width: device-width;
}
.visible-xs,
.visible-sm,
.visible-md,
.visible-lg {
  display: none !important;
}
.visible-xs-block,
.visible-xs-inline,
.visible-xs-inline-block,
.visible-sm-block,
.visible-sm-inline,
.visible-sm-inline-block,
.visible-md-block,
.visible-md-inline,
.visible-md-inline-block,
.visible-lg-block,
.visible-lg-inline,
.visible-lg-inline-block {
  display: none !important;
}
@media (max-width: 767px) {
  .visible-xs {
    display: block !important;
  }
  table.visible-xs {
    display: table !important;
  }
  tr.visible-xs {
    display: table-row !important;
  }
  th.visible-xs,
  td.visible-xs {
    display: table-cell !important;
  }
}
@media (max-width: 767px) {
  .visible-xs-block {
    display: block !important;
  }
}
@media (max-width: 767px) {
  .visible-xs-inline {
    display: inline !important;
  }
}
@media (max-width: 767px) {
  .visible-xs-inline-block {
    display: inline-block !important;
  }
}
@media (min-width: 768px) and (max-width: 991px) {
  .visible-sm {
    display: block !important;
  }
  table.visible-sm {
    display: table !important;
  }
  tr.visible-sm {
    display: table-row !important;
  }
  th.visible-sm,
  td.visible-sm {
    display: table-cell !important;
  }
}
@media (min-width: 768px) and (max-width: 991px) {
  .visible-sm-block {
    display: block !important;
  }
}
@media (min-width: 768px) and (max-width: 991px) {
  .visible-sm-inline {
    display: inline !important;
  }
}
@media (min-width: 768px) and (max-width: 991px) {
  .visible-sm-inline-block {
    display: inline-block !important;
  }
}
@media (min-width: 992px) and (max-width: 1199px) {
  .visible-md {
    display: block !important;
  }
  table.visible-md {
    display: table !important;
  }
  tr.visible-md {
    display: table-row !important;
  }
  th.visible-md,
  td.visible-md {
    display: table-cell !important;
  }
}
@media (min-width: 992px) and (max-width: 1199px) {
  .visible-md-block {
    display: block !important;
  }
}
@media (min-width: 992px) and (max-width: 1199px) {
  .visible-md-inline {
    display: inline !important;
  }
}
@media (min-width: 992px) and (max-width: 1199px) {
  .visible-md-inline-block {
    display: inline-block !important;
  }
}
@media (min-width: 1200px) {
  .visible-lg {
    display: block !important;
  }
  table.visible-lg {
    display: table !important;
  }
  tr.visible-lg {
    display: table-row !important;
  }
  th.visible-lg,
  td.visible-lg {
    display: table-cell !important;
  }
}
@media (min-width: 1200px) {
  .visible-lg-block {
    display: block !important;
  }
}
@media (min-width: 1200px) {
  .visible-lg-inline {
    display: inline !important;
  }
}
@media (min-width: 1200px) {
  .visible-lg-inline-block {
    display: inline-block !important;
  }
}
@media (max-width: 767px) {
  .hidden-xs {
    display: none !important;
  }
}
@media (min-width: 768px) and (max-width: 991px) {
  .hidden-sm {
    display: none !important;
  }
}
@media (min-width: 992px) and (max-width: 1199px) {
  .hidden-md {
    display: none !important;
  }
}
@media (min-width: 1200px) {
  .hidden-lg {
    display: none !important;
  }
}
.visible-print {
  display: none !important;
}
@media print {
  .visible-print {
    display: block !important;
  }
  table.visible-print {
    display: table !important;
  }
  tr.visible-print {
    display: table-row !important;
  }
  th.visible-print,
  td.visible-print {
    display: table-cell !important;
  }
}
.visible-print-block {
  display: none !important;
}
@media print {
  .visible-print-block {
    display: block !important;
  }
}
.visible-print-inline {
  display: none !important;
}
@media print {
  .visible-print-inline {
    display: inline !important;
  }
}
.visible-print-inline-block {
  display: none !important;
}
@media print {
  .visible-print-inline-block {
    display: inline-block !important;
  }
}
@media print {
  .hidden-print {
    display: none !important;
  }
}
/*!
*
* Font Awesome
*
*/
/*!
 *  Font Awesome 4.7.0 by @davegandy - http://fontawesome.io - @fontawesome
 *  License - http://fontawesome.io/license (Font: SIL OFL 1.1, CSS: MIT License)
 */
/* FONT PATH
 * -------------------------- */
@font-face {
  font-family: 'FontAwesome';
  src: url('../components/font-awesome/fonts/fontawesome-webfont.eot?v=4.7.0');
  src: url('../components/font-awesome/fonts/fontawesome-webfont.eot?#iefix&v=4.7.0') format('embedded-opentype'), url('../components/font-awesome/fonts/fontawesome-webfont.woff2?v=4.7.0') format('woff2'), url('../components/font-awesome/fonts/fontawesome-webfont.woff?v=4.7.0') format('woff'), url('../components/font-awesome/fonts/fontawesome-webfont.ttf?v=4.7.0') format('truetype'), url('../components/font-awesome/fonts/fontawesome-webfont.svg?v=4.7.0#fontawesomeregular') format('svg');
  font-weight: normal;
  font-style: normal;
}
.fa {
  display: inline-block;
  font: normal normal normal 14px/1 FontAwesome;
  font-size: inherit;
  text-rendering: auto;
  -webkit-font-smoothing: antialiased;
  -moz-osx-font-smoothing: grayscale;
}
/* makes the font 33% larger relative to the icon container */
.fa-lg {
  font-size: 1.33333333em;
  line-height: 0.75em;
  vertical-align: -15%;
}
.fa-2x {
  font-size: 2em;
}
.fa-3x {
  font-size: 3em;
}
.fa-4x {
  font-size: 4em;
}
.fa-5x {
  font-size: 5em;
}
.fa-fw {
  width: 1.28571429em;
  text-align: center;
}
.fa-ul {
  padding-left: 0;
  margin-left: 2.14285714em;
  list-style-type: none;
}
.fa-ul > li {
  position: relative;
}
.fa-li {
  position: absolute;
  left: -2.14285714em;
  width: 2.14285714em;
  top: 0.14285714em;
  text-align: center;
}
.fa-li.fa-lg {
  left: -1.85714286em;
}
.fa-border {
  padding: .2em .25em .15em;
  border: solid 0.08em #eee;
  border-radius: .1em;
}
.fa-pull-left {
  float: left;
}
.fa-pull-right {
  float: right;
}
.fa.fa-pull-left {
  margin-right: .3em;
}
.fa.fa-pull-right {
  margin-left: .3em;
}
/* Deprecated as of 4.4.0 */
.pull-right {
  float: right;
}
.pull-left {
  float: left;
}
.fa.pull-left {
  margin-right: .3em;
}
.fa.pull-right {
  margin-left: .3em;
}
.fa-spin {
  -webkit-animation: fa-spin 2s infinite linear;
  animation: fa-spin 2s infinite linear;
}
.fa-pulse {
  -webkit-animation: fa-spin 1s infinite steps(8);
  animation: fa-spin 1s infinite steps(8);
}
@-webkit-keyframes fa-spin {
  0% {
    -webkit-transform: rotate(0deg);
    transform: rotate(0deg);
  }
  100% {
    -webkit-transform: rotate(359deg);
    transform: rotate(359deg);
  }
}
@keyframes fa-spin {
  0% {
    -webkit-transform: rotate(0deg);
    transform: rotate(0deg);
  }
  100% {
    -webkit-transform: rotate(359deg);
    transform: rotate(359deg);
  }
}
.fa-rotate-90 {
  -ms-filter: "progid:DXImageTransform.Microsoft.BasicImage(rotation=1)";
  -webkit-transform: rotate(90deg);
  -ms-transform: rotate(90deg);
  transform: rotate(90deg);
}
.fa-rotate-180 {
  -ms-filter: "progid:DXImageTransform.Microsoft.BasicImage(rotation=2)";
  -webkit-transform: rotate(180deg);
  -ms-transform: rotate(180deg);
  transform: rotate(180deg);
}
.fa-rotate-270 {
  -ms-filter: "progid:DXImageTransform.Microsoft.BasicImage(rotation=3)";
  -webkit-transform: rotate(270deg);
  -ms-transform: rotate(270deg);
  transform: rotate(270deg);
}
.fa-flip-horizontal {
  -ms-filter: "progid:DXImageTransform.Microsoft.BasicImage(rotation=0, mirror=1)";
  -webkit-transform: scale(-1, 1);
  -ms-transform: scale(-1, 1);
  transform: scale(-1, 1);
}
.fa-flip-vertical {
  -ms-filter: "progid:DXImageTransform.Microsoft.BasicImage(rotation=2, mirror=1)";
  -webkit-transform: scale(1, -1);
  -ms-transform: scale(1, -1);
  transform: scale(1, -1);
}
:root .fa-rotate-90,
:root .fa-rotate-180,
:root .fa-rotate-270,
:root .fa-flip-horizontal,
:root .fa-flip-vertical {
  filter: none;
}
.fa-stack {
  position: relative;
  display: inline-block;
  width: 2em;
  height: 2em;
  line-height: 2em;
  vertical-align: middle;
}
.fa-stack-1x,
.fa-stack-2x {
  position: absolute;
  left: 0;
  width: 100%;
  text-align: center;
}
.fa-stack-1x {
  line-height: inherit;
}
.fa-stack-2x {
  font-size: 2em;
}
.fa-inverse {
  color: #fff;
}
/* Font Awesome uses the Unicode Private Use Area (PUA) to ensure screen
   readers do not read off random characters that represent icons */
.fa-glass:before {
  content: "\f000";
}
.fa-music:before {
  content: "\f001";
}
.fa-search:before {
  content: "\f002";
}
.fa-envelope-o:before {
  content: "\f003";
}
.fa-heart:before {
  content: "\f004";
}
.fa-star:before {
  content: "\f005";
}
.fa-star-o:before {
  content: "\f006";
}
.fa-user:before {
  content: "\f007";
}
.fa-film:before {
  content: "\f008";
}
.fa-th-large:before {
  content: "\f009";
}
.fa-th:before {
  content: "\f00a";
}
.fa-th-list:before {
  content: "\f00b";
}
.fa-check:before {
  content: "\f00c";
}
.fa-remove:before,
.fa-close:before,
.fa-times:before {
  content: "\f00d";
}
.fa-search-plus:before {
  content: "\f00e";
}
.fa-search-minus:before {
  content: "\f010";
}
.fa-power-off:before {
  content: "\f011";
}
.fa-signal:before {
  content: "\f012";
}
.fa-gear:before,
.fa-cog:before {
  content: "\f013";
}
.fa-trash-o:before {
  content: "\f014";
}
.fa-home:before {
  content: "\f015";
}
.fa-file-o:before {
  content: "\f016";
}
.fa-clock-o:before {
  content: "\f017";
}
.fa-road:before {
  content: "\f018";
}
.fa-download:before {
  content: "\f019";
}
.fa-arrow-circle-o-down:before {
  content: "\f01a";
}
.fa-arrow-circle-o-up:before {
  content: "\f01b";
}
.fa-inbox:before {
  content: "\f01c";
}
.fa-play-circle-o:before {
  content: "\f01d";
}
.fa-rotate-right:before,
.fa-repeat:before {
  content: "\f01e";
}
.fa-refresh:before {
  content: "\f021";
}
.fa-list-alt:before {
  content: "\f022";
}
.fa-lock:before {
  content: "\f023";
}
.fa-flag:before {
  content: "\f024";
}
.fa-headphones:before {
  content: "\f025";
}
.fa-volume-off:before {
  content: "\f026";
}
.fa-volume-down:before {
  content: "\f027";
}
.fa-volume-up:before {
  content: "\f028";
}
.fa-qrcode:before {
  content: "\f029";
}
.fa-barcode:before {
  content: "\f02a";
}
.fa-tag:before {
  content: "\f02b";
}
.fa-tags:before {
  content: "\f02c";
}
.fa-book:before {
  content: "\f02d";
}
.fa-bookmark:before {
  content: "\f02e";
}
.fa-print:before {
  content: "\f02f";
}
.fa-camera:before {
  content: "\f030";
}
.fa-font:before {
  content: "\f031";
}
.fa-bold:before {
  content: "\f032";
}
.fa-italic:before {
  content: "\f033";
}
.fa-text-height:before {
  content: "\f034";
}
.fa-text-width:before {
  content: "\f035";
}
.fa-align-left:before {
  content: "\f036";
}
.fa-align-center:before {
  content: "\f037";
}
.fa-align-right:before {
  content: "\f038";
}
.fa-align-justify:before {
  content: "\f039";
}
.fa-list:before {
  content: "\f03a";
}
.fa-dedent:before,
.fa-outdent:before {
  content: "\f03b";
}
.fa-indent:before {
  content: "\f03c";
}
.fa-video-camera:before {
  content: "\f03d";
}
.fa-photo:before,
.fa-image:before,
.fa-picture-o:before {
  content: "\f03e";
}
.fa-pencil:before {
  content: "\f040";
}
.fa-map-marker:before {
  content: "\f041";
}
.fa-adjust:before {
  content: "\f042";
}
.fa-tint:before {
  content: "\f043";
}
.fa-edit:before,
.fa-pencil-square-o:before {
  content: "\f044";
}
.fa-share-square-o:before {
  content: "\f045";
}
.fa-check-square-o:before {
  content: "\f046";
}
.fa-arrows:before {
  content: "\f047";
}
.fa-step-backward:before {
  content: "\f048";
}
.fa-fast-backward:before {
  content: "\f049";
}
.fa-backward:before {
  content: "\f04a";
}
.fa-play:before {
  content: "\f04b";
}
.fa-pause:before {
  content: "\f04c";
}
.fa-stop:before {
  content: "\f04d";
}
.fa-forward:before {
  content: "\f04e";
}
.fa-fast-forward:before {
  content: "\f050";
}
.fa-step-forward:before {
  content: "\f051";
}
.fa-eject:before {
  content: "\f052";
}
.fa-chevron-left:before {
  content: "\f053";
}
.fa-chevron-right:before {
  content: "\f054";
}
.fa-plus-circle:before {
  content: "\f055";
}
.fa-minus-circle:before {
  content: "\f056";
}
.fa-times-circle:before {
  content: "\f057";
}
.fa-check-circle:before {
  content: "\f058";
}
.fa-question-circle:before {
  content: "\f059";
}
.fa-info-circle:before {
  content: "\f05a";
}
.fa-crosshairs:before {
  content: "\f05b";
}
.fa-times-circle-o:before {
  content: "\f05c";
}
.fa-check-circle-o:before {
  content: "\f05d";
}
.fa-ban:before {
  content: "\f05e";
}
.fa-arrow-left:before {
  content: "\f060";
}
.fa-arrow-right:before {
  content: "\f061";
}
.fa-arrow-up:before {
  content: "\f062";
}
.fa-arrow-down:before {
  content: "\f063";
}
.fa-mail-forward:before,
.fa-share:before {
  content: "\f064";
}
.fa-expand:before {
  content: "\f065";
}
.fa-compress:before {
  content: "\f066";
}
.fa-plus:before {
  content: "\f067";
}
.fa-minus:before {
  content: "\f068";
}
.fa-asterisk:before {
  content: "\f069";
}
.fa-exclamation-circle:before {
  content: "\f06a";
}
.fa-gift:before {
  content: "\f06b";
}
.fa-leaf:before {
  content: "\f06c";
}
.fa-fire:before {
  content: "\f06d";
}
.fa-eye:before {
  content: "\f06e";
}
.fa-eye-slash:before {
  content: "\f070";
}
.fa-warning:before,
.fa-exclamation-triangle:before {
  content: "\f071";
}
.fa-plane:before {
  content: "\f072";
}
.fa-calendar:before {
  content: "\f073";
}
.fa-random:before {
  content: "\f074";
}
.fa-comment:before {
  content: "\f075";
}
.fa-magnet:before {
  content: "\f076";
}
.fa-chevron-up:before {
  content: "\f077";
}
.fa-chevron-down:before {
  content: "\f078";
}
.fa-retweet:before {
  content: "\f079";
}
.fa-shopping-cart:before {
  content: "\f07a";
}
.fa-folder:before {
  content: "\f07b";
}
.fa-folder-open:before {
  content: "\f07c";
}
.fa-arrows-v:before {
  content: "\f07d";
}
.fa-arrows-h:before {
  content: "\f07e";
}
.fa-bar-chart-o:before,
.fa-bar-chart:before {
  content: "\f080";
}
.fa-twitter-square:before {
  content: "\f081";
}
.fa-facebook-square:before {
  content: "\f082";
}
.fa-camera-retro:before {
  content: "\f083";
}
.fa-key:before {
  content: "\f084";
}
.fa-gears:before,
.fa-cogs:before {
  content: "\f085";
}
.fa-comments:before {
  content: "\f086";
}
.fa-thumbs-o-up:before {
  content: "\f087";
}
.fa-thumbs-o-down:before {
  content: "\f088";
}
.fa-star-half:before {
  content: "\f089";
}
.fa-heart-o:before {
  content: "\f08a";
}
.fa-sign-out:before {
  content: "\f08b";
}
.fa-linkedin-square:before {
  content: "\f08c";
}
.fa-thumb-tack:before {
  content: "\f08d";
}
.fa-external-link:before {
  content: "\f08e";
}
.fa-sign-in:before {
  content: "\f090";
}
.fa-trophy:before {
  content: "\f091";
}
.fa-github-square:before {
  content: "\f092";
}
.fa-upload:before {
  content: "\f093";
}
.fa-lemon-o:before {
  content: "\f094";
}
.fa-phone:before {
  content: "\f095";
}
.fa-square-o:before {
  content: "\f096";
}
.fa-bookmark-o:before {
  content: "\f097";
}
.fa-phone-square:before {
  content: "\f098";
}
.fa-twitter:before {
  content: "\f099";
}
.fa-facebook-f:before,
.fa-facebook:before {
  content: "\f09a";
}
.fa-github:before {
  content: "\f09b";
}
.fa-unlock:before {
  content: "\f09c";
}
.fa-credit-card:before {
  content: "\f09d";
}
.fa-feed:before,
.fa-rss:before {
  content: "\f09e";
}
.fa-hdd-o:before {
  content: "\f0a0";
}
.fa-bullhorn:before {
  content: "\f0a1";
}
.fa-bell:before {
  content: "\f0f3";
}
.fa-certificate:before {
  content: "\f0a3";
}
.fa-hand-o-right:before {
  content: "\f0a4";
}
.fa-hand-o-left:before {
  content: "\f0a5";
}
.fa-hand-o-up:before {
  content: "\f0a6";
}
.fa-hand-o-down:before {
  content: "\f0a7";
}
.fa-arrow-circle-left:before {
  content: "\f0a8";
}
.fa-arrow-circle-right:before {
  content: "\f0a9";
}
.fa-arrow-circle-up:before {
  content: "\f0aa";
}
.fa-arrow-circle-down:before {
  content: "\f0ab";
}
.fa-globe:before {
  content: "\f0ac";
}
.fa-wrench:before {
  content: "\f0ad";
}
.fa-tasks:before {
  content: "\f0ae";
}
.fa-filter:before {
  content: "\f0b0";
}
.fa-briefcase:before {
  content: "\f0b1";
}
.fa-arrows-alt:before {
  content: "\f0b2";
}
.fa-group:before,
.fa-users:before {
  content: "\f0c0";
}
.fa-chain:before,
.fa-link:before {
  content: "\f0c1";
}
.fa-cloud:before {
  content: "\f0c2";
}
.fa-flask:before {
  content: "\f0c3";
}
.fa-cut:before,
.fa-scissors:before {
  content: "\f0c4";
}
.fa-copy:before,
.fa-files-o:before {
  content: "\f0c5";
}
.fa-paperclip:before {
  content: "\f0c6";
}
.fa-save:before,
.fa-floppy-o:before {
  content: "\f0c7";
}
.fa-square:before {
  content: "\f0c8";
}
.fa-navicon:before,
.fa-reorder:before,
.fa-bars:before {
  content: "\f0c9";
}
.fa-list-ul:before {
  content: "\f0ca";
}
.fa-list-ol:before {
  content: "\f0cb";
}
.fa-strikethrough:before {
  content: "\f0cc";
}
.fa-underline:before {
  content: "\f0cd";
}
.fa-table:before {
  content: "\f0ce";
}
.fa-magic:before {
  content: "\f0d0";
}
.fa-truck:before {
  content: "\f0d1";
}
.fa-pinterest:before {
  content: "\f0d2";
}
.fa-pinterest-square:before {
  content: "\f0d3";
}
.fa-google-plus-square:before {
  content: "\f0d4";
}
.fa-google-plus:before {
  content: "\f0d5";
}
.fa-money:before {
  content: "\f0d6";
}
.fa-caret-down:before {
  content: "\f0d7";
}
.fa-caret-up:before {
  content: "\f0d8";
}
.fa-caret-left:before {
  content: "\f0d9";
}
.fa-caret-right:before {
  content: "\f0da";
}
.fa-columns:before {
  content: "\f0db";
}
.fa-unsorted:before,
.fa-sort:before {
  content: "\f0dc";
}
.fa-sort-down:before,
.fa-sort-desc:before {
  content: "\f0dd";
}
.fa-sort-up:before,
.fa-sort-asc:before {
  content: "\f0de";
}
.fa-envelope:before {
  content: "\f0e0";
}
.fa-linkedin:before {
  content: "\f0e1";
}
.fa-rotate-left:before,
.fa-undo:before {
  content: "\f0e2";
}
.fa-legal:before,
.fa-gavel:before {
  content: "\f0e3";
}
.fa-dashboard:before,
.fa-tachometer:before {
  content: "\f0e4";
}
.fa-comment-o:before {
  content: "\f0e5";
}
.fa-comments-o:before {
  content: "\f0e6";
}
.fa-flash:before,
.fa-bolt:before {
  content: "\f0e7";
}
.fa-sitemap:before {
  content: "\f0e8";
}
.fa-umbrella:before {
  content: "\f0e9";
}
.fa-paste:before,
.fa-clipboard:before {
  content: "\f0ea";
}
.fa-lightbulb-o:before {
  content: "\f0eb";
}
.fa-exchange:before {
  content: "\f0ec";
}
.fa-cloud-download:before {
  content: "\f0ed";
}
.fa-cloud-upload:before {
  content: "\f0ee";
}
.fa-user-md:before {
  content: "\f0f0";
}
.fa-stethoscope:before {
  content: "\f0f1";
}
.fa-suitcase:before {
  content: "\f0f2";
}
.fa-bell-o:before {
  content: "\f0a2";
}
.fa-coffee:before {
  content: "\f0f4";
}
.fa-cutlery:before {
  content: "\f0f5";
}
.fa-file-text-o:before {
  content: "\f0f6";
}
.fa-building-o:before {
  content: "\f0f7";
}
.fa-hospital-o:before {
  content: "\f0f8";
}
.fa-ambulance:before {
  content: "\f0f9";
}
.fa-medkit:before {
  content: "\f0fa";
}
.fa-fighter-jet:before {
  content: "\f0fb";
}
.fa-beer:before {
  content: "\f0fc";
}
.fa-h-square:before {
  content: "\f0fd";
}
.fa-plus-square:before {
  content: "\f0fe";
}
.fa-angle-double-left:before {
  content: "\f100";
}
.fa-angle-double-right:before {
  content: "\f101";
}
.fa-angle-double-up:before {
  content: "\f102";
}
.fa-angle-double-down:before {
  content: "\f103";
}
.fa-angle-left:before {
  content: "\f104";
}
.fa-angle-right:before {
  content: "\f105";
}
.fa-angle-up:before {
  content: "\f106";
}
.fa-angle-down:before {
  content: "\f107";
}
.fa-desktop:before {
  content: "\f108";
}
.fa-laptop:before {
  content: "\f109";
}
.fa-tablet:before {
  content: "\f10a";
}
.fa-mobile-phone:before,
.fa-mobile:before {
  content: "\f10b";
}
.fa-circle-o:before {
  content: "\f10c";
}
.fa-quote-left:before {
  content: "\f10d";
}
.fa-quote-right:before {
  content: "\f10e";
}
.fa-spinner:before {
  content: "\f110";
}
.fa-circle:before {
  content: "\f111";
}
.fa-mail-reply:before,
.fa-reply:before {
  content: "\f112";
}
.fa-github-alt:before {
  content: "\f113";
}
.fa-folder-o:before {
  content: "\f114";
}
.fa-folder-open-o:before {
  content: "\f115";
}
.fa-smile-o:before {
  content: "\f118";
}
.fa-frown-o:before {
  content: "\f119";
}
.fa-meh-o:before {
  content: "\f11a";
}
.fa-gamepad:before {
  content: "\f11b";
}
.fa-keyboard-o:before {
  content: "\f11c";
}
.fa-flag-o:before {
  content: "\f11d";
}
.fa-flag-checkered:before {
  content: "\f11e";
}
.fa-terminal:before {
  content: "\f120";
}
.fa-code:before {
  content: "\f121";
}
.fa-mail-reply-all:before,
.fa-reply-all:before {
  content: "\f122";
}
.fa-star-half-empty:before,
.fa-star-half-full:before,
.fa-star-half-o:before {
  content: "\f123";
}
.fa-location-arrow:before {
  content: "\f124";
}
.fa-crop:before {
  content: "\f125";
}
.fa-code-fork:before {
  content: "\f126";
}
.fa-unlink:before,
.fa-chain-broken:before {
  content: "\f127";
}
.fa-question:before {
  content: "\f128";
}
.fa-info:before {
  content: "\f129";
}
.fa-exclamation:before {
  content: "\f12a";
}
.fa-superscript:before {
  content: "\f12b";
}
.fa-subscript:before {
  content: "\f12c";
}
.fa-eraser:before {
  content: "\f12d";
}
.fa-puzzle-piece:before {
  content: "\f12e";
}
.fa-microphone:before {
  content: "\f130";
}
.fa-microphone-slash:before {
  content: "\f131";
}
.fa-shield:before {
  content: "\f132";
}
.fa-calendar-o:before {
  content: "\f133";
}
.fa-fire-extinguisher:before {
  content: "\f134";
}
.fa-rocket:before {
  content: "\f135";
}
.fa-maxcdn:before {
  content: "\f136";
}
.fa-chevron-circle-left:before {
  content: "\f137";
}
.fa-chevron-circle-right:before {
  content: "\f138";
}
.fa-chevron-circle-up:before {
  content: "\f139";
}
.fa-chevron-circle-down:before {
  content: "\f13a";
}
.fa-html5:before {
  content: "\f13b";
}
.fa-css3:before {
  content: "\f13c";
}
.fa-anchor:before {
  content: "\f13d";
}
.fa-unlock-alt:before {
  content: "\f13e";
}
.fa-bullseye:before {
  content: "\f140";
}
.fa-ellipsis-h:before {
  content: "\f141";
}
.fa-ellipsis-v:before {
  content: "\f142";
}
.fa-rss-square:before {
  content: "\f143";
}
.fa-play-circle:before {
  content: "\f144";
}
.fa-ticket:before {
  content: "\f145";
}
.fa-minus-square:before {
  content: "\f146";
}
.fa-minus-square-o:before {
  content: "\f147";
}
.fa-level-up:before {
  content: "\f148";
}
.fa-level-down:before {
  content: "\f149";
}
.fa-check-square:before {
  content: "\f14a";
}
.fa-pencil-square:before {
  content: "\f14b";
}
.fa-external-link-square:before {
  content: "\f14c";
}
.fa-share-square:before {
  content: "\f14d";
}
.fa-compass:before {
  content: "\f14e";
}
.fa-toggle-down:before,
.fa-caret-square-o-down:before {
  content: "\f150";
}
.fa-toggle-up:before,
.fa-caret-square-o-up:before {
  content: "\f151";
}
.fa-toggle-right:before,
.fa-caret-square-o-right:before {
  content: "\f152";
}
.fa-euro:before,
.fa-eur:before {
  content: "\f153";
}
.fa-gbp:before {
  content: "\f154";
}
.fa-dollar:before,
.fa-usd:before {
  content: "\f155";
}
.fa-rupee:before,
.fa-inr:before {
  content: "\f156";
}
.fa-cny:before,
.fa-rmb:before,
.fa-yen:before,
.fa-jpy:before {
  content: "\f157";
}
.fa-ruble:before,
.fa-rouble:before,
.fa-rub:before {
  content: "\f158";
}
.fa-won:before,
.fa-krw:before {
  content: "\f159";
}
.fa-bitcoin:before,
.fa-btc:before {
  content: "\f15a";
}
.fa-file:before {
  content: "\f15b";
}
.fa-file-text:before {
  content: "\f15c";
}
.fa-sort-alpha-asc:before {
  content: "\f15d";
}
.fa-sort-alpha-desc:before {
  content: "\f15e";
}
.fa-sort-amount-asc:before {
  content: "\f160";
}
.fa-sort-amount-desc:before {
  content: "\f161";
}
.fa-sort-numeric-asc:before {
  content: "\f162";
}
.fa-sort-numeric-desc:before {
  content: "\f163";
}
.fa-thumbs-up:before {
  content: "\f164";
}
.fa-thumbs-down:before {
  content: "\f165";
}
.fa-youtube-square:before {
  content: "\f166";
}
.fa-youtube:before {
  content: "\f167";
}
.fa-xing:before {
  content: "\f168";
}
.fa-xing-square:before {
  content: "\f169";
}
.fa-youtube-play:before {
  content: "\f16a";
}
.fa-dropbox:before {
  content: "\f16b";
}
.fa-stack-overflow:before {
  content: "\f16c";
}
.fa-instagram:before {
  content: "\f16d";
}
.fa-flickr:before {
  content: "\f16e";
}
.fa-adn:before {
  content: "\f170";
}
.fa-bitbucket:before {
  content: "\f171";
}
.fa-bitbucket-square:before {
  content: "\f172";
}
.fa-tumblr:before {
  content: "\f173";
}
.fa-tumblr-square:before {
  content: "\f174";
}
.fa-long-arrow-down:before {
  content: "\f175";
}
.fa-long-arrow-up:before {
  content: "\f176";
}
.fa-long-arrow-left:before {
  content: "\f177";
}
.fa-long-arrow-right:before {
  content: "\f178";
}
.fa-apple:before {
  content: "\f179";
}
.fa-windows:before {
  content: "\f17a";
}
.fa-android:before {
  content: "\f17b";
}
.fa-linux:before {
  content: "\f17c";
}
.fa-dribbble:before {
  content: "\f17d";
}
.fa-skype:before {
  content: "\f17e";
}
.fa-foursquare:before {
  content: "\f180";
}
.fa-trello:before {
  content: "\f181";
}
.fa-female:before {
  content: "\f182";
}
.fa-male:before {
  content: "\f183";
}
.fa-gittip:before,
.fa-gratipay:before {
  content: "\f184";
}
.fa-sun-o:before {
  content: "\f185";
}
.fa-moon-o:before {
  content: "\f186";
}
.fa-archive:before {
  content: "\f187";
}
.fa-bug:before {
  content: "\f188";
}
.fa-vk:before {
  content: "\f189";
}
.fa-weibo:before {
  content: "\f18a";
}
.fa-renren:before {
  content: "\f18b";
}
.fa-pagelines:before {
  content: "\f18c";
}
.fa-stack-exchange:before {
  content: "\f18d";
}
.fa-arrow-circle-o-right:before {
  content: "\f18e";
}
.fa-arrow-circle-o-left:before {
  content: "\f190";
}
.fa-toggle-left:before,
.fa-caret-square-o-left:before {
  content: "\f191";
}
.fa-dot-circle-o:before {
  content: "\f192";
}
.fa-wheelchair:before {
  content: "\f193";
}
.fa-vimeo-square:before {
  content: "\f194";
}
.fa-turkish-lira:before,
.fa-try:before {
  content: "\f195";
}
.fa-plus-square-o:before {
  content: "\f196";
}
.fa-space-shuttle:before {
  content: "\f197";
}
.fa-slack:before {
  content: "\f198";
}
.fa-envelope-square:before {
  content: "\f199";
}
.fa-wordpress:before {
  content: "\f19a";
}
.fa-openid:before {
  content: "\f19b";
}
.fa-institution:before,
.fa-bank:before,
.fa-university:before {
  content: "\f19c";
}
.fa-mortar-board:before,
.fa-graduation-cap:before {
  content: "\f19d";
}
.fa-yahoo:before {
  content: "\f19e";
}
.fa-google:before {
  content: "\f1a0";
}
.fa-reddit:before {
  content: "\f1a1";
}
.fa-reddit-square:before {
  content: "\f1a2";
}
.fa-stumbleupon-circle:before {
  content: "\f1a3";
}
.fa-stumbleupon:before {
  content: "\f1a4";
}
.fa-delicious:before {
  content: "\f1a5";
}
.fa-digg:before {
  content: "\f1a6";
}
.fa-pied-piper-pp:before {
  content: "\f1a7";
}
.fa-pied-piper-alt:before {
  content: "\f1a8";
}
.fa-drupal:before {
  content: "\f1a9";
}
.fa-joomla:before {
  content: "\f1aa";
}
.fa-language:before {
  content: "\f1ab";
}
.fa-fax:before {
  content: "\f1ac";
}
.fa-building:before {
  content: "\f1ad";
}
.fa-child:before {
  content: "\f1ae";
}
.fa-paw:before {
  content: "\f1b0";
}
.fa-spoon:before {
  content: "\f1b1";
}
.fa-cube:before {
  content: "\f1b2";
}
.fa-cubes:before {
  content: "\f1b3";
}
.fa-behance:before {
  content: "\f1b4";
}
.fa-behance-square:before {
  content: "\f1b5";
}
.fa-steam:before {
  content: "\f1b6";
}
.fa-steam-square:before {
  content: "\f1b7";
}
.fa-recycle:before {
  content: "\f1b8";
}
.fa-automobile:before,
.fa-car:before {
  content: "\f1b9";
}
.fa-cab:before,
.fa-taxi:before {
  content: "\f1ba";
}
.fa-tree:before {
  content: "\f1bb";
}
.fa-spotify:before {
  content: "\f1bc";
}
.fa-deviantart:before {
  content: "\f1bd";
}
.fa-soundcloud:before {
  content: "\f1be";
}
.fa-database:before {
  content: "\f1c0";
}
.fa-file-pdf-o:before {
  content: "\f1c1";
}
.fa-file-word-o:before {
  content: "\f1c2";
}
.fa-file-excel-o:before {
  content: "\f1c3";
}
.fa-file-powerpoint-o:before {
  content: "\f1c4";
}
.fa-file-photo-o:before,
.fa-file-picture-o:before,
.fa-file-image-o:before {
  content: "\f1c5";
}
.fa-file-zip-o:before,
.fa-file-archive-o:before {
  content: "\f1c6";
}
.fa-file-sound-o:before,
.fa-file-audio-o:before {
  content: "\f1c7";
}
.fa-file-movie-o:before,
.fa-file-video-o:before {
  content: "\f1c8";
}
.fa-file-code-o:before {
  content: "\f1c9";
}
.fa-vine:before {
  content: "\f1ca";
}
.fa-codepen:before {
  content: "\f1cb";
}
.fa-jsfiddle:before {
  content: "\f1cc";
}
.fa-life-bouy:before,
.fa-life-buoy:before,
.fa-life-saver:before,
.fa-support:before,
.fa-life-ring:before {
  content: "\f1cd";
}
.fa-circle-o-notch:before {
  content: "\f1ce";
}
.fa-ra:before,
.fa-resistance:before,
.fa-rebel:before {
  content: "\f1d0";
}
.fa-ge:before,
.fa-empire:before {
  content: "\f1d1";
}
.fa-git-square:before {
  content: "\f1d2";
}
.fa-git:before {
  content: "\f1d3";
}
.fa-y-combinator-square:before,
.fa-yc-square:before,
.fa-hacker-news:before {
  content: "\f1d4";
}
.fa-tencent-weibo:before {
  content: "\f1d5";
}
.fa-qq:before {
  content: "\f1d6";
}
.fa-wechat:before,
.fa-weixin:before {
  content: "\f1d7";
}
.fa-send:before,
.fa-paper-plane:before {
  content: "\f1d8";
}
.fa-send-o:before,
.fa-paper-plane-o:before {
  content: "\f1d9";
}
.fa-history:before {
  content: "\f1da";
}
.fa-circle-thin:before {
  content: "\f1db";
}
.fa-header:before {
  content: "\f1dc";
}
.fa-paragraph:before {
  content: "\f1dd";
}
.fa-sliders:before {
  content: "\f1de";
}
.fa-share-alt:before {
  content: "\f1e0";
}
.fa-share-alt-square:before {
  content: "\f1e1";
}
.fa-bomb:before {
  content: "\f1e2";
}
.fa-soccer-ball-o:before,
.fa-futbol-o:before {
  content: "\f1e3";
}
.fa-tty:before {
  content: "\f1e4";
}
.fa-binoculars:before {
  content: "\f1e5";
}
.fa-plug:before {
  content: "\f1e6";
}
.fa-slideshare:before {
  content: "\f1e7";
}
.fa-twitch:before {
  content: "\f1e8";
}
.fa-yelp:before {
  content: "\f1e9";
}
.fa-newspaper-o:before {
  content: "\f1ea";
}
.fa-wifi:before {
  content: "\f1eb";
}
.fa-calculator:before {
  content: "\f1ec";
}
.fa-paypal:before {
  content: "\f1ed";
}
.fa-google-wallet:before {
  content: "\f1ee";
}
.fa-cc-visa:before {
  content: "\f1f0";
}
.fa-cc-mastercard:before {
  content: "\f1f1";
}
.fa-cc-discover:before {
  content: "\f1f2";
}
.fa-cc-amex:before {
  content: "\f1f3";
}
.fa-cc-paypal:before {
  content: "\f1f4";
}
.fa-cc-stripe:before {
  content: "\f1f5";
}
.fa-bell-slash:before {
  content: "\f1f6";
}
.fa-bell-slash-o:before {
  content: "\f1f7";
}
.fa-trash:before {
  content: "\f1f8";
}
.fa-copyright:before {
  content: "\f1f9";
}
.fa-at:before {
  content: "\f1fa";
}
.fa-eyedropper:before {
  content: "\f1fb";
}
.fa-paint-brush:before {
  content: "\f1fc";
}
.fa-birthday-cake:before {
  content: "\f1fd";
}
.fa-area-chart:before {
  content: "\f1fe";
}
.fa-pie-chart:before {
  content: "\f200";
}
.fa-line-chart:before {
  content: "\f201";
}
.fa-lastfm:before {
  content: "\f202";
}
.fa-lastfm-square:before {
  content: "\f203";
}
.fa-toggle-off:before {
  content: "\f204";
}
.fa-toggle-on:before {
  content: "\f205";
}
.fa-bicycle:before {
  content: "\f206";
}
.fa-bus:before {
  content: "\f207";
}
.fa-ioxhost:before {
  content: "\f208";
}
.fa-angellist:before {
  content: "\f209";
}
.fa-cc:before {
  content: "\f20a";
}
.fa-shekel:before,
.fa-sheqel:before,
.fa-ils:before {
  content: "\f20b";
}
.fa-meanpath:before {
  content: "\f20c";
}
.fa-buysellads:before {
  content: "\f20d";
}
.fa-connectdevelop:before {
  content: "\f20e";
}
.fa-dashcube:before {
  content: "\f210";
}
.fa-forumbee:before {
  content: "\f211";
}
.fa-leanpub:before {
  content: "\f212";
}
.fa-sellsy:before {
  content: "\f213";
}
.fa-shirtsinbulk:before {
  content: "\f214";
}
.fa-simplybuilt:before {
  content: "\f215";
}
.fa-skyatlas:before {
  content: "\f216";
}
.fa-cart-plus:before {
  content: "\f217";
}
.fa-cart-arrow-down:before {
  content: "\f218";
}
.fa-diamond:before {
  content: "\f219";
}
.fa-ship:before {
  content: "\f21a";
}
.fa-user-secret:before {
  content: "\f21b";
}
.fa-motorcycle:before {
  content: "\f21c";
}
.fa-street-view:before {
  content: "\f21d";
}
.fa-heartbeat:before {
  content: "\f21e";
}
.fa-venus:before {
  content: "\f221";
}
.fa-mars:before {
  content: "\f222";
}
.fa-mercury:before {
  content: "\f223";
}
.fa-intersex:before,
.fa-transgender:before {
  content: "\f224";
}
.fa-transgender-alt:before {
  content: "\f225";
}
.fa-venus-double:before {
  content: "\f226";
}
.fa-mars-double:before {
  content: "\f227";
}
.fa-venus-mars:before {
  content: "\f228";
}
.fa-mars-stroke:before {
  content: "\f229";
}
.fa-mars-stroke-v:before {
  content: "\f22a";
}
.fa-mars-stroke-h:before {
  content: "\f22b";
}
.fa-neuter:before {
  content: "\f22c";
}
.fa-genderless:before {
  content: "\f22d";
}
.fa-facebook-official:before {
  content: "\f230";
}
.fa-pinterest-p:before {
  content: "\f231";
}
.fa-whatsapp:before {
  content: "\f232";
}
.fa-server:before {
  content: "\f233";
}
.fa-user-plus:before {
  content: "\f234";
}
.fa-user-times:before {
  content: "\f235";
}
.fa-hotel:before,
.fa-bed:before {
  content: "\f236";
}
.fa-viacoin:before {
  content: "\f237";
}
.fa-train:before {
  content: "\f238";
}
.fa-subway:before {
  content: "\f239";
}
.fa-medium:before {
  content: "\f23a";
}
.fa-yc:before,
.fa-y-combinator:before {
  content: "\f23b";
}
.fa-optin-monster:before {
  content: "\f23c";
}
.fa-opencart:before {
  content: "\f23d";
}
.fa-expeditedssl:before {
  content: "\f23e";
}
.fa-battery-4:before,
.fa-battery:before,
.fa-battery-full:before {
  content: "\f240";
}
.fa-battery-3:before,
.fa-battery-three-quarters:before {
  content: "\f241";
}
.fa-battery-2:before,
.fa-battery-half:before {
  content: "\f242";
}
.fa-battery-1:before,
.fa-battery-quarter:before {
  content: "\f243";
}
.fa-battery-0:before,
.fa-battery-empty:before {
  content: "\f244";
}
.fa-mouse-pointer:before {
  content: "\f245";
}
.fa-i-cursor:before {
  content: "\f246";
}
.fa-object-group:before {
  content: "\f247";
}
.fa-object-ungroup:before {
  content: "\f248";
}
.fa-sticky-note:before {
  content: "\f249";
}
.fa-sticky-note-o:before {
  content: "\f24a";
}
.fa-cc-jcb:before {
  content: "\f24b";
}
.fa-cc-diners-club:before {
  content: "\f24c";
}
.fa-clone:before {
  content: "\f24d";
}
.fa-balance-scale:before {
  content: "\f24e";
}
.fa-hourglass-o:before {
  content: "\f250";
}
.fa-hourglass-1:before,
.fa-hourglass-start:before {
  content: "\f251";
}
.fa-hourglass-2:before,
.fa-hourglass-half:before {
  content: "\f252";
}
.fa-hourglass-3:before,
.fa-hourglass-end:before {
  content: "\f253";
}
.fa-hourglass:before {
  content: "\f254";
}
.fa-hand-grab-o:before,
.fa-hand-rock-o:before {
  content: "\f255";
}
.fa-hand-stop-o:before,
.fa-hand-paper-o:before {
  content: "\f256";
}
.fa-hand-scissors-o:before {
  content: "\f257";
}
.fa-hand-lizard-o:before {
  content: "\f258";
}
.fa-hand-spock-o:before {
  content: "\f259";
}
.fa-hand-pointer-o:before {
  content: "\f25a";
}
.fa-hand-peace-o:before {
  content: "\f25b";
}
.fa-trademark:before {
  content: "\f25c";
}
.fa-registered:before {
  content: "\f25d";
}
.fa-creative-commons:before {
  content: "\f25e";
}
.fa-gg:before {
  content: "\f260";
}
.fa-gg-circle:before {
  content: "\f261";
}
.fa-tripadvisor:before {
  content: "\f262";
}
.fa-odnoklassniki:before {
  content: "\f263";
}
.fa-odnoklassniki-square:before {
  content: "\f264";
}
.fa-get-pocket:before {
  content: "\f265";
}
.fa-wikipedia-w:before {
  content: "\f266";
}
.fa-safari:before {
  content: "\f267";
}
.fa-chrome:before {
  content: "\f268";
}
.fa-firefox:before {
  content: "\f269";
}
.fa-opera:before {
  content: "\f26a";
}
.fa-internet-explorer:before {
  content: "\f26b";
}
.fa-tv:before,
.fa-television:before {
  content: "\f26c";
}
.fa-contao:before {
  content: "\f26d";
}
.fa-500px:before {
  content: "\f26e";
}
.fa-amazon:before {
  content: "\f270";
}
.fa-calendar-plus-o:before {
  content: "\f271";
}
.fa-calendar-minus-o:before {
  content: "\f272";
}
.fa-calendar-times-o:before {
  content: "\f273";
}
.fa-calendar-check-o:before {
  content: "\f274";
}
.fa-industry:before {
  content: "\f275";
}
.fa-map-pin:before {
  content: "\f276";
}
.fa-map-signs:before {
  content: "\f277";
}
.fa-map-o:before {
  content: "\f278";
}
.fa-map:before {
  content: "\f279";
}
.fa-commenting:before {
  content: "\f27a";
}
.fa-commenting-o:before {
  content: "\f27b";
}
.fa-houzz:before {
  content: "\f27c";
}
.fa-vimeo:before {
  content: "\f27d";
}
.fa-black-tie:before {
  content: "\f27e";
}
.fa-fonticons:before {
  content: "\f280";
}
.fa-reddit-alien:before {
  content: "\f281";
}
.fa-edge:before {
  content: "\f282";
}
.fa-credit-card-alt:before {
  content: "\f283";
}
.fa-codiepie:before {
  content: "\f284";
}
.fa-modx:before {
  content: "\f285";
}
.fa-fort-awesome:before {
  content: "\f286";
}
.fa-usb:before {
  content: "\f287";
}
.fa-product-hunt:before {
  content: "\f288";
}
.fa-mixcloud:before {
  content: "\f289";
}
.fa-scribd:before {
  content: "\f28a";
}
.fa-pause-circle:before {
  content: "\f28b";
}
.fa-pause-circle-o:before {
  content: "\f28c";
}
.fa-stop-circle:before {
  content: "\f28d";
}
.fa-stop-circle-o:before {
  content: "\f28e";
}
.fa-shopping-bag:before {
  content: "\f290";
}
.fa-shopping-basket:before {
  content: "\f291";
}
.fa-hashtag:before {
  content: "\f292";
}
.fa-bluetooth:before {
  content: "\f293";
}
.fa-bluetooth-b:before {
  content: "\f294";
}
.fa-percent:before {
  content: "\f295";
}
.fa-gitlab:before {
  content: "\f296";
}
.fa-wpbeginner:before {
  content: "\f297";
}
.fa-wpforms:before {
  content: "\f298";
}
.fa-envira:before {
  content: "\f299";
}
.fa-universal-access:before {
  content: "\f29a";
}
.fa-wheelchair-alt:before {
  content: "\f29b";
}
.fa-question-circle-o:before {
  content: "\f29c";
}
.fa-blind:before {
  content: "\f29d";
}
.fa-audio-description:before {
  content: "\f29e";
}
.fa-volume-control-phone:before {
  content: "\f2a0";
}
.fa-braille:before {
  content: "\f2a1";
}
.fa-assistive-listening-systems:before {
  content: "\f2a2";
}
.fa-asl-interpreting:before,
.fa-american-sign-language-interpreting:before {
  content: "\f2a3";
}
.fa-deafness:before,
.fa-hard-of-hearing:before,
.fa-deaf:before {
  content: "\f2a4";
}
.fa-glide:before {
  content: "\f2a5";
}
.fa-glide-g:before {
  content: "\f2a6";
}
.fa-signing:before,
.fa-sign-language:before {
  content: "\f2a7";
}
.fa-low-vision:before {
  content: "\f2a8";
}
.fa-viadeo:before {
  content: "\f2a9";
}
.fa-viadeo-square:before {
  content: "\f2aa";
}
.fa-snapchat:before {
  content: "\f2ab";
}
.fa-snapchat-ghost:before {
  content: "\f2ac";
}
.fa-snapchat-square:before {
  content: "\f2ad";
}
.fa-pied-piper:before {
  content: "\f2ae";
}
.fa-first-order:before {
  content: "\f2b0";
}
.fa-yoast:before {
  content: "\f2b1";
}
.fa-themeisle:before {
  content: "\f2b2";
}
.fa-google-plus-circle:before,
.fa-google-plus-official:before {
  content: "\f2b3";
}
.fa-fa:before,
.fa-font-awesome:before {
  content: "\f2b4";
}
.fa-handshake-o:before {
  content: "\f2b5";
}
.fa-envelope-open:before {
  content: "\f2b6";
}
.fa-envelope-open-o:before {
  content: "\f2b7";
}
.fa-linode:before {
  content: "\f2b8";
}
.fa-address-book:before {
  content: "\f2b9";
}
.fa-address-book-o:before {
  content: "\f2ba";
}
.fa-vcard:before,
.fa-address-card:before {
  content: "\f2bb";
}
.fa-vcard-o:before,
.fa-address-card-o:before {
  content: "\f2bc";
}
.fa-user-circle:before {
  content: "\f2bd";
}
.fa-user-circle-o:before {
  content: "\f2be";
}
.fa-user-o:before {
  content: "\f2c0";
}
.fa-id-badge:before {
  content: "\f2c1";
}
.fa-drivers-license:before,
.fa-id-card:before {
  content: "\f2c2";
}
.fa-drivers-license-o:before,
.fa-id-card-o:before {
  content: "\f2c3";
}
.fa-quora:before {
  content: "\f2c4";
}
.fa-free-code-camp:before {
  content: "\f2c5";
}
.fa-telegram:before {
  content: "\f2c6";
}
.fa-thermometer-4:before,
.fa-thermometer:before,
.fa-thermometer-full:before {
  content: "\f2c7";
}
.fa-thermometer-3:before,
.fa-thermometer-three-quarters:before {
  content: "\f2c8";
}
.fa-thermometer-2:before,
.fa-thermometer-half:before {
  content: "\f2c9";
}
.fa-thermometer-1:before,
.fa-thermometer-quarter:before {
  content: "\f2ca";
}
.fa-thermometer-0:before,
.fa-thermometer-empty:before {
  content: "\f2cb";
}
.fa-shower:before {
  content: "\f2cc";
}
.fa-bathtub:before,
.fa-s15:before,
.fa-bath:before {
  content: "\f2cd";
}
.fa-podcast:before {
  content: "\f2ce";
}
.fa-window-maximize:before {
  content: "\f2d0";
}
.fa-window-minimize:before {
  content: "\f2d1";
}
.fa-window-restore:before {
  content: "\f2d2";
}
.fa-times-rectangle:before,
.fa-window-close:before {
  content: "\f2d3";
}
.fa-times-rectangle-o:before,
.fa-window-close-o:before {
  content: "\f2d4";
}
.fa-bandcamp:before {
  content: "\f2d5";
}
.fa-grav:before {
  content: "\f2d6";
}
.fa-etsy:before {
  content: "\f2d7";
}
.fa-imdb:before {
  content: "\f2d8";
}
.fa-ravelry:before {
  content: "\f2d9";
}
.fa-eercast:before {
  content: "\f2da";
}
.fa-microchip:before {
  content: "\f2db";
}
.fa-snowflake-o:before {
  content: "\f2dc";
}
.fa-superpowers:before {
  content: "\f2dd";
}
.fa-wpexplorer:before {
  content: "\f2de";
}
.fa-meetup:before {
  content: "\f2e0";
}
.sr-only {
  position: absolute;
  width: 1px;
  height: 1px;
  padding: 0;
  margin: -1px;
  overflow: hidden;
  clip: rect(0, 0, 0, 0);
  border: 0;
}
.sr-only-focusable:active,
.sr-only-focusable:focus {
  position: static;
  width: auto;
  height: auto;
  margin: 0;
  overflow: visible;
  clip: auto;
}
.sr-only-focusable:active,
.sr-only-focusable:focus {
  position: static;
  width: auto;
  height: auto;
  margin: 0;
  overflow: visible;
  clip: auto;
}
/*!
*
* IPython base
*
*/
.modal.fade .modal-dialog {
  -webkit-transform: translate(0, 0);
  -ms-transform: translate(0, 0);
  -o-transform: translate(0, 0);
  transform: translate(0, 0);
}
code {
  color: #000;
}
pre {
  font-size: inherit;
  line-height: inherit;
}
label {
  font-weight: normal;
}
/* Make the page background atleast 100% the height of the view port */
/* Make the page itself atleast 70% the height of the view port */
.border-box-sizing {
  box-sizing: border-box;
  -moz-box-sizing: border-box;
  -webkit-box-sizing: border-box;
}
.corner-all {
  border-radius: 2px;
}
.no-padding {
  padding: 0px;
}
/* Flexible box model classes */
/* Taken from Alex Russell http://infrequently.org/2009/08/css-3-progress/ */
/* This file is a compatability layer.  It allows the usage of flexible box 
model layouts accross multiple browsers, including older browsers.  The newest,
universal implementation of the flexible box model is used when available (see
`Modern browsers` comments below).  Browsers that are known to implement this 
new spec completely include:

    Firefox 28.0+
    Chrome 29.0+
    Internet Explorer 11+ 
    Opera 17.0+

Browsers not listed, including Safari, are supported via the styling under the
`Old browsers` comments below.
*/
.hbox {
  /* Old browsers */
  display: -webkit-box;
  -webkit-box-orient: horizontal;
  -webkit-box-align: stretch;
  display: -moz-box;
  -moz-box-orient: horizontal;
  -moz-box-align: stretch;
  display: box;
  box-orient: horizontal;
  box-align: stretch;
  /* Modern browsers */
  display: flex;
  flex-direction: row;
  align-items: stretch;
}
.hbox > * {
  /* Old browsers */
  -webkit-box-flex: 0;
  -moz-box-flex: 0;
  box-flex: 0;
  /* Modern browsers */
  flex: none;
}
.vbox {
  /* Old browsers */
  display: -webkit-box;
  -webkit-box-orient: vertical;
  -webkit-box-align: stretch;
  display: -moz-box;
  -moz-box-orient: vertical;
  -moz-box-align: stretch;
  display: box;
  box-orient: vertical;
  box-align: stretch;
  /* Modern browsers */
  display: flex;
  flex-direction: column;
  align-items: stretch;
}
.vbox > * {
  /* Old browsers */
  -webkit-box-flex: 0;
  -moz-box-flex: 0;
  box-flex: 0;
  /* Modern browsers */
  flex: none;
}
.hbox.reverse,
.vbox.reverse,
.reverse {
  /* Old browsers */
  -webkit-box-direction: reverse;
  -moz-box-direction: reverse;
  box-direction: reverse;
  /* Modern browsers */
  flex-direction: row-reverse;
}
.hbox.box-flex0,
.vbox.box-flex0,
.box-flex0 {
  /* Old browsers */
  -webkit-box-flex: 0;
  -moz-box-flex: 0;
  box-flex: 0;
  /* Modern browsers */
  flex: none;
  width: auto;
}
.hbox.box-flex1,
.vbox.box-flex1,
.box-flex1 {
  /* Old browsers */
  -webkit-box-flex: 1;
  -moz-box-flex: 1;
  box-flex: 1;
  /* Modern browsers */
  flex: 1;
}
.hbox.box-flex,
.vbox.box-flex,
.box-flex {
  /* Old browsers */
  /* Old browsers */
  -webkit-box-flex: 1;
  -moz-box-flex: 1;
  box-flex: 1;
  /* Modern browsers */
  flex: 1;
}
.hbox.box-flex2,
.vbox.box-flex2,
.box-flex2 {
  /* Old browsers */
  -webkit-box-flex: 2;
  -moz-box-flex: 2;
  box-flex: 2;
  /* Modern browsers */
  flex: 2;
}
.box-group1 {
  /*  Deprecated */
  -webkit-box-flex-group: 1;
  -moz-box-flex-group: 1;
  box-flex-group: 1;
}
.box-group2 {
  /* Deprecated */
  -webkit-box-flex-group: 2;
  -moz-box-flex-group: 2;
  box-flex-group: 2;
}
.hbox.start,
.vbox.start,
.start {
  /* Old browsers */
  -webkit-box-pack: start;
  -moz-box-pack: start;
  box-pack: start;
  /* Modern browsers */
  justify-content: flex-start;
}
.hbox.end,
.vbox.end,
.end {
  /* Old browsers */
  -webkit-box-pack: end;
  -moz-box-pack: end;
  box-pack: end;
  /* Modern browsers */
  justify-content: flex-end;
}
.hbox.center,
.vbox.center,
.center {
  /* Old browsers */
  -webkit-box-pack: center;
  -moz-box-pack: center;
  box-pack: center;
  /* Modern browsers */
  justify-content: center;
}
.hbox.baseline,
.vbox.baseline,
.baseline {
  /* Old browsers */
  -webkit-box-pack: baseline;
  -moz-box-pack: baseline;
  box-pack: baseline;
  /* Modern browsers */
  justify-content: baseline;
}
.hbox.stretch,
.vbox.stretch,
.stretch {
  /* Old browsers */
  -webkit-box-pack: stretch;
  -moz-box-pack: stretch;
  box-pack: stretch;
  /* Modern browsers */
  justify-content: stretch;
}
.hbox.align-start,
.vbox.align-start,
.align-start {
  /* Old browsers */
  -webkit-box-align: start;
  -moz-box-align: start;
  box-align: start;
  /* Modern browsers */
  align-items: flex-start;
}
.hbox.align-end,
.vbox.align-end,
.align-end {
  /* Old browsers */
  -webkit-box-align: end;
  -moz-box-align: end;
  box-align: end;
  /* Modern browsers */
  align-items: flex-end;
}
.hbox.align-center,
.vbox.align-center,
.align-center {
  /* Old browsers */
  -webkit-box-align: center;
  -moz-box-align: center;
  box-align: center;
  /* Modern browsers */
  align-items: center;
}
.hbox.align-baseline,
.vbox.align-baseline,
.align-baseline {
  /* Old browsers */
  -webkit-box-align: baseline;
  -moz-box-align: baseline;
  box-align: baseline;
  /* Modern browsers */
  align-items: baseline;
}
.hbox.align-stretch,
.vbox.align-stretch,
.align-stretch {
  /* Old browsers */
  -webkit-box-align: stretch;
  -moz-box-align: stretch;
  box-align: stretch;
  /* Modern browsers */
  align-items: stretch;
}
div.error {
  margin: 2em;
  text-align: center;
}
div.error > h1 {
  font-size: 500%;
  line-height: normal;
}
div.error > p {
  font-size: 200%;
  line-height: normal;
}
div.traceback-wrapper {
  text-align: left;
  max-width: 800px;
  margin: auto;
}
div.traceback-wrapper pre.traceback {
  max-height: 600px;
  overflow: auto;
}
/**
 * Primary styles
 *
 * Author: Jupyter Development Team
 */
body {
  background-color: #fff;
  /* This makes sure that the body covers the entire window and needs to
       be in a different element than the display: box in wrapper below */
  position: absolute;
  left: 0px;
  right: 0px;
  top: 0px;
  bottom: 0px;
  overflow: visible;
}
body > #header {
  /* Initially hidden to prevent FLOUC */
  display: none;
  background-color: #fff;
  /* Display over codemirror */
  position: relative;
  z-index: 100;
}
body > #header #header-container {
  display: flex;
  flex-direction: row;
  justify-content: space-between;
  padding: 5px;
  padding-bottom: 5px;
  padding-top: 5px;
  box-sizing: border-box;
  -moz-box-sizing: border-box;
  -webkit-box-sizing: border-box;
}
body > #header .header-bar {
  width: 100%;
  height: 1px;
  background: #e7e7e7;
  margin-bottom: -1px;
}
@media print {
  body > #header {
    display: none !important;
  }
}
#header-spacer {
  width: 100%;
  visibility: hidden;
}
@media print {
  #header-spacer {
    display: none;
  }
}
#ipython_notebook {
  padding-left: 0px;
  padding-top: 1px;
  padding-bottom: 1px;
}
[dir="rtl"] #ipython_notebook {
  margin-right: 10px;
  margin-left: 0;
}
[dir="rtl"] #ipython_notebook.pull-left {
  float: right !important;
  float: right;
}
.flex-spacer {
  flex: 1;
}
#noscript {
  width: auto;
  padding-top: 16px;
  padding-bottom: 16px;
  text-align: center;
  font-size: 22px;
  color: red;
  font-weight: bold;
}
#ipython_notebook img {
  height: 28px;
}
#site {
  width: 100%;
  display: none;
  box-sizing: border-box;
  -moz-box-sizing: border-box;
  -webkit-box-sizing: border-box;
  overflow: auto;
}
@media print {
  #site {
    height: auto !important;
  }
}
/* Smaller buttons */
.ui-button .ui-button-text {
  padding: 0.2em 0.8em;
  font-size: 77%;
}
input.ui-button {
  padding: 0.3em 0.9em;
}
span#kernel_logo_widget {
  margin: 0 10px;
}
span#login_widget {
  float: right;
}
[dir="rtl"] span#login_widget {
  float: left;
}
span#login_widget > .button,
#logout {
  color: #333;
  background-color: #fff;
  border-color: #ccc;
}
span#login_widget > .button:focus,
#logout:focus,
span#login_widget > .button.focus,
#logout.focus {
  color: #333;
  background-color: #e6e6e6;
  border-color: #8c8c8c;
}
span#login_widget > .button:hover,
#logout:hover {
  color: #333;
  background-color: #e6e6e6;
  border-color: #adadad;
}
span#login_widget > .button:active,
#logout:active,
span#login_widget > .button.active,
#logout.active,
.open > .dropdown-togglespan#login_widget > .button,
.open > .dropdown-toggle#logout {
  color: #333;
  background-color: #e6e6e6;
  border-color: #adadad;
}
span#login_widget > .button:active:hover,
#logout:active:hover,
span#login_widget > .button.active:hover,
#logout.active:hover,
.open > .dropdown-togglespan#login_widget > .button:hover,
.open > .dropdown-toggle#logout:hover,
span#login_widget > .button:active:focus,
#logout:active:focus,
span#login_widget > .button.active:focus,
#logout.active:focus,
.open > .dropdown-togglespan#login_widget > .button:focus,
.open > .dropdown-toggle#logout:focus,
span#login_widget > .button:active.focus,
#logout:active.focus,
span#login_widget > .button.active.focus,
#logout.active.focus,
.open > .dropdown-togglespan#login_widget > .button.focus,
.open > .dropdown-toggle#logout.focus {
  color: #333;
  background-color: #d4d4d4;
  border-color: #8c8c8c;
}
span#login_widget > .button:active,
#logout:active,
span#login_widget > .button.active,
#logout.active,
.open > .dropdown-togglespan#login_widget > .button,
.open > .dropdown-toggle#logout {
  background-image: none;
}
span#login_widget > .button.disabled:hover,
#logout.disabled:hover,
span#login_widget > .button[disabled]:hover,
#logout[disabled]:hover,
fieldset[disabled] span#login_widget > .button:hover,
fieldset[disabled] #logout:hover,
span#login_widget > .button.disabled:focus,
#logout.disabled:focus,
span#login_widget > .button[disabled]:focus,
#logout[disabled]:focus,
fieldset[disabled] span#login_widget > .button:focus,
fieldset[disabled] #logout:focus,
span#login_widget > .button.disabled.focus,
#logout.disabled.focus,
span#login_widget > .button[disabled].focus,
#logout[disabled].focus,
fieldset[disabled] span#login_widget > .button.focus,
fieldset[disabled] #logout.focus {
  background-color: #fff;
  border-color: #ccc;
}
span#login_widget > .button .badge,
#logout .badge {
  color: #fff;
  background-color: #333;
}
.nav-header {
  text-transform: none;
}
#header > span {
  margin-top: 10px;
}
.modal_stretch .modal-dialog {
  /* Old browsers */
  display: -webkit-box;
  -webkit-box-orient: vertical;
  -webkit-box-align: stretch;
  display: -moz-box;
  -moz-box-orient: vertical;
  -moz-box-align: stretch;
  display: box;
  box-orient: vertical;
  box-align: stretch;
  /* Modern browsers */
  display: flex;
  flex-direction: column;
  align-items: stretch;
  min-height: 80vh;
}
.modal_stretch .modal-dialog .modal-body {
  max-height: calc(100vh - 200px);
  overflow: auto;
  flex: 1;
}
.modal-header {
  cursor: move;
}
@media (min-width: 768px) {
  .modal .modal-dialog {
    width: 700px;
  }
}
@media (min-width: 768px) {
  select.form-control {
    margin-left: 12px;
    margin-right: 12px;
  }
}
/*!
*
* IPython auth
*
*/
.center-nav {
  display: inline-block;
  margin-bottom: -4px;
}
[dir="rtl"] .center-nav form.pull-left {
  float: right !important;
  float: right;
}
[dir="rtl"] .center-nav .navbar-text {
  float: right;
}
[dir="rtl"] .navbar-inner {
  text-align: right;
}
[dir="rtl"] div.text-left {
  text-align: right;
}
/*!
*
* IPython tree view
*
*/
/* We need an invisible input field on top of the sentense*/
/* "Drag file onto the list ..." */
.alternate_upload {
  background-color: none;
  display: inline;
}
.alternate_upload.form {
  padding: 0;
  margin: 0;
}
.alternate_upload input.fileinput {
  position: absolute;
  display: block;
  width: 100%;
  height: 100%;
  overflow: hidden;
  cursor: pointer;
  opacity: 0;
  z-index: 2;
}
.alternate_upload .btn-xs > input.fileinput {
  margin: -1px -5px;
}
.alternate_upload .btn-upload {
  position: relative;
  height: 22px;
}
::-webkit-file-upload-button {
  cursor: pointer;
}
/**
 * Primary styles
 *
 * Author: Jupyter Development Team
 */
ul#tabs {
  margin-bottom: 4px;
}
ul#tabs a {
  padding-top: 6px;
  padding-bottom: 4px;
}
[dir="rtl"] ul#tabs.nav-tabs > li {
  float: right;
}
[dir="rtl"] ul#tabs.nav.nav-tabs {
  padding-right: 0;
}
ul.breadcrumb a:focus,
ul.breadcrumb a:hover {
  text-decoration: none;
}
ul.breadcrumb i.icon-home {
  font-size: 16px;
  margin-right: 4px;
}
ul.breadcrumb span {
  color: #5e5e5e;
}
.list_toolbar {
  padding: 4px 0 4px 0;
  vertical-align: middle;
}
.list_toolbar .tree-buttons {
  padding-top: 1px;
}
[dir="rtl"] .list_toolbar .tree-buttons .pull-right {
  float: left !important;
  float: left;
}
[dir="rtl"] .list_toolbar .col-sm-4,
[dir="rtl"] .list_toolbar .col-sm-8 {
  float: right;
}
.dynamic-buttons {
  padding-top: 3px;
  display: inline-block;
}
.list_toolbar [class*="span"] {
  min-height: 24px;
}
.list_header {
  font-weight: bold;
  background-color: #EEE;
}
.list_placeholder {
  font-weight: bold;
  padding-top: 4px;
  padding-bottom: 4px;
  padding-left: 7px;
  padding-right: 7px;
}
.list_container {
  margin-top: 4px;
  margin-bottom: 20px;
  border: 1px solid #ddd;
  border-radius: 2px;
}
.list_container > div {
  border-bottom: 1px solid #ddd;
}
.list_container > div:hover .list-item {
  background-color: red;
}
.list_container > div:last-child {
  border: none;
}
.list_item:hover .list_item {
  background-color: #ddd;
}
.list_item a {
  text-decoration: none;
}
.list_item:hover {
  background-color: #fafafa;
}
.list_header > div,
.list_item > div {
  padding-top: 4px;
  padding-bottom: 4px;
  padding-left: 7px;
  padding-right: 7px;
  line-height: 22px;
}
.list_header > div input,
.list_item > div input {
  margin-right: 7px;
  margin-left: 14px;
  vertical-align: text-bottom;
  line-height: 22px;
  position: relative;
  top: -1px;
}
.list_header > div .item_link,
.list_item > div .item_link {
  margin-left: -1px;
  vertical-align: baseline;
  line-height: 22px;
}
[dir="rtl"] .list_item > div input {
  margin-right: 0;
}
.new-file input[type=checkbox] {
  visibility: hidden;
}
.item_name {
  line-height: 22px;
  height: 24px;
}
.item_icon {
  font-size: 14px;
  color: #5e5e5e;
  margin-right: 7px;
  margin-left: 7px;
  line-height: 22px;
  vertical-align: baseline;
}
.item_modified {
  margin-right: 7px;
  margin-left: 7px;
}
[dir="rtl"] .item_modified.pull-right {
  float: left !important;
  float: left;
}
.item_buttons {
  line-height: 1em;
  margin-left: -5px;
}
.item_buttons .btn,
.item_buttons .btn-group,
.item_buttons .input-group {
  float: left;
}
.item_buttons > .btn,
.item_buttons > .btn-group,
.item_buttons > .input-group {
  margin-left: 5px;
}
.item_buttons .btn {
  min-width: 13ex;
}
.item_buttons .running-indicator {
  padding-top: 4px;
  color: #5cb85c;
}
.item_buttons .kernel-name {
  padding-top: 4px;
  color: #5bc0de;
  margin-right: 7px;
  float: left;
}
[dir="rtl"] .item_buttons.pull-right {
  float: left !important;
  float: left;
}
[dir="rtl"] .item_buttons .kernel-name {
  margin-left: 7px;
  float: right;
}
.toolbar_info {
  height: 24px;
  line-height: 24px;
}
.list_item input:not([type=checkbox]) {
  padding-top: 3px;
  padding-bottom: 3px;
  height: 22px;
  line-height: 14px;
  margin: 0px;
}
.highlight_text {
  color: blue;
}
#project_name {
  display: inline-block;
  padding-left: 7px;
  margin-left: -2px;
}
#project_name > .breadcrumb {
  padding: 0px;
  margin-bottom: 0px;
  background-color: transparent;
  font-weight: bold;
}
.sort_button {
  display: inline-block;
  padding-left: 7px;
}
[dir="rtl"] .sort_button.pull-right {
  float: left !important;
  float: left;
}
#tree-selector {
  padding-right: 0px;
}
#button-select-all {
  min-width: 50px;
}
[dir="rtl"] #button-select-all.btn {
  float: right ;
}
#select-all {
  margin-left: 7px;
  margin-right: 2px;
  margin-top: 2px;
  height: 16px;
}
[dir="rtl"] #select-all.pull-left {
  float: right !important;
  float: right;
}
.menu_icon {
  margin-right: 2px;
}
.tab-content .row {
  margin-left: 0px;
  margin-right: 0px;
}
.folder_icon:before {
  display: inline-block;
  font: normal normal normal 14px/1 FontAwesome;
  font-size: inherit;
  text-rendering: auto;
  -webkit-font-smoothing: antialiased;
  -moz-osx-font-smoothing: grayscale;
  content: "\f114";
}
.folder_icon:before.fa-pull-left {
  margin-right: .3em;
}
.folder_icon:before.fa-pull-right {
  margin-left: .3em;
}
.folder_icon:before.pull-left {
  margin-right: .3em;
}
.folder_icon:before.pull-right {
  margin-left: .3em;
}
.notebook_icon:before {
  display: inline-block;
  font: normal normal normal 14px/1 FontAwesome;
  font-size: inherit;
  text-rendering: auto;
  -webkit-font-smoothing: antialiased;
  -moz-osx-font-smoothing: grayscale;
  content: "\f02d";
  position: relative;
  top: -1px;
}
.notebook_icon:before.fa-pull-left {
  margin-right: .3em;
}
.notebook_icon:before.fa-pull-right {
  margin-left: .3em;
}
.notebook_icon:before.pull-left {
  margin-right: .3em;
}
.notebook_icon:before.pull-right {
  margin-left: .3em;
}
.running_notebook_icon:before {
  display: inline-block;
  font: normal normal normal 14px/1 FontAwesome;
  font-size: inherit;
  text-rendering: auto;
  -webkit-font-smoothing: antialiased;
  -moz-osx-font-smoothing: grayscale;
  content: "\f02d";
  position: relative;
  top: -1px;
  color: #5cb85c;
}
.running_notebook_icon:before.fa-pull-left {
  margin-right: .3em;
}
.running_notebook_icon:before.fa-pull-right {
  margin-left: .3em;
}
.running_notebook_icon:before.pull-left {
  margin-right: .3em;
}
.running_notebook_icon:before.pull-right {
  margin-left: .3em;
}
.file_icon:before {
  display: inline-block;
  font: normal normal normal 14px/1 FontAwesome;
  font-size: inherit;
  text-rendering: auto;
  -webkit-font-smoothing: antialiased;
  -moz-osx-font-smoothing: grayscale;
  content: "\f016";
  position: relative;
  top: -2px;
}
.file_icon:before.fa-pull-left {
  margin-right: .3em;
}
.file_icon:before.fa-pull-right {
  margin-left: .3em;
}
.file_icon:before.pull-left {
  margin-right: .3em;
}
.file_icon:before.pull-right {
  margin-left: .3em;
}
#notebook_toolbar .pull-right {
  padding-top: 0px;
  margin-right: -1px;
}
ul#new-menu {
  left: auto;
  right: 0;
}
#new-menu .dropdown-header {
  font-size: 10px;
  border-bottom: 1px solid #e5e5e5;
  padding: 0 0 3px;
  margin: -3px 20px 0;
}
.kernel-menu-icon {
  padding-right: 12px;
  width: 24px;
  content: "\f096";
}
.kernel-menu-icon:before {
  content: "\f096";
}
.kernel-menu-icon-current:before {
  content: "\f00c";
}
#tab_content {
  padding-top: 20px;
}
#running .panel-group .panel {
  margin-top: 3px;
  margin-bottom: 1em;
}
#running .panel-group .panel .panel-heading {
  background-color: #EEE;
  padding-top: 4px;
  padding-bottom: 4px;
  padding-left: 7px;
  padding-right: 7px;
  line-height: 22px;
}
#running .panel-group .panel .panel-heading a:focus,
#running .panel-group .panel .panel-heading a:hover {
  text-decoration: none;
}
#running .panel-group .panel .panel-body {
  padding: 0px;
}
#running .panel-group .panel .panel-body .list_container {
  margin-top: 0px;
  margin-bottom: 0px;
  border: 0px;
  border-radius: 0px;
}
#running .panel-group .panel .panel-body .list_container .list_item {
  border-bottom: 1px solid #ddd;
}
#running .panel-group .panel .panel-body .list_container .list_item:last-child {
  border-bottom: 0px;
}
.delete-button {
  display: none;
}
.duplicate-button {
  display: none;
}
.rename-button {
  display: none;
}
.move-button {
  display: none;
}
.download-button {
  display: none;
}
.shutdown-button {
  display: none;
}
.dynamic-instructions {
  display: inline-block;
  padding-top: 4px;
}
/*!
*
* IPython text editor webapp
*
*/
.selected-keymap i.fa {
  padding: 0px 5px;
}
.selected-keymap i.fa:before {
  content: "\f00c";
}
#mode-menu {
  overflow: auto;
  max-height: 20em;
}
.edit_app #header {
  -webkit-box-shadow: 0px 0px 12px 1px rgba(87, 87, 87, 0.2);
  box-shadow: 0px 0px 12px 1px rgba(87, 87, 87, 0.2);
}
.edit_app #menubar .navbar {
  /* Use a negative 1 bottom margin, so the border overlaps the border of the
    header */
  margin-bottom: -1px;
}
.dirty-indicator {
  display: inline-block;
  font: normal normal normal 14px/1 FontAwesome;
  font-size: inherit;
  text-rendering: auto;
  -webkit-font-smoothing: antialiased;
  -moz-osx-font-smoothing: grayscale;
  width: 20px;
}
.dirty-indicator.fa-pull-left {
  margin-right: .3em;
}
.dirty-indicator.fa-pull-right {
  margin-left: .3em;
}
.dirty-indicator.pull-left {
  margin-right: .3em;
}
.dirty-indicator.pull-right {
  margin-left: .3em;
}
.dirty-indicator-dirty {
  display: inline-block;
  font: normal normal normal 14px/1 FontAwesome;
  font-size: inherit;
  text-rendering: auto;
  -webkit-font-smoothing: antialiased;
  -moz-osx-font-smoothing: grayscale;
  width: 20px;
}
.dirty-indicator-dirty.fa-pull-left {
  margin-right: .3em;
}
.dirty-indicator-dirty.fa-pull-right {
  margin-left: .3em;
}
.dirty-indicator-dirty.pull-left {
  margin-right: .3em;
}
.dirty-indicator-dirty.pull-right {
  margin-left: .3em;
}
.dirty-indicator-clean {
  display: inline-block;
  font: normal normal normal 14px/1 FontAwesome;
  font-size: inherit;
  text-rendering: auto;
  -webkit-font-smoothing: antialiased;
  -moz-osx-font-smoothing: grayscale;
  width: 20px;
}
.dirty-indicator-clean.fa-pull-left {
  margin-right: .3em;
}
.dirty-indicator-clean.fa-pull-right {
  margin-left: .3em;
}
.dirty-indicator-clean.pull-left {
  margin-right: .3em;
}
.dirty-indicator-clean.pull-right {
  margin-left: .3em;
}
.dirty-indicator-clean:before {
  display: inline-block;
  font: normal normal normal 14px/1 FontAwesome;
  font-size: inherit;
  text-rendering: auto;
  -webkit-font-smoothing: antialiased;
  -moz-osx-font-smoothing: grayscale;
  content: "\f00c";
}
.dirty-indicator-clean:before.fa-pull-left {
  margin-right: .3em;
}
.dirty-indicator-clean:before.fa-pull-right {
  margin-left: .3em;
}
.dirty-indicator-clean:before.pull-left {
  margin-right: .3em;
}
.dirty-indicator-clean:before.pull-right {
  margin-left: .3em;
}
#filename {
  font-size: 16pt;
  display: table;
  padding: 0px 5px;
}
#current-mode {
  padding-left: 5px;
  padding-right: 5px;
}
#texteditor-backdrop {
  padding-top: 20px;
  padding-bottom: 20px;
}
@media not print {
  #texteditor-backdrop {
    background-color: #EEE;
  }
}
@media print {
  #texteditor-backdrop #texteditor-container .CodeMirror-gutter,
  #texteditor-backdrop #texteditor-container .CodeMirror-gutters {
    background-color: #fff;
  }
}
@media not print {
  #texteditor-backdrop #texteditor-container .CodeMirror-gutter,
  #texteditor-backdrop #texteditor-container .CodeMirror-gutters {
    background-color: #fff;
  }
}
@media not print {
  #texteditor-backdrop #texteditor-container {
    padding: 0px;
    background-color: #fff;
    -webkit-box-shadow: 0px 0px 12px 1px rgba(87, 87, 87, 0.2);
    box-shadow: 0px 0px 12px 1px rgba(87, 87, 87, 0.2);
  }
}
.CodeMirror-dialog {
  background-color: #fff;
}
/*!
*
* IPython notebook
*
*/
/* CSS font colors for translated ANSI escape sequences */
/* The color values are a mix of
   http://www.xcolors.net/dl/baskerville-ivorylight and
   http://www.xcolors.net/dl/euphrasia */
.ansi-black-fg {
  color: #3E424D;
}
.ansi-black-bg {
  background-color: #3E424D;
}
.ansi-black-intense-fg {
  color: #282C36;
}
.ansi-black-intense-bg {
  background-color: #282C36;
}
.ansi-red-fg {
  color: #E75C58;
}
.ansi-red-bg {
  background-color: #E75C58;
}
.ansi-red-intense-fg {
  color: #B22B31;
}
.ansi-red-intense-bg {
  background-color: #B22B31;
}
.ansi-green-fg {
  color: #00A250;
}
.ansi-green-bg {
  background-color: #00A250;
}
.ansi-green-intense-fg {
  color: #007427;
}
.ansi-green-intense-bg {
  background-color: #007427;
}
.ansi-yellow-fg {
  color: #DDB62B;
}
.ansi-yellow-bg {
  background-color: #DDB62B;
}
.ansi-yellow-intense-fg {
  color: #B27D12;
}
.ansi-yellow-intense-bg {
  background-color: #B27D12;
}
.ansi-blue-fg {
  color: #208FFB;
}
.ansi-blue-bg {
  background-color: #208FFB;
}
.ansi-blue-intense-fg {
  color: #0065CA;
}
.ansi-blue-intense-bg {
  background-color: #0065CA;
}
.ansi-magenta-fg {
  color: #D160C4;
}
.ansi-magenta-bg {
  background-color: #D160C4;
}
.ansi-magenta-intense-fg {
  color: #A03196;
}
.ansi-magenta-intense-bg {
  background-color: #A03196;
}
.ansi-cyan-fg {
  color: #60C6C8;
}
.ansi-cyan-bg {
  background-color: #60C6C8;
}
.ansi-cyan-intense-fg {
  color: #258F8F;
}
.ansi-cyan-intense-bg {
  background-color: #258F8F;
}
.ansi-white-fg {
  color: #C5C1B4;
}
.ansi-white-bg {
  background-color: #C5C1B4;
}
.ansi-white-intense-fg {
  color: #A1A6B2;
}
.ansi-white-intense-bg {
  background-color: #A1A6B2;
}
.ansi-default-inverse-fg {
  color: #FFFFFF;
}
.ansi-default-inverse-bg {
  background-color: #000000;
}
.ansi-bold {
  font-weight: bold;
}
.ansi-underline {
  text-decoration: underline;
}
/* The following styles are deprecated an will be removed in a future version */
.ansibold {
  font-weight: bold;
}
.ansi-inverse {
  outline: 0.5px dotted;
}
/* use dark versions for foreground, to improve visibility */
.ansiblack {
  color: black;
}
.ansired {
  color: darkred;
}
.ansigreen {
  color: darkgreen;
}
.ansiyellow {
  color: #c4a000;
}
.ansiblue {
  color: darkblue;
}
.ansipurple {
  color: darkviolet;
}
.ansicyan {
  color: steelblue;
}
.ansigray {
  color: gray;
}
/* and light for background, for the same reason */
.ansibgblack {
  background-color: black;
}
.ansibgred {
  background-color: red;
}
.ansibggreen {
  background-color: green;
}
.ansibgyellow {
  background-color: yellow;
}
.ansibgblue {
  background-color: blue;
}
.ansibgpurple {
  background-color: magenta;
}
.ansibgcyan {
  background-color: cyan;
}
.ansibggray {
  background-color: gray;
}
div.cell {
  /* Old browsers */
  display: -webkit-box;
  -webkit-box-orient: vertical;
  -webkit-box-align: stretch;
  display: -moz-box;
  -moz-box-orient: vertical;
  -moz-box-align: stretch;
  display: box;
  box-orient: vertical;
  box-align: stretch;
  /* Modern browsers */
  display: flex;
  flex-direction: column;
  align-items: stretch;
  border-radius: 2px;
  box-sizing: border-box;
  -moz-box-sizing: border-box;
  -webkit-box-sizing: border-box;
  border-width: 1px;
  border-style: solid;
  border-color: transparent;
  width: 100%;
  padding: 5px;
  /* This acts as a spacer between cells, that is outside the border */
  margin: 0px;
  outline: none;
  position: relative;
  overflow: visible;
}
div.cell:before {
  position: absolute;
  display: block;
  top: -1px;
  left: -1px;
  width: 5px;
  height: calc(100% +  2px);
  content: '';
  background: transparent;
}
div.cell.jupyter-soft-selected {
  border-left-color: #E3F2FD;
  border-left-width: 1px;
  padding-left: 5px;
  border-right-color: #E3F2FD;
  border-right-width: 1px;
  background: #E3F2FD;
}
@media print {
  div.cell.jupyter-soft-selected {
    border-color: transparent;
  }
}
div.cell.selected,
div.cell.selected.jupyter-soft-selected {
  border-color: #ababab;
}
div.cell.selected:before,
div.cell.selected.jupyter-soft-selected:before {
  position: absolute;
  display: block;
  top: -1px;
  left: -1px;
  width: 5px;
  height: calc(100% +  2px);
  content: '';
  background: #42A5F5;
}
@media print {
  div.cell.selected,
  div.cell.selected.jupyter-soft-selected {
    border-color: transparent;
  }
}
.edit_mode div.cell.selected {
  border-color: #66BB6A;
}
.edit_mode div.cell.selected:before {
  position: absolute;
  display: block;
  top: -1px;
  left: -1px;
  width: 5px;
  height: calc(100% +  2px);
  content: '';
  background: #66BB6A;
}
@media print {
  .edit_mode div.cell.selected {
    border-color: transparent;
  }
}
.prompt {
  /* This needs to be wide enough for 3 digit prompt numbers: In[100]: */
  min-width: 14ex;
  /* This padding is tuned to match the padding on the CodeMirror editor. */
  padding: 0.4em;
  margin: 0px;
  font-family: monospace;
  text-align: right;
  /* This has to match that of the the CodeMirror class line-height below */
  line-height: 1.21429em;
  /* Don't highlight prompt number selection */
  -webkit-touch-callout: none;
  -webkit-user-select: none;
  -khtml-user-select: none;
  -moz-user-select: none;
  -ms-user-select: none;
  user-select: none;
  /* Use default cursor */
  cursor: default;
}
@media (max-width: 540px) {
  .prompt {
    text-align: left;
  }
}
div.inner_cell {
  min-width: 0;
  /* Old browsers */
  display: -webkit-box;
  -webkit-box-orient: vertical;
  -webkit-box-align: stretch;
  display: -moz-box;
  -moz-box-orient: vertical;
  -moz-box-align: stretch;
  display: box;
  box-orient: vertical;
  box-align: stretch;
  /* Modern browsers */
  display: flex;
  flex-direction: column;
  align-items: stretch;
  /* Old browsers */
  -webkit-box-flex: 1;
  -moz-box-flex: 1;
  box-flex: 1;
  /* Modern browsers */
  flex: 1;
}
/* input_area and input_prompt must match in top border and margin for alignment */
div.input_area {
  border: 1px solid #cfcfcf;
  border-radius: 2px;
  background: #f7f7f7;
  line-height: 1.21429em;
}
/* This is needed so that empty prompt areas can collapse to zero height when there
   is no content in the output_subarea and the prompt. The main purpose of this is
   to make sure that empty JavaScript output_subareas have no height. */
div.prompt:empty {
  padding-top: 0;
  padding-bottom: 0;
}
div.unrecognized_cell {
  padding: 5px 5px 5px 0px;
  /* Old browsers */
  display: -webkit-box;
  -webkit-box-orient: horizontal;
  -webkit-box-align: stretch;
  display: -moz-box;
  -moz-box-orient: horizontal;
  -moz-box-align: stretch;
  display: box;
  box-orient: horizontal;
  box-align: stretch;
  /* Modern browsers */
  display: flex;
  flex-direction: row;
  align-items: stretch;
}
div.unrecognized_cell .inner_cell {
  border-radius: 2px;
  padding: 5px;
  font-weight: bold;
  color: red;
  border: 1px solid #cfcfcf;
  background: #eaeaea;
}
div.unrecognized_cell .inner_cell a {
  color: inherit;
  text-decoration: none;
}
div.unrecognized_cell .inner_cell a:hover {
  color: inherit;
  text-decoration: none;
}
@media (max-width: 540px) {
  div.unrecognized_cell > div.prompt {
    display: none;
  }
}
div.code_cell {
  /* avoid page breaking on code cells when printing */
}
@media print {
  div.code_cell {
    page-break-inside: avoid;
  }
}
/* any special styling for code cells that are currently running goes here */
div.input {
  page-break-inside: avoid;
  /* Old browsers */
  display: -webkit-box;
  -webkit-box-orient: horizontal;
  -webkit-box-align: stretch;
  display: -moz-box;
  -moz-box-orient: horizontal;
  -moz-box-align: stretch;
  display: box;
  box-orient: horizontal;
  box-align: stretch;
  /* Modern browsers */
  display: flex;
  flex-direction: row;
  align-items: stretch;
}
@media (max-width: 540px) {
  div.input {
    /* Old browsers */
    display: -webkit-box;
    -webkit-box-orient: vertical;
    -webkit-box-align: stretch;
    display: -moz-box;
    -moz-box-orient: vertical;
    -moz-box-align: stretch;
    display: box;
    box-orient: vertical;
    box-align: stretch;
    /* Modern browsers */
    display: flex;
    flex-direction: column;
    align-items: stretch;
  }
}
/* input_area and input_prompt must match in top border and margin for alignment */
div.input_prompt {
  color: #303F9F;
  border-top: 1px solid transparent;
}
div.input_area > div.highlight {
  margin: 0.4em;
  border: none;
  padding: 0px;
  background-color: transparent;
}
div.input_area > div.highlight > pre {
  margin: 0px;
  border: none;
  padding: 0px;
  background-color: transparent;
}
/* The following gets added to the <head> if it is detected that the user has a
 * monospace font with inconsistent normal/bold/italic height.  See
 * notebookmain.js.  Such fonts will have keywords vertically offset with
 * respect to the rest of the text.  The user should select a better font.
 * See: https://github.com/ipython/ipython/issues/1503
 *
 * .CodeMirror span {
 *      vertical-align: bottom;
 * }
 */
.CodeMirror {
  line-height: 1.21429em;
  /* Changed from 1em to our global default */
  font-size: 14px;
  height: auto;
  /* Changed to auto to autogrow */
  background: none;
  /* Changed from white to allow our bg to show through */
}
.CodeMirror-scroll {
  /*  The CodeMirror docs are a bit fuzzy on if overflow-y should be hidden or visible.*/
  /*  We have found that if it is visible, vertical scrollbars appear with font size changes.*/
  overflow-y: hidden;
  overflow-x: auto;
}
.CodeMirror-lines {
  /* In CM2, this used to be 0.4em, but in CM3 it went to 4px. We need the em value because */
  /* we have set a different line-height and want this to scale with that. */
  /* Note that this should set vertical padding only, since CodeMirror assumes
       that horizontal padding will be set on CodeMirror pre */
  padding: 0.4em 0;
}
.CodeMirror-linenumber {
  padding: 0 8px 0 4px;
}
.CodeMirror-gutters {
  border-bottom-left-radius: 2px;
  border-top-left-radius: 2px;
}
.CodeMirror pre {
  /* In CM3 this went to 4px from 0 in CM2. This sets horizontal padding only,
    use .CodeMirror-lines for vertical */
  padding: 0 0.4em;
  border: 0;
  border-radius: 0;
}
.CodeMirror-cursor {
  border-left: 1.4px solid black;
}
@media screen and (min-width: 2138px) and (max-width: 4319px) {
  .CodeMirror-cursor {
    border-left: 2px solid black;
  }
}
@media screen and (min-width: 4320px) {
  .CodeMirror-cursor {
    border-left: 4px solid black;
  }
}
/*

Original style from softwaremaniacs.org (c) Ivan Sagalaev <Maniac@SoftwareManiacs.Org>
Adapted from GitHub theme

*/
.highlight-base {
  color: #000;
}
.highlight-variable {
  color: #000;
}
.highlight-variable-2 {
  color: #1a1a1a;
}
.highlight-variable-3 {
  color: #333333;
}
.highlight-string {
  color: #BA2121;
}
.highlight-comment {
  color: #408080;
  font-style: italic;
}
.highlight-number {
  color: #080;
}
.highlight-atom {
  color: #88F;
}
.highlight-keyword {
  color: #008000;
  font-weight: bold;
}
.highlight-builtin {
  color: #008000;
}
.highlight-error {
  color: #f00;
}
.highlight-operator {
  color: #AA22FF;
  font-weight: bold;
}
.highlight-meta {
  color: #AA22FF;
}
/* previously not defined, copying from default codemirror */
.highlight-def {
  color: #00f;
}
.highlight-string-2 {
  color: #f50;
}
.highlight-qualifier {
  color: #555;
}
.highlight-bracket {
  color: #997;
}
.highlight-tag {
  color: #170;
}
.highlight-attribute {
  color: #00c;
}
.highlight-header {
  color: blue;
}
.highlight-quote {
  color: #090;
}
.highlight-link {
  color: #00c;
}
/* apply the same style to codemirror */
.cm-s-ipython span.cm-keyword {
  color: #008000;
  font-weight: bold;
}
.cm-s-ipython span.cm-atom {
  color: #88F;
}
.cm-s-ipython span.cm-number {
  color: #080;
}
.cm-s-ipython span.cm-def {
  color: #00f;
}
.cm-s-ipython span.cm-variable {
  color: #000;
}
.cm-s-ipython span.cm-operator {
  color: #AA22FF;
  font-weight: bold;
}
.cm-s-ipython span.cm-variable-2 {
  color: #1a1a1a;
}
.cm-s-ipython span.cm-variable-3 {
  color: #333333;
}
.cm-s-ipython span.cm-comment {
  color: #408080;
  font-style: italic;
}
.cm-s-ipython span.cm-string {
  color: #BA2121;
}
.cm-s-ipython span.cm-string-2 {
  color: #f50;
}
.cm-s-ipython span.cm-meta {
  color: #AA22FF;
}
.cm-s-ipython span.cm-qualifier {
  color: #555;
}
.cm-s-ipython span.cm-builtin {
  color: #008000;
}
.cm-s-ipython span.cm-bracket {
  color: #997;
}
.cm-s-ipython span.cm-tag {
  color: #170;
}
.cm-s-ipython span.cm-attribute {
  color: #00c;
}
.cm-s-ipython span.cm-header {
  color: blue;
}
.cm-s-ipython span.cm-quote {
  color: #090;
}
.cm-s-ipython span.cm-link {
  color: #00c;
}
.cm-s-ipython span.cm-error {
  color: #f00;
}
.cm-s-ipython span.cm-tab {
  background: url(data:image/png;base64,iVBORw0KGgoAAAANSUhEUgAAADAAAAAMCAYAAAAkuj5RAAAAAXNSR0IArs4c6QAAAGFJREFUSMft1LsRQFAQheHPowAKoACx3IgEKtaEHujDjORSgWTH/ZOdnZOcM/sgk/kFFWY0qV8foQwS4MKBCS3qR6ixBJvElOobYAtivseIE120FaowJPN75GMu8j/LfMwNjh4HUpwg4LUAAAAASUVORK5CYII=);
  background-position: right;
  background-repeat: no-repeat;
}
div.output_wrapper {
  /* this position must be relative to enable descendents to be absolute within it */
  position: relative;
  /* Old browsers */
  display: -webkit-box;
  -webkit-box-orient: vertical;
  -webkit-box-align: stretch;
  display: -moz-box;
  -moz-box-orient: vertical;
  -moz-box-align: stretch;
  display: box;
  box-orient: vertical;
  box-align: stretch;
  /* Modern browsers */
  display: flex;
  flex-direction: column;
  align-items: stretch;
  z-index: 1;
}
/* class for the output area when it should be height-limited */
div.output_scroll {
  /* ideally, this would be max-height, but FF barfs all over that */
  height: 24em;
  /* FF needs this *and the wrapper* to specify full width, or it will shrinkwrap */
  width: 100%;
  overflow: auto;
  border-radius: 2px;
  -webkit-box-shadow: inset 0 2px 8px rgba(0, 0, 0, 0.8);
  box-shadow: inset 0 2px 8px rgba(0, 0, 0, 0.8);
  display: block;
}
/* output div while it is collapsed */
div.output_collapsed {
  margin: 0px;
  padding: 0px;
  /* Old browsers */
  display: -webkit-box;
  -webkit-box-orient: vertical;
  -webkit-box-align: stretch;
  display: -moz-box;
  -moz-box-orient: vertical;
  -moz-box-align: stretch;
  display: box;
  box-orient: vertical;
  box-align: stretch;
  /* Modern browsers */
  display: flex;
  flex-direction: column;
  align-items: stretch;
}
div.out_prompt_overlay {
  height: 100%;
  padding: 0px 0.4em;
  position: absolute;
  border-radius: 2px;
}
div.out_prompt_overlay:hover {
  /* use inner shadow to get border that is computed the same on WebKit/FF */
  -webkit-box-shadow: inset 0 0 1px #000;
  box-shadow: inset 0 0 1px #000;
  background: rgba(240, 240, 240, 0.5);
}
div.output_prompt {
  color: #D84315;
}
/* This class is the outer container of all output sections. */
div.output_area {
  padding: 0px;
  page-break-inside: avoid;
  /* Old browsers */
  display: -webkit-box;
  -webkit-box-orient: horizontal;
  -webkit-box-align: stretch;
  display: -moz-box;
  -moz-box-orient: horizontal;
  -moz-box-align: stretch;
  display: box;
  box-orient: horizontal;
  box-align: stretch;
  /* Modern browsers */
  display: flex;
  flex-direction: row;
  align-items: stretch;
}
div.output_area .MathJax_Display {
  text-align: left !important;
}
div.output_area .rendered_html table {
  margin-left: 0;
  margin-right: 0;
}
div.output_area .rendered_html img {
  margin-left: 0;
  margin-right: 0;
}
div.output_area img,
div.output_area svg {
  max-width: 100%;
  height: auto;
}
div.output_area img.unconfined,
div.output_area svg.unconfined {
  max-width: none;
}
div.output_area .mglyph > img {
  max-width: none;
}
/* This is needed to protect the pre formating from global settings such
   as that of bootstrap */
.output {
  /* Old browsers */
  display: -webkit-box;
  -webkit-box-orient: vertical;
  -webkit-box-align: stretch;
  display: -moz-box;
  -moz-box-orient: vertical;
  -moz-box-align: stretch;
  display: box;
  box-orient: vertical;
  box-align: stretch;
  /* Modern browsers */
  display: flex;
  flex-direction: column;
  align-items: stretch;
}
@media (max-width: 540px) {
  div.output_area {
    /* Old browsers */
    display: -webkit-box;
    -webkit-box-orient: vertical;
    -webkit-box-align: stretch;
    display: -moz-box;
    -moz-box-orient: vertical;
    -moz-box-align: stretch;
    display: box;
    box-orient: vertical;
    box-align: stretch;
    /* Modern browsers */
    display: flex;
    flex-direction: column;
    align-items: stretch;
  }
}
div.output_area pre {
  margin: 0;
  padding: 1px 0 1px 0;
  border: 0;
  vertical-align: baseline;
  color: black;
  background-color: transparent;
  border-radius: 0;
}
/* This class is for the output subarea inside the output_area and after
   the prompt div. */
div.output_subarea {
  overflow-x: auto;
  padding: 0.4em;
  /* Old browsers */
  -webkit-box-flex: 1;
  -moz-box-flex: 1;
  box-flex: 1;
  /* Modern browsers */
  flex: 1;
  max-width: calc(100% - 14ex);
}
div.output_scroll div.output_subarea {
  overflow-x: visible;
}
/* The rest of the output_* classes are for special styling of the different
   output types */
/* all text output has this class: */
div.output_text {
  text-align: left;
  color: #000;
  /* This has to match that of the the CodeMirror class line-height below */
  line-height: 1.21429em;
}
/* stdout/stderr are 'text' as well as 'stream', but execute_result/error are *not* streams */
div.output_stderr {
  background: #fdd;
  /* very light red background for stderr */
}
div.output_latex {
  text-align: left;
}
/* Empty output_javascript divs should have no height */
div.output_javascript:empty {
  padding: 0;
}
.js-error {
  color: darkred;
}
/* raw_input styles */
div.raw_input_container {
  line-height: 1.21429em;
  padding-top: 5px;
}
pre.raw_input_prompt {
  /* nothing needed here. */
}
input.raw_input {
  font-family: monospace;
  font-size: inherit;
  color: inherit;
  width: auto;
  /* make sure input baseline aligns with prompt */
  vertical-align: baseline;
  /* padding + margin = 0.5em between prompt and cursor */
  padding: 0em 0.25em;
  margin: 0em 0.25em;
}
input.raw_input:focus {
  box-shadow: none;
}
p.p-space {
  margin-bottom: 10px;
}
div.output_unrecognized {
  padding: 5px;
  font-weight: bold;
  color: red;
}
div.output_unrecognized a {
  color: inherit;
  text-decoration: none;
}
div.output_unrecognized a:hover {
  color: inherit;
  text-decoration: none;
}
.rendered_html {
  color: #000;
  /* any extras will just be numbers: */
}
.rendered_html em {
  font-style: italic;
}
.rendered_html strong {
  font-weight: bold;
}
.rendered_html u {
  text-decoration: underline;
}
.rendered_html :link {
  text-decoration: underline;
}
.rendered_html :visited {
  text-decoration: underline;
}
.rendered_html h1 {
  font-size: 185.7%;
  margin: 1.08em 0 0 0;
  font-weight: bold;
  line-height: 1.0;
}
.rendered_html h2 {
  font-size: 157.1%;
  margin: 1.27em 0 0 0;
  font-weight: bold;
  line-height: 1.0;
}
.rendered_html h3 {
  font-size: 128.6%;
  margin: 1.55em 0 0 0;
  font-weight: bold;
  line-height: 1.0;
}
.rendered_html h4 {
  font-size: 100%;
  margin: 2em 0 0 0;
  font-weight: bold;
  line-height: 1.0;
}
.rendered_html h5 {
  font-size: 100%;
  margin: 2em 0 0 0;
  font-weight: bold;
  line-height: 1.0;
  font-style: italic;
}
.rendered_html h6 {
  font-size: 100%;
  margin: 2em 0 0 0;
  font-weight: bold;
  line-height: 1.0;
  font-style: italic;
}
.rendered_html h1:first-child {
  margin-top: 0.538em;
}
.rendered_html h2:first-child {
  margin-top: 0.636em;
}
.rendered_html h3:first-child {
  margin-top: 0.777em;
}
.rendered_html h4:first-child {
  margin-top: 1em;
}
.rendered_html h5:first-child {
  margin-top: 1em;
}
.rendered_html h6:first-child {
  margin-top: 1em;
}
.rendered_html ul:not(.list-inline),
.rendered_html ol:not(.list-inline) {
  padding-left: 2em;
}
.rendered_html ul {
  list-style: disc;
}
.rendered_html ul ul {
  list-style: square;
  margin-top: 0;
}
.rendered_html ul ul ul {
  list-style: circle;
}
.rendered_html ol {
  list-style: decimal;
}
.rendered_html ol ol {
  list-style: upper-alpha;
  margin-top: 0;
}
.rendered_html ol ol ol {
  list-style: lower-alpha;
}
.rendered_html ol ol ol ol {
  list-style: lower-roman;
}
.rendered_html ol ol ol ol ol {
  list-style: decimal;
}
.rendered_html * + ul {
  margin-top: 1em;
}
.rendered_html * + ol {
  margin-top: 1em;
}
.rendered_html hr {
  color: black;
  background-color: black;
}
.rendered_html pre {
  margin: 1em 2em;
  padding: 0px;
  background-color: #fff;
}
.rendered_html code {
  background-color: #eff0f1;
}
.rendered_html p code {
  padding: 1px 5px;
}
.rendered_html pre code {
  background-color: #fff;
}
.rendered_html pre,
.rendered_html code {
  border: 0;
  color: #000;
  font-size: 100%;
}
.rendered_html blockquote {
  margin: 1em 2em;
}
.rendered_html table {
  margin-left: auto;
  margin-right: auto;
  border: none;
  border-collapse: collapse;
  border-spacing: 0;
  color: black;
  font-size: 12px;
  table-layout: fixed;
}
.rendered_html thead {
  border-bottom: 1px solid black;
  vertical-align: bottom;
}
.rendered_html tr,
.rendered_html th,
.rendered_html td {
  text-align: right;
  vertical-align: middle;
  padding: 0.5em 0.5em;
  line-height: normal;
  white-space: normal;
  max-width: none;
  border: none;
}
.rendered_html th {
  font-weight: bold;
}
.rendered_html tbody tr:nth-child(odd) {
  background: #f5f5f5;
}
.rendered_html tbody tr:hover {
  background: rgba(66, 165, 245, 0.2);
}
.rendered_html * + table {
  margin-top: 1em;
}
.rendered_html p {
  text-align: left;
}
.rendered_html * + p {
  margin-top: 1em;
}
.rendered_html img {
  display: block;
  margin-left: auto;
  margin-right: auto;
}
.rendered_html * + img {
  margin-top: 1em;
}
.rendered_html img,
.rendered_html svg {
  max-width: 100%;
  height: auto;
}
.rendered_html img.unconfined,
.rendered_html svg.unconfined {
  max-width: none;
}
.rendered_html .alert {
  margin-bottom: initial;
}
.rendered_html * + .alert {
  margin-top: 1em;
}
[dir="rtl"] .rendered_html p {
  text-align: right;
}
div.text_cell {
  /* Old browsers */
  display: -webkit-box;
  -webkit-box-orient: horizontal;
  -webkit-box-align: stretch;
  display: -moz-box;
  -moz-box-orient: horizontal;
  -moz-box-align: stretch;
  display: box;
  box-orient: horizontal;
  box-align: stretch;
  /* Modern browsers */
  display: flex;
  flex-direction: row;
  align-items: stretch;
}
@media (max-width: 540px) {
  div.text_cell > div.prompt {
    display: none;
  }
}
div.text_cell_render {
  /*font-family: "Helvetica Neue", Arial, Helvetica, Geneva, sans-serif;*/
  outline: none;
  resize: none;
  width: inherit;
  border-style: none;
  padding: 0.5em 0.5em 0.5em 0.4em;
  color: #000;
  box-sizing: border-box;
  -moz-box-sizing: border-box;
  -webkit-box-sizing: border-box;
}
a.anchor-link:link {
  text-decoration: none;
  padding: 0px 20px;
  visibility: hidden;
}
h1:hover .anchor-link,
h2:hover .anchor-link,
h3:hover .anchor-link,
h4:hover .anchor-link,
h5:hover .anchor-link,
h6:hover .anchor-link {
  visibility: visible;
}
.text_cell.rendered .input_area {
  display: none;
}
.text_cell.rendered .rendered_html {
  overflow-x: auto;
  overflow-y: hidden;
}
.text_cell.rendered .rendered_html tr,
.text_cell.rendered .rendered_html th,
.text_cell.rendered .rendered_html td {
  max-width: none;
}
.text_cell.unrendered .text_cell_render {
  display: none;
}
.text_cell .dropzone .input_area {
  border: 2px dashed #bababa;
  margin: -1px;
}
.cm-header-1,
.cm-header-2,
.cm-header-3,
.cm-header-4,
.cm-header-5,
.cm-header-6 {
  font-weight: bold;
  font-family: "Helvetica Neue", Helvetica, Arial, sans-serif;
}
.cm-header-1 {
  font-size: 185.7%;
}
.cm-header-2 {
  font-size: 157.1%;
}
.cm-header-3 {
  font-size: 128.6%;
}
.cm-header-4 {
  font-size: 110%;
}
.cm-header-5 {
  font-size: 100%;
  font-style: italic;
}
.cm-header-6 {
  font-size: 100%;
  font-style: italic;
}
/*!
*
* IPython notebook webapp
*
*/
@media (max-width: 767px) {
  .notebook_app {
    padding-left: 0px;
    padding-right: 0px;
  }
}
#ipython-main-app {
  box-sizing: border-box;
  -moz-box-sizing: border-box;
  -webkit-box-sizing: border-box;
  height: 100%;
}
div#notebook_panel {
  margin: 0px;
  padding: 0px;
  box-sizing: border-box;
  -moz-box-sizing: border-box;
  -webkit-box-sizing: border-box;
  height: 100%;
}
div#notebook {
  font-size: 14px;
  line-height: 20px;
  overflow-y: hidden;
  overflow-x: auto;
  width: 100%;
  /* This spaces the page away from the edge of the notebook area */
  padding-top: 20px;
  margin: 0px;
  outline: none;
  box-sizing: border-box;
  -moz-box-sizing: border-box;
  -webkit-box-sizing: border-box;
  min-height: 100%;
}
@media not print {
  #notebook-container {
    padding: 15px;
    background-color: #fff;
    min-height: 0;
    -webkit-box-shadow: 0px 0px 12px 1px rgba(87, 87, 87, 0.2);
    box-shadow: 0px 0px 12px 1px rgba(87, 87, 87, 0.2);
  }
}
@media print {
  #notebook-container {
    width: 100%;
  }
}
div.ui-widget-content {
  border: 1px solid #ababab;
  outline: none;
}
pre.dialog {
  background-color: #f7f7f7;
  border: 1px solid #ddd;
  border-radius: 2px;
  padding: 0.4em;
  padding-left: 2em;
}
p.dialog {
  padding: 0.2em;
}
/* Word-wrap output correctly.  This is the CSS3 spelling, though Firefox seems
   to not honor it correctly.  Webkit browsers (Chrome, rekonq, Safari) do.
 */
pre,
code,
kbd,
samp {
  white-space: pre-wrap;
}
#fonttest {
  font-family: monospace;
}
p {
  margin-bottom: 0;
}
.end_space {
  min-height: 100px;
  transition: height .2s ease;
}
.notebook_app > #header {
  -webkit-box-shadow: 0px 0px 12px 1px rgba(87, 87, 87, 0.2);
  box-shadow: 0px 0px 12px 1px rgba(87, 87, 87, 0.2);
}
@media not print {
  .notebook_app {
    background-color: #EEE;
  }
}
kbd {
  border-style: solid;
  border-width: 1px;
  box-shadow: none;
  margin: 2px;
  padding-left: 2px;
  padding-right: 2px;
  padding-top: 1px;
  padding-bottom: 1px;
}
.jupyter-keybindings {
  padding: 1px;
  line-height: 24px;
  border-bottom: 1px solid gray;
}
.jupyter-keybindings input {
  margin: 0;
  padding: 0;
  border: none;
}
.jupyter-keybindings i {
  padding: 6px;
}
.well code {
  background-color: #ffffff;
  border-color: #ababab;
  border-width: 1px;
  border-style: solid;
  padding: 2px;
  padding-top: 1px;
  padding-bottom: 1px;
}
/* CSS for the cell toolbar */
.celltoolbar {
  border: thin solid #CFCFCF;
  border-bottom: none;
  background: #EEE;
  border-radius: 2px 2px 0px 0px;
  width: 100%;
  height: 29px;
  padding-right: 4px;
  /* Old browsers */
  display: -webkit-box;
  -webkit-box-orient: horizontal;
  -webkit-box-align: stretch;
  display: -moz-box;
  -moz-box-orient: horizontal;
  -moz-box-align: stretch;
  display: box;
  box-orient: horizontal;
  box-align: stretch;
  /* Modern browsers */
  display: flex;
  flex-direction: row;
  align-items: stretch;
  /* Old browsers */
  -webkit-box-pack: end;
  -moz-box-pack: end;
  box-pack: end;
  /* Modern browsers */
  justify-content: flex-end;
  display: -webkit-flex;
}
@media print {
  .celltoolbar {
    display: none;
  }
}
.ctb_hideshow {
  display: none;
  vertical-align: bottom;
}
/* ctb_show is added to the ctb_hideshow div to show the cell toolbar.
   Cell toolbars are only shown when the ctb_global_show class is also set.
*/
.ctb_global_show .ctb_show.ctb_hideshow {
  display: block;
}
.ctb_global_show .ctb_show + .input_area,
.ctb_global_show .ctb_show + div.text_cell_input,
.ctb_global_show .ctb_show ~ div.text_cell_render {
  border-top-right-radius: 0px;
  border-top-left-radius: 0px;
}
.ctb_global_show .ctb_show ~ div.text_cell_render {
  border: 1px solid #cfcfcf;
}
.celltoolbar {
  font-size: 87%;
  padding-top: 3px;
}
.celltoolbar select {
  display: block;
  width: 100%;
  height: 32px;
  padding: 6px 12px;
  font-size: 13px;
  line-height: 1.42857143;
  color: #555555;
  background-color: #fff;
  background-image: none;
  border: 1px solid #ccc;
  border-radius: 2px;
  -webkit-box-shadow: inset 0 1px 1px rgba(0, 0, 0, 0.075);
  box-shadow: inset 0 1px 1px rgba(0, 0, 0, 0.075);
  -webkit-transition: border-color ease-in-out .15s, box-shadow ease-in-out .15s;
  -o-transition: border-color ease-in-out .15s, box-shadow ease-in-out .15s;
  transition: border-color ease-in-out .15s, box-shadow ease-in-out .15s;
  height: 30px;
  padding: 5px 10px;
  font-size: 12px;
  line-height: 1.5;
  border-radius: 1px;
  width: inherit;
  font-size: inherit;
  height: 22px;
  padding: 0px;
  display: inline-block;
}
.celltoolbar select:focus {
  border-color: #66afe9;
  outline: 0;
  -webkit-box-shadow: inset 0 1px 1px rgba(0,0,0,.075), 0 0 8px rgba(102, 175, 233, 0.6);
  box-shadow: inset 0 1px 1px rgba(0,0,0,.075), 0 0 8px rgba(102, 175, 233, 0.6);
}
.celltoolbar select::-moz-placeholder {
  color: #999;
  opacity: 1;
}
.celltoolbar select:-ms-input-placeholder {
  color: #999;
}
.celltoolbar select::-webkit-input-placeholder {
  color: #999;
}
.celltoolbar select::-ms-expand {
  border: 0;
  background-color: transparent;
}
.celltoolbar select[disabled],
.celltoolbar select[readonly],
fieldset[disabled] .celltoolbar select {
  background-color: #eeeeee;
  opacity: 1;
}
.celltoolbar select[disabled],
fieldset[disabled] .celltoolbar select {
  cursor: not-allowed;
}
textarea.celltoolbar select {
  height: auto;
}
select.celltoolbar select {
  height: 30px;
  line-height: 30px;
}
textarea.celltoolbar select,
select[multiple].celltoolbar select {
  height: auto;
}
.celltoolbar label {
  margin-left: 5px;
  margin-right: 5px;
}
.tags_button_container {
  width: 100%;
  display: flex;
}
.tag-container {
  display: flex;
  flex-direction: row;
  flex-grow: 1;
  overflow: hidden;
  position: relative;
}
.tag-container > * {
  margin: 0 4px;
}
.remove-tag-btn {
  margin-left: 4px;
}
.tags-input {
  display: flex;
}
.cell-tag:last-child:after {
  content: "";
  position: absolute;
  right: 0;
  width: 40px;
  height: 100%;
  /* Fade to background color of cell toolbar */
  background: linear-gradient(to right, rgba(0, 0, 0, 0), #EEE);
}
.tags-input > * {
  margin-left: 4px;
}
.cell-tag,
.tags-input input,
.tags-input button {
  display: block;
  width: 100%;
  height: 32px;
  padding: 6px 12px;
  font-size: 13px;
  line-height: 1.42857143;
  color: #555555;
  background-color: #fff;
  background-image: none;
  border: 1px solid #ccc;
  border-radius: 2px;
  -webkit-box-shadow: inset 0 1px 1px rgba(0, 0, 0, 0.075);
  box-shadow: inset 0 1px 1px rgba(0, 0, 0, 0.075);
  -webkit-transition: border-color ease-in-out .15s, box-shadow ease-in-out .15s;
  -o-transition: border-color ease-in-out .15s, box-shadow ease-in-out .15s;
  transition: border-color ease-in-out .15s, box-shadow ease-in-out .15s;
  height: 30px;
  padding: 5px 10px;
  font-size: 12px;
  line-height: 1.5;
  border-radius: 1px;
  box-shadow: none;
  width: inherit;
  font-size: inherit;
  height: 22px;
  line-height: 22px;
  padding: 0px 4px;
  display: inline-block;
}
.cell-tag:focus,
.tags-input input:focus,
.tags-input button:focus {
  border-color: #66afe9;
  outline: 0;
  -webkit-box-shadow: inset 0 1px 1px rgba(0,0,0,.075), 0 0 8px rgba(102, 175, 233, 0.6);
  box-shadow: inset 0 1px 1px rgba(0,0,0,.075), 0 0 8px rgba(102, 175, 233, 0.6);
}
.cell-tag::-moz-placeholder,
.tags-input input::-moz-placeholder,
.tags-input button::-moz-placeholder {
  color: #999;
  opacity: 1;
}
.cell-tag:-ms-input-placeholder,
.tags-input input:-ms-input-placeholder,
.tags-input button:-ms-input-placeholder {
  color: #999;
}
.cell-tag::-webkit-input-placeholder,
.tags-input input::-webkit-input-placeholder,
.tags-input button::-webkit-input-placeholder {
  color: #999;
}
.cell-tag::-ms-expand,
.tags-input input::-ms-expand,
.tags-input button::-ms-expand {
  border: 0;
  background-color: transparent;
}
.cell-tag[disabled],
.tags-input input[disabled],
.tags-input button[disabled],
.cell-tag[readonly],
.tags-input input[readonly],
.tags-input button[readonly],
fieldset[disabled] .cell-tag,
fieldset[disabled] .tags-input input,
fieldset[disabled] .tags-input button {
  background-color: #eeeeee;
  opacity: 1;
}
.cell-tag[disabled],
.tags-input input[disabled],
.tags-input button[disabled],
fieldset[disabled] .cell-tag,
fieldset[disabled] .tags-input input,
fieldset[disabled] .tags-input button {
  cursor: not-allowed;
}
textarea.cell-tag,
textarea.tags-input input,
textarea.tags-input button {
  height: auto;
}
select.cell-tag,
select.tags-input input,
select.tags-input button {
  height: 30px;
  line-height: 30px;
}
textarea.cell-tag,
textarea.tags-input input,
textarea.tags-input button,
select[multiple].cell-tag,
select[multiple].tags-input input,
select[multiple].tags-input button {
  height: auto;
}
.cell-tag,
.tags-input button {
  padding: 0px 4px;
}
.cell-tag {
  background-color: #fff;
  white-space: nowrap;
}
.tags-input input[type=text]:focus {
  outline: none;
  box-shadow: none;
  border-color: #ccc;
}
.completions {
  position: absolute;
  z-index: 110;
  overflow: hidden;
  border: 1px solid #ababab;
  border-radius: 2px;
  -webkit-box-shadow: 0px 6px 10px -1px #adadad;
  box-shadow: 0px 6px 10px -1px #adadad;
  line-height: 1;
}
.completions select {
  background: white;
  outline: none;
  border: none;
  padding: 0px;
  margin: 0px;
  overflow: auto;
  font-family: monospace;
  font-size: 110%;
  color: #000;
  width: auto;
}
.completions select option.context {
  color: #286090;
}
#kernel_logo_widget .current_kernel_logo {
  display: none;
  margin-top: -1px;
  margin-bottom: -1px;
  width: 32px;
  height: 32px;
}
[dir="rtl"] #kernel_logo_widget {
  float: left !important;
  float: left;
}
.modal .modal-body .move-path {
  display: flex;
  flex-direction: row;
  justify-content: space;
  align-items: center;
}
.modal .modal-body .move-path .server-root {
  padding-right: 20px;
}
.modal .modal-body .move-path .path-input {
  flex: 1;
}
#menubar {
  box-sizing: border-box;
  -moz-box-sizing: border-box;
  -webkit-box-sizing: border-box;
  margin-top: 1px;
}
#menubar .navbar {
  border-top: 1px;
  border-radius: 0px 0px 2px 2px;
  margin-bottom: 0px;
}
#menubar .navbar-toggle {
  float: left;
  padding-top: 7px;
  padding-bottom: 7px;
  border: none;
}
#menubar .navbar-collapse {
  clear: left;
}
[dir="rtl"] #menubar .navbar-toggle {
  float: right;
}
[dir="rtl"] #menubar .navbar-collapse {
  clear: right;
}
[dir="rtl"] #menubar .navbar-nav {
  float: right;
}
[dir="rtl"] #menubar .nav {
  padding-right: 0px;
}
[dir="rtl"] #menubar .navbar-nav > li {
  float: right;
}
[dir="rtl"] #menubar .navbar-right {
  float: left !important;
}
[dir="rtl"] ul.dropdown-menu {
  text-align: right;
  left: auto;
}
[dir="rtl"] ul#new-menu.dropdown-menu {
  right: auto;
  left: 0;
}
.nav-wrapper {
  border-bottom: 1px solid #e7e7e7;
}
i.menu-icon {
  padding-top: 4px;
}
[dir="rtl"] i.menu-icon.pull-right {
  float: left !important;
  float: left;
}
ul#help_menu li a {
  overflow: hidden;
  padding-right: 2.2em;
}
ul#help_menu li a i {
  margin-right: -1.2em;
}
[dir="rtl"] ul#help_menu li a {
  padding-left: 2.2em;
}
[dir="rtl"] ul#help_menu li a i {
  margin-right: 0;
  margin-left: -1.2em;
}
[dir="rtl"] ul#help_menu li a i.pull-right {
  float: left !important;
  float: left;
}
.dropdown-submenu {
  position: relative;
}
.dropdown-submenu > .dropdown-menu {
  top: 0;
  left: 100%;
  margin-top: -6px;
  margin-left: -1px;
}
[dir="rtl"] .dropdown-submenu > .dropdown-menu {
  right: 100%;
  margin-right: -1px;
}
.dropdown-submenu:hover > .dropdown-menu {
  display: block;
}
.dropdown-submenu > a:after {
  display: inline-block;
  font: normal normal normal 14px/1 FontAwesome;
  font-size: inherit;
  text-rendering: auto;
  -webkit-font-smoothing: antialiased;
  -moz-osx-font-smoothing: grayscale;
  display: block;
  content: "\f0da";
  float: right;
  color: #333333;
  margin-top: 2px;
  margin-right: -10px;
}
.dropdown-submenu > a:after.fa-pull-left {
  margin-right: .3em;
}
.dropdown-submenu > a:after.fa-pull-right {
  margin-left: .3em;
}
.dropdown-submenu > a:after.pull-left {
  margin-right: .3em;
}
.dropdown-submenu > a:after.pull-right {
  margin-left: .3em;
}
[dir="rtl"] .dropdown-submenu > a:after {
  float: left;
  content: "\f0d9";
  margin-right: 0;
  margin-left: -10px;
}
.dropdown-submenu:hover > a:after {
  color: #262626;
}
.dropdown-submenu.pull-left {
  float: none;
}
.dropdown-submenu.pull-left > .dropdown-menu {
  left: -100%;
  margin-left: 10px;
}
#notification_area {
  float: right !important;
  float: right;
  z-index: 10;
}
[dir="rtl"] #notification_area {
  float: left !important;
  float: left;
}
.indicator_area {
  float: right !important;
  float: right;
  color: #777;
  margin-left: 5px;
  margin-right: 5px;
  width: 11px;
  z-index: 10;
  text-align: center;
  width: auto;
}
[dir="rtl"] .indicator_area {
  float: left !important;
  float: left;
}
#kernel_indicator {
  float: right !important;
  float: right;
  color: #777;
  margin-left: 5px;
  margin-right: 5px;
  width: 11px;
  z-index: 10;
  text-align: center;
  width: auto;
  border-left: 1px solid;
}
#kernel_indicator .kernel_indicator_name {
  padding-left: 5px;
  padding-right: 5px;
}
[dir="rtl"] #kernel_indicator {
  float: left !important;
  float: left;
  border-left: 0;
  border-right: 1px solid;
}
#modal_indicator {
  float: right !important;
  float: right;
  color: #777;
  margin-left: 5px;
  margin-right: 5px;
  width: 11px;
  z-index: 10;
  text-align: center;
  width: auto;
}
[dir="rtl"] #modal_indicator {
  float: left !important;
  float: left;
}
#readonly-indicator {
  float: right !important;
  float: right;
  color: #777;
  margin-left: 5px;
  margin-right: 5px;
  width: 11px;
  z-index: 10;
  text-align: center;
  width: auto;
  margin-top: 2px;
  margin-bottom: 0px;
  margin-left: 0px;
  margin-right: 0px;
  display: none;
}
.modal_indicator:before {
  width: 1.28571429em;
  text-align: center;
}
.edit_mode .modal_indicator:before {
  display: inline-block;
  font: normal normal normal 14px/1 FontAwesome;
  font-size: inherit;
  text-rendering: auto;
  -webkit-font-smoothing: antialiased;
  -moz-osx-font-smoothing: grayscale;
  content: "\f040";
}
.edit_mode .modal_indicator:before.fa-pull-left {
  margin-right: .3em;
}
.edit_mode .modal_indicator:before.fa-pull-right {
  margin-left: .3em;
}
.edit_mode .modal_indicator:before.pull-left {
  margin-right: .3em;
}
.edit_mode .modal_indicator:before.pull-right {
  margin-left: .3em;
}
.command_mode .modal_indicator:before {
  display: inline-block;
  font: normal normal normal 14px/1 FontAwesome;
  font-size: inherit;
  text-rendering: auto;
  -webkit-font-smoothing: antialiased;
  -moz-osx-font-smoothing: grayscale;
  content: ' ';
}
.command_mode .modal_indicator:before.fa-pull-left {
  margin-right: .3em;
}
.command_mode .modal_indicator:before.fa-pull-right {
  margin-left: .3em;
}
.command_mode .modal_indicator:before.pull-left {
  margin-right: .3em;
}
.command_mode .modal_indicator:before.pull-right {
  margin-left: .3em;
}
.kernel_idle_icon:before {
  display: inline-block;
  font: normal normal normal 14px/1 FontAwesome;
  font-size: inherit;
  text-rendering: auto;
  -webkit-font-smoothing: antialiased;
  -moz-osx-font-smoothing: grayscale;
  content: "\f10c";
}
.kernel_idle_icon:before.fa-pull-left {
  margin-right: .3em;
}
.kernel_idle_icon:before.fa-pull-right {
  margin-left: .3em;
}
.kernel_idle_icon:before.pull-left {
  margin-right: .3em;
}
.kernel_idle_icon:before.pull-right {
  margin-left: .3em;
}
.kernel_busy_icon:before {
  display: inline-block;
  font: normal normal normal 14px/1 FontAwesome;
  font-size: inherit;
  text-rendering: auto;
  -webkit-font-smoothing: antialiased;
  -moz-osx-font-smoothing: grayscale;
  content: "\f111";
}
.kernel_busy_icon:before.fa-pull-left {
  margin-right: .3em;
}
.kernel_busy_icon:before.fa-pull-right {
  margin-left: .3em;
}
.kernel_busy_icon:before.pull-left {
  margin-right: .3em;
}
.kernel_busy_icon:before.pull-right {
  margin-left: .3em;
}
.kernel_dead_icon:before {
  display: inline-block;
  font: normal normal normal 14px/1 FontAwesome;
  font-size: inherit;
  text-rendering: auto;
  -webkit-font-smoothing: antialiased;
  -moz-osx-font-smoothing: grayscale;
  content: "\f1e2";
}
.kernel_dead_icon:before.fa-pull-left {
  margin-right: .3em;
}
.kernel_dead_icon:before.fa-pull-right {
  margin-left: .3em;
}
.kernel_dead_icon:before.pull-left {
  margin-right: .3em;
}
.kernel_dead_icon:before.pull-right {
  margin-left: .3em;
}
.kernel_disconnected_icon:before {
  display: inline-block;
  font: normal normal normal 14px/1 FontAwesome;
  font-size: inherit;
  text-rendering: auto;
  -webkit-font-smoothing: antialiased;
  -moz-osx-font-smoothing: grayscale;
  content: "\f127";
}
.kernel_disconnected_icon:before.fa-pull-left {
  margin-right: .3em;
}
.kernel_disconnected_icon:before.fa-pull-right {
  margin-left: .3em;
}
.kernel_disconnected_icon:before.pull-left {
  margin-right: .3em;
}
.kernel_disconnected_icon:before.pull-right {
  margin-left: .3em;
}
.notification_widget {
  color: #777;
  z-index: 10;
  background: rgba(240, 240, 240, 0.5);
  margin-right: 4px;
  color: #333;
  background-color: #fff;
  border-color: #ccc;
}
.notification_widget:focus,
.notification_widget.focus {
  color: #333;
  background-color: #e6e6e6;
  border-color: #8c8c8c;
}
.notification_widget:hover {
  color: #333;
  background-color: #e6e6e6;
  border-color: #adadad;
}
.notification_widget:active,
.notification_widget.active,
.open > .dropdown-toggle.notification_widget {
  color: #333;
  background-color: #e6e6e6;
  border-color: #adadad;
}
.notification_widget:active:hover,
.notification_widget.active:hover,
.open > .dropdown-toggle.notification_widget:hover,
.notification_widget:active:focus,
.notification_widget.active:focus,
.open > .dropdown-toggle.notification_widget:focus,
.notification_widget:active.focus,
.notification_widget.active.focus,
.open > .dropdown-toggle.notification_widget.focus {
  color: #333;
  background-color: #d4d4d4;
  border-color: #8c8c8c;
}
.notification_widget:active,
.notification_widget.active,
.open > .dropdown-toggle.notification_widget {
  background-image: none;
}
.notification_widget.disabled:hover,
.notification_widget[disabled]:hover,
fieldset[disabled] .notification_widget:hover,
.notification_widget.disabled:focus,
.notification_widget[disabled]:focus,
fieldset[disabled] .notification_widget:focus,
.notification_widget.disabled.focus,
.notification_widget[disabled].focus,
fieldset[disabled] .notification_widget.focus {
  background-color: #fff;
  border-color: #ccc;
}
.notification_widget .badge {
  color: #fff;
  background-color: #333;
}
.notification_widget.warning {
  color: #fff;
  background-color: #f0ad4e;
  border-color: #eea236;
}
.notification_widget.warning:focus,
.notification_widget.warning.focus {
  color: #fff;
  background-color: #ec971f;
  border-color: #985f0d;
}
.notification_widget.warning:hover {
  color: #fff;
  background-color: #ec971f;
  border-color: #d58512;
}
.notification_widget.warning:active,
.notification_widget.warning.active,
.open > .dropdown-toggle.notification_widget.warning {
  color: #fff;
  background-color: #ec971f;
  border-color: #d58512;
}
.notification_widget.warning:active:hover,
.notification_widget.warning.active:hover,
.open > .dropdown-toggle.notification_widget.warning:hover,
.notification_widget.warning:active:focus,
.notification_widget.warning.active:focus,
.open > .dropdown-toggle.notification_widget.warning:focus,
.notification_widget.warning:active.focus,
.notification_widget.warning.active.focus,
.open > .dropdown-toggle.notification_widget.warning.focus {
  color: #fff;
  background-color: #d58512;
  border-color: #985f0d;
}
.notification_widget.warning:active,
.notification_widget.warning.active,
.open > .dropdown-toggle.notification_widget.warning {
  background-image: none;
}
.notification_widget.warning.disabled:hover,
.notification_widget.warning[disabled]:hover,
fieldset[disabled] .notification_widget.warning:hover,
.notification_widget.warning.disabled:focus,
.notification_widget.warning[disabled]:focus,
fieldset[disabled] .notification_widget.warning:focus,
.notification_widget.warning.disabled.focus,
.notification_widget.warning[disabled].focus,
fieldset[disabled] .notification_widget.warning.focus {
  background-color: #f0ad4e;
  border-color: #eea236;
}
.notification_widget.warning .badge {
  color: #f0ad4e;
  background-color: #fff;
}
.notification_widget.success {
  color: #fff;
  background-color: #5cb85c;
  border-color: #4cae4c;
}
.notification_widget.success:focus,
.notification_widget.success.focus {
  color: #fff;
  background-color: #449d44;
  border-color: #255625;
}
.notification_widget.success:hover {
  color: #fff;
  background-color: #449d44;
  border-color: #398439;
}
.notification_widget.success:active,
.notification_widget.success.active,
.open > .dropdown-toggle.notification_widget.success {
  color: #fff;
  background-color: #449d44;
  border-color: #398439;
}
.notification_widget.success:active:hover,
.notification_widget.success.active:hover,
.open > .dropdown-toggle.notification_widget.success:hover,
.notification_widget.success:active:focus,
.notification_widget.success.active:focus,
.open > .dropdown-toggle.notification_widget.success:focus,
.notification_widget.success:active.focus,
.notification_widget.success.active.focus,
.open > .dropdown-toggle.notification_widget.success.focus {
  color: #fff;
  background-color: #398439;
  border-color: #255625;
}
.notification_widget.success:active,
.notification_widget.success.active,
.open > .dropdown-toggle.notification_widget.success {
  background-image: none;
}
.notification_widget.success.disabled:hover,
.notification_widget.success[disabled]:hover,
fieldset[disabled] .notification_widget.success:hover,
.notification_widget.success.disabled:focus,
.notification_widget.success[disabled]:focus,
fieldset[disabled] .notification_widget.success:focus,
.notification_widget.success.disabled.focus,
.notification_widget.success[disabled].focus,
fieldset[disabled] .notification_widget.success.focus {
  background-color: #5cb85c;
  border-color: #4cae4c;
}
.notification_widget.success .badge {
  color: #5cb85c;
  background-color: #fff;
}
.notification_widget.info {
  color: #fff;
  background-color: #5bc0de;
  border-color: #46b8da;
}
.notification_widget.info:focus,
.notification_widget.info.focus {
  color: #fff;
  background-color: #31b0d5;
  border-color: #1b6d85;
}
.notification_widget.info:hover {
  color: #fff;
  background-color: #31b0d5;
  border-color: #269abc;
}
.notification_widget.info:active,
.notification_widget.info.active,
.open > .dropdown-toggle.notification_widget.info {
  color: #fff;
  background-color: #31b0d5;
  border-color: #269abc;
}
.notification_widget.info:active:hover,
.notification_widget.info.active:hover,
.open > .dropdown-toggle.notification_widget.info:hover,
.notification_widget.info:active:focus,
.notification_widget.info.active:focus,
.open > .dropdown-toggle.notification_widget.info:focus,
.notification_widget.info:active.focus,
.notification_widget.info.active.focus,
.open > .dropdown-toggle.notification_widget.info.focus {
  color: #fff;
  background-color: #269abc;
  border-color: #1b6d85;
}
.notification_widget.info:active,
.notification_widget.info.active,
.open > .dropdown-toggle.notification_widget.info {
  background-image: none;
}
.notification_widget.info.disabled:hover,
.notification_widget.info[disabled]:hover,
fieldset[disabled] .notification_widget.info:hover,
.notification_widget.info.disabled:focus,
.notification_widget.info[disabled]:focus,
fieldset[disabled] .notification_widget.info:focus,
.notification_widget.info.disabled.focus,
.notification_widget.info[disabled].focus,
fieldset[disabled] .notification_widget.info.focus {
  background-color: #5bc0de;
  border-color: #46b8da;
}
.notification_widget.info .badge {
  color: #5bc0de;
  background-color: #fff;
}
.notification_widget.danger {
  color: #fff;
  background-color: #d9534f;
  border-color: #d43f3a;
}
.notification_widget.danger:focus,
.notification_widget.danger.focus {
  color: #fff;
  background-color: #c9302c;
  border-color: #761c19;
}
.notification_widget.danger:hover {
  color: #fff;
  background-color: #c9302c;
  border-color: #ac2925;
}
.notification_widget.danger:active,
.notification_widget.danger.active,
.open > .dropdown-toggle.notification_widget.danger {
  color: #fff;
  background-color: #c9302c;
  border-color: #ac2925;
}
.notification_widget.danger:active:hover,
.notification_widget.danger.active:hover,
.open > .dropdown-toggle.notification_widget.danger:hover,
.notification_widget.danger:active:focus,
.notification_widget.danger.active:focus,
.open > .dropdown-toggle.notification_widget.danger:focus,
.notification_widget.danger:active.focus,
.notification_widget.danger.active.focus,
.open > .dropdown-toggle.notification_widget.danger.focus {
  color: #fff;
  background-color: #ac2925;
  border-color: #761c19;
}
.notification_widget.danger:active,
.notification_widget.danger.active,
.open > .dropdown-toggle.notification_widget.danger {
  background-image: none;
}
.notification_widget.danger.disabled:hover,
.notification_widget.danger[disabled]:hover,
fieldset[disabled] .notification_widget.danger:hover,
.notification_widget.danger.disabled:focus,
.notification_widget.danger[disabled]:focus,
fieldset[disabled] .notification_widget.danger:focus,
.notification_widget.danger.disabled.focus,
.notification_widget.danger[disabled].focus,
fieldset[disabled] .notification_widget.danger.focus {
  background-color: #d9534f;
  border-color: #d43f3a;
}
.notification_widget.danger .badge {
  color: #d9534f;
  background-color: #fff;
}
div#pager {
  background-color: #fff;
  font-size: 14px;
  line-height: 20px;
  overflow: hidden;
  display: none;
  position: fixed;
  bottom: 0px;
  width: 100%;
  max-height: 50%;
  padding-top: 8px;
  -webkit-box-shadow: 0px 0px 12px 1px rgba(87, 87, 87, 0.2);
  box-shadow: 0px 0px 12px 1px rgba(87, 87, 87, 0.2);
  /* Display over codemirror */
  z-index: 100;
  /* Hack which prevents jquery ui resizable from changing top. */
  top: auto !important;
}
div#pager pre {
  line-height: 1.21429em;
  color: #000;
  background-color: #f7f7f7;
  padding: 0.4em;
}
div#pager #pager-button-area {
  position: absolute;
  top: 8px;
  right: 20px;
}
div#pager #pager-contents {
  position: relative;
  overflow: auto;
  width: 100%;
  height: 100%;
}
div#pager #pager-contents #pager-container {
  position: relative;
  padding: 15px 0px;
  box-sizing: border-box;
  -moz-box-sizing: border-box;
  -webkit-box-sizing: border-box;
}
div#pager .ui-resizable-handle {
  top: 0px;
  height: 8px;
  background: #f7f7f7;
  border-top: 1px solid #cfcfcf;
  border-bottom: 1px solid #cfcfcf;
  /* This injects handle bars (a short, wide = symbol) for 
        the resize handle. */
}
div#pager .ui-resizable-handle::after {
  content: '';
  top: 2px;
  left: 50%;
  height: 3px;
  width: 30px;
  margin-left: -15px;
  position: absolute;
  border-top: 1px solid #cfcfcf;
}
.quickhelp {
  /* Old browsers */
  display: -webkit-box;
  -webkit-box-orient: horizontal;
  -webkit-box-align: stretch;
  display: -moz-box;
  -moz-box-orient: horizontal;
  -moz-box-align: stretch;
  display: box;
  box-orient: horizontal;
  box-align: stretch;
  /* Modern browsers */
  display: flex;
  flex-direction: row;
  align-items: stretch;
  line-height: 1.8em;
}
.shortcut_key {
  display: inline-block;
  width: 21ex;
  text-align: right;
  font-family: monospace;
}
.shortcut_descr {
  display: inline-block;
  /* Old browsers */
  -webkit-box-flex: 1;
  -moz-box-flex: 1;
  box-flex: 1;
  /* Modern browsers */
  flex: 1;
}
span.save_widget {
  height: 30px;
  margin-top: 4px;
  display: flex;
  justify-content: flex-start;
  align-items: baseline;
  width: 50%;
  flex: 1;
}
span.save_widget span.filename {
  height: 100%;
  line-height: 1em;
  margin-left: 16px;
  border: none;
  font-size: 146.5%;
  text-overflow: ellipsis;
  overflow: hidden;
  white-space: nowrap;
  border-radius: 2px;
}
span.save_widget span.filename:hover {
  background-color: #e6e6e6;
}
[dir="rtl"] span.save_widget.pull-left {
  float: right !important;
  float: right;
}
[dir="rtl"] span.save_widget span.filename {
  margin-left: 0;
  margin-right: 16px;
}
span.checkpoint_status,
span.autosave_status {
  font-size: small;
  white-space: nowrap;
  padding: 0 5px;
}
@media (max-width: 767px) {
  span.save_widget {
    font-size: small;
    padding: 0 0 0 5px;
  }
  span.checkpoint_status,
  span.autosave_status {
    display: none;
  }
}
@media (min-width: 768px) and (max-width: 991px) {
  span.checkpoint_status {
    display: none;
  }
  span.autosave_status {
    font-size: x-small;
  }
}
.toolbar {
  padding: 0px;
  margin-left: -5px;
  margin-top: 2px;
  margin-bottom: 5px;
  box-sizing: border-box;
  -moz-box-sizing: border-box;
  -webkit-box-sizing: border-box;
}
.toolbar select,
.toolbar label {
  width: auto;
  vertical-align: middle;
  margin-right: 2px;
  margin-bottom: 0px;
  display: inline;
  font-size: 92%;
  margin-left: 0.3em;
  margin-right: 0.3em;
  padding: 0px;
  padding-top: 3px;
}
.toolbar .btn {
  padding: 2px 8px;
}
.toolbar .btn-group {
  margin-top: 0px;
  margin-left: 5px;
}
.toolbar-btn-label {
  margin-left: 6px;
}
#maintoolbar {
  margin-bottom: -3px;
  margin-top: -8px;
  border: 0px;
  min-height: 27px;
  margin-left: 0px;
  padding-top: 11px;
  padding-bottom: 3px;
}
#maintoolbar .navbar-text {
  float: none;
  vertical-align: middle;
  text-align: right;
  margin-left: 5px;
  margin-right: 0px;
  margin-top: 0px;
}
.select-xs {
  height: 24px;
}
[dir="rtl"] .btn-group > .btn,
.btn-group-vertical > .btn {
  float: right;
}
.pulse,
.dropdown-menu > li > a.pulse,
li.pulse > a.dropdown-toggle,
li.pulse.open > a.dropdown-toggle {
  background-color: #F37626;
  color: white;
}
/**
 * Primary styles
 *
 * Author: Jupyter Development Team
 */
/** WARNING IF YOU ARE EDITTING THIS FILE, if this is a .css file, It has a lot
 * of chance of beeing generated from the ../less/[samename].less file, you can
 * try to get back the less file by reverting somme commit in history
 **/
/*
 * We'll try to get something pretty, so we
 * have some strange css to have the scroll bar on
 * the left with fix button on the top right of the tooltip
 */
@-moz-keyframes fadeOut {
  from {
    opacity: 1;
  }
  to {
    opacity: 0;
  }
}
@-webkit-keyframes fadeOut {
  from {
    opacity: 1;
  }
  to {
    opacity: 0;
  }
}
@-moz-keyframes fadeIn {
  from {
    opacity: 0;
  }
  to {
    opacity: 1;
  }
}
@-webkit-keyframes fadeIn {
  from {
    opacity: 0;
  }
  to {
    opacity: 1;
  }
}
/*properties of tooltip after "expand"*/
.bigtooltip {
  overflow: auto;
  height: 200px;
  -webkit-transition-property: height;
  -webkit-transition-duration: 500ms;
  -moz-transition-property: height;
  -moz-transition-duration: 500ms;
  transition-property: height;
  transition-duration: 500ms;
}
/*properties of tooltip before "expand"*/
.smalltooltip {
  -webkit-transition-property: height;
  -webkit-transition-duration: 500ms;
  -moz-transition-property: height;
  -moz-transition-duration: 500ms;
  transition-property: height;
  transition-duration: 500ms;
  text-overflow: ellipsis;
  overflow: hidden;
  height: 80px;
}
.tooltipbuttons {
  position: absolute;
  padding-right: 15px;
  top: 0px;
  right: 0px;
}
.tooltiptext {
  /*avoid the button to overlap on some docstring*/
  padding-right: 30px;
}
.ipython_tooltip {
  max-width: 700px;
  /*fade-in animation when inserted*/
  -webkit-animation: fadeOut 400ms;
  -moz-animation: fadeOut 400ms;
  animation: fadeOut 400ms;
  -webkit-animation: fadeIn 400ms;
  -moz-animation: fadeIn 400ms;
  animation: fadeIn 400ms;
  vertical-align: middle;
  background-color: #f7f7f7;
  overflow: visible;
  border: #ababab 1px solid;
  outline: none;
  padding: 3px;
  margin: 0px;
  padding-left: 7px;
  font-family: monospace;
  min-height: 50px;
  -moz-box-shadow: 0px 6px 10px -1px #adadad;
  -webkit-box-shadow: 0px 6px 10px -1px #adadad;
  box-shadow: 0px 6px 10px -1px #adadad;
  border-radius: 2px;
  position: absolute;
  z-index: 1000;
}
.ipython_tooltip a {
  float: right;
}
.ipython_tooltip .tooltiptext pre {
  border: 0;
  border-radius: 0;
  font-size: 100%;
  background-color: #f7f7f7;
}
.pretooltiparrow {
  left: 0px;
  margin: 0px;
  top: -16px;
  width: 40px;
  height: 16px;
  overflow: hidden;
  position: absolute;
}
.pretooltiparrow:before {
  background-color: #f7f7f7;
  border: 1px #ababab solid;
  z-index: 11;
  content: "";
  position: absolute;
  left: 15px;
  top: 10px;
  width: 25px;
  height: 25px;
  -webkit-transform: rotate(45deg);
  -moz-transform: rotate(45deg);
  -ms-transform: rotate(45deg);
  -o-transform: rotate(45deg);
}
ul.typeahead-list i {
  margin-left: -10px;
  width: 18px;
}
[dir="rtl"] ul.typeahead-list i {
  margin-left: 0;
  margin-right: -10px;
}
ul.typeahead-list {
  max-height: 80vh;
  overflow: auto;
}
ul.typeahead-list > li > a {
  /** Firefox bug **/
  /* see https://github.com/jupyter/notebook/issues/559 */
  white-space: normal;
}
ul.typeahead-list  > li > a.pull-right {
  float: left !important;
  float: left;
}
[dir="rtl"] .typeahead-list {
  text-align: right;
}
.cmd-palette .modal-body {
  padding: 7px;
}
.cmd-palette form {
  background: white;
}
.cmd-palette input {
  outline: none;
}
.no-shortcut {
  min-width: 20px;
  color: transparent;
}
[dir="rtl"] .no-shortcut.pull-right {
  float: left !important;
  float: left;
}
[dir="rtl"] .command-shortcut.pull-right {
  float: left !important;
  float: left;
}
.command-shortcut:before {
  content: "(command mode)";
  padding-right: 3px;
  color: #777777;
}
.edit-shortcut:before {
  content: "(edit)";
  padding-right: 3px;
  color: #777777;
}
[dir="rtl"] .edit-shortcut.pull-right {
  float: left !important;
  float: left;
}
#find-and-replace #replace-preview .match,
#find-and-replace #replace-preview .insert {
  background-color: #BBDEFB;
  border-color: #90CAF9;
  border-style: solid;
  border-width: 1px;
  border-radius: 0px;
}
[dir="ltr"] #find-and-replace .input-group-btn + .form-control {
  border-left: none;
}
[dir="rtl"] #find-and-replace .input-group-btn + .form-control {
  border-right: none;
}
#find-and-replace #replace-preview .replace .match {
  background-color: #FFCDD2;
  border-color: #EF9A9A;
  border-radius: 0px;
}
#find-and-replace #replace-preview .replace .insert {
  background-color: #C8E6C9;
  border-color: #A5D6A7;
  border-radius: 0px;
}
#find-and-replace #replace-preview {
  max-height: 60vh;
  overflow: auto;
}
#find-and-replace #replace-preview pre {
  padding: 5px 10px;
}
.terminal-app {
  background: #EEE;
}
.terminal-app #header {
  background: #fff;
  -webkit-box-shadow: 0px 0px 12px 1px rgba(87, 87, 87, 0.2);
  box-shadow: 0px 0px 12px 1px rgba(87, 87, 87, 0.2);
}
.terminal-app .terminal {
  width: 100%;
  float: left;
  font-family: monospace;
  color: white;
  background: black;
  padding: 0.4em;
  border-radius: 2px;
  -webkit-box-shadow: 0px 0px 12px 1px rgba(87, 87, 87, 0.4);
  box-shadow: 0px 0px 12px 1px rgba(87, 87, 87, 0.4);
}
.terminal-app .terminal,
.terminal-app .terminal dummy-screen {
  line-height: 1em;
  font-size: 14px;
}
.terminal-app .terminal .xterm-rows {
  padding: 10px;
}
.terminal-app .terminal-cursor {
  color: black;
  background: white;
}
.terminal-app #terminado-container {
  margin-top: 20px;
}
/*# sourceMappingURL=style.min.css.map */
    </style>
<style type="text/css">
    .highlight .hll { background-color: #ffffcc }
.highlight  { background: #f8f8f8; }
.highlight .c { color: #408080; font-style: italic } /* Comment */
.highlight .err { border: 1px solid #FF0000 } /* Error */
.highlight .k { color: #008000; font-weight: bold } /* Keyword */
.highlight .o { color: #666666 } /* Operator */
.highlight .ch { color: #408080; font-style: italic } /* Comment.Hashbang */
.highlight .cm { color: #408080; font-style: italic } /* Comment.Multiline */
.highlight .cp { color: #BC7A00 } /* Comment.Preproc */
.highlight .cpf { color: #408080; font-style: italic } /* Comment.PreprocFile */
.highlight .c1 { color: #408080; font-style: italic } /* Comment.Single */
.highlight .cs { color: #408080; font-style: italic } /* Comment.Special */
.highlight .gd { color: #A00000 } /* Generic.Deleted */
.highlight .ge { font-style: italic } /* Generic.Emph */
.highlight .gr { color: #FF0000 } /* Generic.Error */
.highlight .gh { color: #000080; font-weight: bold } /* Generic.Heading */
.highlight .gi { color: #00A000 } /* Generic.Inserted */
.highlight .go { color: #888888 } /* Generic.Output */
.highlight .gp { color: #000080; font-weight: bold } /* Generic.Prompt */
.highlight .gs { font-weight: bold } /* Generic.Strong */
.highlight .gu { color: #800080; font-weight: bold } /* Generic.Subheading */
.highlight .gt { color: #0044DD } /* Generic.Traceback */
.highlight .kc { color: #008000; font-weight: bold } /* Keyword.Constant */
.highlight .kd { color: #008000; font-weight: bold } /* Keyword.Declaration */
.highlight .kn { color: #008000; font-weight: bold } /* Keyword.Namespace */
.highlight .kp { color: #008000 } /* Keyword.Pseudo */
.highlight .kr { color: #008000; font-weight: bold } /* Keyword.Reserved */
.highlight .kt { color: #B00040 } /* Keyword.Type */
.highlight .m { color: #666666 } /* Literal.Number */
.highlight .s { color: #BA2121 } /* Literal.String */
.highlight .na { color: #7D9029 } /* Name.Attribute */
.highlight .nb { color: #008000 } /* Name.Builtin */
.highlight .nc { color: #0000FF; font-weight: bold } /* Name.Class */
.highlight .no { color: #880000 } /* Name.Constant */
.highlight .nd { color: #AA22FF } /* Name.Decorator */
.highlight .ni { color: #999999; font-weight: bold } /* Name.Entity */
.highlight .ne { color: #D2413A; font-weight: bold } /* Name.Exception */
.highlight .nf { color: #0000FF } /* Name.Function */
.highlight .nl { color: #A0A000 } /* Name.Label */
.highlight .nn { color: #0000FF; font-weight: bold } /* Name.Namespace */
.highlight .nt { color: #008000; font-weight: bold } /* Name.Tag */
.highlight .nv { color: #19177C } /* Name.Variable */
.highlight .ow { color: #AA22FF; font-weight: bold } /* Operator.Word */
.highlight .w { color: #bbbbbb } /* Text.Whitespace */
.highlight .mb { color: #666666 } /* Literal.Number.Bin */
.highlight .mf { color: #666666 } /* Literal.Number.Float */
.highlight .mh { color: #666666 } /* Literal.Number.Hex */
.highlight .mi { color: #666666 } /* Literal.Number.Integer */
.highlight .mo { color: #666666 } /* Literal.Number.Oct */
.highlight .sa { color: #BA2121 } /* Literal.String.Affix */
.highlight .sb { color: #BA2121 } /* Literal.String.Backtick */
.highlight .sc { color: #BA2121 } /* Literal.String.Char */
.highlight .dl { color: #BA2121 } /* Literal.String.Delimiter */
.highlight .sd { color: #BA2121; font-style: italic } /* Literal.String.Doc */
.highlight .s2 { color: #BA2121 } /* Literal.String.Double */
.highlight .se { color: #BB6622; font-weight: bold } /* Literal.String.Escape */
.highlight .sh { color: #BA2121 } /* Literal.String.Heredoc */
.highlight .si { color: #BB6688; font-weight: bold } /* Literal.String.Interpol */
.highlight .sx { color: #008000 } /* Literal.String.Other */
.highlight .sr { color: #BB6688 } /* Literal.String.Regex */
.highlight .s1 { color: #BA2121 } /* Literal.String.Single */
.highlight .ss { color: #19177C } /* Literal.String.Symbol */
.highlight .bp { color: #008000 } /* Name.Builtin.Pseudo */
.highlight .fm { color: #0000FF } /* Name.Function.Magic */
.highlight .vc { color: #19177C } /* Name.Variable.Class */
.highlight .vg { color: #19177C } /* Name.Variable.Global */
.highlight .vi { color: #19177C } /* Name.Variable.Instance */
.highlight .vm { color: #19177C } /* Name.Variable.Magic */
.highlight .il { color: #666666 } /* Literal.Number.Integer.Long */
    </style>
<style type="text/css">
    
/* Temporary definitions which will become obsolete with Notebook release 5.0 */
.ansi-black-fg { color: #3E424D; }
.ansi-black-bg { background-color: #3E424D; }
.ansi-black-intense-fg { color: #282C36; }
.ansi-black-intense-bg { background-color: #282C36; }
.ansi-red-fg { color: #E75C58; }
.ansi-red-bg { background-color: #E75C58; }
.ansi-red-intense-fg { color: #B22B31; }
.ansi-red-intense-bg { background-color: #B22B31; }
.ansi-green-fg { color: #00A250; }
.ansi-green-bg { background-color: #00A250; }
.ansi-green-intense-fg { color: #007427; }
.ansi-green-intense-bg { background-color: #007427; }
.ansi-yellow-fg { color: #DDB62B; }
.ansi-yellow-bg { background-color: #DDB62B; }
.ansi-yellow-intense-fg { color: #B27D12; }
.ansi-yellow-intense-bg { background-color: #B27D12; }
.ansi-blue-fg { color: #208FFB; }
.ansi-blue-bg { background-color: #208FFB; }
.ansi-blue-intense-fg { color: #0065CA; }
.ansi-blue-intense-bg { background-color: #0065CA; }
.ansi-magenta-fg { color: #D160C4; }
.ansi-magenta-bg { background-color: #D160C4; }
.ansi-magenta-intense-fg { color: #A03196; }
.ansi-magenta-intense-bg { background-color: #A03196; }
.ansi-cyan-fg { color: #60C6C8; }
.ansi-cyan-bg { background-color: #60C6C8; }
.ansi-cyan-intense-fg { color: #258F8F; }
.ansi-cyan-intense-bg { background-color: #258F8F; }
.ansi-white-fg { color: #C5C1B4; }
.ansi-white-bg { background-color: #C5C1B4; }
.ansi-white-intense-fg { color: #A1A6B2; }
.ansi-white-intense-bg { background-color: #A1A6B2; }

.ansi-bold { font-weight: bold; }

    </style>


<style type="text/css">
/* Overrides of notebook CSS for static HTML export */
body {
  overflow: visible;
  padding: 8px;
}

div#notebook {
  overflow: visible;
  border-top: none;
}@media print {
  div.cell {
    display: block;
    page-break-inside: avoid;
  } 
  div.output_wrapper { 
    display: block;
    page-break-inside: avoid; 
  }
  div.output { 
    display: block;
    page-break-inside: avoid; 
  }
}
</style>

<!-- Custom stylesheet, it must be in the same directory as the html file -->
<link rel="stylesheet" href="custom.css">

<!-- Loading mathjax macro -->
<!-- Load mathjax -->
    <script src="https://cdnjs.cloudflare.com/ajax/libs/mathjax/2.7.1/MathJax.js?config=TeX-AMS_HTML"></script>
    <!-- MathJax configuration -->
    <script type="text/x-mathjax-config">
    MathJax.Hub.Config({
        tex2jax: {
            inlineMath: [ ['$','$'], ["\\(","\\)"] ],
            displayMath: [ ['$$','$$'], ["\\[","\\]"] ],
            processEscapes: true,
            processEnvironments: true
        },
        // Center justify equations in code and markdown cells. Elsewhere
        // we use CSS to left justify single line equations in code cells.
        displayAlign: 'center',
        "HTML-CSS": {
            styles: {'.MathJax_Display': {"margin": 0}},
            linebreaks: { automatic: true }
        }
    });
    </script>
    <!-- End of mathjax configuration --></head>
<body>
  <div tabindex="-1" id="notebook" class="border-box-sizing">
    <div class="container" id="notebook-container">

<div class="cell border-box-sizing code_cell rendered">
<div class="input">
<div class="prompt input_prompt">In&nbsp;[1]:</div>
<div class="inner_cell">
    <div class="input_area">
<div class=" highlight hl-ipython3"><pre><span></span><span class="kn">import</span> <span class="nn">numpy</span> <span class="k">as</span> <span class="nn">np</span>
<span class="kn">import</span> <span class="nn">pandas</span> <span class="k">as</span> <span class="nn">pd</span>
<span class="kn">import</span> <span class="nn">matplotlib.pyplot</span> <span class="k">as</span> <span class="nn">plt</span>
</pre></div>

    </div>
</div>
</div>

</div>
<div class="cell border-box-sizing code_cell rendered">
<div class="input">
<div class="prompt input_prompt">In&nbsp;[2]:</div>
<div class="inner_cell">
    <div class="input_area">
<div class=" highlight hl-ipython3"><pre><span></span><span class="kn">from</span> <span class="nn">sklearn</span> <span class="k">import</span> <span class="n">datasets</span><span class="p">,</span> <span class="n">model_selection</span>

<span class="n">digits</span> <span class="o">=</span> <span class="n">datasets</span><span class="o">.</span><span class="n">load_digits</span><span class="p">()</span>
<span class="n">breast_cancer</span> <span class="o">=</span> <span class="n">datasets</span><span class="o">.</span><span class="n">load_breast_cancer</span><span class="p">()</span>

<span class="n">digits_data</span> <span class="o">=</span> <span class="n">digits</span><span class="o">.</span><span class="n">data</span>
<span class="n">digits_target</span> <span class="o">=</span> <span class="n">digits</span><span class="o">.</span><span class="n">target</span>

<span class="p">(</span><span class="n">digits_data_train</span><span class="p">,</span>
 <span class="n">digits_data_test</span><span class="p">,</span> 
 <span class="n">digits_target_train</span><span class="p">,</span> 
 <span class="n">digits_target_test</span><span class="p">)</span> <span class="o">=</span> <span class="n">model_selection</span><span class="o">.</span><span class="n">train_test_split</span><span class="p">(</span><span class="n">digits_data</span><span class="p">,</span> 
                                                        <span class="n">digits_target</span><span class="p">,</span> 
                                                        <span class="n">test_size</span><span class="o">=</span><span class="mf">0.33</span><span class="p">,</span> 
                                                        <span class="n">random_state</span><span class="o">=</span><span class="mi">42</span><span class="p">)</span>

<span class="n">breast_cancer_data</span> <span class="o">=</span> <span class="n">breast_cancer</span><span class="o">.</span><span class="n">data</span>
<span class="n">breast_cancer_target</span> <span class="o">=</span> <span class="n">breast_cancer</span><span class="o">.</span><span class="n">target</span>

<span class="p">(</span><span class="n">breast_cancer_data_train</span><span class="p">,</span>
 <span class="n">breast_cancer_data_test</span><span class="p">,</span>
 <span class="n">breast_cancer_target_train</span><span class="p">,</span> 
 <span class="n">breast_cancer_target_test</span><span class="p">)</span> <span class="o">=</span> <span class="n">model_selection</span><span class="o">.</span><span class="n">train_test_split</span><span class="p">(</span><span class="n">breast_cancer_data</span><span class="p">,</span> 
                                                                <span class="n">breast_cancer_target</span><span class="p">,</span> 
                                                                <span class="n">test_size</span><span class="o">=</span><span class="mf">0.3</span><span class="p">,</span>
                                                                <span class="n">random_state</span><span class="o">=</span><span class="mi">42</span><span class="p">)</span>
</pre></div>

    </div>
</div>
</div>

</div>
<div class="cell border-box-sizing code_cell rendered">
<div class="input">
<div class="prompt input_prompt">In&nbsp;[3]:</div>
<div class="inner_cell">
    <div class="input_area">
<div class=" highlight hl-ipython3"><pre><span></span><span class="k">def</span> <span class="nf">train_classifiers</span><span class="p">(</span><span class="n">clfs</span><span class="p">,</span> <span class="n">X_train</span><span class="p">,</span> <span class="n">y_train</span><span class="p">,</span> <span class="n">X_test</span><span class="p">):</span>
    <span class="sd">&quot;&quot;&quot;</span>
<span class="sd">    Trains every classifier in clfs, which is a list of classifiers.</span>
<span class="sd">    Returns a dict = {classifier_name : classifier} of trained classifiers.</span>
<span class="sd">    &quot;&quot;&quot;</span>
    <span class="n">clfs_trained</span> <span class="o">=</span> <span class="p">{}</span>
    <span class="k">for</span> <span class="n">clf_name</span> <span class="ow">in</span> <span class="n">clfs</span><span class="p">:</span>
        <span class="n">clf</span> <span class="o">=</span> <span class="n">clfs</span><span class="p">[</span><span class="n">clf_name</span><span class="p">]</span>
        <span class="n">clf</span><span class="o">.</span><span class="n">fit</span><span class="p">(</span><span class="n">X_train</span><span class="p">,</span> <span class="n">y_train</span><span class="p">)</span>
        <span class="n">clf</span><span class="o">.</span><span class="n">predict</span><span class="p">(</span><span class="n">X_test</span><span class="p">)</span>
        <span class="n">clfs_trained</span><span class="p">[</span><span class="n">clf_name</span><span class="p">]</span> <span class="o">=</span> <span class="n">clf</span>
    <span class="k">return</span> <span class="n">clfs_trained</span>

<span class="k">def</span> <span class="nf">get_cross_val_score_means</span><span class="p">(</span><span class="n">clfs_trained</span><span class="p">,</span> <span class="n">X</span><span class="p">,</span> <span class="n">y</span><span class="p">,</span> <span class="n">cv</span><span class="p">):</span>
    <span class="sd">&quot;&quot;&quot;</span>
<span class="sd">    Computes cross_val_score mean for every trained classifier.</span>
<span class="sd">    Returns a dict = {classifier_name : score_mean}.</span>
<span class="sd">    &quot;&quot;&quot;</span>
    <span class="n">scores</span> <span class="o">=</span> <span class="p">{}</span>
    <span class="k">for</span> <span class="n">clf_trained</span> <span class="ow">in</span> <span class="n">clfs_trained</span><span class="p">:</span>
        <span class="n">clf</span> <span class="o">=</span> <span class="n">clfs_trained</span><span class="p">[</span><span class="n">clf_trained</span><span class="p">]</span>
        <span class="n">score</span> <span class="o">=</span> <span class="n">model_selection</span><span class="o">.</span><span class="n">cross_val_score</span><span class="p">(</span><span class="n">clf</span><span class="p">,</span> <span class="n">X</span><span class="p">,</span> <span class="n">y</span><span class="p">,</span> <span class="n">cv</span><span class="o">=</span><span class="n">cv</span><span class="p">)</span>
        <span class="n">score_mean</span> <span class="o">=</span> <span class="n">score</span><span class="o">.</span><span class="n">mean</span><span class="p">()</span>
        <span class="n">scores</span><span class="p">[</span><span class="n">clf_trained</span><span class="p">]</span> <span class="o">=</span> <span class="n">score_mean</span>
    <span class="k">return</span> <span class="n">scores</span>
</pre></div>

    </div>
</div>
</div>

</div>
<div class="cell border-box-sizing code_cell rendered">
<div class="input">
<div class="prompt input_prompt">In&nbsp;[4]:</div>
<div class="inner_cell">
    <div class="input_area">
<div class=" highlight hl-ipython3"><pre><span></span><span class="kn">from</span> <span class="nn">sklearn</span> <span class="k">import</span> <span class="n">naive_bayes</span> 

<span class="n">clfs</span> <span class="o">=</span> <span class="p">{</span><span class="s2">&quot;Bernoulli&quot;</span> <span class="p">:</span> <span class="n">naive_bayes</span><span class="o">.</span><span class="n">BernoulliNB</span><span class="p">(),</span>
       <span class="s2">&quot;Multinomial&quot;</span> <span class="p">:</span> <span class="n">naive_bayes</span><span class="o">.</span><span class="n">MultinomialNB</span><span class="p">(),</span>
       <span class="s2">&quot;Gaussian&quot;</span> <span class="p">:</span> <span class="n">naive_bayes</span><span class="o">.</span><span class="n">GaussianNB</span><span class="p">()}</span>
</pre></div>

    </div>
</div>
</div>

</div>
<div class="cell border-box-sizing code_cell rendered">
<div class="input">
<div class="prompt input_prompt">In&nbsp;[5]:</div>
<div class="inner_cell">
    <div class="input_area">
<div class=" highlight hl-ipython3"><pre><span></span><span class="c1"># digits</span>

<span class="n">clfs_trained</span> <span class="o">=</span> <span class="n">train_classifiers</span><span class="p">(</span><span class="n">clfs</span><span class="p">,</span> 
                                 <span class="n">digits_data_train</span><span class="p">,</span> 
                                 <span class="n">digits_target_train</span><span class="p">,</span> 
                                 <span class="n">digits_data_test</span><span class="p">)</span>
<span class="n">get_cross_val_score_means</span><span class="p">(</span><span class="n">clfs_trained</span><span class="p">,</span> <span class="n">digits_data</span><span class="p">,</span> <span class="n">digits_target</span><span class="p">,</span> <span class="n">cv</span><span class="o">=</span><span class="mi">10</span><span class="p">)</span>
</pre></div>

    </div>
</div>
</div>

<div class="output_wrapper">
<div class="output">


<div class="output_area">

    <div class="prompt output_prompt">Out[5]:</div>




<div class="output_text output_subarea output_execute_result">
<pre>{&#39;Bernoulli&#39;: 0.831855746495016,
 &#39;Multinomial&#39;: 0.8819396216300838,
 &#39;Gaussian&#39;: 0.8103537583567821}</pre>
</div>

</div>

</div>
</div>

</div>
<div class="cell border-box-sizing code_cell rendered">
<div class="input">
<div class="prompt input_prompt">In&nbsp;[6]:</div>
<div class="inner_cell">
    <div class="input_area">
<div class=" highlight hl-ipython3"><pre><span></span><span class="c1"># breast cancer</span>

<span class="n">clfs_trained</span> <span class="o">=</span> <span class="n">train_classifiers</span><span class="p">(</span><span class="n">clfs</span><span class="p">,</span> 
                                 <span class="n">breast_cancer_data_train</span><span class="p">,</span> 
                                 <span class="n">breast_cancer_target_train</span><span class="p">,</span> 
                                 <span class="n">breast_cancer_data_test</span><span class="p">)</span>
<span class="n">get_cross_val_score_means</span><span class="p">(</span><span class="n">clfs_trained</span><span class="p">,</span> <span class="n">breast_cancer_data</span><span class="p">,</span> <span class="n">breast_cancer_target</span><span class="p">,</span> <span class="n">cv</span><span class="o">=</span><span class="mi">10</span><span class="p">)</span>
</pre></div>

    </div>
</div>
</div>

<div class="output_wrapper">
<div class="output">


<div class="output_area">

    <div class="prompt output_prompt">Out[6]:</div>




<div class="output_text output_subarea output_execute_result">
<pre>{&#39;Bernoulli&#39;: 0.6274274047186933,
 &#39;Multinomial&#39;: 0.8929349235156856,
 &#39;Gaussian&#39;: 0.9386796733212339}</pre>
</div>

</div>

</div>
</div>

</div>
<div class="cell border-box-sizing code_cell rendered">
<div class="input">
<div class="prompt input_prompt">In&nbsp;[7]:</div>
<div class="inner_cell">
    <div class="input_area">
<div class=" highlight hl-ipython3"><pre><span></span><span class="k">def</span> <span class="nf">draw_hist</span><span class="p">(</span><span class="n">data</span><span class="p">):</span>
    <span class="sd">&quot;&quot;&quot;</span>
<span class="sd">    Draws 5 hists, which are for the distributions the first 5 features</span>
<span class="sd">    &quot;&quot;&quot;</span>
    <span class="n">df</span> <span class="o">=</span> <span class="n">pd</span><span class="o">.</span><span class="n">DataFrame</span><span class="p">(</span><span class="n">data</span><span class="p">)</span>
    <span class="k">for</span> <span class="n">col</span> <span class="ow">in</span> <span class="n">pd</span><span class="o">.</span><span class="n">DataFrame</span><span class="p">(</span><span class="n">data</span><span class="p">)</span><span class="o">.</span><span class="n">columns</span><span class="p">[:</span><span class="mi">5</span><span class="p">]:</span>
        <span class="n">pd</span><span class="o">.</span><span class="n">DataFrame</span><span class="p">(</span><span class="n">data</span><span class="p">)[[</span><span class="n">col</span><span class="p">]]</span><span class="o">.</span><span class="n">hist</span><span class="p">(</span><span class="n">color</span><span class="o">=</span><span class="s2">&quot;lightcoral&quot;</span><span class="p">)</span>
        <span class="n">plt</span><span class="o">.</span><span class="n">ylabel</span><span class="p">(</span><span class="s2">&quot;number of objects&quot;</span><span class="p">)</span>
        <span class="n">plt</span><span class="o">.</span><span class="n">xlabel</span><span class="p">(</span><span class="s2">&quot;feature value&quot;</span><span class="p">)</span>
</pre></div>

    </div>
</div>
</div>

</div>
<div class="cell border-box-sizing code_cell rendered">
<div class="input">
<div class="prompt input_prompt">In&nbsp;[8]:</div>
<div class="inner_cell">
    <div class="input_area">
<div class=" highlight hl-ipython3"><pre><span></span><span class="c1"># digits</span>
<span class="n">draw_hist</span><span class="p">(</span><span class="n">digits_data</span><span class="p">)</span>
</pre></div>

    </div>
</div>
</div>

<div class="output_wrapper">
<div class="output">


<div class="output_area">

    <div class="prompt"></div>




<div class="output_png output_subarea ">
<img src="data:image/png;base64,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
"
>
</div>

</div>

<div class="output_area">

    <div class="prompt"></div>




<div class="output_png output_subarea ">
<img src="data:image/png;base64,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
"
>
</div>

</div>

<div class="output_area">

    <div class="prompt"></div>




<div class="output_png output_subarea ">
<img src="data:image/png;base64,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
"
>
</div>

</div>

<div class="output_area">

    <div class="prompt"></div>




<div class="output_png output_subarea ">
<img src="data:image/png;base64,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
"
>
</div>

</div>

<div class="output_area">

    <div class="prompt"></div>




<div class="output_png output_subarea ">
<img src="data:image/png;base64,iVBORw0KGgoAAAANSUhEUgAAAYgAAAEWCAYAAAB8LwAVAAAABHNCSVQICAgIfAhkiAAAAAlwSFlzAAALEgAACxIB0t1+/AAAADl0RVh0U29mdHdhcmUAbWF0cGxvdGxpYiB2ZXJzaW9uIDMuMC4wLCBodHRwOi8vbWF0cGxvdGxpYi5vcmcvqOYd8AAAG75JREFUeJzt3X90HeV95/H3B2xMsYyFS6Kl2K3JYsMSDj9sQWBDaykUDhCKaUsJDQ2GsHhLWEibpAspZ0Oc0K6z+UEhpAQvUExCUSiB4uVAqNegErqBxMbG/HAAl592FJwEY5ANJjjf/WMe4YsykuZeazTX0ud1zj135rkzcz+6ku/X88zMM4oIzMzM+tul6gBmZtacXCDMzCyXC4SZmeVygTAzs1wuEGZmlssFwszMcrlAmJlZLhcIsxJImiHpTUnfrjqLWaNcIMzK8Q3gR1WHMNsRLhBmw0zSGcCrwLKqs5jtCBcIs2EkaU/gC8Cnqs5itqNcIMyG1xeB6yNiXdVBzHbUuKoDmI0Wkg4Dfh84vOosZsPBBcJs+HQA04EXJQG0ALtKOigiZlWYy6wh8nDfZsND0h7AnjVNnyErGOdHxM8qCWW2A7wHYTZMImILsKVvXlIv8KaLg+2svAdhZma5fBaTmZnlcoEwM7NcLhBmZpbLBcLMzHLt1Gcx7b333jF9+vSG1t28eTMTJ04c3kDDwLnq41z1a9ZszlWfHcm1YsWKn0fEe4ZcMCJ22sfs2bOjUffff3/D65bJuerjXPVr1mzOVZ8dyQUsjwLfse5iMjOzXC4QZmaWywXCzMxyuUCYmVkuFwgzM8vlAmFmZrlcIMzMLJcLhJmZ5XKBMDOzXDv1UBtmZlXatGBBdW8+Z07pb+E9CDMzy+UCYWZmuVwgzMwslwuEmZnlcoEwM7NcLhBmZpbLBcLMzHK5QJiZWS4XCDMzy+UCYWZmuUotEJJaJd0m6ceS1kg6WtIUSUslPZOe90rLStJVktZKWi1pVpnZzMxscGXvQVwJfC8iDgQOBdYAlwDLImIGsCzNA5wIzEiP+cA1JWczM7NBlFYgJE0Gfg+4HiAi3oqIV4G5wOK02GLg1DQ9F7gpMg8BrZL2KSufmZkNThFRzoalw4BFwJNkew8rgE8C6yOiNS0jYGNEtEq6C1gYEQ+m15YBF0fE8n7bnU+2h0FbW9vsrq6uhvL19vbS0tLS0Lplcq76OFf9mjXbzphrW0/PCKfZ7o1Jkxr+vDo7O1dERPtQy5U53Pc4YBZwYUQ8LOlKtncnARARIamuChURi8gKD+3t7dHR0dFQuO7ubhpdt0zOVR/nql+zZtsZc1U53PfKOXNK/7zKPAaxDlgXEQ+n+dvICsbLfV1H6XlDen09MK1m/ampzczMKlBagYiInwIvSTogNR1L1t20BJiX2uYBd6bpJcBZ6Wymo4BNEVHd/puZ2RhX9h3lLgRulrQb8CxwDllRulXSucALwOlp2buBk4C1wJa0rJmZVaTUAhERq4C8AyHH5iwbwAVl5jEzs+J8JbWZmeVygTAzs1wuEGZmlssFwszMcrlAmJlZLhcIMzPL5QJhZma5XCDMzCyXC4SZmeVygTAzs1wuEGZmlssFwszMcrlAmJlZLhcIMzPL5QJhZma5XCDMzCyXC4SZmeVygTAzs1wuEGZmlssFwszMcrlAmJlZLhcIMzPL5QJhZma5Si0Qkp6X9JikVZKWp7YpkpZKeiY975XaJekqSWslrZY0q8xsZmY2uJHYg+iMiMMioj3NXwIsi4gZwLI0D3AiMCM95gPXjEA2MzMbQBVdTHOBxWl6MXBqTftNkXkIaJW0TwX5zMwMUESUt3HpOWAjEMC1EbFI0qsR0ZpeF7AxIlol3QUsjIgH02vLgIsjYnm/bc4n28Ogra1tdldXV0PZent7aWlpafRHK41z1ce56tes2XbGXNt6ekY4zXZvTJrU8OfV2dm5oqZXZ0DjGtp6ccdExHpJ7wWWSvpx7YsREZLqqlARsQhYBNDe3h4dHR0NBevu7qbRdcvkXPVxrvo1a7adMdemBQtGNkyNlXPmlP55ldrFFBHr0/MG4A7gSODlvq6j9LwhLb4emFaz+tTUZmZmFSitQEiaKGlS3zRwPPA4sASYlxabB9yZppcAZ6WzmY4CNkVEdftvZmZjXJldTG3AHdlhBsYB/xgR35P0I+BWSecCLwCnp+XvBk4C1gJbgHNKzGZmZkMorUBExLPAoTntvwCOzWkP4IKy8piZWX18JbWZmeVygTAzs1x1FQhJu0jas6wwZmbWPIYsEJL+UdKe6Uykx4EnJf1V+dHMzKxKRfYgDoqI18iGxLgH2A/4WKmpzMysckUKxHhJ48kKxJKI+GXJmczMrAkUKRDXAs8DE4EHJP0OsKnMUGZmVr0iBeL/RMS+EXFSulbhReDjJecyM7OKFSkQ362dSUWisSFUzcxspzHgldSSDgTeD0yW9Ec1L+0J7F52MDMzq9ZgQ20cAJwMtAJ/UNP+OnBemaHMzKx6AxaIiLgTuFPS0RHxgxHMZGZmTaDIMYg/l9TaNyNpL0k3lJjJzMyaQJECcUhEvNo3ExEbgcPLi2RmZs2gSIHYRdJefTOSplD+rUrNzKxiRb7ovwr8QNI/pfk/Af6mvEhmZtYMhiwQEXGTpOXAh1LTH0XEk+XGMjOzqhUd7nsKsDkirgZ+Jmm/EjOZmVkTKDLc92XAxcBnU9N44NtlhjIzs+oV2YP4Q+AUYDNARPwEmFRmKDMzq16RAvFWGn8pANKNg8zMbJQrUiBulXQt0CrpPOD/Av+73FhmZla1ImcxfUXSccBrZOMzfS4ilpaezMzMKlXogrdUEBoqCpJ2BZYD6yPi5HQGVBfwm8AK4GMR8ZakCcBNwGzgF8BHIuL5Rt7TzMx23IBdTJIeTM+vS3ot5/GcpE8UeI9PAmtq5r8EXBER+wMbgXNT+7nAxtR+RVrOzMwqMmCBiIhj0vOkiNiz/wNoJ/vyH5CkqcCHgevSvMguuLstLbKY7F7XAHPTPOn1Y9PyZmZWAWUnKA2xkDQLOIbsTKYHI2Jlat8nInoGWe824H+SnRb7GeBs4KG0l4CkacA9EXGwpMeBEyJiXXrt34EPRMTP+21zPjAfoK2tbXZXV2M3t+vt7aWlpaWhdcvkXPVxrvo1a7adMde2ngG//kr3xqRJDX9enZ2dKyKifajlhjwGIelzZOMv3Z6abpT0TxFx+RDF4WRgQ0SskNRRMPeQImIRsAigvb09Ojoa23R3dzeNrlsm56qPc9WvWbPtjLk2LVgwsmFqrJwzp/TPq8hB6jOBQyPiTQBJC4FVwOVDrPdB4BRJJ5HdonRP4Eqy02XHRcTbwFRgfVp+PTANWCdpHDCZ7GC1mZlVoMh1ED/h3fegnsD2L/UBRcRnI2JqREwHzgDui4gzgfuB09Ji84A70/SSNE96/b4o0v9lZmalGHAPQtLXyY45bAKekLQ0zR8H/HAH3vNioEvS5cBK4PrUfj3wLUlrgVfIioqZmVVksC6m5el5BXBHTXt3vW8SEd1960XEs8CROcu8SXasw8zMmsCABSIi+k45RdJuwMw0+1RE/LLsYGZmVq0iZzF1kF2f8DwgYJqkeRHxQLnRzMysSkVvOXp8RDwFIGkmcAvZkBhmZjZKFTmLaXxfcQCIiKfJbhpkZmajWJE9iOWSrmP7XeTOZPsBbDOzypV5wdq2mTMrvSCuSkUKxPnABcBFaf77wN+XlsjMzJpCkftBbAW+lh5mZjZGFDkGYWZmY5ALhJmZ5RrshkHfSs+D3vPBzMxGp8H2IGZL+i3g45L2kjSl9jFSAc3MrBqDHaT+JrAMeB/ZeEy1d3eL1G5mZqPUYLccvSoi/hNwQ0S8LyL2q3m4OJiZjXJFTnM9X9KhwO+mpgciYnW5sczMrGpDnsUk6SLgZuC96XGzpAvLDmZmZtUqciX1fwE+EBGbASR9CfgB8PUyg5mZWbWKXAchYFvN/DbefcDazMxGoSJ7EP8APCyp765yp7L9NqFmZjZKFTlI/TVJ3cAxqemciFhZaiozM6tckT0IIuIR4JGSs5iZWRPxWExmZpbLBcLMzHINWiAk7Srp/pEKY2ZmzWPQAhER24BfSZpc74Yl7S7ph5IelfSEpAWpfT9JD0taK+k7knZL7RPS/Nr0+vQGfh4zMxsmRQ5S9wKPSVoKbO5rjIiLBl4FgK3AhyKiV9J44EFJ9wCfAq6IiC5J3wTOBa5JzxsjYn9JZwBfAj5S/49kZmbDoUiBuD096hIRQVZcAManRwAfAj6a2hcDnycrEHPTNMBtwNWSlLZjZmYjTEW+fyX9BvDbEfFUXRuXdiUbKnx/4BvAl4GHImL/9Po04J6IOFjS48AJEbEuvfbvZEN8/LzfNucD8wHa2tpmd3V11RPpHb29vbS0tDS0bpmcqz7OVb9mzbYjubb19Axzmu22TJjAHlu3lrb9Rr0xaVLDn1dnZ+eKiGgfarkh9yAk/QHwFWA3YD9JhwFfiIhThlo3HcM4TFIrcAdw4JDJh97mImARQHt7e3R0dDS0ne7ubhpdt0zOVR/nql+zZtuRXJsWLBjeMDWWz5xJ+9NPl7b9Rq2cM6f032OR01w/DxwJvAoQEauo82ZBEfEqcD9wNNAqqa8wTQXWp+n1wDSA9Ppk4Bf1vI+ZmQ2fIgXilxGxqV/br4ZaSdJ70p5DXxfVccAaskJxWlpsHnBnml6S5kmv3+fjD2Zm1SlykPoJSR8FdpU0A7gI+H8F1tsHWJyOQ+wC3BoRd0l6EuiSdDmwku0D/10PfEvSWuAV4Iw6fxYzMxtGRQrEhcClZKet3gLcC3xxqJXSXecOz2l/lqzLqn/7m8CfFMhjZmYjoMhorluAS9ONgiIiXi8/lpmZVa3ILUePkPQYsJrsgrlHJc0uP5qZmVWpSBfT9cAnIuL7AJKOIbuJ0CFlBjMzs2oVOYtpW19xAIiIB4G3y4tkZmbNYMA9CEmz0uS/SrqW7AB1kI2P1F1+NDMzq9JgXUxf7Td/Wc20r08wMxvlBiwQEdE5kkHMzKy5FBmLqRU4C5heu3yB4b7NzGwnVuQspruBh4DHKDDEhpmZjQ5FCsTuEfGp0pOYmVlTKXKa67cknSdpH0lT+h6lJzMzs0oV2YN4i+xGP5ey/eyloM4hv83MbOdSpEB8Gti//53dzMxsdCvSxbQW2FJ2EDMzay5F9iA2A6sk3U825Dfg01zNzEa7IgXin9PDzMzGkCL3g1g8EkHMzKy5FLmS+jlyxl6KCJ/FZGY2ihXpYmqvmd6d7Lagvg7CzGyUG/Ispoj4Rc1jfUT8HfDhEchmZmYVKtLFNKtmdheyPYoiex5mZrYTK/JFX3tfiLeB54HTS0ljZmZNo8hZTL4vhJnZGFSki2kC8Mf8+v0gvjDEetOAm4A2srOgFkXElWmgv++k7T0PnB4RGyUJuBI4iezK7bMj4pH6fyQzMxsORYbauBOYS9a9tLnmMZS3gU9HxEHAUcAFkg4CLgGWRcQMYFmaBzgRmJEe84Fr6vg5zMxsmBU5BjE1Ik6od8MR0QP0pOnXJa0B9iUrNh1pscVAN3Bxar8pIgJ4SFKrpH3SdszMbIQp+z4eZAFpEfD1iHis4TeRpgMPAAcDL0ZEa2oXsDEiWiXdBSyMiAfTa8uAiyNieb9tzSfbw6CtrW12V1dXQ5l6e3tpaWlp7AcqkXPVx7nq16zZdiTXtp7y/h+5ZcIE9ti6degFR9gbkyY1/Hl1dnauiIj2oZYrsgdxDHB2uqJ6KyAgIuKQIkEktQDfBf4iIl7LakImIkLS4BWqn4hYBCwCaG9vj46OjnpWf0d3dzeNrlsm56qPc9WvWbPtSK5NCxYMb5gay2fOpP3pp0vbfqNWzplT+u+xSIE4sdGNSxpPVhxujojbU/PLfV1HkvYBNqT29cC0mtWnpjYzM6tAkSupX8h7DLVe6j66HlgTEV+reWkJMC9NzyM7CN7XfpYyRwGbfPzBzKw6ZV4R/UHgY8Bjklaltr8GFgK3SjoXeIHtF93dTXaKa98Nis4pMZuZmQ2htAKRDjZrgJePzVk+gAvKymM2VgzVH79t5sxS+uwnX3bZsG/TqlXkOggzMxuDXCDMzCyXC4SZmeVygTAzs1wuEGZmlssFwszMcrlAmJlZLt861MyGxY5eW1HW9RnWOO9BmJlZLhcIMzPL5S4msxJs6+lxd4nt9LwHYWZmuVwgzMwslwuEmZnlcoEwM7NcLhBmZpbLBcLMzHK5QJiZWS4XCDMzy+UCYWZmuVwgzMwslwuEmZnlcoEwM7NcpRUISTdI2iDp8Zq2KZKWSnomPe+V2iXpKklrJa2WNKusXGZmVkyZexA3Aif0a7sEWBYRM4BlaR7gRGBGeswHrikxl5mZFVBagYiIB4BX+jXPBRan6cXAqTXtN0XmIaBV0j5lZTMzs6GN9DGItojoSdM/BdrS9L7ASzXLrUttZmZWEUVEeRuXpgN3RcTBaf7ViGiteX1jROwl6S5gYUQ8mNqXARdHxPKcbc4n64aira1tdldXV0PZent7aWlpaWjdMjlXfZo11+uvvMIeW7dWHSPXlgkTmjKbc9XnjUmTGv7b7+zsXBER7UMtN9J3lHtZ0j4R0ZO6kDak9vXAtJrlpqa2XxMRi4BFAO3t7dHR0dFQkO7ubhpdt0zOVZ9mzbXslltof/rpqmPkWj5zZlNmc676rJwzp/S//ZHuYloCzEvT84A7a9rPSmczHQVsqumKMjOzCpS2ByHpFqAD2FvSOuAyYCFwq6RzgReA09PidwMnAWuBLcA5ZeUyM7NiSisQEfGnA7x0bM6yAVxQVhar3qYFC0rZ7raZMwfd9uTLLivlfc3GAl9JbWZmuVwgzMwslwuEmZnlcoEwM7NcI30dRNPY1tNT2oHTofjAqZntDLwHYWZmuVwgzMwslwuEmZnlcoEwM7NcY/YgdZUGOzg+1JXBO8IHx82sHt6DMDOzXC4QZmaWywXCzMxy+RiEjWpVXQzJzJnVvK/ZMPIehJmZ5XKBMDOzXC4QZmaWywXCzMxy+SD1GLIjB2zLvIDPzJqT9yDMzCyXC4SZmeVygTAzs1wuEGZmlssFwszMcjVVgZB0gqSnJK2VdEnVeczMxrKmKRCSdgW+AZwIHAT8qaSDqk1lZjZ2NU2BAI4E1kbEsxHxFtAFzK04k5nZmNVMF8rtC7xUM78O+ED/hSTNB+an2V5JTzX4fnsDP29w3TI5V32cq37Nms256rMjuX6nyELNVCAKiYhFwKId3Y6k5RHRPgyRhpVz1ce56tes2ZyrPiORq5m6mNYD02rmp6Y2MzOrQDMViB8BMyTtJ2k34AxgScWZzMzGrKbpYoqItyX9N+BeYFfghoh4osS33OFuqpI4V32cq37Nms256lN6LkVE2e9hZmY7oWbqYjIzsybiAmFmZrnGZIFoxiE9JE2TdL+kJyU9IemTVWeqJWlXSSsl3VV1lj6SWiXdJunHktZIOrrqTACS/jL9Dh+XdIuk3SvKcYOkDZIer2mbImmppGfS815NkuvL6fe4WtIdklqbIVfNa5+WFJL2bpZcki5Mn9kTkv5XGe895gpEEw/p8Tbw6Yg4CDgKuKBJcvX5JLCm6hD9XAl8LyIOBA6lCfJJ2he4CGiPiIPJTrg4o6I4NwIn9Gu7BFgWETOAZWl+pN3Ir+daChwcEYcATwOfHelQ5OdC0jTgeODFkQ6U3Ei/XJI6yUaaODQi3g98pYw3HnMFgiYd0iMieiLikTT9OtmX3b7VpspImgp8GLiu6ix9JE0Gfg+4HiAi3oqIV6tN9Y5xwG9IGgfsAfykihAR8QDwSr/mucDiNL0YOHVEQ5GfKyL+JSLeTrMPkV0HVXmu5ArgvwOVnNEzQK7zgYURsTUts6GM9x6LBSJvSI+m+CLuI2k6cDjwcLVJ3vF3ZP9AflV1kBr7AT8D/iF1fV0naWLVoSJiPdn/5l4EeoBNEfEv1aZ6l7aI6EnTPwXaqgwzgI8D91QdAkDSXGB9RDxadZZ+ZgK/K+lhSf8q6Ygy3mQsFoimJqkF+C7wFxHxWhPkORnYEBErqs7SzzhgFnBNRBwObKaa7pJ3SX36c8kK2G8BEyX9WbWp8kV2jntTnecu6VKy7tabmyDLHsBfA5+rOkuOccAUsu7ovwJulaThfpOxWCCadkgPSePJisPNEXF71XmSDwKnSHqerDvuQ5K+XW0kINvzWxcRfXtZt5EVjKr9PvBcRPwsIn4J3A7854oz1XpZ0j4A6bmUrolGSDobOBk4M5rjAq3/SFboH01//1OBRyT9h0pTZdYBt0fmh2R798N+AH0sFoimHNIjVf/rgTUR8bWq8/SJiM9GxNSImE72Wd0XEZX/jzgifgq8JOmA1HQs8GSFkfq8CBwlaY/0Oz2WJjh4XmMJMC9NzwPurDDLOySdQNaNeUpEbKk6D0BEPBYR742I6envfx0wK/3tVe2fgU4ASTOB3ShhxNkxVyDSgbC+IT3WALeWPKRHUR8EPkb2P/RV6XFS1aGa3IXAzZJWA4cBf1txHtIezW3AI8BjZP/GKhmqQdItwA+AAyStk3QusBA4TtIzZHs7C5sk19XAJGBp+tv/ZpPkqtwAuW4A3pdOfe0C5pWx1+WhNszMLNeY24MwM7NiXCDMzCyXC4SZmeVygTAzs1wuEGZmlssFwkYlSRelEV7rviJX0nRJHy0jVyMkfV7SZ6rOYWOPC4SNVp8AjouIMxtYdzpQd4FIIwWbjRouEDbqpIus3gfck+7NMDGNqf/DNLDf3LTcdEnfl/RIevQNibGQbCC0VWn9syVdXbP9uyR1pOleSV+V9ChwtKTZafC0FZLu7RvWombdyZJekLRLmp8o6SVJ4yWdJ+lHkh6V9N00FlD/n61bUnua3jsNAdF3v44vp/VXS/qvw/yx2hjkAmGjTkT8OdkQ250RcQVwKdkQIUeSDU/w5TTy6wayvYxZwEeAq9ImLgG+HxGHpfUHMxF4OCIOJRt99+vAaRExm+xq17/pl20TsAqYk5pOBu7tG7cpIo5I21oD1HMl77lkI8ceARwBnCdpvzrWN/s146oOYDYCjicbcLCvH3934LfJisjVkg4DtpENoVyvbWQDLAIcABxMNlwEZDcL6slZ5ztkBel+svGt/j61HyzpcqAVaCEbDqao44FDJJ2W5icDM4Dn6tiG2bu4QNhYIOCPI+KpdzVKnwdeJrsb3S7AmwOs/zbv3tuuvYXomxGxreZ9noiIoW59ugT4W0lTgNnAfan9RuDUiHg0jWzaMUSW2hwCLoyIeoqK2aDcxWRjwb3AhX3j5Us6PLVPBnoi4ldkAyX2HWR+nWzguD7PA4dJ2kXZ7SePHOB9ngLeo3Rv7HRc4f39F4qIXrJRha8E7qopMJOAnjTs+0AH158nKyoAp9W03wucn9ZF0kw1wQ2UbOfmAmFjwReB8cBqSU+keci6dualA8wHkt10CGA1sC0dLP5L4N/IumqeJDtO8Ujem6Rb2J4GfCltcxUD3wviO8Cfpec+/4PsOMa/AT8eYL2vkBWClbx7/P/rUr5H0gif1+IeAttBHs3VzMxyeQ/CzMxyuUCYmVkuFwgzM8vlAmFmZrlcIMzMLJcLhJmZ5XKBMDOzXP8fIS/3LXPutFQAAAAASUVORK5CYII=
"
>
</div>

</div>

</div>
</div>

</div>
<div class="cell border-box-sizing code_cell rendered">
<div class="input">
<div class="prompt input_prompt">In&nbsp;[9]:</div>
<div class="inner_cell">
    <div class="input_area">
<div class=" highlight hl-ipython3"><pre><span></span><span class="c1"># breast cancer</span>
<span class="n">draw_hist</span><span class="p">(</span><span class="n">breast_cancer_data</span><span class="p">)</span>
</pre></div>

    </div>
</div>
</div>

<div class="output_wrapper">
<div class="output">


<div class="output_area">

    <div class="prompt"></div>




<div class="output_png output_subarea ">
<img src="data:image/png;base64,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
"
>
</div>

</div>

<div class="output_area">

    <div class="prompt"></div>




<div class="output_png output_subarea ">
<img src="data:image/png;base64,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
"
>
</div>

</div>

<div class="output_area">

    <div class="prompt"></div>




<div class="output_png output_subarea ">
<img src="data:image/png;base64,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
"
>
</div>

</div>

<div class="output_area">

    <div class="prompt"></div>




<div class="output_png output_subarea ">
<img src="data:image/png;base64,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
"
>
</div>

</div>

<div class="output_area">

    <div class="prompt"></div>




<div class="output_png output_subarea ">
<img src="data:image/png;base64,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
"
>
</div>

</div>

</div>
</div>

</div>
    </div>
  </div>
</body>

 


</html>
