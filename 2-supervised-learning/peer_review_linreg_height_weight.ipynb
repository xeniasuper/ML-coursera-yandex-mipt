<!DOCTYPE html>
<html>
<head><meta charset="utf-8" />
<title>peer_review_linreg_height_weight</title><script src="https://cdnjs.cloudflare.com/ajax/libs/require.js/2.1.10/require.min.js"></script>
<script src="https://cdnjs.cloudflare.com/ajax/libs/jquery/2.0.3/jquery.min.js"></script>

<style type="text/css">
    /*!
*
* Twitter Bootstrap
*
*/
/*!
 * Bootstrap v3.3.7 (http://getbootstrap.com)
 * Copyright 2011-2016 Twitter, Inc.
 * Licensed under MIT (https://github.com/twbs/bootstrap/blob/master/LICENSE)
 */
/*! normalize.css v3.0.3 | MIT License | github.com/necolas/normalize.css */
html {
  font-family: sans-serif;
  -ms-text-size-adjust: 100%;
  -webkit-text-size-adjust: 100%;
}
body {
  margin: 0;
}
article,
aside,
details,
figcaption,
figure,
footer,
header,
hgroup,
main,
menu,
nav,
section,
summary {
  display: block;
}
audio,
canvas,
progress,
video {
  display: inline-block;
  vertical-align: baseline;
}
audio:not([controls]) {
  display: none;
  height: 0;
}
[hidden],
template {
  display: none;
}
a {
  background-color: transparent;
}
a:active,
a:hover {
  outline: 0;
}
abbr[title] {
  border-bottom: 1px dotted;
}
b,
strong {
  font-weight: bold;
}
dfn {
  font-style: italic;
}
h1 {
  font-size: 2em;
  margin: 0.67em 0;
}
mark {
  background: #ff0;
  color: #000;
}
small {
  font-size: 80%;
}
sub,
sup {
  font-size: 75%;
  line-height: 0;
  position: relative;
  vertical-align: baseline;
}
sup {
  top: -0.5em;
}
sub {
  bottom: -0.25em;
}
img {
  border: 0;
}
svg:not(:root) {
  overflow: hidden;
}
figure {
  margin: 1em 40px;
}
hr {
  box-sizing: content-box;
  height: 0;
}
pre {
  overflow: auto;
}
code,
kbd,
pre,
samp {
  font-family: monospace, monospace;
  font-size: 1em;
}
button,
input,
optgroup,
select,
textarea {
  color: inherit;
  font: inherit;
  margin: 0;
}
button {
  overflow: visible;
}
button,
select {
  text-transform: none;
}
button,
html input[type="button"],
input[type="reset"],
input[type="submit"] {
  -webkit-appearance: button;
  cursor: pointer;
}
button[disabled],
html input[disabled] {
  cursor: default;
}
button::-moz-focus-inner,
input::-moz-focus-inner {
  border: 0;
  padding: 0;
}
input {
  line-height: normal;
}
input[type="checkbox"],
input[type="radio"] {
  box-sizing: border-box;
  padding: 0;
}
input[type="number"]::-webkit-inner-spin-button,
input[type="number"]::-webkit-outer-spin-button {
  height: auto;
}
input[type="search"] {
  -webkit-appearance: textfield;
  box-sizing: content-box;
}
input[type="search"]::-webkit-search-cancel-button,
input[type="search"]::-webkit-search-decoration {
  -webkit-appearance: none;
}
fieldset {
  border: 1px solid #c0c0c0;
  margin: 0 2px;
  padding: 0.35em 0.625em 0.75em;
}
legend {
  border: 0;
  padding: 0;
}
textarea {
  overflow: auto;
}
optgroup {
  font-weight: bold;
}
table {
  border-collapse: collapse;
  border-spacing: 0;
}
td,
th {
  padding: 0;
}
/*! Source: https://github.com/h5bp/html5-boilerplate/blob/master/src/css/main.css */
@media print {
  *,
  *:before,
  *:after {
    background: transparent !important;
    color: #000 !important;
    box-shadow: none !important;
    text-shadow: none !important;
  }
  a,
  a:visited {
    text-decoration: underline;
  }
  a[href]:after {
    content: " (" attr(href) ")";
  }
  abbr[title]:after {
    content: " (" attr(title) ")";
  }
  a[href^="#"]:after,
  a[href^="javascript:"]:after {
    content: "";
  }
  pre,
  blockquote {
    border: 1px solid #999;
    page-break-inside: avoid;
  }
  thead {
    display: table-header-group;
  }
  tr,
  img {
    page-break-inside: avoid;
  }
  img {
    max-width: 100% !important;
  }
  p,
  h2,
  h3 {
    orphans: 3;
    widows: 3;
  }
  h2,
  h3 {
    page-break-after: avoid;
  }
  .navbar {
    display: none;
  }
  .btn > .caret,
  .dropup > .btn > .caret {
    border-top-color: #000 !important;
  }
  .label {
    border: 1px solid #000;
  }
  .table {
    border-collapse: collapse !important;
  }
  .table td,
  .table th {
    background-color: #fff !important;
  }
  .table-bordered th,
  .table-bordered td {
    border: 1px solid #ddd !important;
  }
}
@font-face {
  font-family: 'Glyphicons Halflings';
  src: url('../components/bootstrap/fonts/glyphicons-halflings-regular.eot');
  src: url('../components/bootstrap/fonts/glyphicons-halflings-regular.eot?#iefix') format('embedded-opentype'), url('../components/bootstrap/fonts/glyphicons-halflings-regular.woff2') format('woff2'), url('../components/bootstrap/fonts/glyphicons-halflings-regular.woff') format('woff'), url('../components/bootstrap/fonts/glyphicons-halflings-regular.ttf') format('truetype'), url('../components/bootstrap/fonts/glyphicons-halflings-regular.svg#glyphicons_halflingsregular') format('svg');
}
.glyphicon {
  position: relative;
  top: 1px;
  display: inline-block;
  font-family: 'Glyphicons Halflings';
  font-style: normal;
  font-weight: normal;
  line-height: 1;
  -webkit-font-smoothing: antialiased;
  -moz-osx-font-smoothing: grayscale;
}
.glyphicon-asterisk:before {
  content: "\002a";
}
.glyphicon-plus:before {
  content: "\002b";
}
.glyphicon-euro:before,
.glyphicon-eur:before {
  content: "\20ac";
}
.glyphicon-minus:before {
  content: "\2212";
}
.glyphicon-cloud:before {
  content: "\2601";
}
.glyphicon-envelope:before {
  content: "\2709";
}
.glyphicon-pencil:before {
  content: "\270f";
}
.glyphicon-glass:before {
  content: "\e001";
}
.glyphicon-music:before {
  content: "\e002";
}
.glyphicon-search:before {
  content: "\e003";
}
.glyphicon-heart:before {
  content: "\e005";
}
.glyphicon-star:before {
  content: "\e006";
}
.glyphicon-star-empty:before {
  content: "\e007";
}
.glyphicon-user:before {
  content: "\e008";
}
.glyphicon-film:before {
  content: "\e009";
}
.glyphicon-th-large:before {
  content: "\e010";
}
.glyphicon-th:before {
  content: "\e011";
}
.glyphicon-th-list:before {
  content: "\e012";
}
.glyphicon-ok:before {
  content: "\e013";
}
.glyphicon-remove:before {
  content: "\e014";
}
.glyphicon-zoom-in:before {
  content: "\e015";
}
.glyphicon-zoom-out:before {
  content: "\e016";
}
.glyphicon-off:before {
  content: "\e017";
}
.glyphicon-signal:before {
  content: "\e018";
}
.glyphicon-cog:before {
  content: "\e019";
}
.glyphicon-trash:before {
  content: "\e020";
}
.glyphicon-home:before {
  content: "\e021";
}
.glyphicon-file:before {
  content: "\e022";
}
.glyphicon-time:before {
  content: "\e023";
}
.glyphicon-road:before {
  content: "\e024";
}
.glyphicon-download-alt:before {
  content: "\e025";
}
.glyphicon-download:before {
  content: "\e026";
}
.glyphicon-upload:before {
  content: "\e027";
}
.glyphicon-inbox:before {
  content: "\e028";
}
.glyphicon-play-circle:before {
  content: "\e029";
}
.glyphicon-repeat:before {
  content: "\e030";
}
.glyphicon-refresh:before {
  content: "\e031";
}
.glyphicon-list-alt:before {
  content: "\e032";
}
.glyphicon-lock:before {
  content: "\e033";
}
.glyphicon-flag:before {
  content: "\e034";
}
.glyphicon-headphones:before {
  content: "\e035";
}
.glyphicon-volume-off:before {
  content: "\e036";
}
.glyphicon-volume-down:before {
  content: "\e037";
}
.glyphicon-volume-up:before {
  content: "\e038";
}
.glyphicon-qrcode:before {
  content: "\e039";
}
.glyphicon-barcode:before {
  content: "\e040";
}
.glyphicon-tag:before {
  content: "\e041";
}
.glyphicon-tags:before {
  content: "\e042";
}
.glyphicon-book:before {
  content: "\e043";
}
.glyphicon-bookmark:before {
  content: "\e044";
}
.glyphicon-print:before {
  content: "\e045";
}
.glyphicon-camera:before {
  content: "\e046";
}
.glyphicon-font:before {
  content: "\e047";
}
.glyphicon-bold:before {
  content: "\e048";
}
.glyphicon-italic:before {
  content: "\e049";
}
.glyphicon-text-height:before {
  content: "\e050";
}
.glyphicon-text-width:before {
  content: "\e051";
}
.glyphicon-align-left:before {
  content: "\e052";
}
.glyphicon-align-center:before {
  content: "\e053";
}
.glyphicon-align-right:before {
  content: "\e054";
}
.glyphicon-align-justify:before {
  content: "\e055";
}
.glyphicon-list:before {
  content: "\e056";
}
.glyphicon-indent-left:before {
  content: "\e057";
}
.glyphicon-indent-right:before {
  content: "\e058";
}
.glyphicon-facetime-video:before {
  content: "\e059";
}
.glyphicon-picture:before {
  content: "\e060";
}
.glyphicon-map-marker:before {
  content: "\e062";
}
.glyphicon-adjust:before {
  content: "\e063";
}
.glyphicon-tint:before {
  content: "\e064";
}
.glyphicon-edit:before {
  content: "\e065";
}
.glyphicon-share:before {
  content: "\e066";
}
.glyphicon-check:before {
  content: "\e067";
}
.glyphicon-move:before {
  content: "\e068";
}
.glyphicon-step-backward:before {
  content: "\e069";
}
.glyphicon-fast-backward:before {
  content: "\e070";
}
.glyphicon-backward:before {
  content: "\e071";
}
.glyphicon-play:before {
  content: "\e072";
}
.glyphicon-pause:before {
  content: "\e073";
}
.glyphicon-stop:before {
  content: "\e074";
}
.glyphicon-forward:before {
  content: "\e075";
}
.glyphicon-fast-forward:before {
  content: "\e076";
}
.glyphicon-step-forward:before {
  content: "\e077";
}
.glyphicon-eject:before {
  content: "\e078";
}
.glyphicon-chevron-left:before {
  content: "\e079";
}
.glyphicon-chevron-right:before {
  content: "\e080";
}
.glyphicon-plus-sign:before {
  content: "\e081";
}
.glyphicon-minus-sign:before {
  content: "\e082";
}
.glyphicon-remove-sign:before {
  content: "\e083";
}
.glyphicon-ok-sign:before {
  content: "\e084";
}
.glyphicon-question-sign:before {
  content: "\e085";
}
.glyphicon-info-sign:before {
  content: "\e086";
}
.glyphicon-screenshot:before {
  content: "\e087";
}
.glyphicon-remove-circle:before {
  content: "\e088";
}
.glyphicon-ok-circle:before {
  content: "\e089";
}
.glyphicon-ban-circle:before {
  content: "\e090";
}
.glyphicon-arrow-left:before {
  content: "\e091";
}
.glyphicon-arrow-right:before {
  content: "\e092";
}
.glyphicon-arrow-up:before {
  content: "\e093";
}
.glyphicon-arrow-down:before {
  content: "\e094";
}
.glyphicon-share-alt:before {
  content: "\e095";
}
.glyphicon-resize-full:before {
  content: "\e096";
}
.glyphicon-resize-small:before {
  content: "\e097";
}
.glyphicon-exclamation-sign:before {
  content: "\e101";
}
.glyphicon-gift:before {
  content: "\e102";
}
.glyphicon-leaf:before {
  content: "\e103";
}
.glyphicon-fire:before {
  content: "\e104";
}
.glyphicon-eye-open:before {
  content: "\e105";
}
.glyphicon-eye-close:before {
  content: "\e106";
}
.glyphicon-warning-sign:before {
  content: "\e107";
}
.glyphicon-plane:before {
  content: "\e108";
}
.glyphicon-calendar:before {
  content: "\e109";
}
.glyphicon-random:before {
  content: "\e110";
}
.glyphicon-comment:before {
  content: "\e111";
}
.glyphicon-magnet:before {
  content: "\e112";
}
.glyphicon-chevron-up:before {
  content: "\e113";
}
.glyphicon-chevron-down:before {
  content: "\e114";
}
.glyphicon-retweet:before {
  content: "\e115";
}
.glyphicon-shopping-cart:before {
  content: "\e116";
}
.glyphicon-folder-close:before {
  content: "\e117";
}
.glyphicon-folder-open:before {
  content: "\e118";
}
.glyphicon-resize-vertical:before {
  content: "\e119";
}
.glyphicon-resize-horizontal:before {
  content: "\e120";
}
.glyphicon-hdd:before {
  content: "\e121";
}
.glyphicon-bullhorn:before {
  content: "\e122";
}
.glyphicon-bell:before {
  content: "\e123";
}
.glyphicon-certificate:before {
  content: "\e124";
}
.glyphicon-thumbs-up:before {
  content: "\e125";
}
.glyphicon-thumbs-down:before {
  content: "\e126";
}
.glyphicon-hand-right:before {
  content: "\e127";
}
.glyphicon-hand-left:before {
  content: "\e128";
}
.glyphicon-hand-up:before {
  content: "\e129";
}
.glyphicon-hand-down:before {
  content: "\e130";
}
.glyphicon-circle-arrow-right:before {
  content: "\e131";
}
.glyphicon-circle-arrow-left:before {
  content: "\e132";
}
.glyphicon-circle-arrow-up:before {
  content: "\e133";
}
.glyphicon-circle-arrow-down:before {
  content: "\e134";
}
.glyphicon-globe:before {
  content: "\e135";
}
.glyphicon-wrench:before {
  content: "\e136";
}
.glyphicon-tasks:before {
  content: "\e137";
}
.glyphicon-filter:before {
  content: "\e138";
}
.glyphicon-briefcase:before {
  content: "\e139";
}
.glyphicon-fullscreen:before {
  content: "\e140";
}
.glyphicon-dashboard:before {
  content: "\e141";
}
.glyphicon-paperclip:before {
  content: "\e142";
}
.glyphicon-heart-empty:before {
  content: "\e143";
}
.glyphicon-link:before {
  content: "\e144";
}
.glyphicon-phone:before {
  content: "\e145";
}
.glyphicon-pushpin:before {
  content: "\e146";
}
.glyphicon-usd:before {
  content: "\e148";
}
.glyphicon-gbp:before {
  content: "\e149";
}
.glyphicon-sort:before {
  content: "\e150";
}
.glyphicon-sort-by-alphabet:before {
  content: "\e151";
}
.glyphicon-sort-by-alphabet-alt:before {
  content: "\e152";
}
.glyphicon-sort-by-order:before {
  content: "\e153";
}
.glyphicon-sort-by-order-alt:before {
  content: "\e154";
}
.glyphicon-sort-by-attributes:before {
  content: "\e155";
}
.glyphicon-sort-by-attributes-alt:before {
  content: "\e156";
}
.glyphicon-unchecked:before {
  content: "\e157";
}
.glyphicon-expand:before {
  content: "\e158";
}
.glyphicon-collapse-down:before {
  content: "\e159";
}
.glyphicon-collapse-up:before {
  content: "\e160";
}
.glyphicon-log-in:before {
  content: "\e161";
}
.glyphicon-flash:before {
  content: "\e162";
}
.glyphicon-log-out:before {
  content: "\e163";
}
.glyphicon-new-window:before {
  content: "\e164";
}
.glyphicon-record:before {
  content: "\e165";
}
.glyphicon-save:before {
  content: "\e166";
}
.glyphicon-open:before {
  content: "\e167";
}
.glyphicon-saved:before {
  content: "\e168";
}
.glyphicon-import:before {
  content: "\e169";
}
.glyphicon-export:before {
  content: "\e170";
}
.glyphicon-send:before {
  content: "\e171";
}
.glyphicon-floppy-disk:before {
  content: "\e172";
}
.glyphicon-floppy-saved:before {
  content: "\e173";
}
.glyphicon-floppy-remove:before {
  content: "\e174";
}
.glyphicon-floppy-save:before {
  content: "\e175";
}
.glyphicon-floppy-open:before {
  content: "\e176";
}
.glyphicon-credit-card:before {
  content: "\e177";
}
.glyphicon-transfer:before {
  content: "\e178";
}
.glyphicon-cutlery:before {
  content: "\e179";
}
.glyphicon-header:before {
  content: "\e180";
}
.glyphicon-compressed:before {
  content: "\e181";
}
.glyphicon-earphone:before {
  content: "\e182";
}
.glyphicon-phone-alt:before {
  content: "\e183";
}
.glyphicon-tower:before {
  content: "\e184";
}
.glyphicon-stats:before {
  content: "\e185";
}
.glyphicon-sd-video:before {
  content: "\e186";
}
.glyphicon-hd-video:before {
  content: "\e187";
}
.glyphicon-subtitles:before {
  content: "\e188";
}
.glyphicon-sound-stereo:before {
  content: "\e189";
}
.glyphicon-sound-dolby:before {
  content: "\e190";
}
.glyphicon-sound-5-1:before {
  content: "\e191";
}
.glyphicon-sound-6-1:before {
  content: "\e192";
}
.glyphicon-sound-7-1:before {
  content: "\e193";
}
.glyphicon-copyright-mark:before {
  content: "\e194";
}
.glyphicon-registration-mark:before {
  content: "\e195";
}
.glyphicon-cloud-download:before {
  content: "\e197";
}
.glyphicon-cloud-upload:before {
  content: "\e198";
}
.glyphicon-tree-conifer:before {
  content: "\e199";
}
.glyphicon-tree-deciduous:before {
  content: "\e200";
}
.glyphicon-cd:before {
  content: "\e201";
}
.glyphicon-save-file:before {
  content: "\e202";
}
.glyphicon-open-file:before {
  content: "\e203";
}
.glyphicon-level-up:before {
  content: "\e204";
}
.glyphicon-copy:before {
  content: "\e205";
}
.glyphicon-paste:before {
  content: "\e206";
}
.glyphicon-alert:before {
  content: "\e209";
}
.glyphicon-equalizer:before {
  content: "\e210";
}
.glyphicon-king:before {
  content: "\e211";
}
.glyphicon-queen:before {
  content: "\e212";
}
.glyphicon-pawn:before {
  content: "\e213";
}
.glyphicon-bishop:before {
  content: "\e214";
}
.glyphicon-knight:before {
  content: "\e215";
}
.glyphicon-baby-formula:before {
  content: "\e216";
}
.glyphicon-tent:before {
  content: "\26fa";
}
.glyphicon-blackboard:before {
  content: "\e218";
}
.glyphicon-bed:before {
  content: "\e219";
}
.glyphicon-apple:before {
  content: "\f8ff";
}
.glyphicon-erase:before {
  content: "\e221";
}
.glyphicon-hourglass:before {
  content: "\231b";
}
.glyphicon-lamp:before {
  content: "\e223";
}
.glyphicon-duplicate:before {
  content: "\e224";
}
.glyphicon-piggy-bank:before {
  content: "\e225";
}
.glyphicon-scissors:before {
  content: "\e226";
}
.glyphicon-bitcoin:before {
  content: "\e227";
}
.glyphicon-btc:before {
  content: "\e227";
}
.glyphicon-xbt:before {
  content: "\e227";
}
.glyphicon-yen:before {
  content: "\00a5";
}
.glyphicon-jpy:before {
  content: "\00a5";
}
.glyphicon-ruble:before {
  content: "\20bd";
}
.glyphicon-rub:before {
  content: "\20bd";
}
.glyphicon-scale:before {
  content: "\e230";
}
.glyphicon-ice-lolly:before {
  content: "\e231";
}
.glyphicon-ice-lolly-tasted:before {
  content: "\e232";
}
.glyphicon-education:before {
  content: "\e233";
}
.glyphicon-option-horizontal:before {
  content: "\e234";
}
.glyphicon-option-vertical:before {
  content: "\e235";
}
.glyphicon-menu-hamburger:before {
  content: "\e236";
}
.glyphicon-modal-window:before {
  content: "\e237";
}
.glyphicon-oil:before {
  content: "\e238";
}
.glyphicon-grain:before {
  content: "\e239";
}
.glyphicon-sunglasses:before {
  content: "\e240";
}
.glyphicon-text-size:before {
  content: "\e241";
}
.glyphicon-text-color:before {
  content: "\e242";
}
.glyphicon-text-background:before {
  content: "\e243";
}
.glyphicon-object-align-top:before {
  content: "\e244";
}
.glyphicon-object-align-bottom:before {
  content: "\e245";
}
.glyphicon-object-align-horizontal:before {
  content: "\e246";
}
.glyphicon-object-align-left:before {
  content: "\e247";
}
.glyphicon-object-align-vertical:before {
  content: "\e248";
}
.glyphicon-object-align-right:before {
  content: "\e249";
}
.glyphicon-triangle-right:before {
  content: "\e250";
}
.glyphicon-triangle-left:before {
  content: "\e251";
}
.glyphicon-triangle-bottom:before {
  content: "\e252";
}
.glyphicon-triangle-top:before {
  content: "\e253";
}
.glyphicon-console:before {
  content: "\e254";
}
.glyphicon-superscript:before {
  content: "\e255";
}
.glyphicon-subscript:before {
  content: "\e256";
}
.glyphicon-menu-left:before {
  content: "\e257";
}
.glyphicon-menu-right:before {
  content: "\e258";
}
.glyphicon-menu-down:before {
  content: "\e259";
}
.glyphicon-menu-up:before {
  content: "\e260";
}
* {
  -webkit-box-sizing: border-box;
  -moz-box-sizing: border-box;
  box-sizing: border-box;
}
*:before,
*:after {
  -webkit-box-sizing: border-box;
  -moz-box-sizing: border-box;
  box-sizing: border-box;
}
html {
  font-size: 10px;
  -webkit-tap-highlight-color: rgba(0, 0, 0, 0);
}
body {
  font-family: "Helvetica Neue", Helvetica, Arial, sans-serif;
  font-size: 13px;
  line-height: 1.42857143;
  color: #000;
  background-color: #fff;
}
input,
button,
select,
textarea {
  font-family: inherit;
  font-size: inherit;
  line-height: inherit;
}
a {
  color: #337ab7;
  text-decoration: none;
}
a:hover,
a:focus {
  color: #23527c;
  text-decoration: underline;
}
a:focus {
  outline: 5px auto -webkit-focus-ring-color;
  outline-offset: -2px;
}
figure {
  margin: 0;
}
img {
  vertical-align: middle;
}
.img-responsive,
.thumbnail > img,
.thumbnail a > img,
.carousel-inner > .item > img,
.carousel-inner > .item > a > img {
  display: block;
  max-width: 100%;
  height: auto;
}
.img-rounded {
  border-radius: 3px;
}
.img-thumbnail {
  padding: 4px;
  line-height: 1.42857143;
  background-color: #fff;
  border: 1px solid #ddd;
  border-radius: 2px;
  -webkit-transition: all 0.2s ease-in-out;
  -o-transition: all 0.2s ease-in-out;
  transition: all 0.2s ease-in-out;
  display: inline-block;
  max-width: 100%;
  height: auto;
}
.img-circle {
  border-radius: 50%;
}
hr {
  margin-top: 18px;
  margin-bottom: 18px;
  border: 0;
  border-top: 1px solid #eeeeee;
}
.sr-only {
  position: absolute;
  width: 1px;
  height: 1px;
  margin: -1px;
  padding: 0;
  overflow: hidden;
  clip: rect(0, 0, 0, 0);
  border: 0;
}
.sr-only-focusable:active,
.sr-only-focusable:focus {
  position: static;
  width: auto;
  height: auto;
  margin: 0;
  overflow: visible;
  clip: auto;
}
[role="button"] {
  cursor: pointer;
}
h1,
h2,
h3,
h4,
h5,
h6,
.h1,
.h2,
.h3,
.h4,
.h5,
.h6 {
  font-family: inherit;
  font-weight: 500;
  line-height: 1.1;
  color: inherit;
}
h1 small,
h2 small,
h3 small,
h4 small,
h5 small,
h6 small,
.h1 small,
.h2 small,
.h3 small,
.h4 small,
.h5 small,
.h6 small,
h1 .small,
h2 .small,
h3 .small,
h4 .small,
h5 .small,
h6 .small,
.h1 .small,
.h2 .small,
.h3 .small,
.h4 .small,
.h5 .small,
.h6 .small {
  font-weight: normal;
  line-height: 1;
  color: #777777;
}
h1,
.h1,
h2,
.h2,
h3,
.h3 {
  margin-top: 18px;
  margin-bottom: 9px;
}
h1 small,
.h1 small,
h2 small,
.h2 small,
h3 small,
.h3 small,
h1 .small,
.h1 .small,
h2 .small,
.h2 .small,
h3 .small,
.h3 .small {
  font-size: 65%;
}
h4,
.h4,
h5,
.h5,
h6,
.h6 {
  margin-top: 9px;
  margin-bottom: 9px;
}
h4 small,
.h4 small,
h5 small,
.h5 small,
h6 small,
.h6 small,
h4 .small,
.h4 .small,
h5 .small,
.h5 .small,
h6 .small,
.h6 .small {
  font-size: 75%;
}
h1,
.h1 {
  font-size: 33px;
}
h2,
.h2 {
  font-size: 27px;
}
h3,
.h3 {
  font-size: 23px;
}
h4,
.h4 {
  font-size: 17px;
}
h5,
.h5 {
  font-size: 13px;
}
h6,
.h6 {
  font-size: 12px;
}
p {
  margin: 0 0 9px;
}
.lead {
  margin-bottom: 18px;
  font-size: 14px;
  font-weight: 300;
  line-height: 1.4;
}
@media (min-width: 768px) {
  .lead {
    font-size: 19.5px;
  }
}
small,
.small {
  font-size: 92%;
}
mark,
.mark {
  background-color: #fcf8e3;
  padding: .2em;
}
.text-left {
  text-align: left;
}
.text-right {
  text-align: right;
}
.text-center {
  text-align: center;
}
.text-justify {
  text-align: justify;
}
.text-nowrap {
  white-space: nowrap;
}
.text-lowercase {
  text-transform: lowercase;
}
.text-uppercase {
  text-transform: uppercase;
}
.text-capitalize {
  text-transform: capitalize;
}
.text-muted {
  color: #777777;
}
.text-primary {
  color: #337ab7;
}
a.text-primary:hover,
a.text-primary:focus {
  color: #286090;
}
.text-success {
  color: #3c763d;
}
a.text-success:hover,
a.text-success:focus {
  color: #2b542c;
}
.text-info {
  color: #31708f;
}
a.text-info:hover,
a.text-info:focus {
  color: #245269;
}
.text-warning {
  color: #8a6d3b;
}
a.text-warning:hover,
a.text-warning:focus {
  color: #66512c;
}
.text-danger {
  color: #a94442;
}
a.text-danger:hover,
a.text-danger:focus {
  color: #843534;
}
.bg-primary {
  color: #fff;
  background-color: #337ab7;
}
a.bg-primary:hover,
a.bg-primary:focus {
  background-color: #286090;
}
.bg-success {
  background-color: #dff0d8;
}
a.bg-success:hover,
a.bg-success:focus {
  background-color: #c1e2b3;
}
.bg-info {
  background-color: #d9edf7;
}
a.bg-info:hover,
a.bg-info:focus {
  background-color: #afd9ee;
}
.bg-warning {
  background-color: #fcf8e3;
}
a.bg-warning:hover,
a.bg-warning:focus {
  background-color: #f7ecb5;
}
.bg-danger {
  background-color: #f2dede;
}
a.bg-danger:hover,
a.bg-danger:focus {
  background-color: #e4b9b9;
}
.page-header {
  padding-bottom: 8px;
  margin: 36px 0 18px;
  border-bottom: 1px solid #eeeeee;
}
ul,
ol {
  margin-top: 0;
  margin-bottom: 9px;
}
ul ul,
ol ul,
ul ol,
ol ol {
  margin-bottom: 0;
}
.list-unstyled {
  padding-left: 0;
  list-style: none;
}
.list-inline {
  padding-left: 0;
  list-style: none;
  margin-left: -5px;
}
.list-inline > li {
  display: inline-block;
  padding-left: 5px;
  padding-right: 5px;
}
dl {
  margin-top: 0;
  margin-bottom: 18px;
}
dt,
dd {
  line-height: 1.42857143;
}
dt {
  font-weight: bold;
}
dd {
  margin-left: 0;
}
@media (min-width: 541px) {
  .dl-horizontal dt {
    float: left;
    width: 160px;
    clear: left;
    text-align: right;
    overflow: hidden;
    text-overflow: ellipsis;
    white-space: nowrap;
  }
  .dl-horizontal dd {
    margin-left: 180px;
  }
}
abbr[title],
abbr[data-original-title] {
  cursor: help;
  border-bottom: 1px dotted #777777;
}
.initialism {
  font-size: 90%;
  text-transform: uppercase;
}
blockquote {
  padding: 9px 18px;
  margin: 0 0 18px;
  font-size: inherit;
  border-left: 5px solid #eeeeee;
}
blockquote p:last-child,
blockquote ul:last-child,
blockquote ol:last-child {
  margin-bottom: 0;
}
blockquote footer,
blockquote small,
blockquote .small {
  display: block;
  font-size: 80%;
  line-height: 1.42857143;
  color: #777777;
}
blockquote footer:before,
blockquote small:before,
blockquote .small:before {
  content: '\2014 \00A0';
}
.blockquote-reverse,
blockquote.pull-right {
  padding-right: 15px;
  padding-left: 0;
  border-right: 5px solid #eeeeee;
  border-left: 0;
  text-align: right;
}
.blockquote-reverse footer:before,
blockquote.pull-right footer:before,
.blockquote-reverse small:before,
blockquote.pull-right small:before,
.blockquote-reverse .small:before,
blockquote.pull-right .small:before {
  content: '';
}
.blockquote-reverse footer:after,
blockquote.pull-right footer:after,
.blockquote-reverse small:after,
blockquote.pull-right small:after,
.blockquote-reverse .small:after,
blockquote.pull-right .small:after {
  content: '\00A0 \2014';
}
address {
  margin-bottom: 18px;
  font-style: normal;
  line-height: 1.42857143;
}
code,
kbd,
pre,
samp {
  font-family: monospace;
}
code {
  padding: 2px 4px;
  font-size: 90%;
  color: #c7254e;
  background-color: #f9f2f4;
  border-radius: 2px;
}
kbd {
  padding: 2px 4px;
  font-size: 90%;
  color: #888;
  background-color: transparent;
  border-radius: 1px;
  box-shadow: inset 0 -1px 0 rgba(0, 0, 0, 0.25);
}
kbd kbd {
  padding: 0;
  font-size: 100%;
  font-weight: bold;
  box-shadow: none;
}
pre {
  display: block;
  padding: 8.5px;
  margin: 0 0 9px;
  font-size: 12px;
  line-height: 1.42857143;
  word-break: break-all;
  word-wrap: break-word;
  color: #333333;
  background-color: #f5f5f5;
  border: 1px solid #ccc;
  border-radius: 2px;
}
pre code {
  padding: 0;
  font-size: inherit;
  color: inherit;
  white-space: pre-wrap;
  background-color: transparent;
  border-radius: 0;
}
.pre-scrollable {
  max-height: 340px;
  overflow-y: scroll;
}
.container {
  margin-right: auto;
  margin-left: auto;
  padding-left: 0px;
  padding-right: 0px;
}
@media (min-width: 768px) {
  .container {
    width: 768px;
  }
}
@media (min-width: 992px) {
  .container {
    width: 940px;
  }
}
@media (min-width: 1200px) {
  .container {
    width: 1140px;
  }
}
.container-fluid {
  margin-right: auto;
  margin-left: auto;
  padding-left: 0px;
  padding-right: 0px;
}
.row {
  margin-left: 0px;
  margin-right: 0px;
}
.col-xs-1, .col-sm-1, .col-md-1, .col-lg-1, .col-xs-2, .col-sm-2, .col-md-2, .col-lg-2, .col-xs-3, .col-sm-3, .col-md-3, .col-lg-3, .col-xs-4, .col-sm-4, .col-md-4, .col-lg-4, .col-xs-5, .col-sm-5, .col-md-5, .col-lg-5, .col-xs-6, .col-sm-6, .col-md-6, .col-lg-6, .col-xs-7, .col-sm-7, .col-md-7, .col-lg-7, .col-xs-8, .col-sm-8, .col-md-8, .col-lg-8, .col-xs-9, .col-sm-9, .col-md-9, .col-lg-9, .col-xs-10, .col-sm-10, .col-md-10, .col-lg-10, .col-xs-11, .col-sm-11, .col-md-11, .col-lg-11, .col-xs-12, .col-sm-12, .col-md-12, .col-lg-12 {
  position: relative;
  min-height: 1px;
  padding-left: 0px;
  padding-right: 0px;
}
.col-xs-1, .col-xs-2, .col-xs-3, .col-xs-4, .col-xs-5, .col-xs-6, .col-xs-7, .col-xs-8, .col-xs-9, .col-xs-10, .col-xs-11, .col-xs-12 {
  float: left;
}
.col-xs-12 {
  width: 100%;
}
.col-xs-11 {
  width: 91.66666667%;
}
.col-xs-10 {
  width: 83.33333333%;
}
.col-xs-9 {
  width: 75%;
}
.col-xs-8 {
  width: 66.66666667%;
}
.col-xs-7 {
  width: 58.33333333%;
}
.col-xs-6 {
  width: 50%;
}
.col-xs-5 {
  width: 41.66666667%;
}
.col-xs-4 {
  width: 33.33333333%;
}
.col-xs-3 {
  width: 25%;
}
.col-xs-2 {
  width: 16.66666667%;
}
.col-xs-1 {
  width: 8.33333333%;
}
.col-xs-pull-12 {
  right: 100%;
}
.col-xs-pull-11 {
  right: 91.66666667%;
}
.col-xs-pull-10 {
  right: 83.33333333%;
}
.col-xs-pull-9 {
  right: 75%;
}
.col-xs-pull-8 {
  right: 66.66666667%;
}
.col-xs-pull-7 {
  right: 58.33333333%;
}
.col-xs-pull-6 {
  right: 50%;
}
.col-xs-pull-5 {
  right: 41.66666667%;
}
.col-xs-pull-4 {
  right: 33.33333333%;
}
.col-xs-pull-3 {
  right: 25%;
}
.col-xs-pull-2 {
  right: 16.66666667%;
}
.col-xs-pull-1 {
  right: 8.33333333%;
}
.col-xs-pull-0 {
  right: auto;
}
.col-xs-push-12 {
  left: 100%;
}
.col-xs-push-11 {
  left: 91.66666667%;
}
.col-xs-push-10 {
  left: 83.33333333%;
}
.col-xs-push-9 {
  left: 75%;
}
.col-xs-push-8 {
  left: 66.66666667%;
}
.col-xs-push-7 {
  left: 58.33333333%;
}
.col-xs-push-6 {
  left: 50%;
}
.col-xs-push-5 {
  left: 41.66666667%;
}
.col-xs-push-4 {
  left: 33.33333333%;
}
.col-xs-push-3 {
  left: 25%;
}
.col-xs-push-2 {
  left: 16.66666667%;
}
.col-xs-push-1 {
  left: 8.33333333%;
}
.col-xs-push-0 {
  left: auto;
}
.col-xs-offset-12 {
  margin-left: 100%;
}
.col-xs-offset-11 {
  margin-left: 91.66666667%;
}
.col-xs-offset-10 {
  margin-left: 83.33333333%;
}
.col-xs-offset-9 {
  margin-left: 75%;
}
.col-xs-offset-8 {
  margin-left: 66.66666667%;
}
.col-xs-offset-7 {
  margin-left: 58.33333333%;
}
.col-xs-offset-6 {
  margin-left: 50%;
}
.col-xs-offset-5 {
  margin-left: 41.66666667%;
}
.col-xs-offset-4 {
  margin-left: 33.33333333%;
}
.col-xs-offset-3 {
  margin-left: 25%;
}
.col-xs-offset-2 {
  margin-left: 16.66666667%;
}
.col-xs-offset-1 {
  margin-left: 8.33333333%;
}
.col-xs-offset-0 {
  margin-left: 0%;
}
@media (min-width: 768px) {
  .col-sm-1, .col-sm-2, .col-sm-3, .col-sm-4, .col-sm-5, .col-sm-6, .col-sm-7, .col-sm-8, .col-sm-9, .col-sm-10, .col-sm-11, .col-sm-12 {
    float: left;
  }
  .col-sm-12 {
    width: 100%;
  }
  .col-sm-11 {
    width: 91.66666667%;
  }
  .col-sm-10 {
    width: 83.33333333%;
  }
  .col-sm-9 {
    width: 75%;
  }
  .col-sm-8 {
    width: 66.66666667%;
  }
  .col-sm-7 {
    width: 58.33333333%;
  }
  .col-sm-6 {
    width: 50%;
  }
  .col-sm-5 {
    width: 41.66666667%;
  }
  .col-sm-4 {
    width: 33.33333333%;
  }
  .col-sm-3 {
    width: 25%;
  }
  .col-sm-2 {
    width: 16.66666667%;
  }
  .col-sm-1 {
    width: 8.33333333%;
  }
  .col-sm-pull-12 {
    right: 100%;
  }
  .col-sm-pull-11 {
    right: 91.66666667%;
  }
  .col-sm-pull-10 {
    right: 83.33333333%;
  }
  .col-sm-pull-9 {
    right: 75%;
  }
  .col-sm-pull-8 {
    right: 66.66666667%;
  }
  .col-sm-pull-7 {
    right: 58.33333333%;
  }
  .col-sm-pull-6 {
    right: 50%;
  }
  .col-sm-pull-5 {
    right: 41.66666667%;
  }
  .col-sm-pull-4 {
    right: 33.33333333%;
  }
  .col-sm-pull-3 {
    right: 25%;
  }
  .col-sm-pull-2 {
    right: 16.66666667%;
  }
  .col-sm-pull-1 {
    right: 8.33333333%;
  }
  .col-sm-pull-0 {
    right: auto;
  }
  .col-sm-push-12 {
    left: 100%;
  }
  .col-sm-push-11 {
    left: 91.66666667%;
  }
  .col-sm-push-10 {
    left: 83.33333333%;
  }
  .col-sm-push-9 {
    left: 75%;
  }
  .col-sm-push-8 {
    left: 66.66666667%;
  }
  .col-sm-push-7 {
    left: 58.33333333%;
  }
  .col-sm-push-6 {
    left: 50%;
  }
  .col-sm-push-5 {
    left: 41.66666667%;
  }
  .col-sm-push-4 {
    left: 33.33333333%;
  }
  .col-sm-push-3 {
    left: 25%;
  }
  .col-sm-push-2 {
    left: 16.66666667%;
  }
  .col-sm-push-1 {
    left: 8.33333333%;
  }
  .col-sm-push-0 {
    left: auto;
  }
  .col-sm-offset-12 {
    margin-left: 100%;
  }
  .col-sm-offset-11 {
    margin-left: 91.66666667%;
  }
  .col-sm-offset-10 {
    margin-left: 83.33333333%;
  }
  .col-sm-offset-9 {
    margin-left: 75%;
  }
  .col-sm-offset-8 {
    margin-left: 66.66666667%;
  }
  .col-sm-offset-7 {
    margin-left: 58.33333333%;
  }
  .col-sm-offset-6 {
    margin-left: 50%;
  }
  .col-sm-offset-5 {
    margin-left: 41.66666667%;
  }
  .col-sm-offset-4 {
    margin-left: 33.33333333%;
  }
  .col-sm-offset-3 {
    margin-left: 25%;
  }
  .col-sm-offset-2 {
    margin-left: 16.66666667%;
  }
  .col-sm-offset-1 {
    margin-left: 8.33333333%;
  }
  .col-sm-offset-0 {
    margin-left: 0%;
  }
}
@media (min-width: 992px) {
  .col-md-1, .col-md-2, .col-md-3, .col-md-4, .col-md-5, .col-md-6, .col-md-7, .col-md-8, .col-md-9, .col-md-10, .col-md-11, .col-md-12 {
    float: left;
  }
  .col-md-12 {
    width: 100%;
  }
  .col-md-11 {
    width: 91.66666667%;
  }
  .col-md-10 {
    width: 83.33333333%;
  }
  .col-md-9 {
    width: 75%;
  }
  .col-md-8 {
    width: 66.66666667%;
  }
  .col-md-7 {
    width: 58.33333333%;
  }
  .col-md-6 {
    width: 50%;
  }
  .col-md-5 {
    width: 41.66666667%;
  }
  .col-md-4 {
    width: 33.33333333%;
  }
  .col-md-3 {
    width: 25%;
  }
  .col-md-2 {
    width: 16.66666667%;
  }
  .col-md-1 {
    width: 8.33333333%;
  }
  .col-md-pull-12 {
    right: 100%;
  }
  .col-md-pull-11 {
    right: 91.66666667%;
  }
  .col-md-pull-10 {
    right: 83.33333333%;
  }
  .col-md-pull-9 {
    right: 75%;
  }
  .col-md-pull-8 {
    right: 66.66666667%;
  }
  .col-md-pull-7 {
    right: 58.33333333%;
  }
  .col-md-pull-6 {
    right: 50%;
  }
  .col-md-pull-5 {
    right: 41.66666667%;
  }
  .col-md-pull-4 {
    right: 33.33333333%;
  }
  .col-md-pull-3 {
    right: 25%;
  }
  .col-md-pull-2 {
    right: 16.66666667%;
  }
  .col-md-pull-1 {
    right: 8.33333333%;
  }
  .col-md-pull-0 {
    right: auto;
  }
  .col-md-push-12 {
    left: 100%;
  }
  .col-md-push-11 {
    left: 91.66666667%;
  }
  .col-md-push-10 {
    left: 83.33333333%;
  }
  .col-md-push-9 {
    left: 75%;
  }
  .col-md-push-8 {
    left: 66.66666667%;
  }
  .col-md-push-7 {
    left: 58.33333333%;
  }
  .col-md-push-6 {
    left: 50%;
  }
  .col-md-push-5 {
    left: 41.66666667%;
  }
  .col-md-push-4 {
    left: 33.33333333%;
  }
  .col-md-push-3 {
    left: 25%;
  }
  .col-md-push-2 {
    left: 16.66666667%;
  }
  .col-md-push-1 {
    left: 8.33333333%;
  }
  .col-md-push-0 {
    left: auto;
  }
  .col-md-offset-12 {
    margin-left: 100%;
  }
  .col-md-offset-11 {
    margin-left: 91.66666667%;
  }
  .col-md-offset-10 {
    margin-left: 83.33333333%;
  }
  .col-md-offset-9 {
    margin-left: 75%;
  }
  .col-md-offset-8 {
    margin-left: 66.66666667%;
  }
  .col-md-offset-7 {
    margin-left: 58.33333333%;
  }
  .col-md-offset-6 {
    margin-left: 50%;
  }
  .col-md-offset-5 {
    margin-left: 41.66666667%;
  }
  .col-md-offset-4 {
    margin-left: 33.33333333%;
  }
  .col-md-offset-3 {
    margin-left: 25%;
  }
  .col-md-offset-2 {
    margin-left: 16.66666667%;
  }
  .col-md-offset-1 {
    margin-left: 8.33333333%;
  }
  .col-md-offset-0 {
    margin-left: 0%;
  }
}
@media (min-width: 1200px) {
  .col-lg-1, .col-lg-2, .col-lg-3, .col-lg-4, .col-lg-5, .col-lg-6, .col-lg-7, .col-lg-8, .col-lg-9, .col-lg-10, .col-lg-11, .col-lg-12 {
    float: left;
  }
  .col-lg-12 {
    width: 100%;
  }
  .col-lg-11 {
    width: 91.66666667%;
  }
  .col-lg-10 {
    width: 83.33333333%;
  }
  .col-lg-9 {
    width: 75%;
  }
  .col-lg-8 {
    width: 66.66666667%;
  }
  .col-lg-7 {
    width: 58.33333333%;
  }
  .col-lg-6 {
    width: 50%;
  }
  .col-lg-5 {
    width: 41.66666667%;
  }
  .col-lg-4 {
    width: 33.33333333%;
  }
  .col-lg-3 {
    width: 25%;
  }
  .col-lg-2 {
    width: 16.66666667%;
  }
  .col-lg-1 {
    width: 8.33333333%;
  }
  .col-lg-pull-12 {
    right: 100%;
  }
  .col-lg-pull-11 {
    right: 91.66666667%;
  }
  .col-lg-pull-10 {
    right: 83.33333333%;
  }
  .col-lg-pull-9 {
    right: 75%;
  }
  .col-lg-pull-8 {
    right: 66.66666667%;
  }
  .col-lg-pull-7 {
    right: 58.33333333%;
  }
  .col-lg-pull-6 {
    right: 50%;
  }
  .col-lg-pull-5 {
    right: 41.66666667%;
  }
  .col-lg-pull-4 {
    right: 33.33333333%;
  }
  .col-lg-pull-3 {
    right: 25%;
  }
  .col-lg-pull-2 {
    right: 16.66666667%;
  }
  .col-lg-pull-1 {
    right: 8.33333333%;
  }
  .col-lg-pull-0 {
    right: auto;
  }
  .col-lg-push-12 {
    left: 100%;
  }
  .col-lg-push-11 {
    left: 91.66666667%;
  }
  .col-lg-push-10 {
    left: 83.33333333%;
  }
  .col-lg-push-9 {
    left: 75%;
  }
  .col-lg-push-8 {
    left: 66.66666667%;
  }
  .col-lg-push-7 {
    left: 58.33333333%;
  }
  .col-lg-push-6 {
    left: 50%;
  }
  .col-lg-push-5 {
    left: 41.66666667%;
  }
  .col-lg-push-4 {
    left: 33.33333333%;
  }
  .col-lg-push-3 {
    left: 25%;
  }
  .col-lg-push-2 {
    left: 16.66666667%;
  }
  .col-lg-push-1 {
    left: 8.33333333%;
  }
  .col-lg-push-0 {
    left: auto;
  }
  .col-lg-offset-12 {
    margin-left: 100%;
  }
  .col-lg-offset-11 {
    margin-left: 91.66666667%;
  }
  .col-lg-offset-10 {
    margin-left: 83.33333333%;
  }
  .col-lg-offset-9 {
    margin-left: 75%;
  }
  .col-lg-offset-8 {
    margin-left: 66.66666667%;
  }
  .col-lg-offset-7 {
    margin-left: 58.33333333%;
  }
  .col-lg-offset-6 {
    margin-left: 50%;
  }
  .col-lg-offset-5 {
    margin-left: 41.66666667%;
  }
  .col-lg-offset-4 {
    margin-left: 33.33333333%;
  }
  .col-lg-offset-3 {
    margin-left: 25%;
  }
  .col-lg-offset-2 {
    margin-left: 16.66666667%;
  }
  .col-lg-offset-1 {
    margin-left: 8.33333333%;
  }
  .col-lg-offset-0 {
    margin-left: 0%;
  }
}
table {
  background-color: transparent;
}
caption {
  padding-top: 8px;
  padding-bottom: 8px;
  color: #777777;
  text-align: left;
}
th {
  text-align: left;
}
.table {
  width: 100%;
  max-width: 100%;
  margin-bottom: 18px;
}
.table > thead > tr > th,
.table > tbody > tr > th,
.table > tfoot > tr > th,
.table > thead > tr > td,
.table > tbody > tr > td,
.table > tfoot > tr > td {
  padding: 8px;
  line-height: 1.42857143;
  vertical-align: top;
  border-top: 1px solid #ddd;
}
.table > thead > tr > th {
  vertical-align: bottom;
  border-bottom: 2px solid #ddd;
}
.table > caption + thead > tr:first-child > th,
.table > colgroup + thead > tr:first-child > th,
.table > thead:first-child > tr:first-child > th,
.table > caption + thead > tr:first-child > td,
.table > colgroup + thead > tr:first-child > td,
.table > thead:first-child > tr:first-child > td {
  border-top: 0;
}
.table > tbody + tbody {
  border-top: 2px solid #ddd;
}
.table .table {
  background-color: #fff;
}
.table-condensed > thead > tr > th,
.table-condensed > tbody > tr > th,
.table-condensed > tfoot > tr > th,
.table-condensed > thead > tr > td,
.table-condensed > tbody > tr > td,
.table-condensed > tfoot > tr > td {
  padding: 5px;
}
.table-bordered {
  border: 1px solid #ddd;
}
.table-bordered > thead > tr > th,
.table-bordered > tbody > tr > th,
.table-bordered > tfoot > tr > th,
.table-bordered > thead > tr > td,
.table-bordered > tbody > tr > td,
.table-bordered > tfoot > tr > td {
  border: 1px solid #ddd;
}
.table-bordered > thead > tr > th,
.table-bordered > thead > tr > td {
  border-bottom-width: 2px;
}
.table-striped > tbody > tr:nth-of-type(odd) {
  background-color: #f9f9f9;
}
.table-hover > tbody > tr:hover {
  background-color: #f5f5f5;
}
table col[class*="col-"] {
  position: static;
  float: none;
  display: table-column;
}
table td[class*="col-"],
table th[class*="col-"] {
  position: static;
  float: none;
  display: table-cell;
}
.table > thead > tr > td.active,
.table > tbody > tr > td.active,
.table > tfoot > tr > td.active,
.table > thead > tr > th.active,
.table > tbody > tr > th.active,
.table > tfoot > tr > th.active,
.table > thead > tr.active > td,
.table > tbody > tr.active > td,
.table > tfoot > tr.active > td,
.table > thead > tr.active > th,
.table > tbody > tr.active > th,
.table > tfoot > tr.active > th {
  background-color: #f5f5f5;
}
.table-hover > tbody > tr > td.active:hover,
.table-hover > tbody > tr > th.active:hover,
.table-hover > tbody > tr.active:hover > td,
.table-hover > tbody > tr:hover > .active,
.table-hover > tbody > tr.active:hover > th {
  background-color: #e8e8e8;
}
.table > thead > tr > td.success,
.table > tbody > tr > td.success,
.table > tfoot > tr > td.success,
.table > thead > tr > th.success,
.table > tbody > tr > th.success,
.table > tfoot > tr > th.success,
.table > thead > tr.success > td,
.table > tbody > tr.success > td,
.table > tfoot > tr.success > td,
.table > thead > tr.success > th,
.table > tbody > tr.success > th,
.table > tfoot > tr.success > th {
  background-color: #dff0d8;
}
.table-hover > tbody > tr > td.success:hover,
.table-hover > tbody > tr > th.success:hover,
.table-hover > tbody > tr.success:hover > td,
.table-hover > tbody > tr:hover > .success,
.table-hover > tbody > tr.success:hover > th {
  background-color: #d0e9c6;
}
.table > thead > tr > td.info,
.table > tbody > tr > td.info,
.table > tfoot > tr > td.info,
.table > thead > tr > th.info,
.table > tbody > tr > th.info,
.table > tfoot > tr > th.info,
.table > thead > tr.info > td,
.table > tbody > tr.info > td,
.table > tfoot > tr.info > td,
.table > thead > tr.info > th,
.table > tbody > tr.info > th,
.table > tfoot > tr.info > th {
  background-color: #d9edf7;
}
.table-hover > tbody > tr > td.info:hover,
.table-hover > tbody > tr > th.info:hover,
.table-hover > tbody > tr.info:hover > td,
.table-hover > tbody > tr:hover > .info,
.table-hover > tbody > tr.info:hover > th {
  background-color: #c4e3f3;
}
.table > thead > tr > td.warning,
.table > tbody > tr > td.warning,
.table > tfoot > tr > td.warning,
.table > thead > tr > th.warning,
.table > tbody > tr > th.warning,
.table > tfoot > tr > th.warning,
.table > thead > tr.warning > td,
.table > tbody > tr.warning > td,
.table > tfoot > tr.warning > td,
.table > thead > tr.warning > th,
.table > tbody > tr.warning > th,
.table > tfoot > tr.warning > th {
  background-color: #fcf8e3;
}
.table-hover > tbody > tr > td.warning:hover,
.table-hover > tbody > tr > th.warning:hover,
.table-hover > tbody > tr.warning:hover > td,
.table-hover > tbody > tr:hover > .warning,
.table-hover > tbody > tr.warning:hover > th {
  background-color: #faf2cc;
}
.table > thead > tr > td.danger,
.table > tbody > tr > td.danger,
.table > tfoot > tr > td.danger,
.table > thead > tr > th.danger,
.table > tbody > tr > th.danger,
.table > tfoot > tr > th.danger,
.table > thead > tr.danger > td,
.table > tbody > tr.danger > td,
.table > tfoot > tr.danger > td,
.table > thead > tr.danger > th,
.table > tbody > tr.danger > th,
.table > tfoot > tr.danger > th {
  background-color: #f2dede;
}
.table-hover > tbody > tr > td.danger:hover,
.table-hover > tbody > tr > th.danger:hover,
.table-hover > tbody > tr.danger:hover > td,
.table-hover > tbody > tr:hover > .danger,
.table-hover > tbody > tr.danger:hover > th {
  background-color: #ebcccc;
}
.table-responsive {
  overflow-x: auto;
  min-height: 0.01%;
}
@media screen and (max-width: 767px) {
  .table-responsive {
    width: 100%;
    margin-bottom: 13.5px;
    overflow-y: hidden;
    -ms-overflow-style: -ms-autohiding-scrollbar;
    border: 1px solid #ddd;
  }
  .table-responsive > .table {
    margin-bottom: 0;
  }
  .table-responsive > .table > thead > tr > th,
  .table-responsive > .table > tbody > tr > th,
  .table-responsive > .table > tfoot > tr > th,
  .table-responsive > .table > thead > tr > td,
  .table-responsive > .table > tbody > tr > td,
  .table-responsive > .table > tfoot > tr > td {
    white-space: nowrap;
  }
  .table-responsive > .table-bordered {
    border: 0;
  }
  .table-responsive > .table-bordered > thead > tr > th:first-child,
  .table-responsive > .table-bordered > tbody > tr > th:first-child,
  .table-responsive > .table-bordered > tfoot > tr > th:first-child,
  .table-responsive > .table-bordered > thead > tr > td:first-child,
  .table-responsive > .table-bordered > tbody > tr > td:first-child,
  .table-responsive > .table-bordered > tfoot > tr > td:first-child {
    border-left: 0;
  }
  .table-responsive > .table-bordered > thead > tr > th:last-child,
  .table-responsive > .table-bordered > tbody > tr > th:last-child,
  .table-responsive > .table-bordered > tfoot > tr > th:last-child,
  .table-responsive > .table-bordered > thead > tr > td:last-child,
  .table-responsive > .table-bordered > tbody > tr > td:last-child,
  .table-responsive > .table-bordered > tfoot > tr > td:last-child {
    border-right: 0;
  }
  .table-responsive > .table-bordered > tbody > tr:last-child > th,
  .table-responsive > .table-bordered > tfoot > tr:last-child > th,
  .table-responsive > .table-bordered > tbody > tr:last-child > td,
  .table-responsive > .table-bordered > tfoot > tr:last-child > td {
    border-bottom: 0;
  }
}
fieldset {
  padding: 0;
  margin: 0;
  border: 0;
  min-width: 0;
}
legend {
  display: block;
  width: 100%;
  padding: 0;
  margin-bottom: 18px;
  font-size: 19.5px;
  line-height: inherit;
  color: #333333;
  border: 0;
  border-bottom: 1px solid #e5e5e5;
}
label {
  display: inline-block;
  max-width: 100%;
  margin-bottom: 5px;
  font-weight: bold;
}
input[type="search"] {
  -webkit-box-sizing: border-box;
  -moz-box-sizing: border-box;
  box-sizing: border-box;
}
input[type="radio"],
input[type="checkbox"] {
  margin: 4px 0 0;
  margin-top: 1px \9;
  line-height: normal;
}
input[type="file"] {
  display: block;
}
input[type="range"] {
  display: block;
  width: 100%;
}
select[multiple],
select[size] {
  height: auto;
}
input[type="file"]:focus,
input[type="radio"]:focus,
input[type="checkbox"]:focus {
  outline: 5px auto -webkit-focus-ring-color;
  outline-offset: -2px;
}
output {
  display: block;
  padding-top: 7px;
  font-size: 13px;
  line-height: 1.42857143;
  color: #555555;
}
.form-control {
  display: block;
  width: 100%;
  height: 32px;
  padding: 6px 12px;
  font-size: 13px;
  line-height: 1.42857143;
  color: #555555;
  background-color: #fff;
  background-image: none;
  border: 1px solid #ccc;
  border-radius: 2px;
  -webkit-box-shadow: inset 0 1px 1px rgba(0, 0, 0, 0.075);
  box-shadow: inset 0 1px 1px rgba(0, 0, 0, 0.075);
  -webkit-transition: border-color ease-in-out .15s, box-shadow ease-in-out .15s;
  -o-transition: border-color ease-in-out .15s, box-shadow ease-in-out .15s;
  transition: border-color ease-in-out .15s, box-shadow ease-in-out .15s;
}
.form-control:focus {
  border-color: #66afe9;
  outline: 0;
  -webkit-box-shadow: inset 0 1px 1px rgba(0,0,0,.075), 0 0 8px rgba(102, 175, 233, 0.6);
  box-shadow: inset 0 1px 1px rgba(0,0,0,.075), 0 0 8px rgba(102, 175, 233, 0.6);
}
.form-control::-moz-placeholder {
  color: #999;
  opacity: 1;
}
.form-control:-ms-input-placeholder {
  color: #999;
}
.form-control::-webkit-input-placeholder {
  color: #999;
}
.form-control::-ms-expand {
  border: 0;
  background-color: transparent;
}
.form-control[disabled],
.form-control[readonly],
fieldset[disabled] .form-control {
  background-color: #eeeeee;
  opacity: 1;
}
.form-control[disabled],
fieldset[disabled] .form-control {
  cursor: not-allowed;
}
textarea.form-control {
  height: auto;
}
input[type="search"] {
  -webkit-appearance: none;
}
@media screen and (-webkit-min-device-pixel-ratio: 0) {
  input[type="date"].form-control,
  input[type="time"].form-control,
  input[type="datetime-local"].form-control,
  input[type="month"].form-control {
    line-height: 32px;
  }
  input[type="date"].input-sm,
  input[type="time"].input-sm,
  input[type="datetime-local"].input-sm,
  input[type="month"].input-sm,
  .input-group-sm input[type="date"],
  .input-group-sm input[type="time"],
  .input-group-sm input[type="datetime-local"],
  .input-group-sm input[type="month"] {
    line-height: 30px;
  }
  input[type="date"].input-lg,
  input[type="time"].input-lg,
  input[type="datetime-local"].input-lg,
  input[type="month"].input-lg,
  .input-group-lg input[type="date"],
  .input-group-lg input[type="time"],
  .input-group-lg input[type="datetime-local"],
  .input-group-lg input[type="month"] {
    line-height: 45px;
  }
}
.form-group {
  margin-bottom: 15px;
}
.radio,
.checkbox {
  position: relative;
  display: block;
  margin-top: 10px;
  margin-bottom: 10px;
}
.radio label,
.checkbox label {
  min-height: 18px;
  padding-left: 20px;
  margin-bottom: 0;
  font-weight: normal;
  cursor: pointer;
}
.radio input[type="radio"],
.radio-inline input[type="radio"],
.checkbox input[type="checkbox"],
.checkbox-inline input[type="checkbox"] {
  position: absolute;
  margin-left: -20px;
  margin-top: 4px \9;
}
.radio + .radio,
.checkbox + .checkbox {
  margin-top: -5px;
}
.radio-inline,
.checkbox-inline {
  position: relative;
  display: inline-block;
  padding-left: 20px;
  margin-bottom: 0;
  vertical-align: middle;
  font-weight: normal;
  cursor: pointer;
}
.radio-inline + .radio-inline,
.checkbox-inline + .checkbox-inline {
  margin-top: 0;
  margin-left: 10px;
}
input[type="radio"][disabled],
input[type="checkbox"][disabled],
input[type="radio"].disabled,
input[type="checkbox"].disabled,
fieldset[disabled] input[type="radio"],
fieldset[disabled] input[type="checkbox"] {
  cursor: not-allowed;
}
.radio-inline.disabled,
.checkbox-inline.disabled,
fieldset[disabled] .radio-inline,
fieldset[disabled] .checkbox-inline {
  cursor: not-allowed;
}
.radio.disabled label,
.checkbox.disabled label,
fieldset[disabled] .radio label,
fieldset[disabled] .checkbox label {
  cursor: not-allowed;
}
.form-control-static {
  padding-top: 7px;
  padding-bottom: 7px;
  margin-bottom: 0;
  min-height: 31px;
}
.form-control-static.input-lg,
.form-control-static.input-sm {
  padding-left: 0;
  padding-right: 0;
}
.input-sm {
  height: 30px;
  padding: 5px 10px;
  font-size: 12px;
  line-height: 1.5;
  border-radius: 1px;
}
select.input-sm {
  height: 30px;
  line-height: 30px;
}
textarea.input-sm,
select[multiple].input-sm {
  height: auto;
}
.form-group-sm .form-control {
  height: 30px;
  padding: 5px 10px;
  font-size: 12px;
  line-height: 1.5;
  border-radius: 1px;
}
.form-group-sm select.form-control {
  height: 30px;
  line-height: 30px;
}
.form-group-sm textarea.form-control,
.form-group-sm select[multiple].form-control {
  height: auto;
}
.form-group-sm .form-control-static {
  height: 30px;
  min-height: 30px;
  padding: 6px 10px;
  font-size: 12px;
  line-height: 1.5;
}
.input-lg {
  height: 45px;
  padding: 10px 16px;
  font-size: 17px;
  line-height: 1.3333333;
  border-radius: 3px;
}
select.input-lg {
  height: 45px;
  line-height: 45px;
}
textarea.input-lg,
select[multiple].input-lg {
  height: auto;
}
.form-group-lg .form-control {
  height: 45px;
  padding: 10px 16px;
  font-size: 17px;
  line-height: 1.3333333;
  border-radius: 3px;
}
.form-group-lg select.form-control {
  height: 45px;
  line-height: 45px;
}
.form-group-lg textarea.form-control,
.form-group-lg select[multiple].form-control {
  height: auto;
}
.form-group-lg .form-control-static {
  height: 45px;
  min-height: 35px;
  padding: 11px 16px;
  font-size: 17px;
  line-height: 1.3333333;
}
.has-feedback {
  position: relative;
}
.has-feedback .form-control {
  padding-right: 40px;
}
.form-control-feedback {
  position: absolute;
  top: 0;
  right: 0;
  z-index: 2;
  display: block;
  width: 32px;
  height: 32px;
  line-height: 32px;
  text-align: center;
  pointer-events: none;
}
.input-lg + .form-control-feedback,
.input-group-lg + .form-control-feedback,
.form-group-lg .form-control + .form-control-feedback {
  width: 45px;
  height: 45px;
  line-height: 45px;
}
.input-sm + .form-control-feedback,
.input-group-sm + .form-control-feedback,
.form-group-sm .form-control + .form-control-feedback {
  width: 30px;
  height: 30px;
  line-height: 30px;
}
.has-success .help-block,
.has-success .control-label,
.has-success .radio,
.has-success .checkbox,
.has-success .radio-inline,
.has-success .checkbox-inline,
.has-success.radio label,
.has-success.checkbox label,
.has-success.radio-inline label,
.has-success.checkbox-inline label {
  color: #3c763d;
}
.has-success .form-control {
  border-color: #3c763d;
  -webkit-box-shadow: inset 0 1px 1px rgba(0, 0, 0, 0.075);
  box-shadow: inset 0 1px 1px rgba(0, 0, 0, 0.075);
}
.has-success .form-control:focus {
  border-color: #2b542c;
  -webkit-box-shadow: inset 0 1px 1px rgba(0, 0, 0, 0.075), 0 0 6px #67b168;
  box-shadow: inset 0 1px 1px rgba(0, 0, 0, 0.075), 0 0 6px #67b168;
}
.has-success .input-group-addon {
  color: #3c763d;
  border-color: #3c763d;
  background-color: #dff0d8;
}
.has-success .form-control-feedback {
  color: #3c763d;
}
.has-warning .help-block,
.has-warning .control-label,
.has-warning .radio,
.has-warning .checkbox,
.has-warning .radio-inline,
.has-warning .checkbox-inline,
.has-warning.radio label,
.has-warning.checkbox label,
.has-warning.radio-inline label,
.has-warning.checkbox-inline label {
  color: #8a6d3b;
}
.has-warning .form-control {
  border-color: #8a6d3b;
  -webkit-box-shadow: inset 0 1px 1px rgba(0, 0, 0, 0.075);
  box-shadow: inset 0 1px 1px rgba(0, 0, 0, 0.075);
}
.has-warning .form-control:focus {
  border-color: #66512c;
  -webkit-box-shadow: inset 0 1px 1px rgba(0, 0, 0, 0.075), 0 0 6px #c0a16b;
  box-shadow: inset 0 1px 1px rgba(0, 0, 0, 0.075), 0 0 6px #c0a16b;
}
.has-warning .input-group-addon {
  color: #8a6d3b;
  border-color: #8a6d3b;
  background-color: #fcf8e3;
}
.has-warning .form-control-feedback {
  color: #8a6d3b;
}
.has-error .help-block,
.has-error .control-label,
.has-error .radio,
.has-error .checkbox,
.has-error .radio-inline,
.has-error .checkbox-inline,
.has-error.radio label,
.has-error.checkbox label,
.has-error.radio-inline label,
.has-error.checkbox-inline label {
  color: #a94442;
}
.has-error .form-control {
  border-color: #a94442;
  -webkit-box-shadow: inset 0 1px 1px rgba(0, 0, 0, 0.075);
  box-shadow: inset 0 1px 1px rgba(0, 0, 0, 0.075);
}
.has-error .form-control:focus {
  border-color: #843534;
  -webkit-box-shadow: inset 0 1px 1px rgba(0, 0, 0, 0.075), 0 0 6px #ce8483;
  box-shadow: inset 0 1px 1px rgba(0, 0, 0, 0.075), 0 0 6px #ce8483;
}
.has-error .input-group-addon {
  color: #a94442;
  border-color: #a94442;
  background-color: #f2dede;
}
.has-error .form-control-feedback {
  color: #a94442;
}
.has-feedback label ~ .form-control-feedback {
  top: 23px;
}
.has-feedback label.sr-only ~ .form-control-feedback {
  top: 0;
}
.help-block {
  display: block;
  margin-top: 5px;
  margin-bottom: 10px;
  color: #404040;
}
@media (min-width: 768px) {
  .form-inline .form-group {
    display: inline-block;
    margin-bottom: 0;
    vertical-align: middle;
  }
  .form-inline .form-control {
    display: inline-block;
    width: auto;
    vertical-align: middle;
  }
  .form-inline .form-control-static {
    display: inline-block;
  }
  .form-inline .input-group {
    display: inline-table;
    vertical-align: middle;
  }
  .form-inline .input-group .input-group-addon,
  .form-inline .input-group .input-group-btn,
  .form-inline .input-group .form-control {
    width: auto;
  }
  .form-inline .input-group > .form-control {
    width: 100%;
  }
  .form-inline .control-label {
    margin-bottom: 0;
    vertical-align: middle;
  }
  .form-inline .radio,
  .form-inline .checkbox {
    display: inline-block;
    margin-top: 0;
    margin-bottom: 0;
    vertical-align: middle;
  }
  .form-inline .radio label,
  .form-inline .checkbox label {
    padding-left: 0;
  }
  .form-inline .radio input[type="radio"],
  .form-inline .checkbox input[type="checkbox"] {
    position: relative;
    margin-left: 0;
  }
  .form-inline .has-feedback .form-control-feedback {
    top: 0;
  }
}
.form-horizontal .radio,
.form-horizontal .checkbox,
.form-horizontal .radio-inline,
.form-horizontal .checkbox-inline {
  margin-top: 0;
  margin-bottom: 0;
  padding-top: 7px;
}
.form-horizontal .radio,
.form-horizontal .checkbox {
  min-height: 25px;
}
.form-horizontal .form-group {
  margin-left: 0px;
  margin-right: 0px;
}
@media (min-width: 768px) {
  .form-horizontal .control-label {
    text-align: right;
    margin-bottom: 0;
    padding-top: 7px;
  }
}
.form-horizontal .has-feedback .form-control-feedback {
  right: 0px;
}
@media (min-width: 768px) {
  .form-horizontal .form-group-lg .control-label {
    padding-top: 11px;
    font-size: 17px;
  }
}
@media (min-width: 768px) {
  .form-horizontal .form-group-sm .control-label {
    padding-top: 6px;
    font-size: 12px;
  }
}
.btn {
  display: inline-block;
  margin-bottom: 0;
  font-weight: normal;
  text-align: center;
  vertical-align: middle;
  touch-action: manipulation;
  cursor: pointer;
  background-image: none;
  border: 1px solid transparent;
  white-space: nowrap;
  padding: 6px 12px;
  font-size: 13px;
  line-height: 1.42857143;
  border-radius: 2px;
  -webkit-user-select: none;
  -moz-user-select: none;
  -ms-user-select: none;
  user-select: none;
}
.btn:focus,
.btn:active:focus,
.btn.active:focus,
.btn.focus,
.btn:active.focus,
.btn.active.focus {
  outline: 5px auto -webkit-focus-ring-color;
  outline-offset: -2px;
}
.btn:hover,
.btn:focus,
.btn.focus {
  color: #333;
  text-decoration: none;
}
.btn:active,
.btn.active {
  outline: 0;
  background-image: none;
  -webkit-box-shadow: inset 0 3px 5px rgba(0, 0, 0, 0.125);
  box-shadow: inset 0 3px 5px rgba(0, 0, 0, 0.125);
}
.btn.disabled,
.btn[disabled],
fieldset[disabled] .btn {
  cursor: not-allowed;
  opacity: 0.65;
  filter: alpha(opacity=65);
  -webkit-box-shadow: none;
  box-shadow: none;
}
a.btn.disabled,
fieldset[disabled] a.btn {
  pointer-events: none;
}
.btn-default {
  color: #333;
  background-color: #fff;
  border-color: #ccc;
}
.btn-default:focus,
.btn-default.focus {
  color: #333;
  background-color: #e6e6e6;
  border-color: #8c8c8c;
}
.btn-default:hover {
  color: #333;
  background-color: #e6e6e6;
  border-color: #adadad;
}
.btn-default:active,
.btn-default.active,
.open > .dropdown-toggle.btn-default {
  color: #333;
  background-color: #e6e6e6;
  border-color: #adadad;
}
.btn-default:active:hover,
.btn-default.active:hover,
.open > .dropdown-toggle.btn-default:hover,
.btn-default:active:focus,
.btn-default.active:focus,
.open > .dropdown-toggle.btn-default:focus,
.btn-default:active.focus,
.btn-default.active.focus,
.open > .dropdown-toggle.btn-default.focus {
  color: #333;
  background-color: #d4d4d4;
  border-color: #8c8c8c;
}
.btn-default:active,
.btn-default.active,
.open > .dropdown-toggle.btn-default {
  background-image: none;
}
.btn-default.disabled:hover,
.btn-default[disabled]:hover,
fieldset[disabled] .btn-default:hover,
.btn-default.disabled:focus,
.btn-default[disabled]:focus,
fieldset[disabled] .btn-default:focus,
.btn-default.disabled.focus,
.btn-default[disabled].focus,
fieldset[disabled] .btn-default.focus {
  background-color: #fff;
  border-color: #ccc;
}
.btn-default .badge {
  color: #fff;
  background-color: #333;
}
.btn-primary {
  color: #fff;
  background-color: #337ab7;
  border-color: #2e6da4;
}
.btn-primary:focus,
.btn-primary.focus {
  color: #fff;
  background-color: #286090;
  border-color: #122b40;
}
.btn-primary:hover {
  color: #fff;
  background-color: #286090;
  border-color: #204d74;
}
.btn-primary:active,
.btn-primary.active,
.open > .dropdown-toggle.btn-primary {
  color: #fff;
  background-color: #286090;
  border-color: #204d74;
}
.btn-primary:active:hover,
.btn-primary.active:hover,
.open > .dropdown-toggle.btn-primary:hover,
.btn-primary:active:focus,
.btn-primary.active:focus,
.open > .dropdown-toggle.btn-primary:focus,
.btn-primary:active.focus,
.btn-primary.active.focus,
.open > .dropdown-toggle.btn-primary.focus {
  color: #fff;
  background-color: #204d74;
  border-color: #122b40;
}
.btn-primary:active,
.btn-primary.active,
.open > .dropdown-toggle.btn-primary {
  background-image: none;
}
.btn-primary.disabled:hover,
.btn-primary[disabled]:hover,
fieldset[disabled] .btn-primary:hover,
.btn-primary.disabled:focus,
.btn-primary[disabled]:focus,
fieldset[disabled] .btn-primary:focus,
.btn-primary.disabled.focus,
.btn-primary[disabled].focus,
fieldset[disabled] .btn-primary.focus {
  background-color: #337ab7;
  border-color: #2e6da4;
}
.btn-primary .badge {
  color: #337ab7;
  background-color: #fff;
}
.btn-success {
  color: #fff;
  background-color: #5cb85c;
  border-color: #4cae4c;
}
.btn-success:focus,
.btn-success.focus {
  color: #fff;
  background-color: #449d44;
  border-color: #255625;
}
.btn-success:hover {
  color: #fff;
  background-color: #449d44;
  border-color: #398439;
}
.btn-success:active,
.btn-success.active,
.open > .dropdown-toggle.btn-success {
  color: #fff;
  background-color: #449d44;
  border-color: #398439;
}
.btn-success:active:hover,
.btn-success.active:hover,
.open > .dropdown-toggle.btn-success:hover,
.btn-success:active:focus,
.btn-success.active:focus,
.open > .dropdown-toggle.btn-success:focus,
.btn-success:active.focus,
.btn-success.active.focus,
.open > .dropdown-toggle.btn-success.focus {
  color: #fff;
  background-color: #398439;
  border-color: #255625;
}
.btn-success:active,
.btn-success.active,
.open > .dropdown-toggle.btn-success {
  background-image: none;
}
.btn-success.disabled:hover,
.btn-success[disabled]:hover,
fieldset[disabled] .btn-success:hover,
.btn-success.disabled:focus,
.btn-success[disabled]:focus,
fieldset[disabled] .btn-success:focus,
.btn-success.disabled.focus,
.btn-success[disabled].focus,
fieldset[disabled] .btn-success.focus {
  background-color: #5cb85c;
  border-color: #4cae4c;
}
.btn-success .badge {
  color: #5cb85c;
  background-color: #fff;
}
.btn-info {
  color: #fff;
  background-color: #5bc0de;
  border-color: #46b8da;
}
.btn-info:focus,
.btn-info.focus {
  color: #fff;
  background-color: #31b0d5;
  border-color: #1b6d85;
}
.btn-info:hover {
  color: #fff;
  background-color: #31b0d5;
  border-color: #269abc;
}
.btn-info:active,
.btn-info.active,
.open > .dropdown-toggle.btn-info {
  color: #fff;
  background-color: #31b0d5;
  border-color: #269abc;
}
.btn-info:active:hover,
.btn-info.active:hover,
.open > .dropdown-toggle.btn-info:hover,
.btn-info:active:focus,
.btn-info.active:focus,
.open > .dropdown-toggle.btn-info:focus,
.btn-info:active.focus,
.btn-info.active.focus,
.open > .dropdown-toggle.btn-info.focus {
  color: #fff;
  background-color: #269abc;
  border-color: #1b6d85;
}
.btn-info:active,
.btn-info.active,
.open > .dropdown-toggle.btn-info {
  background-image: none;
}
.btn-info.disabled:hover,
.btn-info[disabled]:hover,
fieldset[disabled] .btn-info:hover,
.btn-info.disabled:focus,
.btn-info[disabled]:focus,
fieldset[disabled] .btn-info:focus,
.btn-info.disabled.focus,
.btn-info[disabled].focus,
fieldset[disabled] .btn-info.focus {
  background-color: #5bc0de;
  border-color: #46b8da;
}
.btn-info .badge {
  color: #5bc0de;
  background-color: #fff;
}
.btn-warning {
  color: #fff;
  background-color: #f0ad4e;
  border-color: #eea236;
}
.btn-warning:focus,
.btn-warning.focus {
  color: #fff;
  background-color: #ec971f;
  border-color: #985f0d;
}
.btn-warning:hover {
  color: #fff;
  background-color: #ec971f;
  border-color: #d58512;
}
.btn-warning:active,
.btn-warning.active,
.open > .dropdown-toggle.btn-warning {
  color: #fff;
  background-color: #ec971f;
  border-color: #d58512;
}
.btn-warning:active:hover,
.btn-warning.active:hover,
.open > .dropdown-toggle.btn-warning:hover,
.btn-warning:active:focus,
.btn-warning.active:focus,
.open > .dropdown-toggle.btn-warning:focus,
.btn-warning:active.focus,
.btn-warning.active.focus,
.open > .dropdown-toggle.btn-warning.focus {
  color: #fff;
  background-color: #d58512;
  border-color: #985f0d;
}
.btn-warning:active,
.btn-warning.active,
.open > .dropdown-toggle.btn-warning {
  background-image: none;
}
.btn-warning.disabled:hover,
.btn-warning[disabled]:hover,
fieldset[disabled] .btn-warning:hover,
.btn-warning.disabled:focus,
.btn-warning[disabled]:focus,
fieldset[disabled] .btn-warning:focus,
.btn-warning.disabled.focus,
.btn-warning[disabled].focus,
fieldset[disabled] .btn-warning.focus {
  background-color: #f0ad4e;
  border-color: #eea236;
}
.btn-warning .badge {
  color: #f0ad4e;
  background-color: #fff;
}
.btn-danger {
  color: #fff;
  background-color: #d9534f;
  border-color: #d43f3a;
}
.btn-danger:focus,
.btn-danger.focus {
  color: #fff;
  background-color: #c9302c;
  border-color: #761c19;
}
.btn-danger:hover {
  color: #fff;
  background-color: #c9302c;
  border-color: #ac2925;
}
.btn-danger:active,
.btn-danger.active,
.open > .dropdown-toggle.btn-danger {
  color: #fff;
  background-color: #c9302c;
  border-color: #ac2925;
}
.btn-danger:active:hover,
.btn-danger.active:hover,
.open > .dropdown-toggle.btn-danger:hover,
.btn-danger:active:focus,
.btn-danger.active:focus,
.open > .dropdown-toggle.btn-danger:focus,
.btn-danger:active.focus,
.btn-danger.active.focus,
.open > .dropdown-toggle.btn-danger.focus {
  color: #fff;
  background-color: #ac2925;
  border-color: #761c19;
}
.btn-danger:active,
.btn-danger.active,
.open > .dropdown-toggle.btn-danger {
  background-image: none;
}
.btn-danger.disabled:hover,
.btn-danger[disabled]:hover,
fieldset[disabled] .btn-danger:hover,
.btn-danger.disabled:focus,
.btn-danger[disabled]:focus,
fieldset[disabled] .btn-danger:focus,
.btn-danger.disabled.focus,
.btn-danger[disabled].focus,
fieldset[disabled] .btn-danger.focus {
  background-color: #d9534f;
  border-color: #d43f3a;
}
.btn-danger .badge {
  color: #d9534f;
  background-color: #fff;
}
.btn-link {
  color: #337ab7;
  font-weight: normal;
  border-radius: 0;
}
.btn-link,
.btn-link:active,
.btn-link.active,
.btn-link[disabled],
fieldset[disabled] .btn-link {
  background-color: transparent;
  -webkit-box-shadow: none;
  box-shadow: none;
}
.btn-link,
.btn-link:hover,
.btn-link:focus,
.btn-link:active {
  border-color: transparent;
}
.btn-link:hover,
.btn-link:focus {
  color: #23527c;
  text-decoration: underline;
  background-color: transparent;
}
.btn-link[disabled]:hover,
fieldset[disabled] .btn-link:hover,
.btn-link[disabled]:focus,
fieldset[disabled] .btn-link:focus {
  color: #777777;
  text-decoration: none;
}
.btn-lg,
.btn-group-lg > .btn {
  padding: 10px 16px;
  font-size: 17px;
  line-height: 1.3333333;
  border-radius: 3px;
}
.btn-sm,
.btn-group-sm > .btn {
  padding: 5px 10px;
  font-size: 12px;
  line-height: 1.5;
  border-radius: 1px;
}
.btn-xs,
.btn-group-xs > .btn {
  padding: 1px 5px;
  font-size: 12px;
  line-height: 1.5;
  border-radius: 1px;
}
.btn-block {
  display: block;
  width: 100%;
}
.btn-block + .btn-block {
  margin-top: 5px;
}
input[type="submit"].btn-block,
input[type="reset"].btn-block,
input[type="button"].btn-block {
  width: 100%;
}
.fade {
  opacity: 0;
  -webkit-transition: opacity 0.15s linear;
  -o-transition: opacity 0.15s linear;
  transition: opacity 0.15s linear;
}
.fade.in {
  opacity: 1;
}
.collapse {
  display: none;
}
.collapse.in {
  display: block;
}
tr.collapse.in {
  display: table-row;
}
tbody.collapse.in {
  display: table-row-group;
}
.collapsing {
  position: relative;
  height: 0;
  overflow: hidden;
  -webkit-transition-property: height, visibility;
  transition-property: height, visibility;
  -webkit-transition-duration: 0.35s;
  transition-duration: 0.35s;
  -webkit-transition-timing-function: ease;
  transition-timing-function: ease;
}
.caret {
  display: inline-block;
  width: 0;
  height: 0;
  margin-left: 2px;
  vertical-align: middle;
  border-top: 4px dashed;
  border-top: 4px solid \9;
  border-right: 4px solid transparent;
  border-left: 4px solid transparent;
}
.dropup,
.dropdown {
  position: relative;
}
.dropdown-toggle:focus {
  outline: 0;
}
.dropdown-menu {
  position: absolute;
  top: 100%;
  left: 0;
  z-index: 1000;
  display: none;
  float: left;
  min-width: 160px;
  padding: 5px 0;
  margin: 2px 0 0;
  list-style: none;
  font-size: 13px;
  text-align: left;
  background-color: #fff;
  border: 1px solid #ccc;
  border: 1px solid rgba(0, 0, 0, 0.15);
  border-radius: 2px;
  -webkit-box-shadow: 0 6px 12px rgba(0, 0, 0, 0.175);
  box-shadow: 0 6px 12px rgba(0, 0, 0, 0.175);
  background-clip: padding-box;
}
.dropdown-menu.pull-right {
  right: 0;
  left: auto;
}
.dropdown-menu .divider {
  height: 1px;
  margin: 8px 0;
  overflow: hidden;
  background-color: #e5e5e5;
}
.dropdown-menu > li > a {
  display: block;
  padding: 3px 20px;
  clear: both;
  font-weight: normal;
  line-height: 1.42857143;
  color: #333333;
  white-space: nowrap;
}
.dropdown-menu > li > a:hover,
.dropdown-menu > li > a:focus {
  text-decoration: none;
  color: #262626;
  background-color: #f5f5f5;
}
.dropdown-menu > .active > a,
.dropdown-menu > .active > a:hover,
.dropdown-menu > .active > a:focus {
  color: #fff;
  text-decoration: none;
  outline: 0;
  background-color: #337ab7;
}
.dropdown-menu > .disabled > a,
.dropdown-menu > .disabled > a:hover,
.dropdown-menu > .disabled > a:focus {
  color: #777777;
}
.dropdown-menu > .disabled > a:hover,
.dropdown-menu > .disabled > a:focus {
  text-decoration: none;
  background-color: transparent;
  background-image: none;
  filter: progid:DXImageTransform.Microsoft.gradient(enabled = false);
  cursor: not-allowed;
}
.open > .dropdown-menu {
  display: block;
}
.open > a {
  outline: 0;
}
.dropdown-menu-right {
  left: auto;
  right: 0;
}
.dropdown-menu-left {
  left: 0;
  right: auto;
}
.dropdown-header {
  display: block;
  padding: 3px 20px;
  font-size: 12px;
  line-height: 1.42857143;
  color: #777777;
  white-space: nowrap;
}
.dropdown-backdrop {
  position: fixed;
  left: 0;
  right: 0;
  bottom: 0;
  top: 0;
  z-index: 990;
}
.pull-right > .dropdown-menu {
  right: 0;
  left: auto;
}
.dropup .caret,
.navbar-fixed-bottom .dropdown .caret {
  border-top: 0;
  border-bottom: 4px dashed;
  border-bottom: 4px solid \9;
  content: "";
}
.dropup .dropdown-menu,
.navbar-fixed-bottom .dropdown .dropdown-menu {
  top: auto;
  bottom: 100%;
  margin-bottom: 2px;
}
@media (min-width: 541px) {
  .navbar-right .dropdown-menu {
    left: auto;
    right: 0;
  }
  .navbar-right .dropdown-menu-left {
    left: 0;
    right: auto;
  }
}
.btn-group,
.btn-group-vertical {
  position: relative;
  display: inline-block;
  vertical-align: middle;
}
.btn-group > .btn,
.btn-group-vertical > .btn {
  position: relative;
  float: left;
}
.btn-group > .btn:hover,
.btn-group-vertical > .btn:hover,
.btn-group > .btn:focus,
.btn-group-vertical > .btn:focus,
.btn-group > .btn:active,
.btn-group-vertical > .btn:active,
.btn-group > .btn.active,
.btn-group-vertical > .btn.active {
  z-index: 2;
}
.btn-group .btn + .btn,
.btn-group .btn + .btn-group,
.btn-group .btn-group + .btn,
.btn-group .btn-group + .btn-group {
  margin-left: -1px;
}
.btn-toolbar {
  margin-left: -5px;
}
.btn-toolbar .btn,
.btn-toolbar .btn-group,
.btn-toolbar .input-group {
  float: left;
}
.btn-toolbar > .btn,
.btn-toolbar > .btn-group,
.btn-toolbar > .input-group {
  margin-left: 5px;
}
.btn-group > .btn:not(:first-child):not(:last-child):not(.dropdown-toggle) {
  border-radius: 0;
}
.btn-group > .btn:first-child {
  margin-left: 0;
}
.btn-group > .btn:first-child:not(:last-child):not(.dropdown-toggle) {
  border-bottom-right-radius: 0;
  border-top-right-radius: 0;
}
.btn-group > .btn:last-child:not(:first-child),
.btn-group > .dropdown-toggle:not(:first-child) {
  border-bottom-left-radius: 0;
  border-top-left-radius: 0;
}
.btn-group > .btn-group {
  float: left;
}
.btn-group > .btn-group:not(:first-child):not(:last-child) > .btn {
  border-radius: 0;
}
.btn-group > .btn-group:first-child:not(:last-child) > .btn:last-child,
.btn-group > .btn-group:first-child:not(:last-child) > .dropdown-toggle {
  border-bottom-right-radius: 0;
  border-top-right-radius: 0;
}
.btn-group > .btn-group:last-child:not(:first-child) > .btn:first-child {
  border-bottom-left-radius: 0;
  border-top-left-radius: 0;
}
.btn-group .dropdown-toggle:active,
.btn-group.open .dropdown-toggle {
  outline: 0;
}
.btn-group > .btn + .dropdown-toggle {
  padding-left: 8px;
  padding-right: 8px;
}
.btn-group > .btn-lg + .dropdown-toggle {
  padding-left: 12px;
  padding-right: 12px;
}
.btn-group.open .dropdown-toggle {
  -webkit-box-shadow: inset 0 3px 5px rgba(0, 0, 0, 0.125);
  box-shadow: inset 0 3px 5px rgba(0, 0, 0, 0.125);
}
.btn-group.open .dropdown-toggle.btn-link {
  -webkit-box-shadow: none;
  box-shadow: none;
}
.btn .caret {
  margin-left: 0;
}
.btn-lg .caret {
  border-width: 5px 5px 0;
  border-bottom-width: 0;
}
.dropup .btn-lg .caret {
  border-width: 0 5px 5px;
}
.btn-group-vertical > .btn,
.btn-group-vertical > .btn-group,
.btn-group-vertical > .btn-group > .btn {
  display: block;
  float: none;
  width: 100%;
  max-width: 100%;
}
.btn-group-vertical > .btn-group > .btn {
  float: none;
}
.btn-group-vertical > .btn + .btn,
.btn-group-vertical > .btn + .btn-group,
.btn-group-vertical > .btn-group + .btn,
.btn-group-vertical > .btn-group + .btn-group {
  margin-top: -1px;
  margin-left: 0;
}
.btn-group-vertical > .btn:not(:first-child):not(:last-child) {
  border-radius: 0;
}
.btn-group-vertical > .btn:first-child:not(:last-child) {
  border-top-right-radius: 2px;
  border-top-left-radius: 2px;
  border-bottom-right-radius: 0;
  border-bottom-left-radius: 0;
}
.btn-group-vertical > .btn:last-child:not(:first-child) {
  border-top-right-radius: 0;
  border-top-left-radius: 0;
  border-bottom-right-radius: 2px;
  border-bottom-left-radius: 2px;
}
.btn-group-vertical > .btn-group:not(:first-child):not(:last-child) > .btn {
  border-radius: 0;
}
.btn-group-vertical > .btn-group:first-child:not(:last-child) > .btn:last-child,
.btn-group-vertical > .btn-group:first-child:not(:last-child) > .dropdown-toggle {
  border-bottom-right-radius: 0;
  border-bottom-left-radius: 0;
}
.btn-group-vertical > .btn-group:last-child:not(:first-child) > .btn:first-child {
  border-top-right-radius: 0;
  border-top-left-radius: 0;
}
.btn-group-justified {
  display: table;
  width: 100%;
  table-layout: fixed;
  border-collapse: separate;
}
.btn-group-justified > .btn,
.btn-group-justified > .btn-group {
  float: none;
  display: table-cell;
  width: 1%;
}
.btn-group-justified > .btn-group .btn {
  width: 100%;
}
.btn-group-justified > .btn-group .dropdown-menu {
  left: auto;
}
[data-toggle="buttons"] > .btn input[type="radio"],
[data-toggle="buttons"] > .btn-group > .btn input[type="radio"],
[data-toggle="buttons"] > .btn input[type="checkbox"],
[data-toggle="buttons"] > .btn-group > .btn input[type="checkbox"] {
  position: absolute;
  clip: rect(0, 0, 0, 0);
  pointer-events: none;
}
.input-group {
  position: relative;
  display: table;
  border-collapse: separate;
}
.input-group[class*="col-"] {
  float: none;
  padding-left: 0;
  padding-right: 0;
}
.input-group .form-control {
  position: relative;
  z-index: 2;
  float: left;
  width: 100%;
  margin-bottom: 0;
}
.input-group .form-control:focus {
  z-index: 3;
}
.input-group-lg > .form-control,
.input-group-lg > .input-group-addon,
.input-group-lg > .input-group-btn > .btn {
  height: 45px;
  padding: 10px 16px;
  font-size: 17px;
  line-height: 1.3333333;
  border-radius: 3px;
}
select.input-group-lg > .form-control,
select.input-group-lg > .input-group-addon,
select.input-group-lg > .input-group-btn > .btn {
  height: 45px;
  line-height: 45px;
}
textarea.input-group-lg > .form-control,
textarea.input-group-lg > .input-group-addon,
textarea.input-group-lg > .input-group-btn > .btn,
select[multiple].input-group-lg > .form-control,
select[multiple].input-group-lg > .input-group-addon,
select[multiple].input-group-lg > .input-group-btn > .btn {
  height: auto;
}
.input-group-sm > .form-control,
.input-group-sm > .input-group-addon,
.input-group-sm > .input-group-btn > .btn {
  height: 30px;
  padding: 5px 10px;
  font-size: 12px;
  line-height: 1.5;
  border-radius: 1px;
}
select.input-group-sm > .form-control,
select.input-group-sm > .input-group-addon,
select.input-group-sm > .input-group-btn > .btn {
  height: 30px;
  line-height: 30px;
}
textarea.input-group-sm > .form-control,
textarea.input-group-sm > .input-group-addon,
textarea.input-group-sm > .input-group-btn > .btn,
select[multiple].input-group-sm > .form-control,
select[multiple].input-group-sm > .input-group-addon,
select[multiple].input-group-sm > .input-group-btn > .btn {
  height: auto;
}
.input-group-addon,
.input-group-btn,
.input-group .form-control {
  display: table-cell;
}
.input-group-addon:not(:first-child):not(:last-child),
.input-group-btn:not(:first-child):not(:last-child),
.input-group .form-control:not(:first-child):not(:last-child) {
  border-radius: 0;
}
.input-group-addon,
.input-group-btn {
  width: 1%;
  white-space: nowrap;
  vertical-align: middle;
}
.input-group-addon {
  padding: 6px 12px;
  font-size: 13px;
  font-weight: normal;
  line-height: 1;
  color: #555555;
  text-align: center;
  background-color: #eeeeee;
  border: 1px solid #ccc;
  border-radius: 2px;
}
.input-group-addon.input-sm {
  padding: 5px 10px;
  font-size: 12px;
  border-radius: 1px;
}
.input-group-addon.input-lg {
  padding: 10px 16px;
  font-size: 17px;
  border-radius: 3px;
}
.input-group-addon input[type="radio"],
.input-group-addon input[type="checkbox"] {
  margin-top: 0;
}
.input-group .form-control:first-child,
.input-group-addon:first-child,
.input-group-btn:first-child > .btn,
.input-group-btn:first-child > .btn-group > .btn,
.input-group-btn:first-child > .dropdown-toggle,
.input-group-btn:last-child > .btn:not(:last-child):not(.dropdown-toggle),
.input-group-btn:last-child > .btn-group:not(:last-child) > .btn {
  border-bottom-right-radius: 0;
  border-top-right-radius: 0;
}
.input-group-addon:first-child {
  border-right: 0;
}
.input-group .form-control:last-child,
.input-group-addon:last-child,
.input-group-btn:last-child > .btn,
.input-group-btn:last-child > .btn-group > .btn,
.input-group-btn:last-child > .dropdown-toggle,
.input-group-btn:first-child > .btn:not(:first-child),
.input-group-btn:first-child > .btn-group:not(:first-child) > .btn {
  border-bottom-left-radius: 0;
  border-top-left-radius: 0;
}
.input-group-addon:last-child {
  border-left: 0;
}
.input-group-btn {
  position: relative;
  font-size: 0;
  white-space: nowrap;
}
.input-group-btn > .btn {
  position: relative;
}
.input-group-btn > .btn + .btn {
  margin-left: -1px;
}
.input-group-btn > .btn:hover,
.input-group-btn > .btn:focus,
.input-group-btn > .btn:active {
  z-index: 2;
}
.input-group-btn:first-child > .btn,
.input-group-btn:first-child > .btn-group {
  margin-right: -1px;
}
.input-group-btn:last-child > .btn,
.input-group-btn:last-child > .btn-group {
  z-index: 2;
  margin-left: -1px;
}
.nav {
  margin-bottom: 0;
  padding-left: 0;
  list-style: none;
}
.nav > li {
  position: relative;
  display: block;
}
.nav > li > a {
  position: relative;
  display: block;
  padding: 10px 15px;
}
.nav > li > a:hover,
.nav > li > a:focus {
  text-decoration: none;
  background-color: #eeeeee;
}
.nav > li.disabled > a {
  color: #777777;
}
.nav > li.disabled > a:hover,
.nav > li.disabled > a:focus {
  color: #777777;
  text-decoration: none;
  background-color: transparent;
  cursor: not-allowed;
}
.nav .open > a,
.nav .open > a:hover,
.nav .open > a:focus {
  background-color: #eeeeee;
  border-color: #337ab7;
}
.nav .nav-divider {
  height: 1px;
  margin: 8px 0;
  overflow: hidden;
  background-color: #e5e5e5;
}
.nav > li > a > img {
  max-width: none;
}
.nav-tabs {
  border-bottom: 1px solid #ddd;
}
.nav-tabs > li {
  float: left;
  margin-bottom: -1px;
}
.nav-tabs > li > a {
  margin-right: 2px;
  line-height: 1.42857143;
  border: 1px solid transparent;
  border-radius: 2px 2px 0 0;
}
.nav-tabs > li > a:hover {
  border-color: #eeeeee #eeeeee #ddd;
}
.nav-tabs > li.active > a,
.nav-tabs > li.active > a:hover,
.nav-tabs > li.active > a:focus {
  color: #555555;
  background-color: #fff;
  border: 1px solid #ddd;
  border-bottom-color: transparent;
  cursor: default;
}
.nav-tabs.nav-justified {
  width: 100%;
  border-bottom: 0;
}
.nav-tabs.nav-justified > li {
  float: none;
}
.nav-tabs.nav-justified > li > a {
  text-align: center;
  margin-bottom: 5px;
}
.nav-tabs.nav-justified > .dropdown .dropdown-menu {
  top: auto;
  left: auto;
}
@media (min-width: 768px) {
  .nav-tabs.nav-justified > li {
    display: table-cell;
    width: 1%;
  }
  .nav-tabs.nav-justified > li > a {
    margin-bottom: 0;
  }
}
.nav-tabs.nav-justified > li > a {
  margin-right: 0;
  border-radius: 2px;
}
.nav-tabs.nav-justified > .active > a,
.nav-tabs.nav-justified > .active > a:hover,
.nav-tabs.nav-justified > .active > a:focus {
  border: 1px solid #ddd;
}
@media (min-width: 768px) {
  .nav-tabs.nav-justified > li > a {
    border-bottom: 1px solid #ddd;
    border-radius: 2px 2px 0 0;
  }
  .nav-tabs.nav-justified > .active > a,
  .nav-tabs.nav-justified > .active > a:hover,
  .nav-tabs.nav-justified > .active > a:focus {
    border-bottom-color: #fff;
  }
}
.nav-pills > li {
  float: left;
}
.nav-pills > li > a {
  border-radius: 2px;
}
.nav-pills > li + li {
  margin-left: 2px;
}
.nav-pills > li.active > a,
.nav-pills > li.active > a:hover,
.nav-pills > li.active > a:focus {
  color: #fff;
  background-color: #337ab7;
}
.nav-stacked > li {
  float: none;
}
.nav-stacked > li + li {
  margin-top: 2px;
  margin-left: 0;
}
.nav-justified {
  width: 100%;
}
.nav-justified > li {
  float: none;
}
.nav-justified > li > a {
  text-align: center;
  margin-bottom: 5px;
}
.nav-justified > .dropdown .dropdown-menu {
  top: auto;
  left: auto;
}
@media (min-width: 768px) {
  .nav-justified > li {
    display: table-cell;
    width: 1%;
  }
  .nav-justified > li > a {
    margin-bottom: 0;
  }
}
.nav-tabs-justified {
  border-bottom: 0;
}
.nav-tabs-justified > li > a {
  margin-right: 0;
  border-radius: 2px;
}
.nav-tabs-justified > .active > a,
.nav-tabs-justified > .active > a:hover,
.nav-tabs-justified > .active > a:focus {
  border: 1px solid #ddd;
}
@media (min-width: 768px) {
  .nav-tabs-justified > li > a {
    border-bottom: 1px solid #ddd;
    border-radius: 2px 2px 0 0;
  }
  .nav-tabs-justified > .active > a,
  .nav-tabs-justified > .active > a:hover,
  .nav-tabs-justified > .active > a:focus {
    border-bottom-color: #fff;
  }
}
.tab-content > .tab-pane {
  display: none;
}
.tab-content > .active {
  display: block;
}
.nav-tabs .dropdown-menu {
  margin-top: -1px;
  border-top-right-radius: 0;
  border-top-left-radius: 0;
}
.navbar {
  position: relative;
  min-height: 30px;
  margin-bottom: 18px;
  border: 1px solid transparent;
}
@media (min-width: 541px) {
  .navbar {
    border-radius: 2px;
  }
}
@media (min-width: 541px) {
  .navbar-header {
    float: left;
  }
}
.navbar-collapse {
  overflow-x: visible;
  padding-right: 0px;
  padding-left: 0px;
  border-top: 1px solid transparent;
  box-shadow: inset 0 1px 0 rgba(255, 255, 255, 0.1);
  -webkit-overflow-scrolling: touch;
}
.navbar-collapse.in {
  overflow-y: auto;
}
@media (min-width: 541px) {
  .navbar-collapse {
    width: auto;
    border-top: 0;
    box-shadow: none;
  }
  .navbar-collapse.collapse {
    display: block !important;
    height: auto !important;
    padding-bottom: 0;
    overflow: visible !important;
  }
  .navbar-collapse.in {
    overflow-y: visible;
  }
  .navbar-fixed-top .navbar-collapse,
  .navbar-static-top .navbar-collapse,
  .navbar-fixed-bottom .navbar-collapse {
    padding-left: 0;
    padding-right: 0;
  }
}
.navbar-fixed-top .navbar-collapse,
.navbar-fixed-bottom .navbar-collapse {
  max-height: 340px;
}
@media (max-device-width: 540px) and (orientation: landscape) {
  .navbar-fixed-top .navbar-collapse,
  .navbar-fixed-bottom .navbar-collapse {
    max-height: 200px;
  }
}
.container > .navbar-header,
.container-fluid > .navbar-header,
.container > .navbar-collapse,
.container-fluid > .navbar-collapse {
  margin-right: 0px;
  margin-left: 0px;
}
@media (min-width: 541px) {
  .container > .navbar-header,
  .container-fluid > .navbar-header,
  .container > .navbar-collapse,
  .container-fluid > .navbar-collapse {
    margin-right: 0;
    margin-left: 0;
  }
}
.navbar-static-top {
  z-index: 1000;
  border-width: 0 0 1px;
}
@media (min-width: 541px) {
  .navbar-static-top {
    border-radius: 0;
  }
}
.navbar-fixed-top,
.navbar-fixed-bottom {
  position: fixed;
  right: 0;
  left: 0;
  z-index: 1030;
}
@media (min-width: 541px) {
  .navbar-fixed-top,
  .navbar-fixed-bottom {
    border-radius: 0;
  }
}
.navbar-fixed-top {
  top: 0;
  border-width: 0 0 1px;
}
.navbar-fixed-bottom {
  bottom: 0;
  margin-bottom: 0;
  border-width: 1px 0 0;
}
.navbar-brand {
  float: left;
  padding: 6px 0px;
  font-size: 17px;
  line-height: 18px;
  height: 30px;
}
.navbar-brand:hover,
.navbar-brand:focus {
  text-decoration: none;
}
.navbar-brand > img {
  display: block;
}
@media (min-width: 541px) {
  .navbar > .container .navbar-brand,
  .navbar > .container-fluid .navbar-brand {
    margin-left: 0px;
  }
}
.navbar-toggle {
  position: relative;
  float: right;
  margin-right: 0px;
  padding: 9px 10px;
  margin-top: -2px;
  margin-bottom: -2px;
  background-color: transparent;
  background-image: none;
  border: 1px solid transparent;
  border-radius: 2px;
}
.navbar-toggle:focus {
  outline: 0;
}
.navbar-toggle .icon-bar {
  display: block;
  width: 22px;
  height: 2px;
  border-radius: 1px;
}
.navbar-toggle .icon-bar + .icon-bar {
  margin-top: 4px;
}
@media (min-width: 541px) {
  .navbar-toggle {
    display: none;
  }
}
.navbar-nav {
  margin: 3px 0px;
}
.navbar-nav > li > a {
  padding-top: 10px;
  padding-bottom: 10px;
  line-height: 18px;
}
@media (max-width: 540px) {
  .navbar-nav .open .dropdown-menu {
    position: static;
    float: none;
    width: auto;
    margin-top: 0;
    background-color: transparent;
    border: 0;
    box-shadow: none;
  }
  .navbar-nav .open .dropdown-menu > li > a,
  .navbar-nav .open .dropdown-menu .dropdown-header {
    padding: 5px 15px 5px 25px;
  }
  .navbar-nav .open .dropdown-menu > li > a {
    line-height: 18px;
  }
  .navbar-nav .open .dropdown-menu > li > a:hover,
  .navbar-nav .open .dropdown-menu > li > a:focus {
    background-image: none;
  }
}
@media (min-width: 541px) {
  .navbar-nav {
    float: left;
    margin: 0;
  }
  .navbar-nav > li {
    float: left;
  }
  .navbar-nav > li > a {
    padding-top: 6px;
    padding-bottom: 6px;
  }
}
.navbar-form {
  margin-left: 0px;
  margin-right: 0px;
  padding: 10px 0px;
  border-top: 1px solid transparent;
  border-bottom: 1px solid transparent;
  -webkit-box-shadow: inset 0 1px 0 rgba(255, 255, 255, 0.1), 0 1px 0 rgba(255, 255, 255, 0.1);
  box-shadow: inset 0 1px 0 rgba(255, 255, 255, 0.1), 0 1px 0 rgba(255, 255, 255, 0.1);
  margin-top: -1px;
  margin-bottom: -1px;
}
@media (min-width: 768px) {
  .navbar-form .form-group {
    display: inline-block;
    margin-bottom: 0;
    vertical-align: middle;
  }
  .navbar-form .form-control {
    display: inline-block;
    width: auto;
    vertical-align: middle;
  }
  .navbar-form .form-control-static {
    display: inline-block;
  }
  .navbar-form .input-group {
    display: inline-table;
    vertical-align: middle;
  }
  .navbar-form .input-group .input-group-addon,
  .navbar-form .input-group .input-group-btn,
  .navbar-form .input-group .form-control {
    width: auto;
  }
  .navbar-form .input-group > .form-control {
    width: 100%;
  }
  .navbar-form .control-label {
    margin-bottom: 0;
    vertical-align: middle;
  }
  .navbar-form .radio,
  .navbar-form .checkbox {
    display: inline-block;
    margin-top: 0;
    margin-bottom: 0;
    vertical-align: middle;
  }
  .navbar-form .radio label,
  .navbar-form .checkbox label {
    padding-left: 0;
  }
  .navbar-form .radio input[type="radio"],
  .navbar-form .checkbox input[type="checkbox"] {
    position: relative;
    margin-left: 0;
  }
  .navbar-form .has-feedback .form-control-feedback {
    top: 0;
  }
}
@media (max-width: 540px) {
  .navbar-form .form-group {
    margin-bottom: 5px;
  }
  .navbar-form .form-group:last-child {
    margin-bottom: 0;
  }
}
@media (min-width: 541px) {
  .navbar-form {
    width: auto;
    border: 0;
    margin-left: 0;
    margin-right: 0;
    padding-top: 0;
    padding-bottom: 0;
    -webkit-box-shadow: none;
    box-shadow: none;
  }
}
.navbar-nav > li > .dropdown-menu {
  margin-top: 0;
  border-top-right-radius: 0;
  border-top-left-radius: 0;
}
.navbar-fixed-bottom .navbar-nav > li > .dropdown-menu {
  margin-bottom: 0;
  border-top-right-radius: 2px;
  border-top-left-radius: 2px;
  border-bottom-right-radius: 0;
  border-bottom-left-radius: 0;
}
.navbar-btn {
  margin-top: -1px;
  margin-bottom: -1px;
}
.navbar-btn.btn-sm {
  margin-top: 0px;
  margin-bottom: 0px;
}
.navbar-btn.btn-xs {
  margin-top: 4px;
  margin-bottom: 4px;
}
.navbar-text {
  margin-top: 6px;
  margin-bottom: 6px;
}
@media (min-width: 541px) {
  .navbar-text {
    float: left;
    margin-left: 0px;
    margin-right: 0px;
  }
}
@media (min-width: 541px) {
  .navbar-left {
    float: left !important;
    float: left;
  }
  .navbar-right {
    float: right !important;
    float: right;
    margin-right: 0px;
  }
  .navbar-right ~ .navbar-right {
    margin-right: 0;
  }
}
.navbar-default {
  background-color: #f8f8f8;
  border-color: #e7e7e7;
}
.navbar-default .navbar-brand {
  color: #777;
}
.navbar-default .navbar-brand:hover,
.navbar-default .navbar-brand:focus {
  color: #5e5e5e;
  background-color: transparent;
}
.navbar-default .navbar-text {
  color: #777;
}
.navbar-default .navbar-nav > li > a {
  color: #777;
}
.navbar-default .navbar-nav > li > a:hover,
.navbar-default .navbar-nav > li > a:focus {
  color: #333;
  background-color: transparent;
}
.navbar-default .navbar-nav > .active > a,
.navbar-default .navbar-nav > .active > a:hover,
.navbar-default .navbar-nav > .active > a:focus {
  color: #555;
  background-color: #e7e7e7;
}
.navbar-default .navbar-nav > .disabled > a,
.navbar-default .navbar-nav > .disabled > a:hover,
.navbar-default .navbar-nav > .disabled > a:focus {
  color: #ccc;
  background-color: transparent;
}
.navbar-default .navbar-toggle {
  border-color: #ddd;
}
.navbar-default .navbar-toggle:hover,
.navbar-default .navbar-toggle:focus {
  background-color: #ddd;
}
.navbar-default .navbar-toggle .icon-bar {
  background-color: #888;
}
.navbar-default .navbar-collapse,
.navbar-default .navbar-form {
  border-color: #e7e7e7;
}
.navbar-default .navbar-nav > .open > a,
.navbar-default .navbar-nav > .open > a:hover,
.navbar-default .navbar-nav > .open > a:focus {
  background-color: #e7e7e7;
  color: #555;
}
@media (max-width: 540px) {
  .navbar-default .navbar-nav .open .dropdown-menu > li > a {
    color: #777;
  }
  .navbar-default .navbar-nav .open .dropdown-menu > li > a:hover,
  .navbar-default .navbar-nav .open .dropdown-menu > li > a:focus {
    color: #333;
    background-color: transparent;
  }
  .navbar-default .navbar-nav .open .dropdown-menu > .active > a,
  .navbar-default .navbar-nav .open .dropdown-menu > .active > a:hover,
  .navbar-default .navbar-nav .open .dropdown-menu > .active > a:focus {
    color: #555;
    background-color: #e7e7e7;
  }
  .navbar-default .navbar-nav .open .dropdown-menu > .disabled > a,
  .navbar-default .navbar-nav .open .dropdown-menu > .disabled > a:hover,
  .navbar-default .navbar-nav .open .dropdown-menu > .disabled > a:focus {
    color: #ccc;
    background-color: transparent;
  }
}
.navbar-default .navbar-link {
  color: #777;
}
.navbar-default .navbar-link:hover {
  color: #333;
}
.navbar-default .btn-link {
  color: #777;
}
.navbar-default .btn-link:hover,
.navbar-default .btn-link:focus {
  color: #333;
}
.navbar-default .btn-link[disabled]:hover,
fieldset[disabled] .navbar-default .btn-link:hover,
.navbar-default .btn-link[disabled]:focus,
fieldset[disabled] .navbar-default .btn-link:focus {
  color: #ccc;
}
.navbar-inverse {
  background-color: #222;
  border-color: #080808;
}
.navbar-inverse .navbar-brand {
  color: #9d9d9d;
}
.navbar-inverse .navbar-brand:hover,
.navbar-inverse .navbar-brand:focus {
  color: #fff;
  background-color: transparent;
}
.navbar-inverse .navbar-text {
  color: #9d9d9d;
}
.navbar-inverse .navbar-nav > li > a {
  color: #9d9d9d;
}
.navbar-inverse .navbar-nav > li > a:hover,
.navbar-inverse .navbar-nav > li > a:focus {
  color: #fff;
  background-color: transparent;
}
.navbar-inverse .navbar-nav > .active > a,
.navbar-inverse .navbar-nav > .active > a:hover,
.navbar-inverse .navbar-nav > .active > a:focus {
  color: #fff;
  background-color: #080808;
}
.navbar-inverse .navbar-nav > .disabled > a,
.navbar-inverse .navbar-nav > .disabled > a:hover,
.navbar-inverse .navbar-nav > .disabled > a:focus {
  color: #444;
  background-color: transparent;
}
.navbar-inverse .navbar-toggle {
  border-color: #333;
}
.navbar-inverse .navbar-toggle:hover,
.navbar-inverse .navbar-toggle:focus {
  background-color: #333;
}
.navbar-inverse .navbar-toggle .icon-bar {
  background-color: #fff;
}
.navbar-inverse .navbar-collapse,
.navbar-inverse .navbar-form {
  border-color: #101010;
}
.navbar-inverse .navbar-nav > .open > a,
.navbar-inverse .navbar-nav > .open > a:hover,
.navbar-inverse .navbar-nav > .open > a:focus {
  background-color: #080808;
  color: #fff;
}
@media (max-width: 540px) {
  .navbar-inverse .navbar-nav .open .dropdown-menu > .dropdown-header {
    border-color: #080808;
  }
  .navbar-inverse .navbar-nav .open .dropdown-menu .divider {
    background-color: #080808;
  }
  .navbar-inverse .navbar-nav .open .dropdown-menu > li > a {
    color: #9d9d9d;
  }
  .navbar-inverse .navbar-nav .open .dropdown-menu > li > a:hover,
  .navbar-inverse .navbar-nav .open .dropdown-menu > li > a:focus {
    color: #fff;
    background-color: transparent;
  }
  .navbar-inverse .navbar-nav .open .dropdown-menu > .active > a,
  .navbar-inverse .navbar-nav .open .dropdown-menu > .active > a:hover,
  .navbar-inverse .navbar-nav .open .dropdown-menu > .active > a:focus {
    color: #fff;
    background-color: #080808;
  }
  .navbar-inverse .navbar-nav .open .dropdown-menu > .disabled > a,
  .navbar-inverse .navbar-nav .open .dropdown-menu > .disabled > a:hover,
  .navbar-inverse .navbar-nav .open .dropdown-menu > .disabled > a:focus {
    color: #444;
    background-color: transparent;
  }
}
.navbar-inverse .navbar-link {
  color: #9d9d9d;
}
.navbar-inverse .navbar-link:hover {
  color: #fff;
}
.navbar-inverse .btn-link {
  color: #9d9d9d;
}
.navbar-inverse .btn-link:hover,
.navbar-inverse .btn-link:focus {
  color: #fff;
}
.navbar-inverse .btn-link[disabled]:hover,
fieldset[disabled] .navbar-inverse .btn-link:hover,
.navbar-inverse .btn-link[disabled]:focus,
fieldset[disabled] .navbar-inverse .btn-link:focus {
  color: #444;
}
.breadcrumb {
  padding: 8px 15px;
  margin-bottom: 18px;
  list-style: none;
  background-color: #f5f5f5;
  border-radius: 2px;
}
.breadcrumb > li {
  display: inline-block;
}
.breadcrumb > li + li:before {
  content: "/\00a0";
  padding: 0 5px;
  color: #5e5e5e;
}
.breadcrumb > .active {
  color: #777777;
}
.pagination {
  display: inline-block;
  padding-left: 0;
  margin: 18px 0;
  border-radius: 2px;
}
.pagination > li {
  display: inline;
}
.pagination > li > a,
.pagination > li > span {
  position: relative;
  float: left;
  padding: 6px 12px;
  line-height: 1.42857143;
  text-decoration: none;
  color: #337ab7;
  background-color: #fff;
  border: 1px solid #ddd;
  margin-left: -1px;
}
.pagination > li:first-child > a,
.pagination > li:first-child > span {
  margin-left: 0;
  border-bottom-left-radius: 2px;
  border-top-left-radius: 2px;
}
.pagination > li:last-child > a,
.pagination > li:last-child > span {
  border-bottom-right-radius: 2px;
  border-top-right-radius: 2px;
}
.pagination > li > a:hover,
.pagination > li > span:hover,
.pagination > li > a:focus,
.pagination > li > span:focus {
  z-index: 2;
  color: #23527c;
  background-color: #eeeeee;
  border-color: #ddd;
}
.pagination > .active > a,
.pagination > .active > span,
.pagination > .active > a:hover,
.pagination > .active > span:hover,
.pagination > .active > a:focus,
.pagination > .active > span:focus {
  z-index: 3;
  color: #fff;
  background-color: #337ab7;
  border-color: #337ab7;
  cursor: default;
}
.pagination > .disabled > span,
.pagination > .disabled > span:hover,
.pagination > .disabled > span:focus,
.pagination > .disabled > a,
.pagination > .disabled > a:hover,
.pagination > .disabled > a:focus {
  color: #777777;
  background-color: #fff;
  border-color: #ddd;
  cursor: not-allowed;
}
.pagination-lg > li > a,
.pagination-lg > li > span {
  padding: 10px 16px;
  font-size: 17px;
  line-height: 1.3333333;
}
.pagination-lg > li:first-child > a,
.pagination-lg > li:first-child > span {
  border-bottom-left-radius: 3px;
  border-top-left-radius: 3px;
}
.pagination-lg > li:last-child > a,
.pagination-lg > li:last-child > span {
  border-bottom-right-radius: 3px;
  border-top-right-radius: 3px;
}
.pagination-sm > li > a,
.pagination-sm > li > span {
  padding: 5px 10px;
  font-size: 12px;
  line-height: 1.5;
}
.pagination-sm > li:first-child > a,
.pagination-sm > li:first-child > span {
  border-bottom-left-radius: 1px;
  border-top-left-radius: 1px;
}
.pagination-sm > li:last-child > a,
.pagination-sm > li:last-child > span {
  border-bottom-right-radius: 1px;
  border-top-right-radius: 1px;
}
.pager {
  padding-left: 0;
  margin: 18px 0;
  list-style: none;
  text-align: center;
}
.pager li {
  display: inline;
}
.pager li > a,
.pager li > span {
  display: inline-block;
  padding: 5px 14px;
  background-color: #fff;
  border: 1px solid #ddd;
  border-radius: 15px;
}
.pager li > a:hover,
.pager li > a:focus {
  text-decoration: none;
  background-color: #eeeeee;
}
.pager .next > a,
.pager .next > span {
  float: right;
}
.pager .previous > a,
.pager .previous > span {
  float: left;
}
.pager .disabled > a,
.pager .disabled > a:hover,
.pager .disabled > a:focus,
.pager .disabled > span {
  color: #777777;
  background-color: #fff;
  cursor: not-allowed;
}
.label {
  display: inline;
  padding: .2em .6em .3em;
  font-size: 75%;
  font-weight: bold;
  line-height: 1;
  color: #fff;
  text-align: center;
  white-space: nowrap;
  vertical-align: baseline;
  border-radius: .25em;
}
a.label:hover,
a.label:focus {
  color: #fff;
  text-decoration: none;
  cursor: pointer;
}
.label:empty {
  display: none;
}
.btn .label {
  position: relative;
  top: -1px;
}
.label-default {
  background-color: #777777;
}
.label-default[href]:hover,
.label-default[href]:focus {
  background-color: #5e5e5e;
}
.label-primary {
  background-color: #337ab7;
}
.label-primary[href]:hover,
.label-primary[href]:focus {
  background-color: #286090;
}
.label-success {
  background-color: #5cb85c;
}
.label-success[href]:hover,
.label-success[href]:focus {
  background-color: #449d44;
}
.label-info {
  background-color: #5bc0de;
}
.label-info[href]:hover,
.label-info[href]:focus {
  background-color: #31b0d5;
}
.label-warning {
  background-color: #f0ad4e;
}
.label-warning[href]:hover,
.label-warning[href]:focus {
  background-color: #ec971f;
}
.label-danger {
  background-color: #d9534f;
}
.label-danger[href]:hover,
.label-danger[href]:focus {
  background-color: #c9302c;
}
.badge {
  display: inline-block;
  min-width: 10px;
  padding: 3px 7px;
  font-size: 12px;
  font-weight: bold;
  color: #fff;
  line-height: 1;
  vertical-align: middle;
  white-space: nowrap;
  text-align: center;
  background-color: #777777;
  border-radius: 10px;
}
.badge:empty {
  display: none;
}
.btn .badge {
  position: relative;
  top: -1px;
}
.btn-xs .badge,
.btn-group-xs > .btn .badge {
  top: 0;
  padding: 1px 5px;
}
a.badge:hover,
a.badge:focus {
  color: #fff;
  text-decoration: none;
  cursor: pointer;
}
.list-group-item.active > .badge,
.nav-pills > .active > a > .badge {
  color: #337ab7;
  background-color: #fff;
}
.list-group-item > .badge {
  float: right;
}
.list-group-item > .badge + .badge {
  margin-right: 5px;
}
.nav-pills > li > a > .badge {
  margin-left: 3px;
}
.jumbotron {
  padding-top: 30px;
  padding-bottom: 30px;
  margin-bottom: 30px;
  color: inherit;
  background-color: #eeeeee;
}
.jumbotron h1,
.jumbotron .h1 {
  color: inherit;
}
.jumbotron p {
  margin-bottom: 15px;
  font-size: 20px;
  font-weight: 200;
}
.jumbotron > hr {
  border-top-color: #d5d5d5;
}
.container .jumbotron,
.container-fluid .jumbotron {
  border-radius: 3px;
  padding-left: 0px;
  padding-right: 0px;
}
.jumbotron .container {
  max-width: 100%;
}
@media screen and (min-width: 768px) {
  .jumbotron {
    padding-top: 48px;
    padding-bottom: 48px;
  }
  .container .jumbotron,
  .container-fluid .jumbotron {
    padding-left: 60px;
    padding-right: 60px;
  }
  .jumbotron h1,
  .jumbotron .h1 {
    font-size: 59px;
  }
}
.thumbnail {
  display: block;
  padding: 4px;
  margin-bottom: 18px;
  line-height: 1.42857143;
  background-color: #fff;
  border: 1px solid #ddd;
  border-radius: 2px;
  -webkit-transition: border 0.2s ease-in-out;
  -o-transition: border 0.2s ease-in-out;
  transition: border 0.2s ease-in-out;
}
.thumbnail > img,
.thumbnail a > img {
  margin-left: auto;
  margin-right: auto;
}
a.thumbnail:hover,
a.thumbnail:focus,
a.thumbnail.active {
  border-color: #337ab7;
}
.thumbnail .caption {
  padding: 9px;
  color: #000;
}
.alert {
  padding: 15px;
  margin-bottom: 18px;
  border: 1px solid transparent;
  border-radius: 2px;
}
.alert h4 {
  margin-top: 0;
  color: inherit;
}
.alert .alert-link {
  font-weight: bold;
}
.alert > p,
.alert > ul {
  margin-bottom: 0;
}
.alert > p + p {
  margin-top: 5px;
}
.alert-dismissable,
.alert-dismissible {
  padding-right: 35px;
}
.alert-dismissable .close,
.alert-dismissible .close {
  position: relative;
  top: -2px;
  right: -21px;
  color: inherit;
}
.alert-success {
  background-color: #dff0d8;
  border-color: #d6e9c6;
  color: #3c763d;
}
.alert-success hr {
  border-top-color: #c9e2b3;
}
.alert-success .alert-link {
  color: #2b542c;
}
.alert-info {
  background-color: #d9edf7;
  border-color: #bce8f1;
  color: #31708f;
}
.alert-info hr {
  border-top-color: #a6e1ec;
}
.alert-info .alert-link {
  color: #245269;
}
.alert-warning {
  background-color: #fcf8e3;
  border-color: #faebcc;
  color: #8a6d3b;
}
.alert-warning hr {
  border-top-color: #f7e1b5;
}
.alert-warning .alert-link {
  color: #66512c;
}
.alert-danger {
  background-color: #f2dede;
  border-color: #ebccd1;
  color: #a94442;
}
.alert-danger hr {
  border-top-color: #e4b9c0;
}
.alert-danger .alert-link {
  color: #843534;
}
@-webkit-keyframes progress-bar-stripes {
  from {
    background-position: 40px 0;
  }
  to {
    background-position: 0 0;
  }
}
@keyframes progress-bar-stripes {
  from {
    background-position: 40px 0;
  }
  to {
    background-position: 0 0;
  }
}
.progress {
  overflow: hidden;
  height: 18px;
  margin-bottom: 18px;
  background-color: #f5f5f5;
  border-radius: 2px;
  -webkit-box-shadow: inset 0 1px 2px rgba(0, 0, 0, 0.1);
  box-shadow: inset 0 1px 2px rgba(0, 0, 0, 0.1);
}
.progress-bar {
  float: left;
  width: 0%;
  height: 100%;
  font-size: 12px;
  line-height: 18px;
  color: #fff;
  text-align: center;
  background-color: #337ab7;
  -webkit-box-shadow: inset 0 -1px 0 rgba(0, 0, 0, 0.15);
  box-shadow: inset 0 -1px 0 rgba(0, 0, 0, 0.15);
  -webkit-transition: width 0.6s ease;
  -o-transition: width 0.6s ease;
  transition: width 0.6s ease;
}
.progress-striped .progress-bar,
.progress-bar-striped {
  background-image: -webkit-linear-gradient(45deg, rgba(255, 255, 255, 0.15) 25%, transparent 25%, transparent 50%, rgba(255, 255, 255, 0.15) 50%, rgba(255, 255, 255, 0.15) 75%, transparent 75%, transparent);
  background-image: -o-linear-gradient(45deg, rgba(255, 255, 255, 0.15) 25%, transparent 25%, transparent 50%, rgba(255, 255, 255, 0.15) 50%, rgba(255, 255, 255, 0.15) 75%, transparent 75%, transparent);
  background-image: linear-gradient(45deg, rgba(255, 255, 255, 0.15) 25%, transparent 25%, transparent 50%, rgba(255, 255, 255, 0.15) 50%, rgba(255, 255, 255, 0.15) 75%, transparent 75%, transparent);
  background-size: 40px 40px;
}
.progress.active .progress-bar,
.progress-bar.active {
  -webkit-animation: progress-bar-stripes 2s linear infinite;
  -o-animation: progress-bar-stripes 2s linear infinite;
  animation: progress-bar-stripes 2s linear infinite;
}
.progress-bar-success {
  background-color: #5cb85c;
}
.progress-striped .progress-bar-success {
  background-image: -webkit-linear-gradient(45deg, rgba(255, 255, 255, 0.15) 25%, transparent 25%, transparent 50%, rgba(255, 255, 255, 0.15) 50%, rgba(255, 255, 255, 0.15) 75%, transparent 75%, transparent);
  background-image: -o-linear-gradient(45deg, rgba(255, 255, 255, 0.15) 25%, transparent 25%, transparent 50%, rgba(255, 255, 255, 0.15) 50%, rgba(255, 255, 255, 0.15) 75%, transparent 75%, transparent);
  background-image: linear-gradient(45deg, rgba(255, 255, 255, 0.15) 25%, transparent 25%, transparent 50%, rgba(255, 255, 255, 0.15) 50%, rgba(255, 255, 255, 0.15) 75%, transparent 75%, transparent);
}
.progress-bar-info {
  background-color: #5bc0de;
}
.progress-striped .progress-bar-info {
  background-image: -webkit-linear-gradient(45deg, rgba(255, 255, 255, 0.15) 25%, transparent 25%, transparent 50%, rgba(255, 255, 255, 0.15) 50%, rgba(255, 255, 255, 0.15) 75%, transparent 75%, transparent);
  background-image: -o-linear-gradient(45deg, rgba(255, 255, 255, 0.15) 25%, transparent 25%, transparent 50%, rgba(255, 255, 255, 0.15) 50%, rgba(255, 255, 255, 0.15) 75%, transparent 75%, transparent);
  background-image: linear-gradient(45deg, rgba(255, 255, 255, 0.15) 25%, transparent 25%, transparent 50%, rgba(255, 255, 255, 0.15) 50%, rgba(255, 255, 255, 0.15) 75%, transparent 75%, transparent);
}
.progress-bar-warning {
  background-color: #f0ad4e;
}
.progress-striped .progress-bar-warning {
  background-image: -webkit-linear-gradient(45deg, rgba(255, 255, 255, 0.15) 25%, transparent 25%, transparent 50%, rgba(255, 255, 255, 0.15) 50%, rgba(255, 255, 255, 0.15) 75%, transparent 75%, transparent);
  background-image: -o-linear-gradient(45deg, rgba(255, 255, 255, 0.15) 25%, transparent 25%, transparent 50%, rgba(255, 255, 255, 0.15) 50%, rgba(255, 255, 255, 0.15) 75%, transparent 75%, transparent);
  background-image: linear-gradient(45deg, rgba(255, 255, 255, 0.15) 25%, transparent 25%, transparent 50%, rgba(255, 255, 255, 0.15) 50%, rgba(255, 255, 255, 0.15) 75%, transparent 75%, transparent);
}
.progress-bar-danger {
  background-color: #d9534f;
}
.progress-striped .progress-bar-danger {
  background-image: -webkit-linear-gradient(45deg, rgba(255, 255, 255, 0.15) 25%, transparent 25%, transparent 50%, rgba(255, 255, 255, 0.15) 50%, rgba(255, 255, 255, 0.15) 75%, transparent 75%, transparent);
  background-image: -o-linear-gradient(45deg, rgba(255, 255, 255, 0.15) 25%, transparent 25%, transparent 50%, rgba(255, 255, 255, 0.15) 50%, rgba(255, 255, 255, 0.15) 75%, transparent 75%, transparent);
  background-image: linear-gradient(45deg, rgba(255, 255, 255, 0.15) 25%, transparent 25%, transparent 50%, rgba(255, 255, 255, 0.15) 50%, rgba(255, 255, 255, 0.15) 75%, transparent 75%, transparent);
}
.media {
  margin-top: 15px;
}
.media:first-child {
  margin-top: 0;
}
.media,
.media-body {
  zoom: 1;
  overflow: hidden;
}
.media-body {
  width: 10000px;
}
.media-object {
  display: block;
}
.media-object.img-thumbnail {
  max-width: none;
}
.media-right,
.media > .pull-right {
  padding-left: 10px;
}
.media-left,
.media > .pull-left {
  padding-right: 10px;
}
.media-left,
.media-right,
.media-body {
  display: table-cell;
  vertical-align: top;
}
.media-middle {
  vertical-align: middle;
}
.media-bottom {
  vertical-align: bottom;
}
.media-heading {
  margin-top: 0;
  margin-bottom: 5px;
}
.media-list {
  padding-left: 0;
  list-style: none;
}
.list-group {
  margin-bottom: 20px;
  padding-left: 0;
}
.list-group-item {
  position: relative;
  display: block;
  padding: 10px 15px;
  margin-bottom: -1px;
  background-color: #fff;
  border: 1px solid #ddd;
}
.list-group-item:first-child {
  border-top-right-radius: 2px;
  border-top-left-radius: 2px;
}
.list-group-item:last-child {
  margin-bottom: 0;
  border-bottom-right-radius: 2px;
  border-bottom-left-radius: 2px;
}
a.list-group-item,
button.list-group-item {
  color: #555;
}
a.list-group-item .list-group-item-heading,
button.list-group-item .list-group-item-heading {
  color: #333;
}
a.list-group-item:hover,
button.list-group-item:hover,
a.list-group-item:focus,
button.list-group-item:focus {
  text-decoration: none;
  color: #555;
  background-color: #f5f5f5;
}
button.list-group-item {
  width: 100%;
  text-align: left;
}
.list-group-item.disabled,
.list-group-item.disabled:hover,
.list-group-item.disabled:focus {
  background-color: #eeeeee;
  color: #777777;
  cursor: not-allowed;
}
.list-group-item.disabled .list-group-item-heading,
.list-group-item.disabled:hover .list-group-item-heading,
.list-group-item.disabled:focus .list-group-item-heading {
  color: inherit;
}
.list-group-item.disabled .list-group-item-text,
.list-group-item.disabled:hover .list-group-item-text,
.list-group-item.disabled:focus .list-group-item-text {
  color: #777777;
}
.list-group-item.active,
.list-group-item.active:hover,
.list-group-item.active:focus {
  z-index: 2;
  color: #fff;
  background-color: #337ab7;
  border-color: #337ab7;
}
.list-group-item.active .list-group-item-heading,
.list-group-item.active:hover .list-group-item-heading,
.list-group-item.active:focus .list-group-item-heading,
.list-group-item.active .list-group-item-heading > small,
.list-group-item.active:hover .list-group-item-heading > small,
.list-group-item.active:focus .list-group-item-heading > small,
.list-group-item.active .list-group-item-heading > .small,
.list-group-item.active:hover .list-group-item-heading > .small,
.list-group-item.active:focus .list-group-item-heading > .small {
  color: inherit;
}
.list-group-item.active .list-group-item-text,
.list-group-item.active:hover .list-group-item-text,
.list-group-item.active:focus .list-group-item-text {
  color: #c7ddef;
}
.list-group-item-success {
  color: #3c763d;
  background-color: #dff0d8;
}
a.list-group-item-success,
button.list-group-item-success {
  color: #3c763d;
}
a.list-group-item-success .list-group-item-heading,
button.list-group-item-success .list-group-item-heading {
  color: inherit;
}
a.list-group-item-success:hover,
button.list-group-item-success:hover,
a.list-group-item-success:focus,
button.list-group-item-success:focus {
  color: #3c763d;
  background-color: #d0e9c6;
}
a.list-group-item-success.active,
button.list-group-item-success.active,
a.list-group-item-success.active:hover,
button.list-group-item-success.active:hover,
a.list-group-item-success.active:focus,
button.list-group-item-success.active:focus {
  color: #fff;
  background-color: #3c763d;
  border-color: #3c763d;
}
.list-group-item-info {
  color: #31708f;
  background-color: #d9edf7;
}
a.list-group-item-info,
button.list-group-item-info {
  color: #31708f;
}
a.list-group-item-info .list-group-item-heading,
button.list-group-item-info .list-group-item-heading {
  color: inherit;
}
a.list-group-item-info:hover,
button.list-group-item-info:hover,
a.list-group-item-info:focus,
button.list-group-item-info:focus {
  color: #31708f;
  background-color: #c4e3f3;
}
a.list-group-item-info.active,
button.list-group-item-info.active,
a.list-group-item-info.active:hover,
button.list-group-item-info.active:hover,
a.list-group-item-info.active:focus,
button.list-group-item-info.active:focus {
  color: #fff;
  background-color: #31708f;
  border-color: #31708f;
}
.list-group-item-warning {
  color: #8a6d3b;
  background-color: #fcf8e3;
}
a.list-group-item-warning,
button.list-group-item-warning {
  color: #8a6d3b;
}
a.list-group-item-warning .list-group-item-heading,
button.list-group-item-warning .list-group-item-heading {
  color: inherit;
}
a.list-group-item-warning:hover,
button.list-group-item-warning:hover,
a.list-group-item-warning:focus,
button.list-group-item-warning:focus {
  color: #8a6d3b;
  background-color: #faf2cc;
}
a.list-group-item-warning.active,
button.list-group-item-warning.active,
a.list-group-item-warning.active:hover,
button.list-group-item-warning.active:hover,
a.list-group-item-warning.active:focus,
button.list-group-item-warning.active:focus {
  color: #fff;
  background-color: #8a6d3b;
  border-color: #8a6d3b;
}
.list-group-item-danger {
  color: #a94442;
  background-color: #f2dede;
}
a.list-group-item-danger,
button.list-group-item-danger {
  color: #a94442;
}
a.list-group-item-danger .list-group-item-heading,
button.list-group-item-danger .list-group-item-heading {
  color: inherit;
}
a.list-group-item-danger:hover,
button.list-group-item-danger:hover,
a.list-group-item-danger:focus,
button.list-group-item-danger:focus {
  color: #a94442;
  background-color: #ebcccc;
}
a.list-group-item-danger.active,
button.list-group-item-danger.active,
a.list-group-item-danger.active:hover,
button.list-group-item-danger.active:hover,
a.list-group-item-danger.active:focus,
button.list-group-item-danger.active:focus {
  color: #fff;
  background-color: #a94442;
  border-color: #a94442;
}
.list-group-item-heading {
  margin-top: 0;
  margin-bottom: 5px;
}
.list-group-item-text {
  margin-bottom: 0;
  line-height: 1.3;
}
.panel {
  margin-bottom: 18px;
  background-color: #fff;
  border: 1px solid transparent;
  border-radius: 2px;
  -webkit-box-shadow: 0 1px 1px rgba(0, 0, 0, 0.05);
  box-shadow: 0 1px 1px rgba(0, 0, 0, 0.05);
}
.panel-body {
  padding: 15px;
}
.panel-heading {
  padding: 10px 15px;
  border-bottom: 1px solid transparent;
  border-top-right-radius: 1px;
  border-top-left-radius: 1px;
}
.panel-heading > .dropdown .dropdown-toggle {
  color: inherit;
}
.panel-title {
  margin-top: 0;
  margin-bottom: 0;
  font-size: 15px;
  color: inherit;
}
.panel-title > a,
.panel-title > small,
.panel-title > .small,
.panel-title > small > a,
.panel-title > .small > a {
  color: inherit;
}
.panel-footer {
  padding: 10px 15px;
  background-color: #f5f5f5;
  border-top: 1px solid #ddd;
  border-bottom-right-radius: 1px;
  border-bottom-left-radius: 1px;
}
.panel > .list-group,
.panel > .panel-collapse > .list-group {
  margin-bottom: 0;
}
.panel > .list-group .list-group-item,
.panel > .panel-collapse > .list-group .list-group-item {
  border-width: 1px 0;
  border-radius: 0;
}
.panel > .list-group:first-child .list-group-item:first-child,
.panel > .panel-collapse > .list-group:first-child .list-group-item:first-child {
  border-top: 0;
  border-top-right-radius: 1px;
  border-top-left-radius: 1px;
}
.panel > .list-group:last-child .list-group-item:last-child,
.panel > .panel-collapse > .list-group:last-child .list-group-item:last-child {
  border-bottom: 0;
  border-bottom-right-radius: 1px;
  border-bottom-left-radius: 1px;
}
.panel > .panel-heading + .panel-collapse > .list-group .list-group-item:first-child {
  border-top-right-radius: 0;
  border-top-left-radius: 0;
}
.panel-heading + .list-group .list-group-item:first-child {
  border-top-width: 0;
}
.list-group + .panel-footer {
  border-top-width: 0;
}
.panel > .table,
.panel > .table-responsive > .table,
.panel > .panel-collapse > .table {
  margin-bottom: 0;
}
.panel > .table caption,
.panel > .table-responsive > .table caption,
.panel > .panel-collapse > .table caption {
  padding-left: 15px;
  padding-right: 15px;
}
.panel > .table:first-child,
.panel > .table-responsive:first-child > .table:first-child {
  border-top-right-radius: 1px;
  border-top-left-radius: 1px;
}
.panel > .table:first-child > thead:first-child > tr:first-child,
.panel > .table-responsive:first-child > .table:first-child > thead:first-child > tr:first-child,
.panel > .table:first-child > tbody:first-child > tr:first-child,
.panel > .table-responsive:first-child > .table:first-child > tbody:first-child > tr:first-child {
  border-top-left-radius: 1px;
  border-top-right-radius: 1px;
}
.panel > .table:first-child > thead:first-child > tr:first-child td:first-child,
.panel > .table-responsive:first-child > .table:first-child > thead:first-child > tr:first-child td:first-child,
.panel > .table:first-child > tbody:first-child > tr:first-child td:first-child,
.panel > .table-responsive:first-child > .table:first-child > tbody:first-child > tr:first-child td:first-child,
.panel > .table:first-child > thead:first-child > tr:first-child th:first-child,
.panel > .table-responsive:first-child > .table:first-child > thead:first-child > tr:first-child th:first-child,
.panel > .table:first-child > tbody:first-child > tr:first-child th:first-child,
.panel > .table-responsive:first-child > .table:first-child > tbody:first-child > tr:first-child th:first-child {
  border-top-left-radius: 1px;
}
.panel > .table:first-child > thead:first-child > tr:first-child td:last-child,
.panel > .table-responsive:first-child > .table:first-child > thead:first-child > tr:first-child td:last-child,
.panel > .table:first-child > tbody:first-child > tr:first-child td:last-child,
.panel > .table-responsive:first-child > .table:first-child > tbody:first-child > tr:first-child td:last-child,
.panel > .table:first-child > thead:first-child > tr:first-child th:last-child,
.panel > .table-responsive:first-child > .table:first-child > thead:first-child > tr:first-child th:last-child,
.panel > .table:first-child > tbody:first-child > tr:first-child th:last-child,
.panel > .table-responsive:first-child > .table:first-child > tbody:first-child > tr:first-child th:last-child {
  border-top-right-radius: 1px;
}
.panel > .table:last-child,
.panel > .table-responsive:last-child > .table:last-child {
  border-bottom-right-radius: 1px;
  border-bottom-left-radius: 1px;
}
.panel > .table:last-child > tbody:last-child > tr:last-child,
.panel > .table-responsive:last-child > .table:last-child > tbody:last-child > tr:last-child,
.panel > .table:last-child > tfoot:last-child > tr:last-child,
.panel > .table-responsive:last-child > .table:last-child > tfoot:last-child > tr:last-child {
  border-bottom-left-radius: 1px;
  border-bottom-right-radius: 1px;
}
.panel > .table:last-child > tbody:last-child > tr:last-child td:first-child,
.panel > .table-responsive:last-child > .table:last-child > tbody:last-child > tr:last-child td:first-child,
.panel > .table:last-child > tfoot:last-child > tr:last-child td:first-child,
.panel > .table-responsive:last-child > .table:last-child > tfoot:last-child > tr:last-child td:first-child,
.panel > .table:last-child > tbody:last-child > tr:last-child th:first-child,
.panel > .table-responsive:last-child > .table:last-child > tbody:last-child > tr:last-child th:first-child,
.panel > .table:last-child > tfoot:last-child > tr:last-child th:first-child,
.panel > .table-responsive:last-child > .table:last-child > tfoot:last-child > tr:last-child th:first-child {
  border-bottom-left-radius: 1px;
}
.panel > .table:last-child > tbody:last-child > tr:last-child td:last-child,
.panel > .table-responsive:last-child > .table:last-child > tbody:last-child > tr:last-child td:last-child,
.panel > .table:last-child > tfoot:last-child > tr:last-child td:last-child,
.panel > .table-responsive:last-child > .table:last-child > tfoot:last-child > tr:last-child td:last-child,
.panel > .table:last-child > tbody:last-child > tr:last-child th:last-child,
.panel > .table-responsive:last-child > .table:last-child > tbody:last-child > tr:last-child th:last-child,
.panel > .table:last-child > tfoot:last-child > tr:last-child th:last-child,
.panel > .table-responsive:last-child > .table:last-child > tfoot:last-child > tr:last-child th:last-child {
  border-bottom-right-radius: 1px;
}
.panel > .panel-body + .table,
.panel > .panel-body + .table-responsive,
.panel > .table + .panel-body,
.panel > .table-responsive + .panel-body {
  border-top: 1px solid #ddd;
}
.panel > .table > tbody:first-child > tr:first-child th,
.panel > .table > tbody:first-child > tr:first-child td {
  border-top: 0;
}
.panel > .table-bordered,
.panel > .table-responsive > .table-bordered {
  border: 0;
}
.panel > .table-bordered > thead > tr > th:first-child,
.panel > .table-responsive > .table-bordered > thead > tr > th:first-child,
.panel > .table-bordered > tbody > tr > th:first-child,
.panel > .table-responsive > .table-bordered > tbody > tr > th:first-child,
.panel > .table-bordered > tfoot > tr > th:first-child,
.panel > .table-responsive > .table-bordered > tfoot > tr > th:first-child,
.panel > .table-bordered > thead > tr > td:first-child,
.panel > .table-responsive > .table-bordered > thead > tr > td:first-child,
.panel > .table-bordered > tbody > tr > td:first-child,
.panel > .table-responsive > .table-bordered > tbody > tr > td:first-child,
.panel > .table-bordered > tfoot > tr > td:first-child,
.panel > .table-responsive > .table-bordered > tfoot > tr > td:first-child {
  border-left: 0;
}
.panel > .table-bordered > thead > tr > th:last-child,
.panel > .table-responsive > .table-bordered > thead > tr > th:last-child,
.panel > .table-bordered > tbody > tr > th:last-child,
.panel > .table-responsive > .table-bordered > tbody > tr > th:last-child,
.panel > .table-bordered > tfoot > tr > th:last-child,
.panel > .table-responsive > .table-bordered > tfoot > tr > th:last-child,
.panel > .table-bordered > thead > tr > td:last-child,
.panel > .table-responsive > .table-bordered > thead > tr > td:last-child,
.panel > .table-bordered > tbody > tr > td:last-child,
.panel > .table-responsive > .table-bordered > tbody > tr > td:last-child,
.panel > .table-bordered > tfoot > tr > td:last-child,
.panel > .table-responsive > .table-bordered > tfoot > tr > td:last-child {
  border-right: 0;
}
.panel > .table-bordered > thead > tr:first-child > td,
.panel > .table-responsive > .table-bordered > thead > tr:first-child > td,
.panel > .table-bordered > tbody > tr:first-child > td,
.panel > .table-responsive > .table-bordered > tbody > tr:first-child > td,
.panel > .table-bordered > thead > tr:first-child > th,
.panel > .table-responsive > .table-bordered > thead > tr:first-child > th,
.panel > .table-bordered > tbody > tr:first-child > th,
.panel > .table-responsive > .table-bordered > tbody > tr:first-child > th {
  border-bottom: 0;
}
.panel > .table-bordered > tbody > tr:last-child > td,
.panel > .table-responsive > .table-bordered > tbody > tr:last-child > td,
.panel > .table-bordered > tfoot > tr:last-child > td,
.panel > .table-responsive > .table-bordered > tfoot > tr:last-child > td,
.panel > .table-bordered > tbody > tr:last-child > th,
.panel > .table-responsive > .table-bordered > tbody > tr:last-child > th,
.panel > .table-bordered > tfoot > tr:last-child > th,
.panel > .table-responsive > .table-bordered > tfoot > tr:last-child > th {
  border-bottom: 0;
}
.panel > .table-responsive {
  border: 0;
  margin-bottom: 0;
}
.panel-group {
  margin-bottom: 18px;
}
.panel-group .panel {
  margin-bottom: 0;
  border-radius: 2px;
}
.panel-group .panel + .panel {
  margin-top: 5px;
}
.panel-group .panel-heading {
  border-bottom: 0;
}
.panel-group .panel-heading + .panel-collapse > .panel-body,
.panel-group .panel-heading + .panel-collapse > .list-group {
  border-top: 1px solid #ddd;
}
.panel-group .panel-footer {
  border-top: 0;
}
.panel-group .panel-footer + .panel-collapse .panel-body {
  border-bottom: 1px solid #ddd;
}
.panel-default {
  border-color: #ddd;
}
.panel-default > .panel-heading {
  color: #333333;
  background-color: #f5f5f5;
  border-color: #ddd;
}
.panel-default > .panel-heading + .panel-collapse > .panel-body {
  border-top-color: #ddd;
}
.panel-default > .panel-heading .badge {
  color: #f5f5f5;
  background-color: #333333;
}
.panel-default > .panel-footer + .panel-collapse > .panel-body {
  border-bottom-color: #ddd;
}
.panel-primary {
  border-color: #337ab7;
}
.panel-primary > .panel-heading {
  color: #fff;
  background-color: #337ab7;
  border-color: #337ab7;
}
.panel-primary > .panel-heading + .panel-collapse > .panel-body {
  border-top-color: #337ab7;
}
.panel-primary > .panel-heading .badge {
  color: #337ab7;
  background-color: #fff;
}
.panel-primary > .panel-footer + .panel-collapse > .panel-body {
  border-bottom-color: #337ab7;
}
.panel-success {
  border-color: #d6e9c6;
}
.panel-success > .panel-heading {
  color: #3c763d;
  background-color: #dff0d8;
  border-color: #d6e9c6;
}
.panel-success > .panel-heading + .panel-collapse > .panel-body {
  border-top-color: #d6e9c6;
}
.panel-success > .panel-heading .badge {
  color: #dff0d8;
  background-color: #3c763d;
}
.panel-success > .panel-footer + .panel-collapse > .panel-body {
  border-bottom-color: #d6e9c6;
}
.panel-info {
  border-color: #bce8f1;
}
.panel-info > .panel-heading {
  color: #31708f;
  background-color: #d9edf7;
  border-color: #bce8f1;
}
.panel-info > .panel-heading + .panel-collapse > .panel-body {
  border-top-color: #bce8f1;
}
.panel-info > .panel-heading .badge {
  color: #d9edf7;
  background-color: #31708f;
}
.panel-info > .panel-footer + .panel-collapse > .panel-body {
  border-bottom-color: #bce8f1;
}
.panel-warning {
  border-color: #faebcc;
}
.panel-warning > .panel-heading {
  color: #8a6d3b;
  background-color: #fcf8e3;
  border-color: #faebcc;
}
.panel-warning > .panel-heading + .panel-collapse > .panel-body {
  border-top-color: #faebcc;
}
.panel-warning > .panel-heading .badge {
  color: #fcf8e3;
  background-color: #8a6d3b;
}
.panel-warning > .panel-footer + .panel-collapse > .panel-body {
  border-bottom-color: #faebcc;
}
.panel-danger {
  border-color: #ebccd1;
}
.panel-danger > .panel-heading {
  color: #a94442;
  background-color: #f2dede;
  border-color: #ebccd1;
}
.panel-danger > .panel-heading + .panel-collapse > .panel-body {
  border-top-color: #ebccd1;
}
.panel-danger > .panel-heading .badge {
  color: #f2dede;
  background-color: #a94442;
}
.panel-danger > .panel-footer + .panel-collapse > .panel-body {
  border-bottom-color: #ebccd1;
}
.embed-responsive {
  position: relative;
  display: block;
  height: 0;
  padding: 0;
  overflow: hidden;
}
.embed-responsive .embed-responsive-item,
.embed-responsive iframe,
.embed-responsive embed,
.embed-responsive object,
.embed-responsive video {
  position: absolute;
  top: 0;
  left: 0;
  bottom: 0;
  height: 100%;
  width: 100%;
  border: 0;
}
.embed-responsive-16by9 {
  padding-bottom: 56.25%;
}
.embed-responsive-4by3 {
  padding-bottom: 75%;
}
.well {
  min-height: 20px;
  padding: 19px;
  margin-bottom: 20px;
  background-color: #f5f5f5;
  border: 1px solid #e3e3e3;
  border-radius: 2px;
  -webkit-box-shadow: inset 0 1px 1px rgba(0, 0, 0, 0.05);
  box-shadow: inset 0 1px 1px rgba(0, 0, 0, 0.05);
}
.well blockquote {
  border-color: #ddd;
  border-color: rgba(0, 0, 0, 0.15);
}
.well-lg {
  padding: 24px;
  border-radius: 3px;
}
.well-sm {
  padding: 9px;
  border-radius: 1px;
}
.close {
  float: right;
  font-size: 19.5px;
  font-weight: bold;
  line-height: 1;
  color: #000;
  text-shadow: 0 1px 0 #fff;
  opacity: 0.2;
  filter: alpha(opacity=20);
}
.close:hover,
.close:focus {
  color: #000;
  text-decoration: none;
  cursor: pointer;
  opacity: 0.5;
  filter: alpha(opacity=50);
}
button.close {
  padding: 0;
  cursor: pointer;
  background: transparent;
  border: 0;
  -webkit-appearance: none;
}
.modal-open {
  overflow: hidden;
}
.modal {
  display: none;
  overflow: hidden;
  position: fixed;
  top: 0;
  right: 0;
  bottom: 0;
  left: 0;
  z-index: 1050;
  -webkit-overflow-scrolling: touch;
  outline: 0;
}
.modal.fade .modal-dialog {
  -webkit-transform: translate(0, -25%);
  -ms-transform: translate(0, -25%);
  -o-transform: translate(0, -25%);
  transform: translate(0, -25%);
  -webkit-transition: -webkit-transform 0.3s ease-out;
  -moz-transition: -moz-transform 0.3s ease-out;
  -o-transition: -o-transform 0.3s ease-out;
  transition: transform 0.3s ease-out;
}
.modal.in .modal-dialog {
  -webkit-transform: translate(0, 0);
  -ms-transform: translate(0, 0);
  -o-transform: translate(0, 0);
  transform: translate(0, 0);
}
.modal-open .modal {
  overflow-x: hidden;
  overflow-y: auto;
}
.modal-dialog {
  position: relative;
  width: auto;
  margin: 10px;
}
.modal-content {
  position: relative;
  background-color: #fff;
  border: 1px solid #999;
  border: 1px solid rgba(0, 0, 0, 0.2);
  border-radius: 3px;
  -webkit-box-shadow: 0 3px 9px rgba(0, 0, 0, 0.5);
  box-shadow: 0 3px 9px rgba(0, 0, 0, 0.5);
  background-clip: padding-box;
  outline: 0;
}
.modal-backdrop {
  position: fixed;
  top: 0;
  right: 0;
  bottom: 0;
  left: 0;
  z-index: 1040;
  background-color: #000;
}
.modal-backdrop.fade {
  opacity: 0;
  filter: alpha(opacity=0);
}
.modal-backdrop.in {
  opacity: 0.5;
  filter: alpha(opacity=50);
}
.modal-header {
  padding: 15px;
  border-bottom: 1px solid #e5e5e5;
}
.modal-header .close {
  margin-top: -2px;
}
.modal-title {
  margin: 0;
  line-height: 1.42857143;
}
.modal-body {
  position: relative;
  padding: 15px;
}
.modal-footer {
  padding: 15px;
  text-align: right;
  border-top: 1px solid #e5e5e5;
}
.modal-footer .btn + .btn {
  margin-left: 5px;
  margin-bottom: 0;
}
.modal-footer .btn-group .btn + .btn {
  margin-left: -1px;
}
.modal-footer .btn-block + .btn-block {
  margin-left: 0;
}
.modal-scrollbar-measure {
  position: absolute;
  top: -9999px;
  width: 50px;
  height: 50px;
  overflow: scroll;
}
@media (min-width: 768px) {
  .modal-dialog {
    width: 600px;
    margin: 30px auto;
  }
  .modal-content {
    -webkit-box-shadow: 0 5px 15px rgba(0, 0, 0, 0.5);
    box-shadow: 0 5px 15px rgba(0, 0, 0, 0.5);
  }
  .modal-sm {
    width: 300px;
  }
}
@media (min-width: 992px) {
  .modal-lg {
    width: 900px;
  }
}
.tooltip {
  position: absolute;
  z-index: 1070;
  display: block;
  font-family: "Helvetica Neue", Helvetica, Arial, sans-serif;
  font-style: normal;
  font-weight: normal;
  letter-spacing: normal;
  line-break: auto;
  line-height: 1.42857143;
  text-align: left;
  text-align: start;
  text-decoration: none;
  text-shadow: none;
  text-transform: none;
  white-space: normal;
  word-break: normal;
  word-spacing: normal;
  word-wrap: normal;
  font-size: 12px;
  opacity: 0;
  filter: alpha(opacity=0);
}
.tooltip.in {
  opacity: 0.9;
  filter: alpha(opacity=90);
}
.tooltip.top {
  margin-top: -3px;
  padding: 5px 0;
}
.tooltip.right {
  margin-left: 3px;
  padding: 0 5px;
}
.tooltip.bottom {
  margin-top: 3px;
  padding: 5px 0;
}
.tooltip.left {
  margin-left: -3px;
  padding: 0 5px;
}
.tooltip-inner {
  max-width: 200px;
  padding: 3px 8px;
  color: #fff;
  text-align: center;
  background-color: #000;
  border-radius: 2px;
}
.tooltip-arrow {
  position: absolute;
  width: 0;
  height: 0;
  border-color: transparent;
  border-style: solid;
}
.tooltip.top .tooltip-arrow {
  bottom: 0;
  left: 50%;
  margin-left: -5px;
  border-width: 5px 5px 0;
  border-top-color: #000;
}
.tooltip.top-left .tooltip-arrow {
  bottom: 0;
  right: 5px;
  margin-bottom: -5px;
  border-width: 5px 5px 0;
  border-top-color: #000;
}
.tooltip.top-right .tooltip-arrow {
  bottom: 0;
  left: 5px;
  margin-bottom: -5px;
  border-width: 5px 5px 0;
  border-top-color: #000;
}
.tooltip.right .tooltip-arrow {
  top: 50%;
  left: 0;
  margin-top: -5px;
  border-width: 5px 5px 5px 0;
  border-right-color: #000;
}
.tooltip.left .tooltip-arrow {
  top: 50%;
  right: 0;
  margin-top: -5px;
  border-width: 5px 0 5px 5px;
  border-left-color: #000;
}
.tooltip.bottom .tooltip-arrow {
  top: 0;
  left: 50%;
  margin-left: -5px;
  border-width: 0 5px 5px;
  border-bottom-color: #000;
}
.tooltip.bottom-left .tooltip-arrow {
  top: 0;
  right: 5px;
  margin-top: -5px;
  border-width: 0 5px 5px;
  border-bottom-color: #000;
}
.tooltip.bottom-right .tooltip-arrow {
  top: 0;
  left: 5px;
  margin-top: -5px;
  border-width: 0 5px 5px;
  border-bottom-color: #000;
}
.popover {
  position: absolute;
  top: 0;
  left: 0;
  z-index: 1060;
  display: none;
  max-width: 276px;
  padding: 1px;
  font-family: "Helvetica Neue", Helvetica, Arial, sans-serif;
  font-style: normal;
  font-weight: normal;
  letter-spacing: normal;
  line-break: auto;
  line-height: 1.42857143;
  text-align: left;
  text-align: start;
  text-decoration: none;
  text-shadow: none;
  text-transform: none;
  white-space: normal;
  word-break: normal;
  word-spacing: normal;
  word-wrap: normal;
  font-size: 13px;
  background-color: #fff;
  background-clip: padding-box;
  border: 1px solid #ccc;
  border: 1px solid rgba(0, 0, 0, 0.2);
  border-radius: 3px;
  -webkit-box-shadow: 0 5px 10px rgba(0, 0, 0, 0.2);
  box-shadow: 0 5px 10px rgba(0, 0, 0, 0.2);
}
.popover.top {
  margin-top: -10px;
}
.popover.right {
  margin-left: 10px;
}
.popover.bottom {
  margin-top: 10px;
}
.popover.left {
  margin-left: -10px;
}
.popover-title {
  margin: 0;
  padding: 8px 14px;
  font-size: 13px;
  background-color: #f7f7f7;
  border-bottom: 1px solid #ebebeb;
  border-radius: 2px 2px 0 0;
}
.popover-content {
  padding: 9px 14px;
}
.popover > .arrow,
.popover > .arrow:after {
  position: absolute;
  display: block;
  width: 0;
  height: 0;
  border-color: transparent;
  border-style: solid;
}
.popover > .arrow {
  border-width: 11px;
}
.popover > .arrow:after {
  border-width: 10px;
  content: "";
}
.popover.top > .arrow {
  left: 50%;
  margin-left: -11px;
  border-bottom-width: 0;
  border-top-color: #999999;
  border-top-color: rgba(0, 0, 0, 0.25);
  bottom: -11px;
}
.popover.top > .arrow:after {
  content: " ";
  bottom: 1px;
  margin-left: -10px;
  border-bottom-width: 0;
  border-top-color: #fff;
}
.popover.right > .arrow {
  top: 50%;
  left: -11px;
  margin-top: -11px;
  border-left-width: 0;
  border-right-color: #999999;
  border-right-color: rgba(0, 0, 0, 0.25);
}
.popover.right > .arrow:after {
  content: " ";
  left: 1px;
  bottom: -10px;
  border-left-width: 0;
  border-right-color: #fff;
}
.popover.bottom > .arrow {
  left: 50%;
  margin-left: -11px;
  border-top-width: 0;
  border-bottom-color: #999999;
  border-bottom-color: rgba(0, 0, 0, 0.25);
  top: -11px;
}
.popover.bottom > .arrow:after {
  content: " ";
  top: 1px;
  margin-left: -10px;
  border-top-width: 0;
  border-bottom-color: #fff;
}
.popover.left > .arrow {
  top: 50%;
  right: -11px;
  margin-top: -11px;
  border-right-width: 0;
  border-left-color: #999999;
  border-left-color: rgba(0, 0, 0, 0.25);
}
.popover.left > .arrow:after {
  content: " ";
  right: 1px;
  border-right-width: 0;
  border-left-color: #fff;
  bottom: -10px;
}
.carousel {
  position: relative;
}
.carousel-inner {
  position: relative;
  overflow: hidden;
  width: 100%;
}
.carousel-inner > .item {
  display: none;
  position: relative;
  -webkit-transition: 0.6s ease-in-out left;
  -o-transition: 0.6s ease-in-out left;
  transition: 0.6s ease-in-out left;
}
.carousel-inner > .item > img,
.carousel-inner > .item > a > img {
  line-height: 1;
}
@media all and (transform-3d), (-webkit-transform-3d) {
  .carousel-inner > .item {
    -webkit-transition: -webkit-transform 0.6s ease-in-out;
    -moz-transition: -moz-transform 0.6s ease-in-out;
    -o-transition: -o-transform 0.6s ease-in-out;
    transition: transform 0.6s ease-in-out;
    -webkit-backface-visibility: hidden;
    -moz-backface-visibility: hidden;
    backface-visibility: hidden;
    -webkit-perspective: 1000px;
    -moz-perspective: 1000px;
    perspective: 1000px;
  }
  .carousel-inner > .item.next,
  .carousel-inner > .item.active.right {
    -webkit-transform: translate3d(100%, 0, 0);
    transform: translate3d(100%, 0, 0);
    left: 0;
  }
  .carousel-inner > .item.prev,
  .carousel-inner > .item.active.left {
    -webkit-transform: translate3d(-100%, 0, 0);
    transform: translate3d(-100%, 0, 0);
    left: 0;
  }
  .carousel-inner > .item.next.left,
  .carousel-inner > .item.prev.right,
  .carousel-inner > .item.active {
    -webkit-transform: translate3d(0, 0, 0);
    transform: translate3d(0, 0, 0);
    left: 0;
  }
}
.carousel-inner > .active,
.carousel-inner > .next,
.carousel-inner > .prev {
  display: block;
}
.carousel-inner > .active {
  left: 0;
}
.carousel-inner > .next,
.carousel-inner > .prev {
  position: absolute;
  top: 0;
  width: 100%;
}
.carousel-inner > .next {
  left: 100%;
}
.carousel-inner > .prev {
  left: -100%;
}
.carousel-inner > .next.left,
.carousel-inner > .prev.right {
  left: 0;
}
.carousel-inner > .active.left {
  left: -100%;
}
.carousel-inner > .active.right {
  left: 100%;
}
.carousel-control {
  position: absolute;
  top: 0;
  left: 0;
  bottom: 0;
  width: 15%;
  opacity: 0.5;
  filter: alpha(opacity=50);
  font-size: 20px;
  color: #fff;
  text-align: center;
  text-shadow: 0 1px 2px rgba(0, 0, 0, 0.6);
  background-color: rgba(0, 0, 0, 0);
}
.carousel-control.left {
  background-image: -webkit-linear-gradient(left, rgba(0, 0, 0, 0.5) 0%, rgba(0, 0, 0, 0.0001) 100%);
  background-image: -o-linear-gradient(left, rgba(0, 0, 0, 0.5) 0%, rgba(0, 0, 0, 0.0001) 100%);
  background-image: linear-gradient(to right, rgba(0, 0, 0, 0.5) 0%, rgba(0, 0, 0, 0.0001) 100%);
  background-repeat: repeat-x;
  filter: progid:DXImageTransform.Microsoft.gradient(startColorstr='#80000000', endColorstr='#00000000', GradientType=1);
}
.carousel-control.right {
  left: auto;
  right: 0;
  background-image: -webkit-linear-gradient(left, rgba(0, 0, 0, 0.0001) 0%, rgba(0, 0, 0, 0.5) 100%);
  background-image: -o-linear-gradient(left, rgba(0, 0, 0, 0.0001) 0%, rgba(0, 0, 0, 0.5) 100%);
  background-image: linear-gradient(to right, rgba(0, 0, 0, 0.0001) 0%, rgba(0, 0, 0, 0.5) 100%);
  background-repeat: repeat-x;
  filter: progid:DXImageTransform.Microsoft.gradient(startColorstr='#00000000', endColorstr='#80000000', GradientType=1);
}
.carousel-control:hover,
.carousel-control:focus {
  outline: 0;
  color: #fff;
  text-decoration: none;
  opacity: 0.9;
  filter: alpha(opacity=90);
}
.carousel-control .icon-prev,
.carousel-control .icon-next,
.carousel-control .glyphicon-chevron-left,
.carousel-control .glyphicon-chevron-right {
  position: absolute;
  top: 50%;
  margin-top: -10px;
  z-index: 5;
  display: inline-block;
}
.carousel-control .icon-prev,
.carousel-control .glyphicon-chevron-left {
  left: 50%;
  margin-left: -10px;
}
.carousel-control .icon-next,
.carousel-control .glyphicon-chevron-right {
  right: 50%;
  margin-right: -10px;
}
.carousel-control .icon-prev,
.carousel-control .icon-next {
  width: 20px;
  height: 20px;
  line-height: 1;
  font-family: serif;
}
.carousel-control .icon-prev:before {
  content: '\2039';
}
.carousel-control .icon-next:before {
  content: '\203a';
}
.carousel-indicators {
  position: absolute;
  bottom: 10px;
  left: 50%;
  z-index: 15;
  width: 60%;
  margin-left: -30%;
  padding-left: 0;
  list-style: none;
  text-align: center;
}
.carousel-indicators li {
  display: inline-block;
  width: 10px;
  height: 10px;
  margin: 1px;
  text-indent: -999px;
  border: 1px solid #fff;
  border-radius: 10px;
  cursor: pointer;
  background-color: #000 \9;
  background-color: rgba(0, 0, 0, 0);
}
.carousel-indicators .active {
  margin: 0;
  width: 12px;
  height: 12px;
  background-color: #fff;
}
.carousel-caption {
  position: absolute;
  left: 15%;
  right: 15%;
  bottom: 20px;
  z-index: 10;
  padding-top: 20px;
  padding-bottom: 20px;
  color: #fff;
  text-align: center;
  text-shadow: 0 1px 2px rgba(0, 0, 0, 0.6);
}
.carousel-caption .btn {
  text-shadow: none;
}
@media screen and (min-width: 768px) {
  .carousel-control .glyphicon-chevron-left,
  .carousel-control .glyphicon-chevron-right,
  .carousel-control .icon-prev,
  .carousel-control .icon-next {
    width: 30px;
    height: 30px;
    margin-top: -10px;
    font-size: 30px;
  }
  .carousel-control .glyphicon-chevron-left,
  .carousel-control .icon-prev {
    margin-left: -10px;
  }
  .carousel-control .glyphicon-chevron-right,
  .carousel-control .icon-next {
    margin-right: -10px;
  }
  .carousel-caption {
    left: 20%;
    right: 20%;
    padding-bottom: 30px;
  }
  .carousel-indicators {
    bottom: 20px;
  }
}
.clearfix:before,
.clearfix:after,
.dl-horizontal dd:before,
.dl-horizontal dd:after,
.container:before,
.container:after,
.container-fluid:before,
.container-fluid:after,
.row:before,
.row:after,
.form-horizontal .form-group:before,
.form-horizontal .form-group:after,
.btn-toolbar:before,
.btn-toolbar:after,
.btn-group-vertical > .btn-group:before,
.btn-group-vertical > .btn-group:after,
.nav:before,
.nav:after,
.navbar:before,
.navbar:after,
.navbar-header:before,
.navbar-header:after,
.navbar-collapse:before,
.navbar-collapse:after,
.pager:before,
.pager:after,
.panel-body:before,
.panel-body:after,
.modal-header:before,
.modal-header:after,
.modal-footer:before,
.modal-footer:after,
.item_buttons:before,
.item_buttons:after {
  content: " ";
  display: table;
}
.clearfix:after,
.dl-horizontal dd:after,
.container:after,
.container-fluid:after,
.row:after,
.form-horizontal .form-group:after,
.btn-toolbar:after,
.btn-group-vertical > .btn-group:after,
.nav:after,
.navbar:after,
.navbar-header:after,
.navbar-collapse:after,
.pager:after,
.panel-body:after,
.modal-header:after,
.modal-footer:after,
.item_buttons:after {
  clear: both;
}
.center-block {
  display: block;
  margin-left: auto;
  margin-right: auto;
}
.pull-right {
  float: right !important;
}
.pull-left {
  float: left !important;
}
.hide {
  display: none !important;
}
.show {
  display: block !important;
}
.invisible {
  visibility: hidden;
}
.text-hide {
  font: 0/0 a;
  color: transparent;
  text-shadow: none;
  background-color: transparent;
  border: 0;
}
.hidden {
  display: none !important;
}
.affix {
  position: fixed;
}
@-ms-viewport {
  width: device-width;
}
.visible-xs,
.visible-sm,
.visible-md,
.visible-lg {
  display: none !important;
}
.visible-xs-block,
.visible-xs-inline,
.visible-xs-inline-block,
.visible-sm-block,
.visible-sm-inline,
.visible-sm-inline-block,
.visible-md-block,
.visible-md-inline,
.visible-md-inline-block,
.visible-lg-block,
.visible-lg-inline,
.visible-lg-inline-block {
  display: none !important;
}
@media (max-width: 767px) {
  .visible-xs {
    display: block !important;
  }
  table.visible-xs {
    display: table !important;
  }
  tr.visible-xs {
    display: table-row !important;
  }
  th.visible-xs,
  td.visible-xs {
    display: table-cell !important;
  }
}
@media (max-width: 767px) {
  .visible-xs-block {
    display: block !important;
  }
}
@media (max-width: 767px) {
  .visible-xs-inline {
    display: inline !important;
  }
}
@media (max-width: 767px) {
  .visible-xs-inline-block {
    display: inline-block !important;
  }
}
@media (min-width: 768px) and (max-width: 991px) {
  .visible-sm {
    display: block !important;
  }
  table.visible-sm {
    display: table !important;
  }
  tr.visible-sm {
    display: table-row !important;
  }
  th.visible-sm,
  td.visible-sm {
    display: table-cell !important;
  }
}
@media (min-width: 768px) and (max-width: 991px) {
  .visible-sm-block {
    display: block !important;
  }
}
@media (min-width: 768px) and (max-width: 991px) {
  .visible-sm-inline {
    display: inline !important;
  }
}
@media (min-width: 768px) and (max-width: 991px) {
  .visible-sm-inline-block {
    display: inline-block !important;
  }
}
@media (min-width: 992px) and (max-width: 1199px) {
  .visible-md {
    display: block !important;
  }
  table.visible-md {
    display: table !important;
  }
  tr.visible-md {
    display: table-row !important;
  }
  th.visible-md,
  td.visible-md {
    display: table-cell !important;
  }
}
@media (min-width: 992px) and (max-width: 1199px) {
  .visible-md-block {
    display: block !important;
  }
}
@media (min-width: 992px) and (max-width: 1199px) {
  .visible-md-inline {
    display: inline !important;
  }
}
@media (min-width: 992px) and (max-width: 1199px) {
  .visible-md-inline-block {
    display: inline-block !important;
  }
}
@media (min-width: 1200px) {
  .visible-lg {
    display: block !important;
  }
  table.visible-lg {
    display: table !important;
  }
  tr.visible-lg {
    display: table-row !important;
  }
  th.visible-lg,
  td.visible-lg {
    display: table-cell !important;
  }
}
@media (min-width: 1200px) {
  .visible-lg-block {
    display: block !important;
  }
}
@media (min-width: 1200px) {
  .visible-lg-inline {
    display: inline !important;
  }
}
@media (min-width: 1200px) {
  .visible-lg-inline-block {
    display: inline-block !important;
  }
}
@media (max-width: 767px) {
  .hidden-xs {
    display: none !important;
  }
}
@media (min-width: 768px) and (max-width: 991px) {
  .hidden-sm {
    display: none !important;
  }
}
@media (min-width: 992px) and (max-width: 1199px) {
  .hidden-md {
    display: none !important;
  }
}
@media (min-width: 1200px) {
  .hidden-lg {
    display: none !important;
  }
}
.visible-print {
  display: none !important;
}
@media print {
  .visible-print {
    display: block !important;
  }
  table.visible-print {
    display: table !important;
  }
  tr.visible-print {
    display: table-row !important;
  }
  th.visible-print,
  td.visible-print {
    display: table-cell !important;
  }
}
.visible-print-block {
  display: none !important;
}
@media print {
  .visible-print-block {
    display: block !important;
  }
}
.visible-print-inline {
  display: none !important;
}
@media print {
  .visible-print-inline {
    display: inline !important;
  }
}
.visible-print-inline-block {
  display: none !important;
}
@media print {
  .visible-print-inline-block {
    display: inline-block !important;
  }
}
@media print {
  .hidden-print {
    display: none !important;
  }
}
/*!
*
* Font Awesome
*
*/
/*!
 *  Font Awesome 4.2.0 by @davegandy - http://fontawesome.io - @fontawesome
 *  License - http://fontawesome.io/license (Font: SIL OFL 1.1, CSS: MIT License)
 */
/* FONT PATH
 * -------------------------- */
@font-face {
  font-family: 'FontAwesome';
  src: url('../components/font-awesome/fonts/fontawesome-webfont.eot?v=4.2.0');
  src: url('../components/font-awesome/fonts/fontawesome-webfont.eot?#iefix&v=4.2.0') format('embedded-opentype'), url('../components/font-awesome/fonts/fontawesome-webfont.woff?v=4.2.0') format('woff'), url('../components/font-awesome/fonts/fontawesome-webfont.ttf?v=4.2.0') format('truetype'), url('../components/font-awesome/fonts/fontawesome-webfont.svg?v=4.2.0#fontawesomeregular') format('svg');
  font-weight: normal;
  font-style: normal;
}
.fa {
  display: inline-block;
  font: normal normal normal 14px/1 FontAwesome;
  font-size: inherit;
  text-rendering: auto;
  -webkit-font-smoothing: antialiased;
  -moz-osx-font-smoothing: grayscale;
}
/* makes the font 33% larger relative to the icon container */
.fa-lg {
  font-size: 1.33333333em;
  line-height: 0.75em;
  vertical-align: -15%;
}
.fa-2x {
  font-size: 2em;
}
.fa-3x {
  font-size: 3em;
}
.fa-4x {
  font-size: 4em;
}
.fa-5x {
  font-size: 5em;
}
.fa-fw {
  width: 1.28571429em;
  text-align: center;
}
.fa-ul {
  padding-left: 0;
  margin-left: 2.14285714em;
  list-style-type: none;
}
.fa-ul > li {
  position: relative;
}
.fa-li {
  position: absolute;
  left: -2.14285714em;
  width: 2.14285714em;
  top: 0.14285714em;
  text-align: center;
}
.fa-li.fa-lg {
  left: -1.85714286em;
}
.fa-border {
  padding: .2em .25em .15em;
  border: solid 0.08em #eee;
  border-radius: .1em;
}
.pull-right {
  float: right;
}
.pull-left {
  float: left;
}
.fa.pull-left {
  margin-right: .3em;
}
.fa.pull-right {
  margin-left: .3em;
}
.fa-spin {
  -webkit-animation: fa-spin 2s infinite linear;
  animation: fa-spin 2s infinite linear;
}
@-webkit-keyframes fa-spin {
  0% {
    -webkit-transform: rotate(0deg);
    transform: rotate(0deg);
  }
  100% {
    -webkit-transform: rotate(359deg);
    transform: rotate(359deg);
  }
}
@keyframes fa-spin {
  0% {
    -webkit-transform: rotate(0deg);
    transform: rotate(0deg);
  }
  100% {
    -webkit-transform: rotate(359deg);
    transform: rotate(359deg);
  }
}
.fa-rotate-90 {
  filter: progid:DXImageTransform.Microsoft.BasicImage(rotation=1);
  -webkit-transform: rotate(90deg);
  -ms-transform: rotate(90deg);
  transform: rotate(90deg);
}
.fa-rotate-180 {
  filter: progid:DXImageTransform.Microsoft.BasicImage(rotation=2);
  -webkit-transform: rotate(180deg);
  -ms-transform: rotate(180deg);
  transform: rotate(180deg);
}
.fa-rotate-270 {
  filter: progid:DXImageTransform.Microsoft.BasicImage(rotation=3);
  -webkit-transform: rotate(270deg);
  -ms-transform: rotate(270deg);
  transform: rotate(270deg);
}
.fa-flip-horizontal {
  filter: progid:DXImageTransform.Microsoft.BasicImage(rotation=0, mirror=1);
  -webkit-transform: scale(-1, 1);
  -ms-transform: scale(-1, 1);
  transform: scale(-1, 1);
}
.fa-flip-vertical {
  filter: progid:DXImageTransform.Microsoft.BasicImage(rotation=2, mirror=1);
  -webkit-transform: scale(1, -1);
  -ms-transform: scale(1, -1);
  transform: scale(1, -1);
}
:root .fa-rotate-90,
:root .fa-rotate-180,
:root .fa-rotate-270,
:root .fa-flip-horizontal,
:root .fa-flip-vertical {
  filter: none;
}
.fa-stack {
  position: relative;
  display: inline-block;
  width: 2em;
  height: 2em;
  line-height: 2em;
  vertical-align: middle;
}
.fa-stack-1x,
.fa-stack-2x {
  position: absolute;
  left: 0;
  width: 100%;
  text-align: center;
}
.fa-stack-1x {
  line-height: inherit;
}
.fa-stack-2x {
  font-size: 2em;
}
.fa-inverse {
  color: #fff;
}
/* Font Awesome uses the Unicode Private Use Area (PUA) to ensure screen
   readers do not read off random characters that represent icons */
.fa-glass:before {
  content: "\f000";
}
.fa-music:before {
  content: "\f001";
}
.fa-search:before {
  content: "\f002";
}
.fa-envelope-o:before {
  content: "\f003";
}
.fa-heart:before {
  content: "\f004";
}
.fa-star:before {
  content: "\f005";
}
.fa-star-o:before {
  content: "\f006";
}
.fa-user:before {
  content: "\f007";
}
.fa-film:before {
  content: "\f008";
}
.fa-th-large:before {
  content: "\f009";
}
.fa-th:before {
  content: "\f00a";
}
.fa-th-list:before {
  content: "\f00b";
}
.fa-check:before {
  content: "\f00c";
}
.fa-remove:before,
.fa-close:before,
.fa-times:before {
  content: "\f00d";
}
.fa-search-plus:before {
  content: "\f00e";
}
.fa-search-minus:before {
  content: "\f010";
}
.fa-power-off:before {
  content: "\f011";
}
.fa-signal:before {
  content: "\f012";
}
.fa-gear:before,
.fa-cog:before {
  content: "\f013";
}
.fa-trash-o:before {
  content: "\f014";
}
.fa-home:before {
  content: "\f015";
}
.fa-file-o:before {
  content: "\f016";
}
.fa-clock-o:before {
  content: "\f017";
}
.fa-road:before {
  content: "\f018";
}
.fa-download:before {
  content: "\f019";
}
.fa-arrow-circle-o-down:before {
  content: "\f01a";
}
.fa-arrow-circle-o-up:before {
  content: "\f01b";
}
.fa-inbox:before {
  content: "\f01c";
}
.fa-play-circle-o:before {
  content: "\f01d";
}
.fa-rotate-right:before,
.fa-repeat:before {
  content: "\f01e";
}
.fa-refresh:before {
  content: "\f021";
}
.fa-list-alt:before {
  content: "\f022";
}
.fa-lock:before {
  content: "\f023";
}
.fa-flag:before {
  content: "\f024";
}
.fa-headphones:before {
  content: "\f025";
}
.fa-volume-off:before {
  content: "\f026";
}
.fa-volume-down:before {
  content: "\f027";
}
.fa-volume-up:before {
  content: "\f028";
}
.fa-qrcode:before {
  content: "\f029";
}
.fa-barcode:before {
  content: "\f02a";
}
.fa-tag:before {
  content: "\f02b";
}
.fa-tags:before {
  content: "\f02c";
}
.fa-book:before {
  content: "\f02d";
}
.fa-bookmark:before {
  content: "\f02e";
}
.fa-print:before {
  content: "\f02f";
}
.fa-camera:before {
  content: "\f030";
}
.fa-font:before {
  content: "\f031";
}
.fa-bold:before {
  content: "\f032";
}
.fa-italic:before {
  content: "\f033";
}
.fa-text-height:before {
  content: "\f034";
}
.fa-text-width:before {
  content: "\f035";
}
.fa-align-left:before {
  content: "\f036";
}
.fa-align-center:before {
  content: "\f037";
}
.fa-align-right:before {
  content: "\f038";
}
.fa-align-justify:before {
  content: "\f039";
}
.fa-list:before {
  content: "\f03a";
}
.fa-dedent:before,
.fa-outdent:before {
  content: "\f03b";
}
.fa-indent:before {
  content: "\f03c";
}
.fa-video-camera:before {
  content: "\f03d";
}
.fa-photo:before,
.fa-image:before,
.fa-picture-o:before {
  content: "\f03e";
}
.fa-pencil:before {
  content: "\f040";
}
.fa-map-marker:before {
  content: "\f041";
}
.fa-adjust:before {
  content: "\f042";
}
.fa-tint:before {
  content: "\f043";
}
.fa-edit:before,
.fa-pencil-square-o:before {
  content: "\f044";
}
.fa-share-square-o:before {
  content: "\f045";
}
.fa-check-square-o:before {
  content: "\f046";
}
.fa-arrows:before {
  content: "\f047";
}
.fa-step-backward:before {
  content: "\f048";
}
.fa-fast-backward:before {
  content: "\f049";
}
.fa-backward:before {
  content: "\f04a";
}
.fa-play:before {
  content: "\f04b";
}
.fa-pause:before {
  content: "\f04c";
}
.fa-stop:before {
  content: "\f04d";
}
.fa-forward:before {
  content: "\f04e";
}
.fa-fast-forward:before {
  content: "\f050";
}
.fa-step-forward:before {
  content: "\f051";
}
.fa-eject:before {
  content: "\f052";
}
.fa-chevron-left:before {
  content: "\f053";
}
.fa-chevron-right:before {
  content: "\f054";
}
.fa-plus-circle:before {
  content: "\f055";
}
.fa-minus-circle:before {
  content: "\f056";
}
.fa-times-circle:before {
  content: "\f057";
}
.fa-check-circle:before {
  content: "\f058";
}
.fa-question-circle:before {
  content: "\f059";
}
.fa-info-circle:before {
  content: "\f05a";
}
.fa-crosshairs:before {
  content: "\f05b";
}
.fa-times-circle-o:before {
  content: "\f05c";
}
.fa-check-circle-o:before {
  content: "\f05d";
}
.fa-ban:before {
  content: "\f05e";
}
.fa-arrow-left:before {
  content: "\f060";
}
.fa-arrow-right:before {
  content: "\f061";
}
.fa-arrow-up:before {
  content: "\f062";
}
.fa-arrow-down:before {
  content: "\f063";
}
.fa-mail-forward:before,
.fa-share:before {
  content: "\f064";
}
.fa-expand:before {
  content: "\f065";
}
.fa-compress:before {
  content: "\f066";
}
.fa-plus:before {
  content: "\f067";
}
.fa-minus:before {
  content: "\f068";
}
.fa-asterisk:before {
  content: "\f069";
}
.fa-exclamation-circle:before {
  content: "\f06a";
}
.fa-gift:before {
  content: "\f06b";
}
.fa-leaf:before {
  content: "\f06c";
}
.fa-fire:before {
  content: "\f06d";
}
.fa-eye:before {
  content: "\f06e";
}
.fa-eye-slash:before {
  content: "\f070";
}
.fa-warning:before,
.fa-exclamation-triangle:before {
  content: "\f071";
}
.fa-plane:before {
  content: "\f072";
}
.fa-calendar:before {
  content: "\f073";
}
.fa-random:before {
  content: "\f074";
}
.fa-comment:before {
  content: "\f075";
}
.fa-magnet:before {
  content: "\f076";
}
.fa-chevron-up:before {
  content: "\f077";
}
.fa-chevron-down:before {
  content: "\f078";
}
.fa-retweet:before {
  content: "\f079";
}
.fa-shopping-cart:before {
  content: "\f07a";
}
.fa-folder:before {
  content: "\f07b";
}
.fa-folder-open:before {
  content: "\f07c";
}
.fa-arrows-v:before {
  content: "\f07d";
}
.fa-arrows-h:before {
  content: "\f07e";
}
.fa-bar-chart-o:before,
.fa-bar-chart:before {
  content: "\f080";
}
.fa-twitter-square:before {
  content: "\f081";
}
.fa-facebook-square:before {
  content: "\f082";
}
.fa-camera-retro:before {
  content: "\f083";
}
.fa-key:before {
  content: "\f084";
}
.fa-gears:before,
.fa-cogs:before {
  content: "\f085";
}
.fa-comments:before {
  content: "\f086";
}
.fa-thumbs-o-up:before {
  content: "\f087";
}
.fa-thumbs-o-down:before {
  content: "\f088";
}
.fa-star-half:before {
  content: "\f089";
}
.fa-heart-o:before {
  content: "\f08a";
}
.fa-sign-out:before {
  content: "\f08b";
}
.fa-linkedin-square:before {
  content: "\f08c";
}
.fa-thumb-tack:before {
  content: "\f08d";
}
.fa-external-link:before {
  content: "\f08e";
}
.fa-sign-in:before {
  content: "\f090";
}
.fa-trophy:before {
  content: "\f091";
}
.fa-github-square:before {
  content: "\f092";
}
.fa-upload:before {
  content: "\f093";
}
.fa-lemon-o:before {
  content: "\f094";
}
.fa-phone:before {
  content: "\f095";
}
.fa-square-o:before {
  content: "\f096";
}
.fa-bookmark-o:before {
  content: "\f097";
}
.fa-phone-square:before {
  content: "\f098";
}
.fa-twitter:before {
  content: "\f099";
}
.fa-facebook:before {
  content: "\f09a";
}
.fa-github:before {
  content: "\f09b";
}
.fa-unlock:before {
  content: "\f09c";
}
.fa-credit-card:before {
  content: "\f09d";
}
.fa-rss:before {
  content: "\f09e";
}
.fa-hdd-o:before {
  content: "\f0a0";
}
.fa-bullhorn:before {
  content: "\f0a1";
}
.fa-bell:before {
  content: "\f0f3";
}
.fa-certificate:before {
  content: "\f0a3";
}
.fa-hand-o-right:before {
  content: "\f0a4";
}
.fa-hand-o-left:before {
  content: "\f0a5";
}
.fa-hand-o-up:before {
  content: "\f0a6";
}
.fa-hand-o-down:before {
  content: "\f0a7";
}
.fa-arrow-circle-left:before {
  content: "\f0a8";
}
.fa-arrow-circle-right:before {
  content: "\f0a9";
}
.fa-arrow-circle-up:before {
  content: "\f0aa";
}
.fa-arrow-circle-down:before {
  content: "\f0ab";
}
.fa-globe:before {
  content: "\f0ac";
}
.fa-wrench:before {
  content: "\f0ad";
}
.fa-tasks:before {
  content: "\f0ae";
}
.fa-filter:before {
  content: "\f0b0";
}
.fa-briefcase:before {
  content: "\f0b1";
}
.fa-arrows-alt:before {
  content: "\f0b2";
}
.fa-group:before,
.fa-users:before {
  content: "\f0c0";
}
.fa-chain:before,
.fa-link:before {
  content: "\f0c1";
}
.fa-cloud:before {
  content: "\f0c2";
}
.fa-flask:before {
  content: "\f0c3";
}
.fa-cut:before,
.fa-scissors:before {
  content: "\f0c4";
}
.fa-copy:before,
.fa-files-o:before {
  content: "\f0c5";
}
.fa-paperclip:before {
  content: "\f0c6";
}
.fa-save:before,
.fa-floppy-o:before {
  content: "\f0c7";
}
.fa-square:before {
  content: "\f0c8";
}
.fa-navicon:before,
.fa-reorder:before,
.fa-bars:before {
  content: "\f0c9";
}
.fa-list-ul:before {
  content: "\f0ca";
}
.fa-list-ol:before {
  content: "\f0cb";
}
.fa-strikethrough:before {
  content: "\f0cc";
}
.fa-underline:before {
  content: "\f0cd";
}
.fa-table:before {
  content: "\f0ce";
}
.fa-magic:before {
  content: "\f0d0";
}
.fa-truck:before {
  content: "\f0d1";
}
.fa-pinterest:before {
  content: "\f0d2";
}
.fa-pinterest-square:before {
  content: "\f0d3";
}
.fa-google-plus-square:before {
  content: "\f0d4";
}
.fa-google-plus:before {
  content: "\f0d5";
}
.fa-money:before {
  content: "\f0d6";
}
.fa-caret-down:before {
  content: "\f0d7";
}
.fa-caret-up:before {
  content: "\f0d8";
}
.fa-caret-left:before {
  content: "\f0d9";
}
.fa-caret-right:before {
  content: "\f0da";
}
.fa-columns:before {
  content: "\f0db";
}
.fa-unsorted:before,
.fa-sort:before {
  content: "\f0dc";
}
.fa-sort-down:before,
.fa-sort-desc:before {
  content: "\f0dd";
}
.fa-sort-up:before,
.fa-sort-asc:before {
  content: "\f0de";
}
.fa-envelope:before {
  content: "\f0e0";
}
.fa-linkedin:before {
  content: "\f0e1";
}
.fa-rotate-left:before,
.fa-undo:before {
  content: "\f0e2";
}
.fa-legal:before,
.fa-gavel:before {
  content: "\f0e3";
}
.fa-dashboard:before,
.fa-tachometer:before {
  content: "\f0e4";
}
.fa-comment-o:before {
  content: "\f0e5";
}
.fa-comments-o:before {
  content: "\f0e6";
}
.fa-flash:before,
.fa-bolt:before {
  content: "\f0e7";
}
.fa-sitemap:before {
  content: "\f0e8";
}
.fa-umbrella:before {
  content: "\f0e9";
}
.fa-paste:before,
.fa-clipboard:before {
  content: "\f0ea";
}
.fa-lightbulb-o:before {
  content: "\f0eb";
}
.fa-exchange:before {
  content: "\f0ec";
}
.fa-cloud-download:before {
  content: "\f0ed";
}
.fa-cloud-upload:before {
  content: "\f0ee";
}
.fa-user-md:before {
  content: "\f0f0";
}
.fa-stethoscope:before {
  content: "\f0f1";
}
.fa-suitcase:before {
  content: "\f0f2";
}
.fa-bell-o:before {
  content: "\f0a2";
}
.fa-coffee:before {
  content: "\f0f4";
}
.fa-cutlery:before {
  content: "\f0f5";
}
.fa-file-text-o:before {
  content: "\f0f6";
}
.fa-building-o:before {
  content: "\f0f7";
}
.fa-hospital-o:before {
  content: "\f0f8";
}
.fa-ambulance:before {
  content: "\f0f9";
}
.fa-medkit:before {
  content: "\f0fa";
}
.fa-fighter-jet:before {
  content: "\f0fb";
}
.fa-beer:before {
  content: "\f0fc";
}
.fa-h-square:before {
  content: "\f0fd";
}
.fa-plus-square:before {
  content: "\f0fe";
}
.fa-angle-double-left:before {
  content: "\f100";
}
.fa-angle-double-right:before {
  content: "\f101";
}
.fa-angle-double-up:before {
  content: "\f102";
}
.fa-angle-double-down:before {
  content: "\f103";
}
.fa-angle-left:before {
  content: "\f104";
}
.fa-angle-right:before {
  content: "\f105";
}
.fa-angle-up:before {
  content: "\f106";
}
.fa-angle-down:before {
  content: "\f107";
}
.fa-desktop:before {
  content: "\f108";
}
.fa-laptop:before {
  content: "\f109";
}
.fa-tablet:before {
  content: "\f10a";
}
.fa-mobile-phone:before,
.fa-mobile:before {
  content: "\f10b";
}
.fa-circle-o:before {
  content: "\f10c";
}
.fa-quote-left:before {
  content: "\f10d";
}
.fa-quote-right:before {
  content: "\f10e";
}
.fa-spinner:before {
  content: "\f110";
}
.fa-circle:before {
  content: "\f111";
}
.fa-mail-reply:before,
.fa-reply:before {
  content: "\f112";
}
.fa-github-alt:before {
  content: "\f113";
}
.fa-folder-o:before {
  content: "\f114";
}
.fa-folder-open-o:before {
  content: "\f115";
}
.fa-smile-o:before {
  content: "\f118";
}
.fa-frown-o:before {
  content: "\f119";
}
.fa-meh-o:before {
  content: "\f11a";
}
.fa-gamepad:before {
  content: "\f11b";
}
.fa-keyboard-o:before {
  content: "\f11c";
}
.fa-flag-o:before {
  content: "\f11d";
}
.fa-flag-checkered:before {
  content: "\f11e";
}
.fa-terminal:before {
  content: "\f120";
}
.fa-code:before {
  content: "\f121";
}
.fa-mail-reply-all:before,
.fa-reply-all:before {
  content: "\f122";
}
.fa-star-half-empty:before,
.fa-star-half-full:before,
.fa-star-half-o:before {
  content: "\f123";
}
.fa-location-arrow:before {
  content: "\f124";
}
.fa-crop:before {
  content: "\f125";
}
.fa-code-fork:before {
  content: "\f126";
}
.fa-unlink:before,
.fa-chain-broken:before {
  content: "\f127";
}
.fa-question:before {
  content: "\f128";
}
.fa-info:before {
  content: "\f129";
}
.fa-exclamation:before {
  content: "\f12a";
}
.fa-superscript:before {
  content: "\f12b";
}
.fa-subscript:before {
  content: "\f12c";
}
.fa-eraser:before {
  content: "\f12d";
}
.fa-puzzle-piece:before {
  content: "\f12e";
}
.fa-microphone:before {
  content: "\f130";
}
.fa-microphone-slash:before {
  content: "\f131";
}
.fa-shield:before {
  content: "\f132";
}
.fa-calendar-o:before {
  content: "\f133";
}
.fa-fire-extinguisher:before {
  content: "\f134";
}
.fa-rocket:before {
  content: "\f135";
}
.fa-maxcdn:before {
  content: "\f136";
}
.fa-chevron-circle-left:before {
  content: "\f137";
}
.fa-chevron-circle-right:before {
  content: "\f138";
}
.fa-chevron-circle-up:before {
  content: "\f139";
}
.fa-chevron-circle-down:before {
  content: "\f13a";
}
.fa-html5:before {
  content: "\f13b";
}
.fa-css3:before {
  content: "\f13c";
}
.fa-anchor:before {
  content: "\f13d";
}
.fa-unlock-alt:before {
  content: "\f13e";
}
.fa-bullseye:before {
  content: "\f140";
}
.fa-ellipsis-h:before {
  content: "\f141";
}
.fa-ellipsis-v:before {
  content: "\f142";
}
.fa-rss-square:before {
  content: "\f143";
}
.fa-play-circle:before {
  content: "\f144";
}
.fa-ticket:before {
  content: "\f145";
}
.fa-minus-square:before {
  content: "\f146";
}
.fa-minus-square-o:before {
  content: "\f147";
}
.fa-level-up:before {
  content: "\f148";
}
.fa-level-down:before {
  content: "\f149";
}
.fa-check-square:before {
  content: "\f14a";
}
.fa-pencil-square:before {
  content: "\f14b";
}
.fa-external-link-square:before {
  content: "\f14c";
}
.fa-share-square:before {
  content: "\f14d";
}
.fa-compass:before {
  content: "\f14e";
}
.fa-toggle-down:before,
.fa-caret-square-o-down:before {
  content: "\f150";
}
.fa-toggle-up:before,
.fa-caret-square-o-up:before {
  content: "\f151";
}
.fa-toggle-right:before,
.fa-caret-square-o-right:before {
  content: "\f152";
}
.fa-euro:before,
.fa-eur:before {
  content: "\f153";
}
.fa-gbp:before {
  content: "\f154";
}
.fa-dollar:before,
.fa-usd:before {
  content: "\f155";
}
.fa-rupee:before,
.fa-inr:before {
  content: "\f156";
}
.fa-cny:before,
.fa-rmb:before,
.fa-yen:before,
.fa-jpy:before {
  content: "\f157";
}
.fa-ruble:before,
.fa-rouble:before,
.fa-rub:before {
  content: "\f158";
}
.fa-won:before,
.fa-krw:before {
  content: "\f159";
}
.fa-bitcoin:before,
.fa-btc:before {
  content: "\f15a";
}
.fa-file:before {
  content: "\f15b";
}
.fa-file-text:before {
  content: "\f15c";
}
.fa-sort-alpha-asc:before {
  content: "\f15d";
}
.fa-sort-alpha-desc:before {
  content: "\f15e";
}
.fa-sort-amount-asc:before {
  content: "\f160";
}
.fa-sort-amount-desc:before {
  content: "\f161";
}
.fa-sort-numeric-asc:before {
  content: "\f162";
}
.fa-sort-numeric-desc:before {
  content: "\f163";
}
.fa-thumbs-up:before {
  content: "\f164";
}
.fa-thumbs-down:before {
  content: "\f165";
}
.fa-youtube-square:before {
  content: "\f166";
}
.fa-youtube:before {
  content: "\f167";
}
.fa-xing:before {
  content: "\f168";
}
.fa-xing-square:before {
  content: "\f169";
}
.fa-youtube-play:before {
  content: "\f16a";
}
.fa-dropbox:before {
  content: "\f16b";
}
.fa-stack-overflow:before {
  content: "\f16c";
}
.fa-instagram:before {
  content: "\f16d";
}
.fa-flickr:before {
  content: "\f16e";
}
.fa-adn:before {
  content: "\f170";
}
.fa-bitbucket:before {
  content: "\f171";
}
.fa-bitbucket-square:before {
  content: "\f172";
}
.fa-tumblr:before {
  content: "\f173";
}
.fa-tumblr-square:before {
  content: "\f174";
}
.fa-long-arrow-down:before {
  content: "\f175";
}
.fa-long-arrow-up:before {
  content: "\f176";
}
.fa-long-arrow-left:before {
  content: "\f177";
}
.fa-long-arrow-right:before {
  content: "\f178";
}
.fa-apple:before {
  content: "\f179";
}
.fa-windows:before {
  content: "\f17a";
}
.fa-android:before {
  content: "\f17b";
}
.fa-linux:before {
  content: "\f17c";
}
.fa-dribbble:before {
  content: "\f17d";
}
.fa-skype:before {
  content: "\f17e";
}
.fa-foursquare:before {
  content: "\f180";
}
.fa-trello:before {
  content: "\f181";
}
.fa-female:before {
  content: "\f182";
}
.fa-male:before {
  content: "\f183";
}
.fa-gittip:before {
  content: "\f184";
}
.fa-sun-o:before {
  content: "\f185";
}
.fa-moon-o:before {
  content: "\f186";
}
.fa-archive:before {
  content: "\f187";
}
.fa-bug:before {
  content: "\f188";
}
.fa-vk:before {
  content: "\f189";
}
.fa-weibo:before {
  content: "\f18a";
}
.fa-renren:before {
  content: "\f18b";
}
.fa-pagelines:before {
  content: "\f18c";
}
.fa-stack-exchange:before {
  content: "\f18d";
}
.fa-arrow-circle-o-right:before {
  content: "\f18e";
}
.fa-arrow-circle-o-left:before {
  content: "\f190";
}
.fa-toggle-left:before,
.fa-caret-square-o-left:before {
  content: "\f191";
}
.fa-dot-circle-o:before {
  content: "\f192";
}
.fa-wheelchair:before {
  content: "\f193";
}
.fa-vimeo-square:before {
  content: "\f194";
}
.fa-turkish-lira:before,
.fa-try:before {
  content: "\f195";
}
.fa-plus-square-o:before {
  content: "\f196";
}
.fa-space-shuttle:before {
  content: "\f197";
}
.fa-slack:before {
  content: "\f198";
}
.fa-envelope-square:before {
  content: "\f199";
}
.fa-wordpress:before {
  content: "\f19a";
}
.fa-openid:before {
  content: "\f19b";
}
.fa-institution:before,
.fa-bank:before,
.fa-university:before {
  content: "\f19c";
}
.fa-mortar-board:before,
.fa-graduation-cap:before {
  content: "\f19d";
}
.fa-yahoo:before {
  content: "\f19e";
}
.fa-google:before {
  content: "\f1a0";
}
.fa-reddit:before {
  content: "\f1a1";
}
.fa-reddit-square:before {
  content: "\f1a2";
}
.fa-stumbleupon-circle:before {
  content: "\f1a3";
}
.fa-stumbleupon:before {
  content: "\f1a4";
}
.fa-delicious:before {
  content: "\f1a5";
}
.fa-digg:before {
  content: "\f1a6";
}
.fa-pied-piper:before {
  content: "\f1a7";
}
.fa-pied-piper-alt:before {
  content: "\f1a8";
}
.fa-drupal:before {
  content: "\f1a9";
}
.fa-joomla:before {
  content: "\f1aa";
}
.fa-language:before {
  content: "\f1ab";
}
.fa-fax:before {
  content: "\f1ac";
}
.fa-building:before {
  content: "\f1ad";
}
.fa-child:before {
  content: "\f1ae";
}
.fa-paw:before {
  content: "\f1b0";
}
.fa-spoon:before {
  content: "\f1b1";
}
.fa-cube:before {
  content: "\f1b2";
}
.fa-cubes:before {
  content: "\f1b3";
}
.fa-behance:before {
  content: "\f1b4";
}
.fa-behance-square:before {
  content: "\f1b5";
}
.fa-steam:before {
  content: "\f1b6";
}
.fa-steam-square:before {
  content: "\f1b7";
}
.fa-recycle:before {
  content: "\f1b8";
}
.fa-automobile:before,
.fa-car:before {
  content: "\f1b9";
}
.fa-cab:before,
.fa-taxi:before {
  content: "\f1ba";
}
.fa-tree:before {
  content: "\f1bb";
}
.fa-spotify:before {
  content: "\f1bc";
}
.fa-deviantart:before {
  content: "\f1bd";
}
.fa-soundcloud:before {
  content: "\f1be";
}
.fa-database:before {
  content: "\f1c0";
}
.fa-file-pdf-o:before {
  content: "\f1c1";
}
.fa-file-word-o:before {
  content: "\f1c2";
}
.fa-file-excel-o:before {
  content: "\f1c3";
}
.fa-file-powerpoint-o:before {
  content: "\f1c4";
}
.fa-file-photo-o:before,
.fa-file-picture-o:before,
.fa-file-image-o:before {
  content: "\f1c5";
}
.fa-file-zip-o:before,
.fa-file-archive-o:before {
  content: "\f1c6";
}
.fa-file-sound-o:before,
.fa-file-audio-o:before {
  content: "\f1c7";
}
.fa-file-movie-o:before,
.fa-file-video-o:before {
  content: "\f1c8";
}
.fa-file-code-o:before {
  content: "\f1c9";
}
.fa-vine:before {
  content: "\f1ca";
}
.fa-codepen:before {
  content: "\f1cb";
}
.fa-jsfiddle:before {
  content: "\f1cc";
}
.fa-life-bouy:before,
.fa-life-buoy:before,
.fa-life-saver:before,
.fa-support:before,
.fa-life-ring:before {
  content: "\f1cd";
}
.fa-circle-o-notch:before {
  content: "\f1ce";
}
.fa-ra:before,
.fa-rebel:before {
  content: "\f1d0";
}
.fa-ge:before,
.fa-empire:before {
  content: "\f1d1";
}
.fa-git-square:before {
  content: "\f1d2";
}
.fa-git:before {
  content: "\f1d3";
}
.fa-hacker-news:before {
  content: "\f1d4";
}
.fa-tencent-weibo:before {
  content: "\f1d5";
}
.fa-qq:before {
  content: "\f1d6";
}
.fa-wechat:before,
.fa-weixin:before {
  content: "\f1d7";
}
.fa-send:before,
.fa-paper-plane:before {
  content: "\f1d8";
}
.fa-send-o:before,
.fa-paper-plane-o:before {
  content: "\f1d9";
}
.fa-history:before {
  content: "\f1da";
}
.fa-circle-thin:before {
  content: "\f1db";
}
.fa-header:before {
  content: "\f1dc";
}
.fa-paragraph:before {
  content: "\f1dd";
}
.fa-sliders:before {
  content: "\f1de";
}
.fa-share-alt:before {
  content: "\f1e0";
}
.fa-share-alt-square:before {
  content: "\f1e1";
}
.fa-bomb:before {
  content: "\f1e2";
}
.fa-soccer-ball-o:before,
.fa-futbol-o:before {
  content: "\f1e3";
}
.fa-tty:before {
  content: "\f1e4";
}
.fa-binoculars:before {
  content: "\f1e5";
}
.fa-plug:before {
  content: "\f1e6";
}
.fa-slideshare:before {
  content: "\f1e7";
}
.fa-twitch:before {
  content: "\f1e8";
}
.fa-yelp:before {
  content: "\f1e9";
}
.fa-newspaper-o:before {
  content: "\f1ea";
}
.fa-wifi:before {
  content: "\f1eb";
}
.fa-calculator:before {
  content: "\f1ec";
}
.fa-paypal:before {
  content: "\f1ed";
}
.fa-google-wallet:before {
  content: "\f1ee";
}
.fa-cc-visa:before {
  content: "\f1f0";
}
.fa-cc-mastercard:before {
  content: "\f1f1";
}
.fa-cc-discover:before {
  content: "\f1f2";
}
.fa-cc-amex:before {
  content: "\f1f3";
}
.fa-cc-paypal:before {
  content: "\f1f4";
}
.fa-cc-stripe:before {
  content: "\f1f5";
}
.fa-bell-slash:before {
  content: "\f1f6";
}
.fa-bell-slash-o:before {
  content: "\f1f7";
}
.fa-trash:before {
  content: "\f1f8";
}
.fa-copyright:before {
  content: "\f1f9";
}
.fa-at:before {
  content: "\f1fa";
}
.fa-eyedropper:before {
  content: "\f1fb";
}
.fa-paint-brush:before {
  content: "\f1fc";
}
.fa-birthday-cake:before {
  content: "\f1fd";
}
.fa-area-chart:before {
  content: "\f1fe";
}
.fa-pie-chart:before {
  content: "\f200";
}
.fa-line-chart:before {
  content: "\f201";
}
.fa-lastfm:before {
  content: "\f202";
}
.fa-lastfm-square:before {
  content: "\f203";
}
.fa-toggle-off:before {
  content: "\f204";
}
.fa-toggle-on:before {
  content: "\f205";
}
.fa-bicycle:before {
  content: "\f206";
}
.fa-bus:before {
  content: "\f207";
}
.fa-ioxhost:before {
  content: "\f208";
}
.fa-angellist:before {
  content: "\f209";
}
.fa-cc:before {
  content: "\f20a";
}
.fa-shekel:before,
.fa-sheqel:before,
.fa-ils:before {
  content: "\f20b";
}
.fa-meanpath:before {
  content: "\f20c";
}
/*!
*
* IPython base
*
*/
.modal.fade .modal-dialog {
  -webkit-transform: translate(0, 0);
  -ms-transform: translate(0, 0);
  -o-transform: translate(0, 0);
  transform: translate(0, 0);
}
code {
  color: #000;
}
pre {
  font-size: inherit;
  line-height: inherit;
}
label {
  font-weight: normal;
}
/* Make the page background atleast 100% the height of the view port */
/* Make the page itself atleast 70% the height of the view port */
.border-box-sizing {
  box-sizing: border-box;
  -moz-box-sizing: border-box;
  -webkit-box-sizing: border-box;
}
.corner-all {
  border-radius: 2px;
}
.no-padding {
  padding: 0px;
}
/* Flexible box model classes */
/* Taken from Alex Russell http://infrequently.org/2009/08/css-3-progress/ */
/* This file is a compatability layer.  It allows the usage of flexible box 
model layouts accross multiple browsers, including older browsers.  The newest,
universal implementation of the flexible box model is used when available (see
`Modern browsers` comments below).  Browsers that are known to implement this 
new spec completely include:

    Firefox 28.0+
    Chrome 29.0+
    Internet Explorer 11+ 
    Opera 17.0+

Browsers not listed, including Safari, are supported via the styling under the
`Old browsers` comments below.
*/
.hbox {
  /* Old browsers */
  display: -webkit-box;
  -webkit-box-orient: horizontal;
  -webkit-box-align: stretch;
  display: -moz-box;
  -moz-box-orient: horizontal;
  -moz-box-align: stretch;
  display: box;
  box-orient: horizontal;
  box-align: stretch;
  /* Modern browsers */
  display: flex;
  flex-direction: row;
  align-items: stretch;
}
.hbox > * {
  /* Old browsers */
  -webkit-box-flex: 0;
  -moz-box-flex: 0;
  box-flex: 0;
  /* Modern browsers */
  flex: none;
}
.vbox {
  /* Old browsers */
  display: -webkit-box;
  -webkit-box-orient: vertical;
  -webkit-box-align: stretch;
  display: -moz-box;
  -moz-box-orient: vertical;
  -moz-box-align: stretch;
  display: box;
  box-orient: vertical;
  box-align: stretch;
  /* Modern browsers */
  display: flex;
  flex-direction: column;
  align-items: stretch;
}
.vbox > * {
  /* Old browsers */
  -webkit-box-flex: 0;
  -moz-box-flex: 0;
  box-flex: 0;
  /* Modern browsers */
  flex: none;
}
.hbox.reverse,
.vbox.reverse,
.reverse {
  /* Old browsers */
  -webkit-box-direction: reverse;
  -moz-box-direction: reverse;
  box-direction: reverse;
  /* Modern browsers */
  flex-direction: row-reverse;
}
.hbox.box-flex0,
.vbox.box-flex0,
.box-flex0 {
  /* Old browsers */
  -webkit-box-flex: 0;
  -moz-box-flex: 0;
  box-flex: 0;
  /* Modern browsers */
  flex: none;
  width: auto;
}
.hbox.box-flex1,
.vbox.box-flex1,
.box-flex1 {
  /* Old browsers */
  -webkit-box-flex: 1;
  -moz-box-flex: 1;
  box-flex: 1;
  /* Modern browsers */
  flex: 1;
}
.hbox.box-flex,
.vbox.box-flex,
.box-flex {
  /* Old browsers */
  /* Old browsers */
  -webkit-box-flex: 1;
  -moz-box-flex: 1;
  box-flex: 1;
  /* Modern browsers */
  flex: 1;
}
.hbox.box-flex2,
.vbox.box-flex2,
.box-flex2 {
  /* Old browsers */
  -webkit-box-flex: 2;
  -moz-box-flex: 2;
  box-flex: 2;
  /* Modern browsers */
  flex: 2;
}
.box-group1 {
  /*  Deprecated */
  -webkit-box-flex-group: 1;
  -moz-box-flex-group: 1;
  box-flex-group: 1;
}
.box-group2 {
  /* Deprecated */
  -webkit-box-flex-group: 2;
  -moz-box-flex-group: 2;
  box-flex-group: 2;
}
.hbox.start,
.vbox.start,
.start {
  /* Old browsers */
  -webkit-box-pack: start;
  -moz-box-pack: start;
  box-pack: start;
  /* Modern browsers */
  justify-content: flex-start;
}
.hbox.end,
.vbox.end,
.end {
  /* Old browsers */
  -webkit-box-pack: end;
  -moz-box-pack: end;
  box-pack: end;
  /* Modern browsers */
  justify-content: flex-end;
}
.hbox.center,
.vbox.center,
.center {
  /* Old browsers */
  -webkit-box-pack: center;
  -moz-box-pack: center;
  box-pack: center;
  /* Modern browsers */
  justify-content: center;
}
.hbox.baseline,
.vbox.baseline,
.baseline {
  /* Old browsers */
  -webkit-box-pack: baseline;
  -moz-box-pack: baseline;
  box-pack: baseline;
  /* Modern browsers */
  justify-content: baseline;
}
.hbox.stretch,
.vbox.stretch,
.stretch {
  /* Old browsers */
  -webkit-box-pack: stretch;
  -moz-box-pack: stretch;
  box-pack: stretch;
  /* Modern browsers */
  justify-content: stretch;
}
.hbox.align-start,
.vbox.align-start,
.align-start {
  /* Old browsers */
  -webkit-box-align: start;
  -moz-box-align: start;
  box-align: start;
  /* Modern browsers */
  align-items: flex-start;
}
.hbox.align-end,
.vbox.align-end,
.align-end {
  /* Old browsers */
  -webkit-box-align: end;
  -moz-box-align: end;
  box-align: end;
  /* Modern browsers */
  align-items: flex-end;
}
.hbox.align-center,
.vbox.align-center,
.align-center {
  /* Old browsers */
  -webkit-box-align: center;
  -moz-box-align: center;
  box-align: center;
  /* Modern browsers */
  align-items: center;
}
.hbox.align-baseline,
.vbox.align-baseline,
.align-baseline {
  /* Old browsers */
  -webkit-box-align: baseline;
  -moz-box-align: baseline;
  box-align: baseline;
  /* Modern browsers */
  align-items: baseline;
}
.hbox.align-stretch,
.vbox.align-stretch,
.align-stretch {
  /* Old browsers */
  -webkit-box-align: stretch;
  -moz-box-align: stretch;
  box-align: stretch;
  /* Modern browsers */
  align-items: stretch;
}
div.error {
  margin: 2em;
  text-align: center;
}
div.error > h1 {
  font-size: 500%;
  line-height: normal;
}
div.error > p {
  font-size: 200%;
  line-height: normal;
}
div.traceback-wrapper {
  text-align: left;
  max-width: 800px;
  margin: auto;
}
/**
 * Primary styles
 *
 * Author: Jupyter Development Team
 */
body {
  background-color: #fff;
  /* This makes sure that the body covers the entire window and needs to
       be in a different element than the display: box in wrapper below */
  position: absolute;
  left: 0px;
  right: 0px;
  top: 0px;
  bottom: 0px;
  overflow: visible;
}
body > #header {
  /* Initially hidden to prevent FLOUC */
  display: none;
  background-color: #fff;
  /* Display over codemirror */
  position: relative;
  z-index: 100;
}
body > #header #header-container {
  padding-bottom: 5px;
  padding-top: 5px;
  box-sizing: border-box;
  -moz-box-sizing: border-box;
  -webkit-box-sizing: border-box;
}
body > #header .header-bar {
  width: 100%;
  height: 1px;
  background: #e7e7e7;
  margin-bottom: -1px;
}
@media print {
  body > #header {
    display: none !important;
  }
}
#header-spacer {
  width: 100%;
  visibility: hidden;
}
@media print {
  #header-spacer {
    display: none;
  }
}
#ipython_notebook {
  padding-left: 0px;
  padding-top: 1px;
  padding-bottom: 1px;
}
@media (max-width: 991px) {
  #ipython_notebook {
    margin-left: 10px;
  }
}
[dir="rtl"] #ipython_notebook {
  float: right !important;
}
#noscript {
  width: auto;
  padding-top: 16px;
  padding-bottom: 16px;
  text-align: center;
  font-size: 22px;
  color: red;
  font-weight: bold;
}
#ipython_notebook img {
  height: 28px;
}
#site {
  width: 100%;
  display: none;
  box-sizing: border-box;
  -moz-box-sizing: border-box;
  -webkit-box-sizing: border-box;
  overflow: auto;
}
@media print {
  #site {
    height: auto !important;
  }
}
/* Smaller buttons */
.ui-button .ui-button-text {
  padding: 0.2em 0.8em;
  font-size: 77%;
}
input.ui-button {
  padding: 0.3em 0.9em;
}
span#login_widget {
  float: right;
}
span#login_widget > .button,
#logout {
  color: #333;
  background-color: #fff;
  border-color: #ccc;
}
span#login_widget > .button:focus,
#logout:focus,
span#login_widget > .button.focus,
#logout.focus {
  color: #333;
  background-color: #e6e6e6;
  border-color: #8c8c8c;
}
span#login_widget > .button:hover,
#logout:hover {
  color: #333;
  background-color: #e6e6e6;
  border-color: #adadad;
}
span#login_widget > .button:active,
#logout:active,
span#login_widget > .button.active,
#logout.active,
.open > .dropdown-togglespan#login_widget > .button,
.open > .dropdown-toggle#logout {
  color: #333;
  background-color: #e6e6e6;
  border-color: #adadad;
}
span#login_widget > .button:active:hover,
#logout:active:hover,
span#login_widget > .button.active:hover,
#logout.active:hover,
.open > .dropdown-togglespan#login_widget > .button:hover,
.open > .dropdown-toggle#logout:hover,
span#login_widget > .button:active:focus,
#logout:active:focus,
span#login_widget > .button.active:focus,
#logout.active:focus,
.open > .dropdown-togglespan#login_widget > .button:focus,
.open > .dropdown-toggle#logout:focus,
span#login_widget > .button:active.focus,
#logout:active.focus,
span#login_widget > .button.active.focus,
#logout.active.focus,
.open > .dropdown-togglespan#login_widget > .button.focus,
.open > .dropdown-toggle#logout.focus {
  color: #333;
  background-color: #d4d4d4;
  border-color: #8c8c8c;
}
span#login_widget > .button:active,
#logout:active,
span#login_widget > .button.active,
#logout.active,
.open > .dropdown-togglespan#login_widget > .button,
.open > .dropdown-toggle#logout {
  background-image: none;
}
span#login_widget > .button.disabled:hover,
#logout.disabled:hover,
span#login_widget > .button[disabled]:hover,
#logout[disabled]:hover,
fieldset[disabled] span#login_widget > .button:hover,
fieldset[disabled] #logout:hover,
span#login_widget > .button.disabled:focus,
#logout.disabled:focus,
span#login_widget > .button[disabled]:focus,
#logout[disabled]:focus,
fieldset[disabled] span#login_widget > .button:focus,
fieldset[disabled] #logout:focus,
span#login_widget > .button.disabled.focus,
#logout.disabled.focus,
span#login_widget > .button[disabled].focus,
#logout[disabled].focus,
fieldset[disabled] span#login_widget > .button.focus,
fieldset[disabled] #logout.focus {
  background-color: #fff;
  border-color: #ccc;
}
span#login_widget > .button .badge,
#logout .badge {
  color: #fff;
  background-color: #333;
}
.nav-header {
  text-transform: none;
}
#header > span {
  margin-top: 10px;
}
.modal_stretch .modal-dialog {
  /* Old browsers */
  display: -webkit-box;
  -webkit-box-orient: vertical;
  -webkit-box-align: stretch;
  display: -moz-box;
  -moz-box-orient: vertical;
  -moz-box-align: stretch;
  display: box;
  box-orient: vertical;
  box-align: stretch;
  /* Modern browsers */
  display: flex;
  flex-direction: column;
  align-items: stretch;
  min-height: 80vh;
}
.modal_stretch .modal-dialog .modal-body {
  max-height: calc(100vh - 200px);
  overflow: auto;
  flex: 1;
}
@media (min-width: 768px) {
  .modal .modal-dialog {
    width: 700px;
  }
}
@media (min-width: 768px) {
  select.form-control {
    margin-left: 12px;
    margin-right: 12px;
  }
}
/*!
*
* IPython auth
*
*/
.center-nav {
  display: inline-block;
  margin-bottom: -4px;
}
/*!
*
* IPython tree view
*
*/
/* We need an invisible input field on top of the sentense*/
/* "Drag file onto the list ..." */
.alternate_upload {
  background-color: none;
  display: inline;
}
.alternate_upload.form {
  padding: 0;
  margin: 0;
}
.alternate_upload input.fileinput {
  text-align: center;
  vertical-align: middle;
  display: inline;
  opacity: 0;
  z-index: 2;
  width: 12ex;
  margin-right: -12ex;
}
.alternate_upload .btn-upload {
  height: 22px;
}
/**
 * Primary styles
 *
 * Author: Jupyter Development Team
 */
[dir="rtl"] #tabs li {
  float: right;
}
ul#tabs {
  margin-bottom: 4px;
}
[dir="rtl"] ul#tabs {
  margin-right: 0px;
}
ul#tabs a {
  padding-top: 6px;
  padding-bottom: 4px;
}
ul.breadcrumb a:focus,
ul.breadcrumb a:hover {
  text-decoration: none;
}
ul.breadcrumb i.icon-home {
  font-size: 16px;
  margin-right: 4px;
}
ul.breadcrumb span {
  color: #5e5e5e;
}
.list_toolbar {
  padding: 4px 0 4px 0;
  vertical-align: middle;
}
.list_toolbar .tree-buttons {
  padding-top: 1px;
}
[dir="rtl"] .list_toolbar .tree-buttons {
  float: left !important;
}
[dir="rtl"] .list_toolbar .pull-right {
  padding-top: 1px;
  float: left !important;
}
[dir="rtl"] .list_toolbar .pull-left {
  float: right !important;
}
.dynamic-buttons {
  padding-top: 3px;
  display: inline-block;
}
.list_toolbar [class*="span"] {
  min-height: 24px;
}
.list_header {
  font-weight: bold;
  background-color: #EEE;
}
.list_placeholder {
  font-weight: bold;
  padding-top: 4px;
  padding-bottom: 4px;
  padding-left: 7px;
  padding-right: 7px;
}
.list_container {
  margin-top: 4px;
  margin-bottom: 20px;
  border: 1px solid #ddd;
  border-radius: 2px;
}
.list_container > div {
  border-bottom: 1px solid #ddd;
}
.list_container > div:hover .list-item {
  background-color: red;
}
.list_container > div:last-child {
  border: none;
}
.list_item:hover .list_item {
  background-color: #ddd;
}
.list_item a {
  text-decoration: none;
}
.list_item:hover {
  background-color: #fafafa;
}
.list_header > div,
.list_item > div {
  padding-top: 4px;
  padding-bottom: 4px;
  padding-left: 7px;
  padding-right: 7px;
  line-height: 22px;
}
.list_header > div input,
.list_item > div input {
  margin-right: 7px;
  margin-left: 14px;
  vertical-align: baseline;
  line-height: 22px;
  position: relative;
  top: -1px;
}
.list_header > div .item_link,
.list_item > div .item_link {
  margin-left: -1px;
  vertical-align: baseline;
  line-height: 22px;
}
.new-file input[type=checkbox] {
  visibility: hidden;
}
.item_name {
  line-height: 22px;
  height: 24px;
}
.item_icon {
  font-size: 14px;
  color: #5e5e5e;
  margin-right: 7px;
  margin-left: 7px;
  line-height: 22px;
  vertical-align: baseline;
}
.item_buttons {
  line-height: 1em;
  margin-left: -5px;
}
.item_buttons .btn,
.item_buttons .btn-group,
.item_buttons .input-group {
  float: left;
}
.item_buttons > .btn,
.item_buttons > .btn-group,
.item_buttons > .input-group {
  margin-left: 5px;
}
.item_buttons .btn {
  min-width: 13ex;
}
.item_buttons .running-indicator {
  padding-top: 4px;
  color: #5cb85c;
}
.item_buttons .kernel-name {
  padding-top: 4px;
  color: #5bc0de;
  margin-right: 7px;
  float: left;
}
.toolbar_info {
  height: 24px;
  line-height: 24px;
}
.list_item input:not([type=checkbox]) {
  padding-top: 3px;
  padding-bottom: 3px;
  height: 22px;
  line-height: 14px;
  margin: 0px;
}
.highlight_text {
  color: blue;
}
#project_name {
  display: inline-block;
  padding-left: 7px;
  margin-left: -2px;
}
#project_name > .breadcrumb {
  padding: 0px;
  margin-bottom: 0px;
  background-color: transparent;
  font-weight: bold;
}
#tree-selector {
  padding-right: 0px;
}
[dir="rtl"] #tree-selector a {
  float: right;
}
#button-select-all {
  min-width: 50px;
}
#select-all {
  margin-left: 7px;
  margin-right: 2px;
}
.menu_icon {
  margin-right: 2px;
}
.tab-content .row {
  margin-left: 0px;
  margin-right: 0px;
}
.folder_icon:before {
  display: inline-block;
  font: normal normal normal 14px/1 FontAwesome;
  font-size: inherit;
  text-rendering: auto;
  -webkit-font-smoothing: antialiased;
  -moz-osx-font-smoothing: grayscale;
  content: "\f114";
}
.folder_icon:before.pull-left {
  margin-right: .3em;
}
.folder_icon:before.pull-right {
  margin-left: .3em;
}
.notebook_icon:before {
  display: inline-block;
  font: normal normal normal 14px/1 FontAwesome;
  font-size: inherit;
  text-rendering: auto;
  -webkit-font-smoothing: antialiased;
  -moz-osx-font-smoothing: grayscale;
  content: "\f02d";
  position: relative;
  top: -1px;
}
.notebook_icon:before.pull-left {
  margin-right: .3em;
}
.notebook_icon:before.pull-right {
  margin-left: .3em;
}
.running_notebook_icon:before {
  display: inline-block;
  font: normal normal normal 14px/1 FontAwesome;
  font-size: inherit;
  text-rendering: auto;
  -webkit-font-smoothing: antialiased;
  -moz-osx-font-smoothing: grayscale;
  content: "\f02d";
  position: relative;
  top: -1px;
  color: #5cb85c;
}
.running_notebook_icon:before.pull-left {
  margin-right: .3em;
}
.running_notebook_icon:before.pull-right {
  margin-left: .3em;
}
.file_icon:before {
  display: inline-block;
  font: normal normal normal 14px/1 FontAwesome;
  font-size: inherit;
  text-rendering: auto;
  -webkit-font-smoothing: antialiased;
  -moz-osx-font-smoothing: grayscale;
  content: "\f016";
  position: relative;
  top: -2px;
}
.file_icon:before.pull-left {
  margin-right: .3em;
}
.file_icon:before.pull-right {
  margin-left: .3em;
}
#notebook_toolbar .pull-right {
  padding-top: 0px;
  margin-right: -1px;
}
ul#new-menu {
  left: auto;
  right: 0;
}
[dir="rtl"] #new-menu {
  text-align: right;
}
.kernel-menu-icon {
  padding-right: 12px;
  width: 24px;
  content: "\f096";
}
.kernel-menu-icon:before {
  content: "\f096";
}
.kernel-menu-icon-current:before {
  content: "\f00c";
}
#tab_content {
  padding-top: 20px;
}
#running .panel-group .panel {
  margin-top: 3px;
  margin-bottom: 1em;
}
#running .panel-group .panel .panel-heading {
  background-color: #EEE;
  padding-top: 4px;
  padding-bottom: 4px;
  padding-left: 7px;
  padding-right: 7px;
  line-height: 22px;
}
#running .panel-group .panel .panel-heading a:focus,
#running .panel-group .panel .panel-heading a:hover {
  text-decoration: none;
}
#running .panel-group .panel .panel-body {
  padding: 0px;
}
#running .panel-group .panel .panel-body .list_container {
  margin-top: 0px;
  margin-bottom: 0px;
  border: 0px;
  border-radius: 0px;
}
#running .panel-group .panel .panel-body .list_container .list_item {
  border-bottom: 1px solid #ddd;
}
#running .panel-group .panel .panel-body .list_container .list_item:last-child {
  border-bottom: 0px;
}
[dir="rtl"] #running .col-sm-8 {
  float: right !important;
}
.delete-button {
  display: none;
}
.duplicate-button {
  display: none;
}
.rename-button {
  display: none;
}
.shutdown-button {
  display: none;
}
.dynamic-instructions {
  display: inline-block;
  padding-top: 4px;
}
/*!
*
* IPython text editor webapp
*
*/
.selected-keymap i.fa {
  padding: 0px 5px;
}
.selected-keymap i.fa:before {
  content: "\f00c";
}
#mode-menu {
  overflow: auto;
  max-height: 20em;
}
.edit_app #header {
  -webkit-box-shadow: 0px 0px 12px 1px rgba(87, 87, 87, 0.2);
  box-shadow: 0px 0px 12px 1px rgba(87, 87, 87, 0.2);
}
.edit_app #menubar .navbar {
  /* Use a negative 1 bottom margin, so the border overlaps the border of the
    header */
  margin-bottom: -1px;
}
.dirty-indicator {
  display: inline-block;
  font: normal normal normal 14px/1 FontAwesome;
  font-size: inherit;
  text-rendering: auto;
  -webkit-font-smoothing: antialiased;
  -moz-osx-font-smoothing: grayscale;
  width: 20px;
}
.dirty-indicator.pull-left {
  margin-right: .3em;
}
.dirty-indicator.pull-right {
  margin-left: .3em;
}
.dirty-indicator-dirty {
  display: inline-block;
  font: normal normal normal 14px/1 FontAwesome;
  font-size: inherit;
  text-rendering: auto;
  -webkit-font-smoothing: antialiased;
  -moz-osx-font-smoothing: grayscale;
  width: 20px;
}
.dirty-indicator-dirty.pull-left {
  margin-right: .3em;
}
.dirty-indicator-dirty.pull-right {
  margin-left: .3em;
}
.dirty-indicator-clean {
  display: inline-block;
  font: normal normal normal 14px/1 FontAwesome;
  font-size: inherit;
  text-rendering: auto;
  -webkit-font-smoothing: antialiased;
  -moz-osx-font-smoothing: grayscale;
  width: 20px;
}
.dirty-indicator-clean.pull-left {
  margin-right: .3em;
}
.dirty-indicator-clean.pull-right {
  margin-left: .3em;
}
.dirty-indicator-clean:before {
  display: inline-block;
  font: normal normal normal 14px/1 FontAwesome;
  font-size: inherit;
  text-rendering: auto;
  -webkit-font-smoothing: antialiased;
  -moz-osx-font-smoothing: grayscale;
  content: "\f00c";
}
.dirty-indicator-clean:before.pull-left {
  margin-right: .3em;
}
.dirty-indicator-clean:before.pull-right {
  margin-left: .3em;
}
#filename {
  font-size: 16pt;
  display: table;
  padding: 0px 5px;
}
#current-mode {
  padding-left: 5px;
  padding-right: 5px;
}
#texteditor-backdrop {
  padding-top: 20px;
  padding-bottom: 20px;
}
@media not print {
  #texteditor-backdrop {
    background-color: #EEE;
  }
}
@media print {
  #texteditor-backdrop #texteditor-container .CodeMirror-gutter,
  #texteditor-backdrop #texteditor-container .CodeMirror-gutters {
    background-color: #fff;
  }
}
@media not print {
  #texteditor-backdrop #texteditor-container .CodeMirror-gutter,
  #texteditor-backdrop #texteditor-container .CodeMirror-gutters {
    background-color: #fff;
  }
}
@media not print {
  #texteditor-backdrop #texteditor-container {
    padding: 0px;
    background-color: #fff;
    -webkit-box-shadow: 0px 0px 12px 1px rgba(87, 87, 87, 0.2);
    box-shadow: 0px 0px 12px 1px rgba(87, 87, 87, 0.2);
  }
}
/*!
*
* IPython notebook
*
*/
/* CSS font colors for translated ANSI colors. */
.ansibold {
  font-weight: bold;
}
/* use dark versions for foreground, to improve visibility */
.ansiblack {
  color: black;
}
.ansired {
  color: darkred;
}
.ansigreen {
  color: darkgreen;
}
.ansiyellow {
  color: #c4a000;
}
.ansiblue {
  color: darkblue;
}
.ansipurple {
  color: darkviolet;
}
.ansicyan {
  color: steelblue;
}
.ansigray {
  color: gray;
}
/* and light for background, for the same reason */
.ansibgblack {
  background-color: black;
}
.ansibgred {
  background-color: red;
}
.ansibggreen {
  background-color: green;
}
.ansibgyellow {
  background-color: yellow;
}
.ansibgblue {
  background-color: blue;
}
.ansibgpurple {
  background-color: magenta;
}
.ansibgcyan {
  background-color: cyan;
}
.ansibggray {
  background-color: gray;
}
div.cell {
  /* Old browsers */
  display: -webkit-box;
  -webkit-box-orient: vertical;
  -webkit-box-align: stretch;
  display: -moz-box;
  -moz-box-orient: vertical;
  -moz-box-align: stretch;
  display: box;
  box-orient: vertical;
  box-align: stretch;
  /* Modern browsers */
  display: flex;
  flex-direction: column;
  align-items: stretch;
  border-radius: 2px;
  box-sizing: border-box;
  -moz-box-sizing: border-box;
  -webkit-box-sizing: border-box;
  border-width: 1px;
  border-style: solid;
  border-color: transparent;
  width: 100%;
  padding: 5px;
  /* This acts as a spacer between cells, that is outside the border */
  margin: 0px;
  outline: none;
  border-left-width: 1px;
  padding-left: 5px;
  background: linear-gradient(to right, transparent -40px, transparent 1px, transparent 1px, transparent 100%);
}
div.cell.jupyter-soft-selected {
  border-left-color: #90CAF9;
  border-left-color: #E3F2FD;
  border-left-width: 1px;
  padding-left: 5px;
  border-right-color: #E3F2FD;
  border-right-width: 1px;
  background: #E3F2FD;
}
@media print {
  div.cell.jupyter-soft-selected {
    border-color: transparent;
  }
}
div.cell.selected {
  border-color: #ababab;
  border-left-width: 0px;
  padding-left: 6px;
  background: linear-gradient(to right, #42A5F5 -40px, #42A5F5 5px, transparent 5px, transparent 100%);
}
@media print {
  div.cell.selected {
    border-color: transparent;
  }
}
div.cell.selected.jupyter-soft-selected {
  border-left-width: 0;
  padding-left: 6px;
  background: linear-gradient(to right, #42A5F5 -40px, #42A5F5 7px, #E3F2FD 7px, #E3F2FD 100%);
}
.edit_mode div.cell.selected {
  border-color: #66BB6A;
  border-left-width: 0px;
  padding-left: 6px;
  background: linear-gradient(to right, #66BB6A -40px, #66BB6A 5px, transparent 5px, transparent 100%);
}
@media print {
  .edit_mode div.cell.selected {
    border-color: transparent;
  }
}
.prompt {
  /* This needs to be wide enough for 3 digit prompt numbers: In[100]: */
  min-width: 14ex;
  /* This padding is tuned to match the padding on the CodeMirror editor. */
  padding: 0.4em;
  margin: 0px;
  font-family: monospace;
  text-align: right;
  /* This has to match that of the the CodeMirror class line-height below */
  line-height: 1.21429em;
  /* Don't highlight prompt number selection */
  -webkit-touch-callout: none;
  -webkit-user-select: none;
  -khtml-user-select: none;
  -moz-user-select: none;
  -ms-user-select: none;
  user-select: none;
  /* Use default cursor */
  cursor: default;
}
@media (max-width: 540px) {
  .prompt {
    text-align: left;
  }
}
div.inner_cell {
  min-width: 0;
  /* Old browsers */
  display: -webkit-box;
  -webkit-box-orient: vertical;
  -webkit-box-align: stretch;
  display: -moz-box;
  -moz-box-orient: vertical;
  -moz-box-align: stretch;
  display: box;
  box-orient: vertical;
  box-align: stretch;
  /* Modern browsers */
  display: flex;
  flex-direction: column;
  align-items: stretch;
  /* Old browsers */
  -webkit-box-flex: 1;
  -moz-box-flex: 1;
  box-flex: 1;
  /* Modern browsers */
  flex: 1;
}
/* input_area and input_prompt must match in top border and margin for alignment */
div.input_area {
  border: 1px solid #cfcfcf;
  border-radius: 2px;
  background: #f7f7f7;
  line-height: 1.21429em;
}
/* This is needed so that empty prompt areas can collapse to zero height when there
   is no content in the output_subarea and the prompt. The main purpose of this is
   to make sure that empty JavaScript output_subareas have no height. */
div.prompt:empty {
  padding-top: 0;
  padding-bottom: 0;
}
div.unrecognized_cell {
  padding: 5px 5px 5px 0px;
  /* Old browsers */
  display: -webkit-box;
  -webkit-box-orient: horizontal;
  -webkit-box-align: stretch;
  display: -moz-box;
  -moz-box-orient: horizontal;
  -moz-box-align: stretch;
  display: box;
  box-orient: horizontal;
  box-align: stretch;
  /* Modern browsers */
  display: flex;
  flex-direction: row;
  align-items: stretch;
}
div.unrecognized_cell .inner_cell {
  border-radius: 2px;
  padding: 5px;
  font-weight: bold;
  color: red;
  border: 1px solid #cfcfcf;
  background: #eaeaea;
}
div.unrecognized_cell .inner_cell a {
  color: inherit;
  text-decoration: none;
}
div.unrecognized_cell .inner_cell a:hover {
  color: inherit;
  text-decoration: none;
}
@media (max-width: 540px) {
  div.unrecognized_cell > div.prompt {
    display: none;
  }
}
div.code_cell {
  /* avoid page breaking on code cells when printing */
}
@media print {
  div.code_cell {
    page-break-inside: avoid;
  }
}
/* any special styling for code cells that are currently running goes here */
div.input {
  page-break-inside: avoid;
  /* Old browsers */
  display: -webkit-box;
  -webkit-box-orient: horizontal;
  -webkit-box-align: stretch;
  display: -moz-box;
  -moz-box-orient: horizontal;
  -moz-box-align: stretch;
  display: box;
  box-orient: horizontal;
  box-align: stretch;
  /* Modern browsers */
  display: flex;
  flex-direction: row;
  align-items: stretch;
}
@media (max-width: 540px) {
  div.input {
    /* Old browsers */
    display: -webkit-box;
    -webkit-box-orient: vertical;
    -webkit-box-align: stretch;
    display: -moz-box;
    -moz-box-orient: vertical;
    -moz-box-align: stretch;
    display: box;
    box-orient: vertical;
    box-align: stretch;
    /* Modern browsers */
    display: flex;
    flex-direction: column;
    align-items: stretch;
  }
}
/* input_area and input_prompt must match in top border and margin for alignment */
div.input_prompt {
  color: #303F9F;
  border-top: 1px solid transparent;
}
div.input_area > div.highlight {
  margin: 0.4em;
  border: none;
  padding: 0px;
  background-color: transparent;
}
div.input_area > div.highlight > pre {
  margin: 0px;
  border: none;
  padding: 0px;
  background-color: transparent;
}
/* The following gets added to the <head> if it is detected that the user has a
 * monospace font with inconsistent normal/bold/italic height.  See
 * notebookmain.js.  Such fonts will have keywords vertically offset with
 * respect to the rest of the text.  The user should select a better font.
 * See: https://github.com/ipython/ipython/issues/1503
 *
 * .CodeMirror span {
 *      vertical-align: bottom;
 * }
 */
.CodeMirror {
  line-height: 1.21429em;
  /* Changed from 1em to our global default */
  font-size: 14px;
  height: auto;
  /* Changed to auto to autogrow */
  background: none;
  /* Changed from white to allow our bg to show through */
}
.CodeMirror-scroll {
  /*  The CodeMirror docs are a bit fuzzy on if overflow-y should be hidden or visible.*/
  /*  We have found that if it is visible, vertical scrollbars appear with font size changes.*/
  overflow-y: hidden;
  overflow-x: auto;
}
.CodeMirror-lines {
  /* In CM2, this used to be 0.4em, but in CM3 it went to 4px. We need the em value because */
  /* we have set a different line-height and want this to scale with that. */
  padding: 0.4em;
}
.CodeMirror-linenumber {
  padding: 0 8px 0 4px;
}
.CodeMirror-gutters {
  border-bottom-left-radius: 2px;
  border-top-left-radius: 2px;
}
.CodeMirror pre {
  /* In CM3 this went to 4px from 0 in CM2. We need the 0 value because of how we size */
  /* .CodeMirror-lines */
  padding: 0;
  border: 0;
  border-radius: 0;
}
/*

Original style from softwaremaniacs.org (c) Ivan Sagalaev <Maniac@SoftwareManiacs.Org>
Adapted from GitHub theme

*/
.highlight-base {
  color: #000;
}
.highlight-variable {
  color: #000;
}
.highlight-variable-2 {
  color: #1a1a1a;
}
.highlight-variable-3 {
  color: #333333;
}
.highlight-string {
  color: #BA2121;
}
.highlight-comment {
  color: #408080;
  font-style: italic;
}
.highlight-number {
  color: #080;
}
.highlight-atom {
  color: #88F;
}
.highlight-keyword {
  color: #008000;
  font-weight: bold;
}
.highlight-builtin {
  color: #008000;
}
.highlight-error {
  color: #f00;
}
.highlight-operator {
  color: #AA22FF;
  font-weight: bold;
}
.highlight-meta {
  color: #AA22FF;
}
/* previously not defined, copying from default codemirror */
.highlight-def {
  color: #00f;
}
.highlight-string-2 {
  color: #f50;
}
.highlight-qualifier {
  color: #555;
}
.highlight-bracket {
  color: #997;
}
.highlight-tag {
  color: #170;
}
.highlight-attribute {
  color: #00c;
}
.highlight-header {
  color: blue;
}
.highlight-quote {
  color: #090;
}
.highlight-link {
  color: #00c;
}
/* apply the same style to codemirror */
.cm-s-ipython span.cm-keyword {
  color: #008000;
  font-weight: bold;
}
.cm-s-ipython span.cm-atom {
  color: #88F;
}
.cm-s-ipython span.cm-number {
  color: #080;
}
.cm-s-ipython span.cm-def {
  color: #00f;
}
.cm-s-ipython span.cm-variable {
  color: #000;
}
.cm-s-ipython span.cm-operator {
  color: #AA22FF;
  font-weight: bold;
}
.cm-s-ipython span.cm-variable-2 {
  color: #1a1a1a;
}
.cm-s-ipython span.cm-variable-3 {
  color: #333333;
}
.cm-s-ipython span.cm-comment {
  color: #408080;
  font-style: italic;
}
.cm-s-ipython span.cm-string {
  color: #BA2121;
}
.cm-s-ipython span.cm-string-2 {
  color: #f50;
}
.cm-s-ipython span.cm-meta {
  color: #AA22FF;
}
.cm-s-ipython span.cm-qualifier {
  color: #555;
}
.cm-s-ipython span.cm-builtin {
  color: #008000;
}
.cm-s-ipython span.cm-bracket {
  color: #997;
}
.cm-s-ipython span.cm-tag {
  color: #170;
}
.cm-s-ipython span.cm-attribute {
  color: #00c;
}
.cm-s-ipython span.cm-header {
  color: blue;
}
.cm-s-ipython span.cm-quote {
  color: #090;
}
.cm-s-ipython span.cm-link {
  color: #00c;
}
.cm-s-ipython span.cm-error {
  color: #f00;
}
.cm-s-ipython span.cm-tab {
  background: url(data:image/png;base64,iVBORw0KGgoAAAANSUhEUgAAADAAAAAMCAYAAAAkuj5RAAAAAXNSR0IArs4c6QAAAGFJREFUSMft1LsRQFAQheHPowAKoACx3IgEKtaEHujDjORSgWTH/ZOdnZOcM/sgk/kFFWY0qV8foQwS4MKBCS3qR6ixBJvElOobYAtivseIE120FaowJPN75GMu8j/LfMwNjh4HUpwg4LUAAAAASUVORK5CYII=);
  background-position: right;
  background-repeat: no-repeat;
}
div.output_wrapper {
  /* this position must be relative to enable descendents to be absolute within it */
  position: relative;
  /* Old browsers */
  display: -webkit-box;
  -webkit-box-orient: vertical;
  -webkit-box-align: stretch;
  display: -moz-box;
  -moz-box-orient: vertical;
  -moz-box-align: stretch;
  display: box;
  box-orient: vertical;
  box-align: stretch;
  /* Modern browsers */
  display: flex;
  flex-direction: column;
  align-items: stretch;
  z-index: 1;
}
/* class for the output area when it should be height-limited */
div.output_scroll {
  /* ideally, this would be max-height, but FF barfs all over that */
  height: 24em;
  /* FF needs this *and the wrapper* to specify full width, or it will shrinkwrap */
  width: 100%;
  overflow: auto;
  border-radius: 2px;
  -webkit-box-shadow: inset 0 2px 8px rgba(0, 0, 0, 0.8);
  box-shadow: inset 0 2px 8px rgba(0, 0, 0, 0.8);
  display: block;
}
/* output div while it is collapsed */
div.output_collapsed {
  margin: 0px;
  padding: 0px;
  /* Old browsers */
  display: -webkit-box;
  -webkit-box-orient: vertical;
  -webkit-box-align: stretch;
  display: -moz-box;
  -moz-box-orient: vertical;
  -moz-box-align: stretch;
  display: box;
  box-orient: vertical;
  box-align: stretch;
  /* Modern browsers */
  display: flex;
  flex-direction: column;
  align-items: stretch;
}
div.out_prompt_overlay {
  height: 100%;
  padding: 0px 0.4em;
  position: absolute;
  border-radius: 2px;
}
div.out_prompt_overlay:hover {
  /* use inner shadow to get border that is computed the same on WebKit/FF */
  -webkit-box-shadow: inset 0 0 1px #000;
  box-shadow: inset 0 0 1px #000;
  background: rgba(240, 240, 240, 0.5);
}
div.output_prompt {
  color: #D84315;
}
/* This class is the outer container of all output sections. */
div.output_area {
  padding: 0px;
  page-break-inside: avoid;
  /* Old browsers */
  display: -webkit-box;
  -webkit-box-orient: horizontal;
  -webkit-box-align: stretch;
  display: -moz-box;
  -moz-box-orient: horizontal;
  -moz-box-align: stretch;
  display: box;
  box-orient: horizontal;
  box-align: stretch;
  /* Modern browsers */
  display: flex;
  flex-direction: row;
  align-items: stretch;
}
div.output_area .MathJax_Display {
  text-align: left !important;
}
div.output_area .rendered_html table {
  margin-left: 0;
  margin-right: 0;
}
div.output_area .rendered_html img {
  margin-left: 0;
  margin-right: 0;
}
div.output_area img,
div.output_area svg {
  max-width: 100%;
  height: auto;
}
div.output_area img.unconfined,
div.output_area svg.unconfined {
  max-width: none;
}
/* This is needed to protect the pre formating from global settings such
   as that of bootstrap */
.output {
  /* Old browsers */
  display: -webkit-box;
  -webkit-box-orient: vertical;
  -webkit-box-align: stretch;
  display: -moz-box;
  -moz-box-orient: vertical;
  -moz-box-align: stretch;
  display: box;
  box-orient: vertical;
  box-align: stretch;
  /* Modern browsers */
  display: flex;
  flex-direction: column;
  align-items: stretch;
}
@media (max-width: 540px) {
  div.output_area {
    /* Old browsers */
    display: -webkit-box;
    -webkit-box-orient: vertical;
    -webkit-box-align: stretch;
    display: -moz-box;
    -moz-box-orient: vertical;
    -moz-box-align: stretch;
    display: box;
    box-orient: vertical;
    box-align: stretch;
    /* Modern browsers */
    display: flex;
    flex-direction: column;
    align-items: stretch;
  }
}
div.output_area pre {
  margin: 0;
  padding: 0;
  border: 0;
  vertical-align: baseline;
  color: black;
  background-color: transparent;
  border-radius: 0;
}
/* This class is for the output subarea inside the output_area and after
   the prompt div. */
div.output_subarea {
  overflow-x: auto;
  padding: 0.4em;
  /* Old browsers */
  -webkit-box-flex: 1;
  -moz-box-flex: 1;
  box-flex: 1;
  /* Modern browsers */
  flex: 1;
  max-width: calc(100% - 14ex);
}
div.output_scroll div.output_subarea {
  overflow-x: visible;
}
/* The rest of the output_* classes are for special styling of the different
   output types */
/* all text output has this class: */
div.output_text {
  text-align: left;
  color: #000;
  /* This has to match that of the the CodeMirror class line-height below */
  line-height: 1.21429em;
}
/* stdout/stderr are 'text' as well as 'stream', but execute_result/error are *not* streams */
div.output_stderr {
  background: #fdd;
  /* very light red background for stderr */
}
div.output_latex {
  text-align: left;
}
/* Empty output_javascript divs should have no height */
div.output_javascript:empty {
  padding: 0;
}
.js-error {
  color: darkred;
}
/* raw_input styles */
div.raw_input_container {
  line-height: 1.21429em;
  padding-top: 5px;
}
pre.raw_input_prompt {
  /* nothing needed here. */
}
input.raw_input {
  font-family: monospace;
  font-size: inherit;
  color: inherit;
  width: auto;
  /* make sure input baseline aligns with prompt */
  vertical-align: baseline;
  /* padding + margin = 0.5em between prompt and cursor */
  padding: 0em 0.25em;
  margin: 0em 0.25em;
}
input.raw_input:focus {
  box-shadow: none;
}
p.p-space {
  margin-bottom: 10px;
}
div.output_unrecognized {
  padding: 5px;
  font-weight: bold;
  color: red;
}
div.output_unrecognized a {
  color: inherit;
  text-decoration: none;
}
div.output_unrecognized a:hover {
  color: inherit;
  text-decoration: none;
}
.rendered_html {
  color: #000;
  /* any extras will just be numbers: */
}
.rendered_html em {
  font-style: italic;
}
.rendered_html strong {
  font-weight: bold;
}
.rendered_html u {
  text-decoration: underline;
}
.rendered_html :link {
  text-decoration: underline;
}
.rendered_html :visited {
  text-decoration: underline;
}
.rendered_html h1 {
  font-size: 185.7%;
  margin: 1.08em 0 0 0;
  font-weight: bold;
  line-height: 1.0;
}
.rendered_html h2 {
  font-size: 157.1%;
  margin: 1.27em 0 0 0;
  font-weight: bold;
  line-height: 1.0;
}
.rendered_html h3 {
  font-size: 128.6%;
  margin: 1.55em 0 0 0;
  font-weight: bold;
  line-height: 1.0;
}
.rendered_html h4 {
  font-size: 100%;
  margin: 2em 0 0 0;
  font-weight: bold;
  line-height: 1.0;
}
.rendered_html h5 {
  font-size: 100%;
  margin: 2em 0 0 0;
  font-weight: bold;
  line-height: 1.0;
  font-style: italic;
}
.rendered_html h6 {
  font-size: 100%;
  margin: 2em 0 0 0;
  font-weight: bold;
  line-height: 1.0;
  font-style: italic;
}
.rendered_html h1:first-child {
  margin-top: 0.538em;
}
.rendered_html h2:first-child {
  margin-top: 0.636em;
}
.rendered_html h3:first-child {
  margin-top: 0.777em;
}
.rendered_html h4:first-child {
  margin-top: 1em;
}
.rendered_html h5:first-child {
  margin-top: 1em;
}
.rendered_html h6:first-child {
  margin-top: 1em;
}
.rendered_html ul {
  list-style: disc;
  margin: 0em 2em;
  padding-left: 0px;
}
.rendered_html ul ul {
  list-style: square;
  margin: 0em 2em;
}
.rendered_html ul ul ul {
  list-style: circle;
  margin: 0em 2em;
}
.rendered_html ol {
  list-style: decimal;
  margin: 0em 2em;
  padding-left: 0px;
}
.rendered_html ol ol {
  list-style: upper-alpha;
  margin: 0em 2em;
}
.rendered_html ol ol ol {
  list-style: lower-alpha;
  margin: 0em 2em;
}
.rendered_html ol ol ol ol {
  list-style: lower-roman;
  margin: 0em 2em;
}
.rendered_html ol ol ol ol ol {
  list-style: decimal;
  margin: 0em 2em;
}
.rendered_html * + ul {
  margin-top: 1em;
}
.rendered_html * + ol {
  margin-top: 1em;
}
.rendered_html hr {
  color: black;
  background-color: black;
}
.rendered_html pre {
  margin: 1em 2em;
}
.rendered_html pre,
.rendered_html code {
  border: 0;
  background-color: #fff;
  color: #000;
  font-size: 100%;
  padding: 0px;
}
.rendered_html blockquote {
  margin: 1em 2em;
}
.rendered_html table {
  margin-left: auto;
  margin-right: auto;
  border: 1px solid black;
  border-collapse: collapse;
}
.rendered_html tr,
.rendered_html th,
.rendered_html td {
  border: 1px solid black;
  border-collapse: collapse;
  margin: 1em 2em;
}
.rendered_html td,
.rendered_html th {
  text-align: left;
  vertical-align: middle;
  padding: 4px;
}
.rendered_html th {
  font-weight: bold;
}
.rendered_html * + table {
  margin-top: 1em;
}
.rendered_html p {
  text-align: left;
}
.rendered_html * + p {
  margin-top: 1em;
}
.rendered_html img {
  display: block;
  margin-left: auto;
  margin-right: auto;
}
.rendered_html * + img {
  margin-top: 1em;
}
.rendered_html img,
.rendered_html svg {
  max-width: 100%;
  height: auto;
}
.rendered_html img.unconfined,
.rendered_html svg.unconfined {
  max-width: none;
}
div.text_cell {
  /* Old browsers */
  display: -webkit-box;
  -webkit-box-orient: horizontal;
  -webkit-box-align: stretch;
  display: -moz-box;
  -moz-box-orient: horizontal;
  -moz-box-align: stretch;
  display: box;
  box-orient: horizontal;
  box-align: stretch;
  /* Modern browsers */
  display: flex;
  flex-direction: row;
  align-items: stretch;
}
@media (max-width: 540px) {
  div.text_cell > div.prompt {
    display: none;
  }
}
div.text_cell_render {
  /*font-family: "Helvetica Neue", Arial, Helvetica, Geneva, sans-serif;*/
  outline: none;
  resize: none;
  width: inherit;
  border-style: none;
  padding: 0.5em 0.5em 0.5em 0.4em;
  color: #000;
  box-sizing: border-box;
  -moz-box-sizing: border-box;
  -webkit-box-sizing: border-box;
}
a.anchor-link:link {
  text-decoration: none;
  padding: 0px 20px;
  visibility: hidden;
}
h1:hover .anchor-link,
h2:hover .anchor-link,
h3:hover .anchor-link,
h4:hover .anchor-link,
h5:hover .anchor-link,
h6:hover .anchor-link {
  visibility: visible;
}
.text_cell.rendered .input_area {
  display: none;
}
.text_cell.rendered .rendered_html {
  overflow-x: auto;
  overflow-y: hidden;
}
.text_cell.unrendered .text_cell_render {
  display: none;
}
.cm-header-1,
.cm-header-2,
.cm-header-3,
.cm-header-4,
.cm-header-5,
.cm-header-6 {
  font-weight: bold;
  font-family: "Helvetica Neue", Helvetica, Arial, sans-serif;
}
.cm-header-1 {
  font-size: 185.7%;
}
.cm-header-2 {
  font-size: 157.1%;
}
.cm-header-3 {
  font-size: 128.6%;
}
.cm-header-4 {
  font-size: 110%;
}
.cm-header-5 {
  font-size: 100%;
  font-style: italic;
}
.cm-header-6 {
  font-size: 100%;
  font-style: italic;
}
/*!
*
* IPython notebook webapp
*
*/
@media (max-width: 767px) {
  .notebook_app {
    padding-left: 0px;
    padding-right: 0px;
  }
}
#ipython-main-app {
  box-sizing: border-box;
  -moz-box-sizing: border-box;
  -webkit-box-sizing: border-box;
  height: 100%;
}
div#notebook_panel {
  margin: 0px;
  padding: 0px;
  box-sizing: border-box;
  -moz-box-sizing: border-box;
  -webkit-box-sizing: border-box;
  height: 100%;
}
div#notebook {
  font-size: 14px;
  line-height: 20px;
  overflow-y: hidden;
  overflow-x: auto;
  width: 100%;
  /* This spaces the page away from the edge of the notebook area */
  padding-top: 20px;
  margin: 0px;
  outline: none;
  box-sizing: border-box;
  -moz-box-sizing: border-box;
  -webkit-box-sizing: border-box;
  min-height: 100%;
}
@media not print {
  #notebook-container {
    padding: 15px;
    background-color: #fff;
    min-height: 0;
    -webkit-box-shadow: 0px 0px 12px 1px rgba(87, 87, 87, 0.2);
    box-shadow: 0px 0px 12px 1px rgba(87, 87, 87, 0.2);
  }
}
@media print {
  #notebook-container {
    width: 100%;
  }
}
div.ui-widget-content {
  border: 1px solid #ababab;
  outline: none;
}
pre.dialog {
  background-color: #f7f7f7;
  border: 1px solid #ddd;
  border-radius: 2px;
  padding: 0.4em;
  padding-left: 2em;
}
p.dialog {
  padding: 0.2em;
}
/* Word-wrap output correctly.  This is the CSS3 spelling, though Firefox seems
   to not honor it correctly.  Webkit browsers (Chrome, rekonq, Safari) do.
 */
pre,
code,
kbd,
samp {
  white-space: pre-wrap;
}
#fonttest {
  font-family: monospace;
}
p {
  margin-bottom: 0;
}
.end_space {
  min-height: 100px;
  transition: height .2s ease;
}
.notebook_app > #header {
  -webkit-box-shadow: 0px 0px 12px 1px rgba(87, 87, 87, 0.2);
  box-shadow: 0px 0px 12px 1px rgba(87, 87, 87, 0.2);
}
@media not print {
  .notebook_app {
    background-color: #EEE;
  }
}
kbd {
  border-style: solid;
  border-width: 1px;
  box-shadow: none;
  margin: 2px;
  padding-left: 2px;
  padding-right: 2px;
  padding-top: 1px;
  padding-bottom: 1px;
}
/* CSS for the cell toolbar */
.celltoolbar {
  border: thin solid #CFCFCF;
  border-bottom: none;
  background: #EEE;
  border-radius: 2px 2px 0px 0px;
  width: 100%;
  height: 29px;
  padding-right: 4px;
  /* Old browsers */
  display: -webkit-box;
  -webkit-box-orient: horizontal;
  -webkit-box-align: stretch;
  display: -moz-box;
  -moz-box-orient: horizontal;
  -moz-box-align: stretch;
  display: box;
  box-orient: horizontal;
  box-align: stretch;
  /* Modern browsers */
  display: flex;
  flex-direction: row;
  align-items: stretch;
  /* Old browsers */
  -webkit-box-pack: end;
  -moz-box-pack: end;
  box-pack: end;
  /* Modern browsers */
  justify-content: flex-end;
  display: -webkit-flex;
}
@media print {
  .celltoolbar {
    display: none;
  }
}
.ctb_hideshow {
  display: none;
  vertical-align: bottom;
}
/* ctb_show is added to the ctb_hideshow div to show the cell toolbar.
   Cell toolbars are only shown when the ctb_global_show class is also set.
*/
.ctb_global_show .ctb_show.ctb_hideshow {
  display: block;
}
.ctb_global_show .ctb_show + .input_area,
.ctb_global_show .ctb_show + div.text_cell_input,
.ctb_global_show .ctb_show ~ div.text_cell_render {
  border-top-right-radius: 0px;
  border-top-left-radius: 0px;
}
.ctb_global_show .ctb_show ~ div.text_cell_render {
  border: 1px solid #cfcfcf;
}
.celltoolbar {
  font-size: 87%;
  padding-top: 3px;
}
.celltoolbar select {
  display: block;
  width: 100%;
  height: 32px;
  padding: 6px 12px;
  font-size: 13px;
  line-height: 1.42857143;
  color: #555555;
  background-color: #fff;
  background-image: none;
  border: 1px solid #ccc;
  border-radius: 2px;
  -webkit-box-shadow: inset 0 1px 1px rgba(0, 0, 0, 0.075);
  box-shadow: inset 0 1px 1px rgba(0, 0, 0, 0.075);
  -webkit-transition: border-color ease-in-out .15s, box-shadow ease-in-out .15s;
  -o-transition: border-color ease-in-out .15s, box-shadow ease-in-out .15s;
  transition: border-color ease-in-out .15s, box-shadow ease-in-out .15s;
  height: 30px;
  padding: 5px 10px;
  font-size: 12px;
  line-height: 1.5;
  border-radius: 1px;
  width: inherit;
  font-size: inherit;
  height: 22px;
  padding: 0px;
  display: inline-block;
}
.celltoolbar select:focus {
  border-color: #66afe9;
  outline: 0;
  -webkit-box-shadow: inset 0 1px 1px rgba(0,0,0,.075), 0 0 8px rgba(102, 175, 233, 0.6);
  box-shadow: inset 0 1px 1px rgba(0,0,0,.075), 0 0 8px rgba(102, 175, 233, 0.6);
}
.celltoolbar select::-moz-placeholder {
  color: #999;
  opacity: 1;
}
.celltoolbar select:-ms-input-placeholder {
  color: #999;
}
.celltoolbar select::-webkit-input-placeholder {
  color: #999;
}
.celltoolbar select::-ms-expand {
  border: 0;
  background-color: transparent;
}
.celltoolbar select[disabled],
.celltoolbar select[readonly],
fieldset[disabled] .celltoolbar select {
  background-color: #eeeeee;
  opacity: 1;
}
.celltoolbar select[disabled],
fieldset[disabled] .celltoolbar select {
  cursor: not-allowed;
}
textarea.celltoolbar select {
  height: auto;
}
select.celltoolbar select {
  height: 30px;
  line-height: 30px;
}
textarea.celltoolbar select,
select[multiple].celltoolbar select {
  height: auto;
}
.celltoolbar label {
  margin-left: 5px;
  margin-right: 5px;
}
.completions {
  position: absolute;
  z-index: 110;
  overflow: hidden;
  border: 1px solid #ababab;
  border-radius: 2px;
  -webkit-box-shadow: 0px 6px 10px -1px #adadad;
  box-shadow: 0px 6px 10px -1px #adadad;
  line-height: 1;
}
.completions select {
  background: white;
  outline: none;
  border: none;
  padding: 0px;
  margin: 0px;
  overflow: auto;
  font-family: monospace;
  font-size: 110%;
  color: #000;
  width: auto;
}
.completions select option.context {
  color: #286090;
}
#kernel_logo_widget {
  float: right !important;
  float: right;
}
#kernel_logo_widget .current_kernel_logo {
  display: none;
  margin-top: -1px;
  margin-bottom: -1px;
  width: 32px;
  height: 32px;
}
#menubar {
  box-sizing: border-box;
  -moz-box-sizing: border-box;
  -webkit-box-sizing: border-box;
  margin-top: 1px;
}
#menubar .navbar {
  border-top: 1px;
  border-radius: 0px 0px 2px 2px;
  margin-bottom: 0px;
}
#menubar .navbar-toggle {
  float: left;
  padding-top: 7px;
  padding-bottom: 7px;
  border: none;
}
#menubar .navbar-collapse {
  clear: left;
}
.nav-wrapper {
  border-bottom: 1px solid #e7e7e7;
}
i.menu-icon {
  padding-top: 4px;
}
ul#help_menu li a {
  overflow: hidden;
  padding-right: 2.2em;
}
ul#help_menu li a i {
  margin-right: -1.2em;
}
.dropdown-submenu {
  position: relative;
}
.dropdown-submenu > .dropdown-menu {
  top: 0;
  left: 100%;
  margin-top: -6px;
  margin-left: -1px;
}
.dropdown-submenu:hover > .dropdown-menu {
  display: block;
}
.dropdown-submenu > a:after {
  display: inline-block;
  font: normal normal normal 14px/1 FontAwesome;
  font-size: inherit;
  text-rendering: auto;
  -webkit-font-smoothing: antialiased;
  -moz-osx-font-smoothing: grayscale;
  display: block;
  content: "\f0da";
  float: right;
  color: #333333;
  margin-top: 2px;
  margin-right: -10px;
}
.dropdown-submenu > a:after.pull-left {
  margin-right: .3em;
}
.dropdown-submenu > a:after.pull-right {
  margin-left: .3em;
}
.dropdown-submenu:hover > a:after {
  color: #262626;
}
.dropdown-submenu.pull-left {
  float: none;
}
.dropdown-submenu.pull-left > .dropdown-menu {
  left: -100%;
  margin-left: 10px;
}
#notification_area {
  float: right !important;
  float: right;
  z-index: 10;
}
.indicator_area {
  float: right !important;
  float: right;
  color: #777;
  margin-left: 5px;
  margin-right: 5px;
  width: 11px;
  z-index: 10;
  text-align: center;
  width: auto;
}
#kernel_indicator {
  float: right !important;
  float: right;
  color: #777;
  margin-left: 5px;
  margin-right: 5px;
  width: 11px;
  z-index: 10;
  text-align: center;
  width: auto;
  border-left: 1px solid;
}
#kernel_indicator .kernel_indicator_name {
  padding-left: 5px;
  padding-right: 5px;
}
#modal_indicator {
  float: right !important;
  float: right;
  color: #777;
  margin-left: 5px;
  margin-right: 5px;
  width: 11px;
  z-index: 10;
  text-align: center;
  width: auto;
}
#readonly-indicator {
  float: right !important;
  float: right;
  color: #777;
  margin-left: 5px;
  margin-right: 5px;
  width: 11px;
  z-index: 10;
  text-align: center;
  width: auto;
  margin-top: 2px;
  margin-bottom: 0px;
  margin-left: 0px;
  margin-right: 0px;
  display: none;
}
.modal_indicator:before {
  width: 1.28571429em;
  text-align: center;
}
.edit_mode .modal_indicator:before {
  display: inline-block;
  font: normal normal normal 14px/1 FontAwesome;
  font-size: inherit;
  text-rendering: auto;
  -webkit-font-smoothing: antialiased;
  -moz-osx-font-smoothing: grayscale;
  content: "\f040";
}
.edit_mode .modal_indicator:before.pull-left {
  margin-right: .3em;
}
.edit_mode .modal_indicator:before.pull-right {
  margin-left: .3em;
}
.command_mode .modal_indicator:before {
  display: inline-block;
  font: normal normal normal 14px/1 FontAwesome;
  font-size: inherit;
  text-rendering: auto;
  -webkit-font-smoothing: antialiased;
  -moz-osx-font-smoothing: grayscale;
  content: ' ';
}
.command_mode .modal_indicator:before.pull-left {
  margin-right: .3em;
}
.command_mode .modal_indicator:before.pull-right {
  margin-left: .3em;
}
.kernel_idle_icon:before {
  display: inline-block;
  font: normal normal normal 14px/1 FontAwesome;
  font-size: inherit;
  text-rendering: auto;
  -webkit-font-smoothing: antialiased;
  -moz-osx-font-smoothing: grayscale;
  content: "\f10c";
}
.kernel_idle_icon:before.pull-left {
  margin-right: .3em;
}
.kernel_idle_icon:before.pull-right {
  margin-left: .3em;
}
.kernel_busy_icon:before {
  display: inline-block;
  font: normal normal normal 14px/1 FontAwesome;
  font-size: inherit;
  text-rendering: auto;
  -webkit-font-smoothing: antialiased;
  -moz-osx-font-smoothing: grayscale;
  content: "\f111";
}
.kernel_busy_icon:before.pull-left {
  margin-right: .3em;
}
.kernel_busy_icon:before.pull-right {
  margin-left: .3em;
}
.kernel_dead_icon:before {
  display: inline-block;
  font: normal normal normal 14px/1 FontAwesome;
  font-size: inherit;
  text-rendering: auto;
  -webkit-font-smoothing: antialiased;
  -moz-osx-font-smoothing: grayscale;
  content: "\f1e2";
}
.kernel_dead_icon:before.pull-left {
  margin-right: .3em;
}
.kernel_dead_icon:before.pull-right {
  margin-left: .3em;
}
.kernel_disconnected_icon:before {
  display: inline-block;
  font: normal normal normal 14px/1 FontAwesome;
  font-size: inherit;
  text-rendering: auto;
  -webkit-font-smoothing: antialiased;
  -moz-osx-font-smoothing: grayscale;
  content: "\f127";
}
.kernel_disconnected_icon:before.pull-left {
  margin-right: .3em;
}
.kernel_disconnected_icon:before.pull-right {
  margin-left: .3em;
}
.notification_widget {
  color: #777;
  z-index: 10;
  background: rgba(240, 240, 240, 0.5);
  margin-right: 4px;
  color: #333;
  background-color: #fff;
  border-color: #ccc;
}
.notification_widget:focus,
.notification_widget.focus {
  color: #333;
  background-color: #e6e6e6;
  border-color: #8c8c8c;
}
.notification_widget:hover {
  color: #333;
  background-color: #e6e6e6;
  border-color: #adadad;
}
.notification_widget:active,
.notification_widget.active,
.open > .dropdown-toggle.notification_widget {
  color: #333;
  background-color: #e6e6e6;
  border-color: #adadad;
}
.notification_widget:active:hover,
.notification_widget.active:hover,
.open > .dropdown-toggle.notification_widget:hover,
.notification_widget:active:focus,
.notification_widget.active:focus,
.open > .dropdown-toggle.notification_widget:focus,
.notification_widget:active.focus,
.notification_widget.active.focus,
.open > .dropdown-toggle.notification_widget.focus {
  color: #333;
  background-color: #d4d4d4;
  border-color: #8c8c8c;
}
.notification_widget:active,
.notification_widget.active,
.open > .dropdown-toggle.notification_widget {
  background-image: none;
}
.notification_widget.disabled:hover,
.notification_widget[disabled]:hover,
fieldset[disabled] .notification_widget:hover,
.notification_widget.disabled:focus,
.notification_widget[disabled]:focus,
fieldset[disabled] .notification_widget:focus,
.notification_widget.disabled.focus,
.notification_widget[disabled].focus,
fieldset[disabled] .notification_widget.focus {
  background-color: #fff;
  border-color: #ccc;
}
.notification_widget .badge {
  color: #fff;
  background-color: #333;
}
.notification_widget.warning {
  color: #fff;
  background-color: #f0ad4e;
  border-color: #eea236;
}
.notification_widget.warning:focus,
.notification_widget.warning.focus {
  color: #fff;
  background-color: #ec971f;
  border-color: #985f0d;
}
.notification_widget.warning:hover {
  color: #fff;
  background-color: #ec971f;
  border-color: #d58512;
}
.notification_widget.warning:active,
.notification_widget.warning.active,
.open > .dropdown-toggle.notification_widget.warning {
  color: #fff;
  background-color: #ec971f;
  border-color: #d58512;
}
.notification_widget.warning:active:hover,
.notification_widget.warning.active:hover,
.open > .dropdown-toggle.notification_widget.warning:hover,
.notification_widget.warning:active:focus,
.notification_widget.warning.active:focus,
.open > .dropdown-toggle.notification_widget.warning:focus,
.notification_widget.warning:active.focus,
.notification_widget.warning.active.focus,
.open > .dropdown-toggle.notification_widget.warning.focus {
  color: #fff;
  background-color: #d58512;
  border-color: #985f0d;
}
.notification_widget.warning:active,
.notification_widget.warning.active,
.open > .dropdown-toggle.notification_widget.warning {
  background-image: none;
}
.notification_widget.warning.disabled:hover,
.notification_widget.warning[disabled]:hover,
fieldset[disabled] .notification_widget.warning:hover,
.notification_widget.warning.disabled:focus,
.notification_widget.warning[disabled]:focus,
fieldset[disabled] .notification_widget.warning:focus,
.notification_widget.warning.disabled.focus,
.notification_widget.warning[disabled].focus,
fieldset[disabled] .notification_widget.warning.focus {
  background-color: #f0ad4e;
  border-color: #eea236;
}
.notification_widget.warning .badge {
  color: #f0ad4e;
  background-color: #fff;
}
.notification_widget.success {
  color: #fff;
  background-color: #5cb85c;
  border-color: #4cae4c;
}
.notification_widget.success:focus,
.notification_widget.success.focus {
  color: #fff;
  background-color: #449d44;
  border-color: #255625;
}
.notification_widget.success:hover {
  color: #fff;
  background-color: #449d44;
  border-color: #398439;
}
.notification_widget.success:active,
.notification_widget.success.active,
.open > .dropdown-toggle.notification_widget.success {
  color: #fff;
  background-color: #449d44;
  border-color: #398439;
}
.notification_widget.success:active:hover,
.notification_widget.success.active:hover,
.open > .dropdown-toggle.notification_widget.success:hover,
.notification_widget.success:active:focus,
.notification_widget.success.active:focus,
.open > .dropdown-toggle.notification_widget.success:focus,
.notification_widget.success:active.focus,
.notification_widget.success.active.focus,
.open > .dropdown-toggle.notification_widget.success.focus {
  color: #fff;
  background-color: #398439;
  border-color: #255625;
}
.notification_widget.success:active,
.notification_widget.success.active,
.open > .dropdown-toggle.notification_widget.success {
  background-image: none;
}
.notification_widget.success.disabled:hover,
.notification_widget.success[disabled]:hover,
fieldset[disabled] .notification_widget.success:hover,
.notification_widget.success.disabled:focus,
.notification_widget.success[disabled]:focus,
fieldset[disabled] .notification_widget.success:focus,
.notification_widget.success.disabled.focus,
.notification_widget.success[disabled].focus,
fieldset[disabled] .notification_widget.success.focus {
  background-color: #5cb85c;
  border-color: #4cae4c;
}
.notification_widget.success .badge {
  color: #5cb85c;
  background-color: #fff;
}
.notification_widget.info {
  color: #fff;
  background-color: #5bc0de;
  border-color: #46b8da;
}
.notification_widget.info:focus,
.notification_widget.info.focus {
  color: #fff;
  background-color: #31b0d5;
  border-color: #1b6d85;
}
.notification_widget.info:hover {
  color: #fff;
  background-color: #31b0d5;
  border-color: #269abc;
}
.notification_widget.info:active,
.notification_widget.info.active,
.open > .dropdown-toggle.notification_widget.info {
  color: #fff;
  background-color: #31b0d5;
  border-color: #269abc;
}
.notification_widget.info:active:hover,
.notification_widget.info.active:hover,
.open > .dropdown-toggle.notification_widget.info:hover,
.notification_widget.info:active:focus,
.notification_widget.info.active:focus,
.open > .dropdown-toggle.notification_widget.info:focus,
.notification_widget.info:active.focus,
.notification_widget.info.active.focus,
.open > .dropdown-toggle.notification_widget.info.focus {
  color: #fff;
  background-color: #269abc;
  border-color: #1b6d85;
}
.notification_widget.info:active,
.notification_widget.info.active,
.open > .dropdown-toggle.notification_widget.info {
  background-image: none;
}
.notification_widget.info.disabled:hover,
.notification_widget.info[disabled]:hover,
fieldset[disabled] .notification_widget.info:hover,
.notification_widget.info.disabled:focus,
.notification_widget.info[disabled]:focus,
fieldset[disabled] .notification_widget.info:focus,
.notification_widget.info.disabled.focus,
.notification_widget.info[disabled].focus,
fieldset[disabled] .notification_widget.info.focus {
  background-color: #5bc0de;
  border-color: #46b8da;
}
.notification_widget.info .badge {
  color: #5bc0de;
  background-color: #fff;
}
.notification_widget.danger {
  color: #fff;
  background-color: #d9534f;
  border-color: #d43f3a;
}
.notification_widget.danger:focus,
.notification_widget.danger.focus {
  color: #fff;
  background-color: #c9302c;
  border-color: #761c19;
}
.notification_widget.danger:hover {
  color: #fff;
  background-color: #c9302c;
  border-color: #ac2925;
}
.notification_widget.danger:active,
.notification_widget.danger.active,
.open > .dropdown-toggle.notification_widget.danger {
  color: #fff;
  background-color: #c9302c;
  border-color: #ac2925;
}
.notification_widget.danger:active:hover,
.notification_widget.danger.active:hover,
.open > .dropdown-toggle.notification_widget.danger:hover,
.notification_widget.danger:active:focus,
.notification_widget.danger.active:focus,
.open > .dropdown-toggle.notification_widget.danger:focus,
.notification_widget.danger:active.focus,
.notification_widget.danger.active.focus,
.open > .dropdown-toggle.notification_widget.danger.focus {
  color: #fff;
  background-color: #ac2925;
  border-color: #761c19;
}
.notification_widget.danger:active,
.notification_widget.danger.active,
.open > .dropdown-toggle.notification_widget.danger {
  background-image: none;
}
.notification_widget.danger.disabled:hover,
.notification_widget.danger[disabled]:hover,
fieldset[disabled] .notification_widget.danger:hover,
.notification_widget.danger.disabled:focus,
.notification_widget.danger[disabled]:focus,
fieldset[disabled] .notification_widget.danger:focus,
.notification_widget.danger.disabled.focus,
.notification_widget.danger[disabled].focus,
fieldset[disabled] .notification_widget.danger.focus {
  background-color: #d9534f;
  border-color: #d43f3a;
}
.notification_widget.danger .badge {
  color: #d9534f;
  background-color: #fff;
}
div#pager {
  background-color: #fff;
  font-size: 14px;
  line-height: 20px;
  overflow: hidden;
  display: none;
  position: fixed;
  bottom: 0px;
  width: 100%;
  max-height: 50%;
  padding-top: 8px;
  -webkit-box-shadow: 0px 0px 12px 1px rgba(87, 87, 87, 0.2);
  box-shadow: 0px 0px 12px 1px rgba(87, 87, 87, 0.2);
  /* Display over codemirror */
  z-index: 100;
  /* Hack which prevents jquery ui resizable from changing top. */
  top: auto !important;
}
div#pager pre {
  line-height: 1.21429em;
  color: #000;
  background-color: #f7f7f7;
  padding: 0.4em;
}
div#pager #pager-button-area {
  position: absolute;
  top: 8px;
  right: 20px;
}
div#pager #pager-contents {
  position: relative;
  overflow: auto;
  width: 100%;
  height: 100%;
}
div#pager #pager-contents #pager-container {
  position: relative;
  padding: 15px 0px;
  box-sizing: border-box;
  -moz-box-sizing: border-box;
  -webkit-box-sizing: border-box;
}
div#pager .ui-resizable-handle {
  top: 0px;
  height: 8px;
  background: #f7f7f7;
  border-top: 1px solid #cfcfcf;
  border-bottom: 1px solid #cfcfcf;
  /* This injects handle bars (a short, wide = symbol) for 
        the resize handle. */
}
div#pager .ui-resizable-handle::after {
  content: '';
  top: 2px;
  left: 50%;
  height: 3px;
  width: 30px;
  margin-left: -15px;
  position: absolute;
  border-top: 1px solid #cfcfcf;
}
.quickhelp {
  /* Old browsers */
  display: -webkit-box;
  -webkit-box-orient: horizontal;
  -webkit-box-align: stretch;
  display: -moz-box;
  -moz-box-orient: horizontal;
  -moz-box-align: stretch;
  display: box;
  box-orient: horizontal;
  box-align: stretch;
  /* Modern browsers */
  display: flex;
  flex-direction: row;
  align-items: stretch;
  line-height: 1.8em;
}
.shortcut_key {
  display: inline-block;
  width: 21ex;
  text-align: right;
  font-family: monospace;
}
.shortcut_descr {
  display: inline-block;
  /* Old browsers */
  -webkit-box-flex: 1;
  -moz-box-flex: 1;
  box-flex: 1;
  /* Modern browsers */
  flex: 1;
}
span.save_widget {
  margin-top: 6px;
}
span.save_widget span.filename {
  height: 1em;
  line-height: 1em;
  padding: 3px;
  margin-left: 16px;
  border: none;
  font-size: 146.5%;
  border-radius: 2px;
}
span.save_widget span.filename:hover {
  background-color: #e6e6e6;
}
span.checkpoint_status,
span.autosave_status {
  font-size: small;
}
@media (max-width: 767px) {
  span.save_widget {
    font-size: small;
  }
  span.checkpoint_status,
  span.autosave_status {
    display: none;
  }
}
@media (min-width: 768px) and (max-width: 991px) {
  span.checkpoint_status {
    display: none;
  }
  span.autosave_status {
    font-size: x-small;
  }
}
.toolbar {
  padding: 0px;
  margin-left: -5px;
  margin-top: 2px;
  margin-bottom: 5px;
  box-sizing: border-box;
  -moz-box-sizing: border-box;
  -webkit-box-sizing: border-box;
}
.toolbar select,
.toolbar label {
  width: auto;
  vertical-align: middle;
  margin-right: 2px;
  margin-bottom: 0px;
  display: inline;
  font-size: 92%;
  margin-left: 0.3em;
  margin-right: 0.3em;
  padding: 0px;
  padding-top: 3px;
}
.toolbar .btn {
  padding: 2px 8px;
}
.toolbar .btn-group {
  margin-top: 0px;
  margin-left: 5px;
}
#maintoolbar {
  margin-bottom: -3px;
  margin-top: -8px;
  border: 0px;
  min-height: 27px;
  margin-left: 0px;
  padding-top: 11px;
  padding-bottom: 3px;
}
#maintoolbar .navbar-text {
  float: none;
  vertical-align: middle;
  text-align: right;
  margin-left: 5px;
  margin-right: 0px;
  margin-top: 0px;
}
.select-xs {
  height: 24px;
}
.pulse,
.dropdown-menu > li > a.pulse,
li.pulse > a.dropdown-toggle,
li.pulse.open > a.dropdown-toggle {
  background-color: #F37626;
  color: white;
}
/**
 * Primary styles
 *
 * Author: Jupyter Development Team
 */
/** WARNING IF YOU ARE EDITTING THIS FILE, if this is a .css file, It has a lot
 * of chance of beeing generated from the ../less/[samename].less file, you can
 * try to get back the less file by reverting somme commit in history
 **/
/*
 * We'll try to get something pretty, so we
 * have some strange css to have the scroll bar on
 * the left with fix button on the top right of the tooltip
 */
@-moz-keyframes fadeOut {
  from {
    opacity: 1;
  }
  to {
    opacity: 0;
  }
}
@-webkit-keyframes fadeOut {
  from {
    opacity: 1;
  }
  to {
    opacity: 0;
  }
}
@-moz-keyframes fadeIn {
  from {
    opacity: 0;
  }
  to {
    opacity: 1;
  }
}
@-webkit-keyframes fadeIn {
  from {
    opacity: 0;
  }
  to {
    opacity: 1;
  }
}
/*properties of tooltip after "expand"*/
.bigtooltip {
  overflow: auto;
  height: 200px;
  -webkit-transition-property: height;
  -webkit-transition-duration: 500ms;
  -moz-transition-property: height;
  -moz-transition-duration: 500ms;
  transition-property: height;
  transition-duration: 500ms;
}
/*properties of tooltip before "expand"*/
.smalltooltip {
  -webkit-transition-property: height;
  -webkit-transition-duration: 500ms;
  -moz-transition-property: height;
  -moz-transition-duration: 500ms;
  transition-property: height;
  transition-duration: 500ms;
  text-overflow: ellipsis;
  overflow: hidden;
  height: 80px;
}
.tooltipbuttons {
  position: absolute;
  padding-right: 15px;
  top: 0px;
  right: 0px;
}
.tooltiptext {
  /*avoid the button to overlap on some docstring*/
  padding-right: 30px;
}
.ipython_tooltip {
  max-width: 700px;
  /*fade-in animation when inserted*/
  -webkit-animation: fadeOut 400ms;
  -moz-animation: fadeOut 400ms;
  animation: fadeOut 400ms;
  -webkit-animation: fadeIn 400ms;
  -moz-animation: fadeIn 400ms;
  animation: fadeIn 400ms;
  vertical-align: middle;
  background-color: #f7f7f7;
  overflow: visible;
  border: #ababab 1px solid;
  outline: none;
  padding: 3px;
  margin: 0px;
  padding-left: 7px;
  font-family: monospace;
  min-height: 50px;
  -moz-box-shadow: 0px 6px 10px -1px #adadad;
  -webkit-box-shadow: 0px 6px 10px -1px #adadad;
  box-shadow: 0px 6px 10px -1px #adadad;
  border-radius: 2px;
  position: absolute;
  z-index: 1000;
}
.ipython_tooltip a {
  float: right;
}
.ipython_tooltip .tooltiptext pre {
  border: 0;
  border-radius: 0;
  font-size: 100%;
  background-color: #f7f7f7;
}
.pretooltiparrow {
  left: 0px;
  margin: 0px;
  top: -16px;
  width: 40px;
  height: 16px;
  overflow: hidden;
  position: absolute;
}
.pretooltiparrow:before {
  background-color: #f7f7f7;
  border: 1px #ababab solid;
  z-index: 11;
  content: "";
  position: absolute;
  left: 15px;
  top: 10px;
  width: 25px;
  height: 25px;
  -webkit-transform: rotate(45deg);
  -moz-transform: rotate(45deg);
  -ms-transform: rotate(45deg);
  -o-transform: rotate(45deg);
}
ul.typeahead-list i {
  margin-left: -10px;
  width: 18px;
}
ul.typeahead-list {
  max-height: 80vh;
  overflow: auto;
}
ul.typeahead-list > li > a {
  /** Firefox bug **/
  /* see https://github.com/jupyter/notebook/issues/559 */
  white-space: normal;
}
.cmd-palette .modal-body {
  padding: 7px;
}
.cmd-palette form {
  background: white;
}
.cmd-palette input {
  outline: none;
}
.no-shortcut {
  display: none;
}
.command-shortcut:before {
  content: "(command)";
  padding-right: 3px;
  color: #777777;
}
.edit-shortcut:before {
  content: "(edit)";
  padding-right: 3px;
  color: #777777;
}
#find-and-replace #replace-preview .match,
#find-and-replace #replace-preview .insert {
  background-color: #BBDEFB;
  border-color: #90CAF9;
  border-style: solid;
  border-width: 1px;
  border-radius: 0px;
}
#find-and-replace #replace-preview .replace .match {
  background-color: #FFCDD2;
  border-color: #EF9A9A;
  border-radius: 0px;
}
#find-and-replace #replace-preview .replace .insert {
  background-color: #C8E6C9;
  border-color: #A5D6A7;
  border-radius: 0px;
}
#find-and-replace #replace-preview {
  max-height: 60vh;
  overflow: auto;
}
#find-and-replace #replace-preview pre {
  padding: 5px 10px;
}
.terminal-app {
  background: #EEE;
}
.terminal-app #header {
  background: #fff;
  -webkit-box-shadow: 0px 0px 12px 1px rgba(87, 87, 87, 0.2);
  box-shadow: 0px 0px 12px 1px rgba(87, 87, 87, 0.2);
}
.terminal-app .terminal {
  width: 100%;
  float: left;
  font-family: monospace;
  color: white;
  background: black;
  padding: 0.4em;
  border-radius: 2px;
  -webkit-box-shadow: 0px 0px 12px 1px rgba(87, 87, 87, 0.4);
  box-shadow: 0px 0px 12px 1px rgba(87, 87, 87, 0.4);
}
.terminal-app .terminal,
.terminal-app .terminal dummy-screen {
  line-height: 1em;
  font-size: 14px;
}
.terminal-app .terminal .xterm-rows {
  padding: 10px;
}
.terminal-app .terminal-cursor {
  color: black;
  background: white;
}
.terminal-app #terminado-container {
  margin-top: 20px;
}
/*# sourceMappingURL=style.min.css.map */
    </style>
<style type="text/css">
    .highlight .hll { background-color: #ffffcc }
.highlight  { background: #f8f8f8; }
.highlight .c { color: #408080; font-style: italic } /* Comment */
.highlight .err { border: 1px solid #FF0000 } /* Error */
.highlight .k { color: #008000; font-weight: bold } /* Keyword */
.highlight .o { color: #666666 } /* Operator */
.highlight .ch { color: #408080; font-style: italic } /* Comment.Hashbang */
.highlight .cm { color: #408080; font-style: italic } /* Comment.Multiline */
.highlight .cp { color: #BC7A00 } /* Comment.Preproc */
.highlight .cpf { color: #408080; font-style: italic } /* Comment.PreprocFile */
.highlight .c1 { color: #408080; font-style: italic } /* Comment.Single */
.highlight .cs { color: #408080; font-style: italic } /* Comment.Special */
.highlight .gd { color: #A00000 } /* Generic.Deleted */
.highlight .ge { font-style: italic } /* Generic.Emph */
.highlight .gr { color: #FF0000 } /* Generic.Error */
.highlight .gh { color: #000080; font-weight: bold } /* Generic.Heading */
.highlight .gi { color: #00A000 } /* Generic.Inserted */
.highlight .go { color: #888888 } /* Generic.Output */
.highlight .gp { color: #000080; font-weight: bold } /* Generic.Prompt */
.highlight .gs { font-weight: bold } /* Generic.Strong */
.highlight .gu { color: #800080; font-weight: bold } /* Generic.Subheading */
.highlight .gt { color: #0044DD } /* Generic.Traceback */
.highlight .kc { color: #008000; font-weight: bold } /* Keyword.Constant */
.highlight .kd { color: #008000; font-weight: bold } /* Keyword.Declaration */
.highlight .kn { color: #008000; font-weight: bold } /* Keyword.Namespace */
.highlight .kp { color: #008000 } /* Keyword.Pseudo */
.highlight .kr { color: #008000; font-weight: bold } /* Keyword.Reserved */
.highlight .kt { color: #B00040 } /* Keyword.Type */
.highlight .m { color: #666666 } /* Literal.Number */
.highlight .s { color: #BA2121 } /* Literal.String */
.highlight .na { color: #7D9029 } /* Name.Attribute */
.highlight .nb { color: #008000 } /* Name.Builtin */
.highlight .nc { color: #0000FF; font-weight: bold } /* Name.Class */
.highlight .no { color: #880000 } /* Name.Constant */
.highlight .nd { color: #AA22FF } /* Name.Decorator */
.highlight .ni { color: #999999; font-weight: bold } /* Name.Entity */
.highlight .ne { color: #D2413A; font-weight: bold } /* Name.Exception */
.highlight .nf { color: #0000FF } /* Name.Function */
.highlight .nl { color: #A0A000 } /* Name.Label */
.highlight .nn { color: #0000FF; font-weight: bold } /* Name.Namespace */
.highlight .nt { color: #008000; font-weight: bold } /* Name.Tag */
.highlight .nv { color: #19177C } /* Name.Variable */
.highlight .ow { color: #AA22FF; font-weight: bold } /* Operator.Word */
.highlight .w { color: #bbbbbb } /* Text.Whitespace */
.highlight .mb { color: #666666 } /* Literal.Number.Bin */
.highlight .mf { color: #666666 } /* Literal.Number.Float */
.highlight .mh { color: #666666 } /* Literal.Number.Hex */
.highlight .mi { color: #666666 } /* Literal.Number.Integer */
.highlight .mo { color: #666666 } /* Literal.Number.Oct */
.highlight .sa { color: #BA2121 } /* Literal.String.Affix */
.highlight .sb { color: #BA2121 } /* Literal.String.Backtick */
.highlight .sc { color: #BA2121 } /* Literal.String.Char */
.highlight .dl { color: #BA2121 } /* Literal.String.Delimiter */
.highlight .sd { color: #BA2121; font-style: italic } /* Literal.String.Doc */
.highlight .s2 { color: #BA2121 } /* Literal.String.Double */
.highlight .se { color: #BB6622; font-weight: bold } /* Literal.String.Escape */
.highlight .sh { color: #BA2121 } /* Literal.String.Heredoc */
.highlight .si { color: #BB6688; font-weight: bold } /* Literal.String.Interpol */
.highlight .sx { color: #008000 } /* Literal.String.Other */
.highlight .sr { color: #BB6688 } /* Literal.String.Regex */
.highlight .s1 { color: #BA2121 } /* Literal.String.Single */
.highlight .ss { color: #19177C } /* Literal.String.Symbol */
.highlight .bp { color: #008000 } /* Name.Builtin.Pseudo */
.highlight .fm { color: #0000FF } /* Name.Function.Magic */
.highlight .vc { color: #19177C } /* Name.Variable.Class */
.highlight .vg { color: #19177C } /* Name.Variable.Global */
.highlight .vi { color: #19177C } /* Name.Variable.Instance */
.highlight .vm { color: #19177C } /* Name.Variable.Magic */
.highlight .il { color: #666666 } /* Literal.Number.Integer.Long */
    </style>
<style type="text/css">
    
/* Temporary definitions which will become obsolete with Notebook release 5.0 */
.ansi-black-fg { color: #3E424D; }
.ansi-black-bg { background-color: #3E424D; }
.ansi-black-intense-fg { color: #282C36; }
.ansi-black-intense-bg { background-color: #282C36; }
.ansi-red-fg { color: #E75C58; }
.ansi-red-bg { background-color: #E75C58; }
.ansi-red-intense-fg { color: #B22B31; }
.ansi-red-intense-bg { background-color: #B22B31; }
.ansi-green-fg { color: #00A250; }
.ansi-green-bg { background-color: #00A250; }
.ansi-green-intense-fg { color: #007427; }
.ansi-green-intense-bg { background-color: #007427; }
.ansi-yellow-fg { color: #DDB62B; }
.ansi-yellow-bg { background-color: #DDB62B; }
.ansi-yellow-intense-fg { color: #B27D12; }
.ansi-yellow-intense-bg { background-color: #B27D12; }
.ansi-blue-fg { color: #208FFB; }
.ansi-blue-bg { background-color: #208FFB; }
.ansi-blue-intense-fg { color: #0065CA; }
.ansi-blue-intense-bg { background-color: #0065CA; }
.ansi-magenta-fg { color: #D160C4; }
.ansi-magenta-bg { background-color: #D160C4; }
.ansi-magenta-intense-fg { color: #A03196; }
.ansi-magenta-intense-bg { background-color: #A03196; }
.ansi-cyan-fg { color: #60C6C8; }
.ansi-cyan-bg { background-color: #60C6C8; }
.ansi-cyan-intense-fg { color: #258F8F; }
.ansi-cyan-intense-bg { background-color: #258F8F; }
.ansi-white-fg { color: #C5C1B4; }
.ansi-white-bg { background-color: #C5C1B4; }
.ansi-white-intense-fg { color: #A1A6B2; }
.ansi-white-intense-bg { background-color: #A1A6B2; }

.ansi-bold { font-weight: bold; }

    </style>


<style type="text/css">
/* Overrides of notebook CSS for static HTML export */
body {
  overflow: visible;
  padding: 8px;
}

div#notebook {
  overflow: visible;
  border-top: none;
}@media print {
  div.cell {
    display: block;
    page-break-inside: avoid;
  } 
  div.output_wrapper { 
    display: block;
    page-break-inside: avoid; 
  }
  div.output { 
    display: block;
    page-break-inside: avoid; 
  }
}
</style>

<!-- Custom stylesheet, it must be in the same directory as the html file -->
<link rel="stylesheet" href="custom.css">

<!-- Loading mathjax macro -->
<!-- Load mathjax -->
    <script src="https://cdnjs.cloudflare.com/ajax/libs/mathjax/2.7.1/MathJax.js?config=TeX-AMS_HTML"></script>
    <!-- MathJax configuration -->
    <script type="text/x-mathjax-config">
    MathJax.Hub.Config({
        tex2jax: {
            inlineMath: [ ['$','$'], ["\\(","\\)"] ],
            displayMath: [ ['$$','$$'], ["\\[","\\]"] ],
            processEscapes: true,
            processEnvironments: true
        },
        // Center justify equations in code and markdown cells. Elsewhere
        // we use CSS to left justify single line equations in code cells.
        displayAlign: 'center',
        "HTML-CSS": {
            styles: {'.MathJax_Display': {"margin": 0}},
            linebreaks: { automatic: true }
        }
    });
    </script>
    <!-- End of mathjax configuration --></head>
<body>
  <div tabindex="-1" id="notebook" class="border-box-sizing">
    <div class="container" id="notebook-container">

<div class="cell border-box-sizing text_cell rendered"><div class="prompt input_prompt">
</div>
<div class="inner_cell">
<div class="text_cell_render border-box-sizing rendered_html">
<h1 id="&#1051;&#1080;&#1085;&#1077;&#1081;&#1085;&#1072;&#1103;-&#1088;&#1077;&#1075;&#1088;&#1077;&#1089;&#1089;&#1080;&#1103;-&#1080;-&#1086;&#1089;&#1085;&#1086;&#1074;&#1085;&#1099;&#1077;-&#1073;&#1080;&#1073;&#1083;&#1080;&#1086;&#1090;&#1077;&#1082;&#1080;-Python-&#1076;&#1083;&#1103;-&#1072;&#1085;&#1072;&#1083;&#1080;&#1079;&#1072;-&#1076;&#1072;&#1085;&#1085;&#1099;&#1093;-&#1080;-&#1085;&#1072;&#1091;&#1095;&#1085;&#1099;&#1093;-&#1074;&#1099;&#1095;&#1080;&#1089;&#1083;&#1077;&#1085;&#1080;&#1081;">&#1051;&#1080;&#1085;&#1077;&#1081;&#1085;&#1072;&#1103; &#1088;&#1077;&#1075;&#1088;&#1077;&#1089;&#1089;&#1080;&#1103; &#1080; &#1086;&#1089;&#1085;&#1086;&#1074;&#1085;&#1099;&#1077; &#1073;&#1080;&#1073;&#1083;&#1080;&#1086;&#1090;&#1077;&#1082;&#1080; Python &#1076;&#1083;&#1103; &#1072;&#1085;&#1072;&#1083;&#1080;&#1079;&#1072; &#1076;&#1072;&#1085;&#1085;&#1099;&#1093; &#1080; &#1085;&#1072;&#1091;&#1095;&#1085;&#1099;&#1093; &#1074;&#1099;&#1095;&#1080;&#1089;&#1083;&#1077;&#1085;&#1080;&#1081;<a class="anchor-link" href="#&#1051;&#1080;&#1085;&#1077;&#1081;&#1085;&#1072;&#1103;-&#1088;&#1077;&#1075;&#1088;&#1077;&#1089;&#1089;&#1080;&#1103;-&#1080;-&#1086;&#1089;&#1085;&#1086;&#1074;&#1085;&#1099;&#1077;-&#1073;&#1080;&#1073;&#1083;&#1080;&#1086;&#1090;&#1077;&#1082;&#1080;-Python-&#1076;&#1083;&#1103;-&#1072;&#1085;&#1072;&#1083;&#1080;&#1079;&#1072;-&#1076;&#1072;&#1085;&#1085;&#1099;&#1093;-&#1080;-&#1085;&#1072;&#1091;&#1095;&#1085;&#1099;&#1093;-&#1074;&#1099;&#1095;&#1080;&#1089;&#1083;&#1077;&#1085;&#1080;&#1081;">&#182;</a></h1>
</div>
</div>
</div>
<div class="cell border-box-sizing text_cell rendered"><div class="prompt input_prompt">
</div>
<div class="inner_cell">
<div class="text_cell_render border-box-sizing rendered_html">
<p>Это задание посвящено линейной регрессии. На примере прогнозирования роста человека по его весу Вы увидите, какая математика за этим стоит, а заодно познакомитесь с основными библиотеками Python, необходимыми для дальнейшего прохождения курса.</p>

</div>
</div>
</div>
<div class="cell border-box-sizing text_cell rendered"><div class="prompt input_prompt">
</div>
<div class="inner_cell">
<div class="text_cell_render border-box-sizing rendered_html">
<p><strong>Материалы</strong></p>
<ul>
<li>Лекции данного курса по линейным моделям и градиентному спуску</li>
<li><a href="http://docs.scipy.org/doc/">Документация</a> по библиотекам NumPy и SciPy</li>
<li><a href="http://matplotlib.org/">Документация</a> по библиотеке Matplotlib </li>
<li><a href="http://pandas.pydata.org/pandas-docs/stable/tutorials.html">Документация</a> по библиотеке Pandas</li>
<li><a href="http://www.analyticsvidhya.com/blog/2015/07/11-steps-perform-data-analysis-pandas-python/">Pandas Cheat Sheet</a></li>
<li><a href="http://stanford.edu/~mwaskom/software/seaborn/">Документация</a> по библиотеке Seaborn </li>
</ul>

</div>
</div>
</div>
<div class="cell border-box-sizing text_cell rendered"><div class="prompt input_prompt">
</div>
<div class="inner_cell">
<div class="text_cell_render border-box-sizing rendered_html">
<h2 id="&#1047;&#1072;&#1076;&#1072;&#1085;&#1080;&#1077;-1.-&#1055;&#1077;&#1088;&#1074;&#1080;&#1095;&#1085;&#1099;&#1081;-&#1072;&#1085;&#1072;&#1083;&#1080;&#1079;-&#1076;&#1072;&#1085;&#1085;&#1099;&#1093;-c-Pandas">&#1047;&#1072;&#1076;&#1072;&#1085;&#1080;&#1077; 1. &#1055;&#1077;&#1088;&#1074;&#1080;&#1095;&#1085;&#1099;&#1081; &#1072;&#1085;&#1072;&#1083;&#1080;&#1079; &#1076;&#1072;&#1085;&#1085;&#1099;&#1093; c Pandas<a class="anchor-link" href="#&#1047;&#1072;&#1076;&#1072;&#1085;&#1080;&#1077;-1.-&#1055;&#1077;&#1088;&#1074;&#1080;&#1095;&#1085;&#1099;&#1081;-&#1072;&#1085;&#1072;&#1083;&#1080;&#1079;-&#1076;&#1072;&#1085;&#1085;&#1099;&#1093;-c-Pandas">&#182;</a></h2>
</div>
</div>
</div>
<div class="cell border-box-sizing text_cell rendered"><div class="prompt input_prompt">
</div>
<div class="inner_cell">
<div class="text_cell_render border-box-sizing rendered_html">
<p>В этом заданиии мы будем использовать данные <a href="http://wiki.stat.ucla.edu/socr/index.php/SOCR_Data_Dinov_020108_HeightsWeights">SOCR</a> по росту и весу 25 тысяч подростков.</p>

</div>
</div>
</div>
<div class="cell border-box-sizing text_cell rendered"><div class="prompt input_prompt">
</div>
<div class="inner_cell">
<div class="text_cell_render border-box-sizing rendered_html">
<p><strong>[1].</strong> Если у Вас не установлена библиотека Seaborn - выполните в терминале команду <em>conda install seaborn</em>. (Seaborn не входит в сборку Anaconda, но эта библиотека предоставляет удобную высокоуровневую функциональность для визуализации данных).</p>

</div>
</div>
</div>
<div class="cell border-box-sizing text_cell rendered"><div class="prompt input_prompt">
</div>
<div class="inner_cell">
<div class="text_cell_render border-box-sizing rendered_html">
<p>Считаем данные по росту и весу (<em>weights_heights.csv</em>, приложенный в задании) в объект Pandas DataFrame:</p>

</div>
</div>
</div>
<div class="cell border-box-sizing code_cell rendered">
<div class="input">
<div class="prompt input_prompt">In&nbsp;[1]:</div>
<div class="inner_cell">
    <div class="input_area">
<div class=" highlight hl-ipython3"><pre><span></span><span class="kn">import</span> <span class="nn">numpy</span> <span class="k">as</span> <span class="nn">np</span>
<span class="kn">import</span> <span class="nn">pandas</span> <span class="k">as</span> <span class="nn">pd</span>
<span class="kn">import</span> <span class="nn">seaborn</span> <span class="k">as</span> <span class="nn">sns</span>
<span class="kn">import</span> <span class="nn">matplotlib.pyplot</span> <span class="k">as</span> <span class="nn">plt</span>
<span class="kn">import</span> <span class="nn">scipy.optimize</span>

<span class="o">%</span><span class="k">matplotlib</span> inline
</pre></div>

</div>
</div>
</div>

</div>
<div class="cell border-box-sizing code_cell rendered">
<div class="input">
<div class="prompt input_prompt">In&nbsp;[2]:</div>
<div class="inner_cell">
    <div class="input_area">
<div class=" highlight hl-ipython3"><pre><span></span><span class="n">data</span> <span class="o">=</span> <span class="n">pd</span><span class="o">.</span><span class="n">read_csv</span><span class="p">(</span><span class="s1">&#39;weights_heights.csv&#39;</span><span class="p">,</span> <span class="n">index_col</span><span class="o">=</span><span class="s1">&#39;Index&#39;</span><span class="p">)</span>
<span class="n">data</span><span class="o">.</span><span class="n">head</span><span class="p">()</span>
</pre></div>

</div>
</div>
</div>

<div class="output_wrapper">
<div class="output">


<div class="output_area">

<div class="prompt output_prompt">Out[2]:</div>



<div class="output_html rendered_html output_subarea output_execute_result">
<div>
<style scoped>
    .dataframe tbody tr th:only-of-type {
        vertical-align: middle;
    }

    .dataframe tbody tr th {
        vertical-align: top;
    }

    .dataframe thead th {
        text-align: right;
    }
</style>
<table border="1" class="dataframe">
  <thead>
    <tr style="text-align: right;">
      <th></th>
      <th>Height</th>
      <th>Weight</th>
    </tr>
    <tr>
      <th>Index</th>
      <th></th>
      <th></th>
    </tr>
  </thead>
  <tbody>
    <tr>
      <th>1</th>
      <td>65.78331</td>
      <td>112.9925</td>
    </tr>
    <tr>
      <th>2</th>
      <td>71.51521</td>
      <td>136.4873</td>
    </tr>
    <tr>
      <th>3</th>
      <td>69.39874</td>
      <td>153.0269</td>
    </tr>
    <tr>
      <th>4</th>
      <td>68.21660</td>
      <td>142.3354</td>
    </tr>
    <tr>
      <th>5</th>
      <td>67.78781</td>
      <td>144.2971</td>
    </tr>
  </tbody>
</table>
</div>
</div>

</div>

</div>
</div>

</div>
<div class="cell border-box-sizing text_cell rendered"><div class="prompt input_prompt">
</div>
<div class="inner_cell">
<div class="text_cell_render border-box-sizing rendered_html">
<p>Чаще всего первое, что надо надо сделать после считывания данных - это посмотреть на первые несколько записей. Так можно отловить ошибки чтения данных (например, если вместо 10 столбцов получился один, в названии которого 9 точек с запятой). Также это позволяет познакомиться с данными, как минимум, посмотреть на признаки и их природу (количественный, категориальный и т.д.).</p>
<p>После этого стоит построить гистограммы распределения признаков - это опять-таки позволяет понять природу признака (степенное у него распределение, или нормальное, или какое-то еще). Также благодаря гистограмме можно найти какие-то значения, сильно не похожие на другие - "выбросы" в данных. 
Гистограммы удобно строить методом <em>plot</em> Pandas DataFrame с аргументом <em>kind='hist'</em>.</p>
<p><strong>Пример.</strong> Построим гистограмму распределения роста подростков из выборки <em>data</em>. Используем метод <em>plot</em> для DataFrame <em>data</em> c аргументами <em>y='Height'</em> (это тот признак, распределение которого мы строим)</p>

</div>
</div>
</div>
<div class="cell border-box-sizing code_cell rendered">
<div class="input">
<div class="prompt input_prompt">In&nbsp;[3]:</div>
<div class="inner_cell">
    <div class="input_area">
<div class=" highlight hl-ipython3"><pre><span></span><span class="n">data</span><span class="o">.</span><span class="n">plot</span><span class="p">(</span><span class="n">y</span><span class="o">=</span><span class="s1">&#39;Height&#39;</span><span class="p">,</span> <span class="n">kind</span><span class="o">=</span><span class="s1">&#39;hist&#39;</span><span class="p">,</span> <span class="n">color</span><span class="o">=</span><span class="s1">&#39;lightblue&#39;</span><span class="p">,</span>  <span class="n">title</span><span class="o">=</span><span class="s1">&#39;Height (inch.) distribution&#39;</span><span class="p">)</span>
</pre></div>

</div>
</div>
</div>

<div class="output_wrapper">
<div class="output">


<div class="output_area">

<div class="prompt output_prompt">Out[3]:</div>




<div class="output_text output_subarea output_execute_result">
<pre>&lt;matplotlib.axes._subplots.AxesSubplot at 0x263f1c7e438&gt;</pre>
</div>

</div>

<div class="output_area">

<div class="prompt"></div>




<div class="output_png output_subarea ">
<img src="data:image/png;base64,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
"
>
</div>

</div>

</div>
</div>

</div>
<div class="cell border-box-sizing text_cell rendered"><div class="prompt input_prompt">
</div>
<div class="inner_cell">
<div class="text_cell_render border-box-sizing rendered_html">
<p>Аргументы:</p>
<ul>
<li><em>y='Height'</em> - тот признак, распределение которого мы строим</li>
<li><em>kind='hist'</em> - означает, что строится гистограмма</li>
<li><em>color='red'</em> - цвет</li>
</ul>

</div>
</div>
</div>
<div class="cell border-box-sizing text_cell rendered"><div class="prompt input_prompt">
</div>
<div class="inner_cell">
<div class="text_cell_render border-box-sizing rendered_html">
<p><strong>[2]</strong>. Посмотрите на первые 5 записей с помощью метода <em>head</em> Pandas DataFrame. Нарисуйте гистограмму распределения веса с помощью метода <em>plot</em> Pandas DataFrame. Подпишите картинку.</p>

</div>
</div>
</div>
<div class="cell border-box-sizing code_cell rendered">
<div class="input">
<div class="prompt input_prompt">In&nbsp;[4]:</div>
<div class="inner_cell">
    <div class="input_area">
<div class=" highlight hl-ipython3"><pre><span></span><span class="c1"># Ваш код здесь</span>
<span class="n">data</span><span class="o">.</span><span class="n">head</span><span class="p">(</span><span class="mi">5</span><span class="p">)</span>
</pre></div>

</div>
</div>
</div>

<div class="output_wrapper">
<div class="output">


<div class="output_area">

<div class="prompt output_prompt">Out[4]:</div>



<div class="output_html rendered_html output_subarea output_execute_result">
<div>
<style scoped>
    .dataframe tbody tr th:only-of-type {
        vertical-align: middle;
    }

    .dataframe tbody tr th {
        vertical-align: top;
    }

    .dataframe thead th {
        text-align: right;
    }
</style>
<table border="1" class="dataframe">
  <thead>
    <tr style="text-align: right;">
      <th></th>
      <th>Height</th>
      <th>Weight</th>
    </tr>
    <tr>
      <th>Index</th>
      <th></th>
      <th></th>
    </tr>
  </thead>
  <tbody>
    <tr>
      <th>1</th>
      <td>65.78331</td>
      <td>112.9925</td>
    </tr>
    <tr>
      <th>2</th>
      <td>71.51521</td>
      <td>136.4873</td>
    </tr>
    <tr>
      <th>3</th>
      <td>69.39874</td>
      <td>153.0269</td>
    </tr>
    <tr>
      <th>4</th>
      <td>68.21660</td>
      <td>142.3354</td>
    </tr>
    <tr>
      <th>5</th>
      <td>67.78781</td>
      <td>144.2971</td>
    </tr>
  </tbody>
</table>
</div>
</div>

</div>

</div>
</div>

</div>
<div class="cell border-box-sizing code_cell rendered">
<div class="input">
<div class="prompt input_prompt">In&nbsp;[47]:</div>
<div class="inner_cell">
    <div class="input_area">
<div class=" highlight hl-ipython3"><pre><span></span><span class="n">data</span><span class="o">.</span><span class="n">plot</span><span class="p">(</span><span class="n">y</span><span class="o">=</span><span class="s1">&#39;Weight&#39;</span><span class="p">,</span> <span class="n">kind</span><span class="o">=</span><span class="s1">&#39;hist&#39;</span><span class="p">,</span> <span class="n">color</span><span class="o">=</span><span class="s1">&#39;pink&#39;</span><span class="p">,</span>  <span class="n">title</span><span class="o">=</span><span class="s1">&#39;Weight(Pounds)  distribution&#39;</span><span class="p">);</span>
</pre></div>

</div>
</div>
</div>

<div class="output_wrapper">
<div class="output">


<div class="output_area">

<div class="prompt"></div>




<div class="output_png output_subarea ">
<img src="data:image/png;base64,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
"
>
</div>

</div>

</div>
</div>

</div>
<div class="cell border-box-sizing text_cell rendered"><div class="prompt input_prompt">
</div>
<div class="inner_cell">
<div class="text_cell_render border-box-sizing rendered_html">
<p>Один из эффективных методов первичного анализа данных - отображение попарных зависимостей признаков. Создается $m \times m$ графиков (<em>m</em> - число признаков), где по диагонали рисуются гистограммы распределения признаков, а вне диагонали - scatter plots зависимости двух признаков. Это можно делать с помощью метода $scatter\_matrix$ Pandas Data Frame или <em>pairplot</em> библиотеки Seaborn.</p>
<p>Чтобы проиллюстрировать этот метод, интересней добавить третий признак. Создадим признак <em>Индекс массы тела</em> (<a href="https://en.wikipedia.org/wiki/Body_mass_index">BMI</a>). Для этого воспользуемся удобной связкой метода <em>apply</em> Pandas DataFrame и lambda-функций Python.</p>

</div>
</div>
</div>
<div class="cell border-box-sizing code_cell rendered">
<div class="input">
<div class="prompt input_prompt">In&nbsp;[6]:</div>
<div class="inner_cell">
    <div class="input_area">
<div class=" highlight hl-ipython3"><pre><span></span><span class="k">def</span> <span class="nf">make_bmi</span><span class="p">(</span><span class="n">height_inch</span><span class="p">,</span> <span class="n">weight_pound</span><span class="p">):</span>
    <span class="n">METER_TO_INCH</span><span class="p">,</span> <span class="n">KILO_TO_POUND</span> <span class="o">=</span> <span class="mf">39.37</span><span class="p">,</span> <span class="mf">2.20462</span>
    <span class="k">return</span> <span class="p">(</span><span class="n">weight_pound</span> <span class="o">/</span> <span class="n">KILO_TO_POUND</span><span class="p">)</span> <span class="o">/</span> \
           <span class="p">(</span><span class="n">height_inch</span> <span class="o">/</span> <span class="n">METER_TO_INCH</span><span class="p">)</span> <span class="o">**</span> <span class="mi">2</span>
</pre></div>

</div>
</div>
</div>

</div>
<div class="cell border-box-sizing code_cell rendered">
<div class="input">
<div class="prompt input_prompt">In&nbsp;[7]:</div>
<div class="inner_cell">
    <div class="input_area">
<div class=" highlight hl-ipython3"><pre><span></span><span class="n">data</span><span class="p">[</span><span class="s1">&#39;BMI&#39;</span><span class="p">]</span> <span class="o">=</span> <span class="n">data</span><span class="o">.</span><span class="n">apply</span><span class="p">(</span><span class="k">lambda</span> <span class="n">row</span><span class="p">:</span> <span class="n">make_bmi</span><span class="p">(</span><span class="n">row</span><span class="p">[</span><span class="s1">&#39;Height&#39;</span><span class="p">],</span> 
                                             <span class="n">row</span><span class="p">[</span><span class="s1">&#39;Weight&#39;</span><span class="p">]),</span> <span class="n">axis</span><span class="o">=</span><span class="mi">1</span><span class="p">)</span>
</pre></div>

</div>
</div>
</div>

</div>
<div class="cell border-box-sizing text_cell rendered"><div class="prompt input_prompt">
</div>
<div class="inner_cell">
<div class="text_cell_render border-box-sizing rendered_html">
<p><strong>[3].</strong> Постройте картинку, на которой будут отображены попарные зависимости признаков , 'Height', 'Weight' и 'BMI' друг от друга. Используйте метод <em>pairplot</em> библиотеки Seaborn.</p>

</div>
</div>
</div>
<div class="cell border-box-sizing code_cell rendered">
<div class="input">
<div class="prompt input_prompt">In&nbsp;[8]:</div>
<div class="inner_cell">
    <div class="input_area">
<div class=" highlight hl-ipython3"><pre><span></span><span class="n">sns</span><span class="o">.</span><span class="n">pairplot</span><span class="p">(</span><span class="n">data</span><span class="p">)</span>
</pre></div>

</div>
</div>
</div>

<div class="output_wrapper">
<div class="output">


<div class="output_area">

<div class="prompt output_prompt">Out[8]:</div>




<div class="output_text output_subarea output_execute_result">
<pre>&lt;seaborn.axisgrid.PairGrid at 0x263f205cc50&gt;</pre>
</div>

</div>

<div class="output_area">

<div class="prompt"></div>




<div class="output_png output_subarea ">
<img src="data:image/png;base64,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
"
>
</div>

</div>

</div>
</div>

</div>
<div class="cell border-box-sizing text_cell rendered"><div class="prompt input_prompt">
</div>
<div class="inner_cell">
<div class="text_cell_render border-box-sizing rendered_html">
<p>Часто при первичном анализе данных надо исследовать зависимость какого-то количественного признака от категориального (скажем, зарплаты от пола сотрудника). В этом помогут "ящики с усами" - boxplots библиотеки Seaborn. Box plot - это компактный способ показать статистики вещественного признака (среднее и квартили) по разным значениям категориального признака. Также помогает отслеживать "выбросы" - наблюдения, в которых значение данного вещественного признака сильно отличается от других.</p>

</div>
</div>
</div>
<div class="cell border-box-sizing text_cell rendered"><div class="prompt input_prompt">
</div>
<div class="inner_cell">
<div class="text_cell_render border-box-sizing rendered_html">
<p><strong>[4]</strong>. Создайте в DataFrame <em>data</em> новый признак <em>weight_category</em>, который будет иметь 3 значения: 1 – если вес меньше 120 фунтов. (~ 54 кг.), 3 - если вес  больше или равен 150 фунтов (~68 кг.), 2 – в остальных случаях. Постройте «ящик с усами» (boxplot), демонстрирующий зависимость роста от весовой категории. Используйте метод <em>boxplot</em> библиотеки Seaborn и метод <em>apply</em> Pandas DataFrame. Подпишите ось <em>y</em> меткой «Рост», ось <em>x</em> – меткой «Весовая категория».</p>

</div>
</div>
</div>
<div class="cell border-box-sizing code_cell rendered">
<div class="input">
<div class="prompt input_prompt">In&nbsp;[9]:</div>
<div class="inner_cell">
    <div class="input_area">
<div class=" highlight hl-ipython3"><pre><span></span><span class="c1"># Ваш код здесь</span>
<span class="k">def</span> <span class="nf">weight_category</span><span class="p">(</span><span class="n">weight</span><span class="p">):</span>
    <span class="n">category_type</span><span class="o">=</span><span class="mi">0</span>
    <span class="k">if</span> <span class="n">weight</span><span class="o">&lt;</span><span class="mi">120</span><span class="p">:</span>
            <span class="n">category_type</span><span class="o">=</span><span class="mi">1</span>
    <span class="k">elif</span> <span class="n">weight</span><span class="o">&gt;=</span><span class="mi">150</span><span class="p">:</span>
            <span class="n">category_type</span><span class="o">=</span><span class="mi">3</span>
    <span class="k">else</span><span class="p">:</span>
            <span class="n">category_type</span><span class="o">=</span><span class="mi">2</span>
    <span class="k">return</span> <span class="n">category_type</span>

<span class="n">data</span><span class="p">[</span><span class="s1">&#39;weight_cat&#39;</span><span class="p">]</span> <span class="o">=</span> <span class="n">data</span><span class="p">[</span><span class="s1">&#39;Weight&#39;</span><span class="p">]</span><span class="o">.</span><span class="n">apply</span><span class="p">(</span><span class="n">weight_category</span><span class="p">)</span>
<span class="n">sns</span><span class="o">.</span><span class="n">boxplot</span><span class="p">(</span><span class="n">x</span><span class="o">=</span><span class="n">data</span><span class="p">[</span><span class="s1">&#39;weight_cat&#39;</span><span class="p">],</span><span class="n">y</span><span class="o">=</span><span class="n">data</span><span class="p">[</span><span class="s1">&#39;Height&#39;</span><span class="p">],</span> <span class="n">palette</span><span class="o">=</span><span class="s2">&quot;Set3&quot;</span><span class="p">);</span>
<span class="c1"># data.head()</span>
</pre></div>

</div>
</div>
</div>

<div class="output_wrapper">
<div class="output">


<div class="output_area">

<div class="prompt"></div>




<div class="output_png output_subarea ">
<img src="data:image/png;base64,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
"
>
</div>

</div>

</div>
</div>

</div>
<div class="cell border-box-sizing text_cell rendered"><div class="prompt input_prompt">
</div>
<div class="inner_cell">
<div class="text_cell_render border-box-sizing rendered_html">
<p><strong>[5].</strong> Постройте scatter plot зависимости роста от веса, используя метод <em>plot</em> для Pandas DataFrame с аргументом <em>kind='scatter'</em>. Подпишите картинку.</p>

</div>
</div>
</div>
<div class="cell border-box-sizing code_cell rendered">
<div class="input">
<div class="prompt input_prompt">In&nbsp;[48]:</div>
<div class="inner_cell">
    <div class="input_area">
<div class=" highlight hl-ipython3"><pre><span></span><span class="n">data</span><span class="o">.</span><span class="n">plot</span><span class="p">(</span><span class="n">kind</span><span class="o">=</span><span class="s1">&#39;scatter&#39;</span><span class="p">,</span> <span class="n">x</span><span class="o">=</span><span class="s1">&#39;Weight&#39;</span><span class="p">,</span> <span class="n">y</span><span class="o">=</span><span class="s1">&#39;Height&#39;</span><span class="p">,</span> <span class="n">color</span><span class="o">=</span><span class="s2">&quot;#FFC3D1&quot;</span><span class="p">)</span>
</pre></div>

</div>
</div>
</div>

<div class="output_wrapper">
<div class="output">


<div class="output_area">

<div class="prompt output_prompt">Out[48]:</div>




<div class="output_text output_subarea output_execute_result">
<pre>&lt;matplotlib.axes._subplots.AxesSubplot at 0x263f40896d8&gt;</pre>
</div>

</div>

<div class="output_area">

<div class="prompt"></div>




<div class="output_png output_subarea ">
<img src="data:image/png;base64,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
"
>
</div>

</div>

</div>
</div>

</div>
<div class="cell border-box-sizing text_cell rendered"><div class="prompt input_prompt">
</div>
<div class="inner_cell">
<div class="text_cell_render border-box-sizing rendered_html">
<h2 id="&#1047;&#1072;&#1076;&#1072;&#1085;&#1080;&#1077;-2.-&#1052;&#1080;&#1085;&#1080;&#1084;&#1080;&#1079;&#1072;&#1094;&#1080;&#1103;-&#1082;&#1074;&#1072;&#1076;&#1088;&#1072;&#1090;&#1080;&#1095;&#1085;&#1086;&#1081;-&#1086;&#1096;&#1080;&#1073;&#1082;&#1080;">&#1047;&#1072;&#1076;&#1072;&#1085;&#1080;&#1077; 2. &#1052;&#1080;&#1085;&#1080;&#1084;&#1080;&#1079;&#1072;&#1094;&#1080;&#1103; &#1082;&#1074;&#1072;&#1076;&#1088;&#1072;&#1090;&#1080;&#1095;&#1085;&#1086;&#1081; &#1086;&#1096;&#1080;&#1073;&#1082;&#1080;<a class="anchor-link" href="#&#1047;&#1072;&#1076;&#1072;&#1085;&#1080;&#1077;-2.-&#1052;&#1080;&#1085;&#1080;&#1084;&#1080;&#1079;&#1072;&#1094;&#1080;&#1103;-&#1082;&#1074;&#1072;&#1076;&#1088;&#1072;&#1090;&#1080;&#1095;&#1085;&#1086;&#1081;-&#1086;&#1096;&#1080;&#1073;&#1082;&#1080;">&#182;</a></h2>
</div>
</div>
</div>
<div class="cell border-box-sizing text_cell rendered"><div class="prompt input_prompt">
</div>
<div class="inner_cell">
<div class="text_cell_render border-box-sizing rendered_html">
<p>В простейшей постановке задача прогноза значения вещественного признака по прочим признакам (задача восстановления регрессии) решается минимизацией квадратичной функции ошибки.</p>
<p><strong>[6].</strong> Напишите функцию, которая по двум параметрам $w_0$ и $w_1$ вычисляет квадратичную ошибку приближения зависимости роста $y$ от веса $x$ прямой линией $y = w_0 + w_1 * x$:
$$error(w_0, w_1) = \sum_{i=1}^n {(y_i - (w_0 + w_1 * x_i))}^2 $$
Здесь $n$ – число наблюдений в наборе данных, $y_i$ и $x_i$ – рост и вес $i$-ого человека в наборе данных.</p>

</div>
</div>
</div>
<div class="cell border-box-sizing code_cell rendered">
<div class="input">
<div class="prompt input_prompt">In&nbsp;[138]:</div>
<div class="inner_cell">
    <div class="input_area">
<div class=" highlight hl-ipython3"><pre><span></span><span class="c1"># Ваш код здесь</span>
<span class="k">def</span> <span class="nf">error</span><span class="p">(</span><span class="n">w</span><span class="p">):</span>
    <span class="n">w0</span> <span class="o">=</span> <span class="n">w</span><span class="p">[</span><span class="mi">0</span><span class="p">]</span>
    <span class="n">w1</span> <span class="o">=</span> <span class="n">w</span><span class="p">[</span><span class="mi">1</span><span class="p">]</span>
    <span class="k">return</span> <span class="n">np</span><span class="o">.</span><span class="n">sum</span><span class="p">((</span><span class="n">data</span><span class="p">[</span><span class="s2">&quot;Height&quot;</span><span class="p">]</span> <span class="o">-</span> <span class="p">(</span><span class="n">w0</span> <span class="o">+</span> <span class="n">w1</span> <span class="o">*</span> <span class="n">data</span><span class="p">[</span><span class="s2">&quot;Weight&quot;</span><span class="p">]))</span> <span class="o">**</span> <span class="mi">2</span><span class="p">)</span>
</pre></div>

</div>
</div>
</div>

</div>
<div class="cell border-box-sizing text_cell rendered"><div class="prompt input_prompt">
</div>
<div class="inner_cell">
<div class="text_cell_render border-box-sizing rendered_html">
<p>Итак, мы решаем задачу: как через облако точек, соответсвующих наблюдениям в нашем наборе данных, в пространстве признаков "Рост" и "Вес" провести прямую линию так, чтобы минимизировать функционал из п. 6. Для начала давайте отобразим хоть какие-то прямые и убедимся, что они плохо передают зависимость роста от веса.</p>
<p><strong>[7].</strong> Проведите на графике из п. 5 Задания 1 две прямые, соответствующие значениям параметров ($w_0, w_1) = (60, 0.05)$ и ($w_0, w_1) = (50, 0.16)$. Используйте метод <em>plot</em> из <em>matplotlib.pyplot</em>, а также метод <em>linspace</em> библиотеки NumPy. Подпишите оси и график.</p>

</div>
</div>
</div>
<div class="cell border-box-sizing code_cell rendered">
<div class="input">
<div class="prompt input_prompt">In&nbsp;[95]:</div>
<div class="inner_cell">
    <div class="input_area">
<div class=" highlight hl-ipython3"><pre><span></span><span class="c1"># Ваш код здесь</span>
<span class="k">def</span> <span class="nf">y1</span><span class="p">(</span><span class="n">x</span><span class="p">):</span>
    <span class="k">return</span> <span class="mi">60</span> <span class="o">+</span> <span class="mf">0.05</span> <span class="o">*</span> <span class="n">x</span>

<span class="k">def</span> <span class="nf">y2</span><span class="p">(</span><span class="n">x</span><span class="p">):</span>
    <span class="k">return</span> <span class="mi">50</span> <span class="o">+</span> <span class="mf">0.16</span> <span class="o">*</span> <span class="n">x</span>

<span class="n">x</span> <span class="o">=</span> <span class="n">np</span><span class="o">.</span><span class="n">linspace</span><span class="p">(</span><span class="mi">70</span><span class="p">,</span> <span class="mi">170</span><span class="p">)</span>
<span class="n">data</span><span class="o">.</span><span class="n">plot</span><span class="p">(</span><span class="n">x</span><span class="o">=</span><span class="s1">&#39;Weight&#39;</span><span class="p">,</span> <span class="n">y</span><span class="o">=</span><span class="s1">&#39;Height&#39;</span><span class="p">,</span> <span class="n">kind</span><span class="o">=</span><span class="s1">&#39;scatter&#39;</span><span class="p">,</span> <span class="n">title</span><span class="o">=</span><span class="s1">&#39;Correlation between weight and height&#39;</span><span class="p">,</span> <span class="n">color</span><span class="o">=</span><span class="s2">&quot;#FFC3D1&quot;</span><span class="p">)</span>
<span class="n">plt</span><span class="o">.</span><span class="n">plot</span><span class="p">(</span><span class="n">x</span><span class="p">,</span> <span class="n">y1</span><span class="p">(</span><span class="n">x</span><span class="p">),</span><span class="n">color</span><span class="o">=</span><span class="s1">&#39;#D16AAD&#39;</span><span class="p">,</span> <span class="n">linewidth</span><span class="o">=</span><span class="mi">3</span><span class="p">)</span>
<span class="n">plt</span><span class="o">.</span><span class="n">plot</span><span class="p">(</span><span class="n">x</span><span class="p">,</span> <span class="n">y2</span><span class="p">(</span><span class="n">x</span><span class="p">),</span><span class="n">color</span><span class="o">=</span><span class="s1">&#39;#A81F78&#39;</span><span class="p">,</span> <span class="n">linewidth</span><span class="o">=</span><span class="mi">3</span><span class="p">)</span>
<span class="n">plt</span><span class="o">.</span><span class="n">legend</span><span class="p">(</span> <span class="p">(</span><span class="s1">&#39;heigth = 60 + 0.05 * weight&#39;</span><span class="p">,</span> <span class="s1">&#39;height = 50 + 0.16 * weight&#39;</span><span class="p">)</span> <span class="p">);</span>
</pre></div>

</div>
</div>
</div>

<div class="output_wrapper">
<div class="output">


<div class="output_area">

<div class="prompt"></div>




<div class="output_png output_subarea ">
<img src="data:image/png;base64,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
"
>
</div>

</div>

</div>
</div>

</div>
<div class="cell border-box-sizing text_cell rendered"><div class="prompt input_prompt">
</div>
<div class="inner_cell">
<div class="text_cell_render border-box-sizing rendered_html">
<p>Минимизация квадратичной функции ошибки - относительная простая задача, поскольку функция выпуклая. Для такой задачи существует много методов оптимизации. Посмотрим, как функция ошибки зависит от одного параметра (наклон прямой), если второй параметр (свободный член) зафиксировать.</p>
<p><strong>[8].</strong> Постройте график зависимости функции ошибки, посчитанной в п. 6, от параметра $w_1$ при $w_0$ = 50. Подпишите оси и график.</p>

</div>
</div>
</div>
<div class="cell border-box-sizing code_cell rendered">
<div class="input">
<div class="prompt input_prompt">In&nbsp;[130]:</div>
<div class="inner_cell">
    <div class="input_area">
<div class=" highlight hl-ipython3"><pre><span></span><span class="n">errors</span> <span class="o">=</span> <span class="p">[]</span>
<span class="n">x</span> <span class="o">=</span> <span class="n">np</span><span class="o">.</span><span class="n">linspace</span><span class="p">(</span><span class="o">-</span><span class="mi">5</span><span class="p">,</span> <span class="mi">5</span><span class="p">,</span> <span class="mi">300</span><span class="p">)</span>
<span class="k">for</span> <span class="n">w1</span> <span class="ow">in</span> <span class="n">x</span><span class="p">:</span>
    <span class="n">errors</span><span class="o">.</span><span class="n">append</span><span class="p">(</span><span class="n">error</span><span class="p">((</span><span class="mi">50</span><span class="p">,</span> <span class="n">w1</span><span class="p">)))</span>
<span class="n">plt</span><span class="o">.</span><span class="n">plot</span><span class="p">(</span><span class="n">x</span><span class="p">,</span> <span class="n">errors</span><span class="p">,</span> <span class="n">color</span><span class="o">=</span><span class="s1">&#39;#A81F78&#39;</span><span class="p">)</span>
<span class="n">plt</span><span class="o">.</span><span class="n">title</span><span class="p">(</span><span class="s1">&#39;relation between error(w0, w1) and w1&#39;</span><span class="p">)</span>
<span class="n">plt</span><span class="o">.</span><span class="n">xlabel</span><span class="p">(</span><span class="s1">&#39;w1&#39;</span><span class="p">)</span>
<span class="n">plt</span><span class="o">.</span><span class="n">ylabel</span><span class="p">(</span><span class="s1">&#39;error&#39;</span><span class="p">)</span>
</pre></div>

</div>
</div>
</div>

<div class="output_wrapper">
<div class="output">


<div class="output_area">

<div class="prompt output_prompt">Out[130]:</div>




<div class="output_text output_subarea output_execute_result">
<pre>Text(0,0.5,&#39;error&#39;)</pre>
</div>

</div>

<div class="output_area">

<div class="prompt"></div>




<div class="output_png output_subarea ">
<img src="data:image/png;base64,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
"
>
</div>

</div>

</div>
</div>

</div>
<div class="cell border-box-sizing text_cell rendered"><div class="prompt input_prompt">
</div>
<div class="inner_cell">
<div class="text_cell_render border-box-sizing rendered_html">
<p>Теперь методом оптимизации найдем "оптимальный" наклон прямой, приближающей зависимость роста от веса, при фиксированном коэффициенте $w_0 = 50$.</p>
<p><strong>[9].</strong> С помощью метода <em>minimize_scalar</em> из <em>scipy.optimize</em> найдите минимум функции, определенной в п. 6, для значений параметра  $w_1$ в диапазоне [-5,5]. Проведите на графике из п. 5 Задания 1 прямую, соответствующую значениям параметров ($w_0$, $w_1$) = (50, $w_1\_opt$), где $w_1\_opt$ – найденное в п. 8 оптимальное значение параметра $w_1$.</p>

</div>
</div>
</div>
<div class="cell border-box-sizing code_cell rendered">
<div class="input">
<div class="prompt input_prompt">In&nbsp;[133]:</div>
<div class="inner_cell">
    <div class="input_area">
<div class=" highlight hl-ipython3"><pre><span></span><span class="c1"># Ваш код здесь</span>
<span class="n">w0</span> <span class="o">=</span> <span class="mf">50.0</span>
<span class="n">w1_opt</span> <span class="o">=</span> <span class="n">scipy</span><span class="o">.</span><span class="n">optimize</span><span class="o">.</span><span class="n">minimize_scalar</span><span class="p">(</span><span class="k">lambda</span> <span class="n">w1</span><span class="p">:</span> <span class="n">error</span><span class="p">((</span><span class="n">w0</span><span class="p">,</span> <span class="n">w1</span><span class="p">)),</span> <span class="n">bounds</span><span class="o">=</span><span class="p">(</span><span class="o">-</span><span class="mi">5</span><span class="p">,</span> <span class="mi">5</span><span class="p">))</span>
</pre></div>

</div>
</div>
</div>

</div>
<div class="cell border-box-sizing code_cell rendered">
<div class="input">
<div class="prompt input_prompt">In&nbsp;[134]:</div>
<div class="inner_cell">
    <div class="input_area">
<div class=" highlight hl-ipython3"><pre><span></span><span class="c1"># Ваш код здесь</span>
<span class="k">def</span> <span class="nf">line</span><span class="p">(</span><span class="n">x</span><span class="p">):</span>
    <span class="k">return</span> <span class="n">w1_opt</span><span class="o">.</span><span class="n">x</span> <span class="o">*</span> <span class="n">x</span> <span class="o">+</span> <span class="n">w0</span>
    
<span class="n">x</span> <span class="o">=</span> <span class="n">np</span><span class="o">.</span><span class="n">linspace</span><span class="p">(</span><span class="mi">75</span><span class="p">,</span> <span class="mi">180</span><span class="p">)</span>
    
<span class="n">data</span><span class="o">.</span><span class="n">plot</span><span class="p">(</span><span class="n">kind</span><span class="o">=</span><span class="s1">&#39;scatter&#39;</span><span class="p">,</span> <span class="n">x</span><span class="o">=</span><span class="s1">&#39;Weight&#39;</span><span class="p">,</span> <span class="n">y</span><span class="o">=</span><span class="s1">&#39;Height&#39;</span><span class="p">,</span> <span class="n">color</span><span class="o">=</span><span class="s1">&#39;#FFC3D1&#39;</span><span class="p">)</span>
<span class="n">plt</span><span class="o">.</span><span class="n">plot</span><span class="p">(</span><span class="n">x</span><span class="p">,</span> <span class="n">line</span><span class="p">(</span><span class="n">x</span><span class="p">),</span> <span class="n">color</span><span class="o">=</span><span class="s1">&#39;#A81F78&#39;</span><span class="p">)</span>
</pre></div>

</div>
</div>
</div>

<div class="output_wrapper">
<div class="output">


<div class="output_area">

<div class="prompt output_prompt">Out[134]:</div>




<div class="output_text output_subarea output_execute_result">
<pre>[&lt;matplotlib.lines.Line2D at 0x263f751fbe0&gt;]</pre>
</div>

</div>

<div class="output_area">

<div class="prompt"></div>




<div class="output_png output_subarea ">
<img src="data:image/png;base64,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
"
>
</div>

</div>

</div>
</div>

</div>
<div class="cell border-box-sizing text_cell rendered"><div class="prompt input_prompt">
</div>
<div class="inner_cell">
<div class="text_cell_render border-box-sizing rendered_html">
<p>При анализе многомерных данных человек часто хочет получить интуитивное представление о природе данных с помощью визуализации. Увы, при числе признаков больше 3 такие картинки нарисовать невозможно. На практике для визуализации данных в 2D и 3D в данных выделаяют 2 или, соответственно, 3 главные компоненты (как именно это делается - мы увидим далее в курсе) и отображают данные на плоскости или в объеме.</p>
<p>Посмотрим, как в Python рисовать 3D картинки, на примере отображения функции $z(x,y) = sin(\sqrt{x^2+y^2})$ для значений $x$ и $y$ из интервала [-5,5] c шагом 0.25.</p>

</div>
</div>
</div>
<div class="cell border-box-sizing code_cell rendered">
<div class="input">
<div class="prompt input_prompt">In&nbsp;[135]:</div>
<div class="inner_cell">
    <div class="input_area">
<div class=" highlight hl-ipython3"><pre><span></span><span class="kn">from</span> <span class="nn">mpl_toolkits.mplot3d</span> <span class="k">import</span> <span class="n">Axes3D</span>
</pre></div>

</div>
</div>
</div>

</div>
<div class="cell border-box-sizing text_cell rendered"><div class="prompt input_prompt">
</div>
<div class="inner_cell">
<div class="text_cell_render border-box-sizing rendered_html">
<p>Создаем объекты типа matplotlib.figure.Figure (рисунок) и  matplotlib.axes._subplots.Axes3DSubplot (ось).</p>

</div>
</div>
</div>
<div class="cell border-box-sizing code_cell rendered">
<div class="input">
<div class="prompt input_prompt">In&nbsp;[136]:</div>
<div class="inner_cell">
    <div class="input_area">
<div class=" highlight hl-ipython3"><pre><span></span><span class="n">fig</span> <span class="o">=</span> <span class="n">plt</span><span class="o">.</span><span class="n">figure</span><span class="p">()</span>
<span class="n">ax</span> <span class="o">=</span> <span class="n">fig</span><span class="o">.</span><span class="n">gca</span><span class="p">(</span><span class="n">projection</span><span class="o">=</span><span class="s1">&#39;3d&#39;</span><span class="p">)</span> <span class="c1"># get current axis</span>

<span class="c1"># Создаем массивы NumPy с координатами точек по осям X и У. </span>
<span class="c1"># Используем метод meshgrid, при котором по векторам координат </span>
<span class="c1"># создается матрица координат. Задаем нужную функцию Z(x, y).</span>
<span class="n">X</span> <span class="o">=</span> <span class="n">np</span><span class="o">.</span><span class="n">arange</span><span class="p">(</span><span class="o">-</span><span class="mi">5</span><span class="p">,</span> <span class="mi">5</span><span class="p">,</span> <span class="mf">0.25</span><span class="p">)</span>
<span class="n">Y</span> <span class="o">=</span> <span class="n">np</span><span class="o">.</span><span class="n">arange</span><span class="p">(</span><span class="o">-</span><span class="mi">5</span><span class="p">,</span> <span class="mi">5</span><span class="p">,</span> <span class="mf">0.25</span><span class="p">)</span>
<span class="n">X</span><span class="p">,</span> <span class="n">Y</span> <span class="o">=</span> <span class="n">np</span><span class="o">.</span><span class="n">meshgrid</span><span class="p">(</span><span class="n">X</span><span class="p">,</span> <span class="n">Y</span><span class="p">)</span>
<span class="n">Z</span> <span class="o">=</span> <span class="n">np</span><span class="o">.</span><span class="n">sin</span><span class="p">(</span><span class="n">np</span><span class="o">.</span><span class="n">sqrt</span><span class="p">(</span><span class="n">X</span><span class="o">**</span><span class="mi">2</span> <span class="o">+</span> <span class="n">Y</span><span class="o">**</span><span class="mi">2</span><span class="p">))</span>

<span class="c1"># Наконец, используем метод *plot_surface* объекта </span>
<span class="c1"># типа Axes3DSubplot. Также подписываем оси.</span>
<span class="n">surf</span> <span class="o">=</span> <span class="n">ax</span><span class="o">.</span><span class="n">plot_surface</span><span class="p">(</span><span class="n">X</span><span class="p">,</span> <span class="n">Y</span><span class="p">,</span> <span class="n">Z</span><span class="p">)</span>
<span class="n">ax</span><span class="o">.</span><span class="n">set_xlabel</span><span class="p">(</span><span class="s1">&#39;X&#39;</span><span class="p">)</span>
<span class="n">ax</span><span class="o">.</span><span class="n">set_ylabel</span><span class="p">(</span><span class="s1">&#39;Y&#39;</span><span class="p">)</span>
<span class="n">ax</span><span class="o">.</span><span class="n">set_zlabel</span><span class="p">(</span><span class="s1">&#39;Z&#39;</span><span class="p">)</span>
<span class="n">plt</span><span class="o">.</span><span class="n">show</span><span class="p">()</span>
</pre></div>

</div>
</div>
</div>

<div class="output_wrapper">
<div class="output">


<div class="output_area">

<div class="prompt"></div>




<div class="output_png output_subarea ">
<img src="data:image/png;base64,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
"
>
</div>

</div>

</div>
</div>

</div>
<div class="cell border-box-sizing text_cell rendered"><div class="prompt input_prompt">
</div>
<div class="inner_cell">
<div class="text_cell_render border-box-sizing rendered_html">
<p><strong>[10].</strong> Постройте 3D-график зависимости функции ошибки, посчитанной в п.6 от параметров $w_0$ и $w_1$. Подпишите ось $x$ меткой «Intercept», ось $y$ – меткой «Slope», a ось $z$ – меткой «Error».</p>

</div>
</div>
</div>
<div class="cell border-box-sizing code_cell rendered">
<div class="input">
<div class="prompt input_prompt">In&nbsp;[156]:</div>
<div class="inner_cell">
    <div class="input_area">
<div class=" highlight hl-ipython3"><pre><span></span><span class="c1"># Ваш код здесь</span>
<span class="k">def</span> <span class="nf">error_loop</span><span class="p">(</span><span class="n">w</span><span class="p">):</span>
    <span class="n">w0</span> <span class="o">=</span> <span class="n">w</span><span class="p">[</span><span class="mi">0</span><span class="p">]</span>
    <span class="n">w1</span> <span class="o">=</span> <span class="n">w</span><span class="p">[</span><span class="mi">1</span><span class="p">]</span>
    <span class="n">result</span> <span class="o">=</span> <span class="mf">0.0</span>
    <span class="k">for</span> <span class="n">index</span><span class="p">,</span> <span class="n">row</span> <span class="ow">in</span> <span class="n">data</span><span class="o">.</span><span class="n">iterrows</span><span class="p">():</span>
        <span class="n">result</span> <span class="o">+=</span> <span class="p">(</span><span class="n">row</span><span class="p">[</span><span class="s1">&#39;Height&#39;</span><span class="p">]</span> <span class="o">-</span> <span class="p">(</span><span class="n">w0</span> <span class="o">+</span> <span class="n">w1</span> <span class="o">*</span> <span class="n">row</span><span class="p">[</span><span class="s1">&#39;Weight&#39;</span><span class="p">]))</span> <span class="o">**</span> <span class="mi">2</span>
    <span class="k">return</span> <span class="n">result</span>

<span class="n">fig</span> <span class="o">=</span> <span class="n">plt</span><span class="o">.</span><span class="n">figure</span><span class="p">()</span>
<span class="n">ax</span> <span class="o">=</span> <span class="n">fig</span><span class="o">.</span><span class="n">gca</span><span class="p">(</span><span class="n">projection</span><span class="o">=</span><span class="s2">&quot;3d&quot;</span><span class="p">)</span>

<span class="n">X</span> <span class="o">=</span> <span class="n">np</span><span class="o">.</span><span class="n">arange</span><span class="p">(</span><span class="o">-</span><span class="mi">100</span><span class="p">,</span> <span class="mi">100</span><span class="p">,</span> <span class="mf">0.25</span><span class="p">)</span>
<span class="n">Y</span> <span class="o">=</span> <span class="n">np</span><span class="o">.</span><span class="n">arange</span><span class="p">(</span><span class="o">-</span><span class="mi">5</span><span class="p">,</span> <span class="mi">5</span><span class="p">,</span> <span class="mf">0.25</span><span class="p">)</span>
<span class="n">X</span><span class="p">,</span> <span class="n">Y</span> <span class="o">=</span> <span class="n">np</span><span class="o">.</span><span class="n">meshgrid</span><span class="p">(</span><span class="n">X</span><span class="p">,</span> <span class="n">Y</span><span class="p">)</span>
<span class="n">Z</span> <span class="o">=</span> <span class="n">error_loop</span><span class="p">((</span><span class="n">X</span><span class="p">,</span> <span class="n">Y</span><span class="p">))</span>

<span class="n">surf</span> <span class="o">=</span> <span class="n">ax</span><span class="o">.</span><span class="n">plot_surface</span><span class="p">(</span><span class="n">X</span><span class="p">,</span> <span class="n">Y</span><span class="p">,</span> <span class="n">Z</span><span class="p">)</span>
<span class="n">ax</span><span class="o">.</span><span class="n">set_xlabel</span><span class="p">(</span><span class="s1">&#39;Intercept&#39;</span><span class="p">)</span>
<span class="n">ax</span><span class="o">.</span><span class="n">set_ylabel</span><span class="p">(</span><span class="s1">&#39;Slope&#39;</span><span class="p">)</span>
<span class="n">ax</span><span class="o">.</span><span class="n">set_zlabel</span><span class="p">(</span><span class="s1">&#39;Error&#39;</span><span class="p">)</span>
<span class="n">plt</span><span class="o">.</span><span class="n">show</span><span class="p">()</span>
</pre></div>

</div>
</div>
</div>

<div class="output_wrapper">
<div class="output">


<div class="output_area">

<div class="prompt"></div>




<div class="output_png output_subarea ">
<img src="data:image/png;base64,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
"
>
</div>

</div>

</div>
</div>

</div>
<div class="cell border-box-sizing text_cell rendered"><div class="prompt input_prompt">
</div>
<div class="inner_cell">
<div class="text_cell_render border-box-sizing rendered_html">
<p><strong>[11].</strong> С помощью метода <em>minimize</em> из scipy.optimize найдите минимум функции, определенной в п. 6, для значений параметра $w_0$ в диапазоне [-100,100] и $w_1$ - в диапазоне [-5, 5]. Начальная точка – ($w_0$, $w_1$) = (0, 0). Используйте метод оптимизации L-BFGS-B (аргумент method метода minimize). Проведите на графике из п. 5 Задания 1 прямую, соответствующую найденным оптимальным значениям параметров $w_0$ и $w_1$. Подпишите оси и график.</p>

</div>
</div>
</div>
<div class="cell border-box-sizing code_cell rendered">
<div class="input">
<div class="prompt input_prompt">In&nbsp;[162]:</div>
<div class="inner_cell">
    <div class="input_area">
<div class=" highlight hl-ipython3"><pre><span></span><span class="n">w_opt</span> <span class="o">=</span> <span class="n">scipy</span><span class="o">.</span><span class="n">optimize</span><span class="o">.</span><span class="n">minimize</span><span class="p">(</span><span class="n">error</span><span class="p">,</span> <span class="n">x0</span><span class="o">=</span><span class="p">[</span><span class="mf">0.0</span><span class="p">,</span> <span class="mf">0.0</span><span class="p">],</span> <span class="n">method</span><span class="o">=</span><span class="s1">&#39;L-BFGS-B&#39;</span><span class="p">,</span> <span class="n">bounds</span><span class="o">=</span><span class="p">([</span><span class="o">-</span><span class="mi">100</span><span class="p">,</span> <span class="mi">100</span><span class="p">],</span> <span class="p">[</span><span class="o">-</span><span class="mi">5</span><span class="p">,</span> <span class="mi">5</span><span class="p">]))</span>
</pre></div>

</div>
</div>
</div>

</div>
<div class="cell border-box-sizing code_cell rendered">
<div class="input">
<div class="prompt input_prompt">In&nbsp;[163]:</div>
<div class="inner_cell">
    <div class="input_area">
<div class=" highlight hl-ipython3"><pre><span></span><span class="c1"># Ваш код здесь</span>
<span class="n">w0_opt</span> <span class="o">=</span> <span class="n">w_opt</span><span class="o">.</span><span class="n">x</span><span class="p">[</span><span class="mi">0</span><span class="p">]</span>
<span class="n">w1_opt</span> <span class="o">=</span> <span class="n">w_opt</span><span class="o">.</span><span class="n">x</span><span class="p">[</span><span class="mi">1</span><span class="p">]</span>
    
<span class="k">def</span> <span class="nf">line</span><span class="p">(</span><span class="n">x</span><span class="p">):</span>
    <span class="k">return</span> <span class="n">w0_opt</span> <span class="o">+</span> <span class="n">w1_opt</span> <span class="o">*</span> <span class="n">x</span>
    
<span class="n">x</span> <span class="o">=</span> <span class="n">np</span><span class="o">.</span><span class="n">linspace</span><span class="p">(</span><span class="mi">75</span><span class="p">,</span> <span class="mi">180</span><span class="p">)</span>
<span class="n">data</span><span class="o">.</span><span class="n">plot</span><span class="p">(</span><span class="n">x</span><span class="o">=</span><span class="s1">&#39;Weight&#39;</span><span class="p">,</span> <span class="n">y</span><span class="o">=</span><span class="s1">&#39;Height&#39;</span><span class="p">,</span> <span class="n">kind</span><span class="o">=</span><span class="s1">&#39;scatter&#39;</span><span class="p">,</span> <span class="n">color</span><span class="o">=</span><span class="s1">&#39;#FFC3D1&#39;</span><span class="p">)</span>
<span class="n">plt</span><span class="o">.</span><span class="n">plot</span><span class="p">(</span><span class="n">x</span><span class="p">,</span> <span class="n">line</span><span class="p">(</span><span class="n">x</span><span class="p">),</span> <span class="n">color</span><span class="o">=</span><span class="s1">&#39;#A81F78&#39;</span><span class="p">);</span>
</pre></div>

</div>
</div>
</div>

<div class="output_wrapper">
<div class="output">


<div class="output_area">

<div class="prompt"></div>




<div class="output_png output_subarea ">
<img src="data:image/png;base64,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
"
>
</div>

</div>

</div>
</div>

</div>
<div class="cell border-box-sizing text_cell rendered"><div class="prompt input_prompt">
</div>
<div class="inner_cell">
<div class="text_cell_render border-box-sizing rendered_html">
<h2 id="&#1050;&#1088;&#1080;&#1090;&#1077;&#1088;&#1080;&#1080;-&#1086;&#1094;&#1077;&#1085;&#1082;&#1080;-&#1088;&#1072;&#1073;&#1086;&#1090;&#1099;">&#1050;&#1088;&#1080;&#1090;&#1077;&#1088;&#1080;&#1080; &#1086;&#1094;&#1077;&#1085;&#1082;&#1080; &#1088;&#1072;&#1073;&#1086;&#1090;&#1099;<a class="anchor-link" href="#&#1050;&#1088;&#1080;&#1090;&#1077;&#1088;&#1080;&#1080;-&#1086;&#1094;&#1077;&#1085;&#1082;&#1080;-&#1088;&#1072;&#1073;&#1086;&#1090;&#1099;">&#182;</a></h2>
</div>
</div>
</div>
<div class="cell border-box-sizing text_cell rendered"><div class="prompt input_prompt">
</div>
<div class="inner_cell">
<div class="text_cell_render border-box-sizing rendered_html">
<ul>
<li>Выполняется ли тетрадка IPython без ошибок? (15 баллов)</li>
<li>Верно ли отображена гистограмма распределения роста из п. 2? (3 балла). Правильно ли оформлены подписи? (1 балл)</li>
<li>Верно ли отображены попарные зависимости признаков из п. 3? (3 балла). Правильно ли оформлены подписи? (1 балл)</li>
<li>Верно ли отображена зависимость роста от весовой категории из п. 4? (3 балла). Правильно ли оформлены подписи? (1 балл)</li>
<li>Верно ли отображен scatter plot роста от веса из п. 5? (3 балла). Правильно ли оформлены подписи? (1 балл)</li>
<li>Правильно ли реализована функция подсчета квадратичной ошибки из п. 6? (10 баллов)</li>
<li>Правильно ли нарисован график из п. 7? (3 балла) Правильно ли оформлены подписи? (1 балл)</li>
<li>Правильно ли нарисован график из п. 8? (3 балла) Правильно ли оформлены подписи? (1 балл)</li>
<li>Правильно ли используется метод minimize_scalar из scipy.optimize? (6 баллов). Правильно ли нарисован график из п. 9? (3 балла) Правильно ли оформлены подписи? (1 балл)</li>
<li>Правильно ли нарисован 3D-график из п. 10? (6 баллов) Правильно ли оформлены подписи? (1 балл)</li>
<li>Правильно ли используется метод minimize из scipy.optimize? (6 баллов). Правильно ли нарисован график из п. 11? (3 балла). Правильно ли оформлены подписи? (1 балл)</li>
</ul>

</div>
</div>
</div>
    </div>
  </div>
</body>

 


</html>
