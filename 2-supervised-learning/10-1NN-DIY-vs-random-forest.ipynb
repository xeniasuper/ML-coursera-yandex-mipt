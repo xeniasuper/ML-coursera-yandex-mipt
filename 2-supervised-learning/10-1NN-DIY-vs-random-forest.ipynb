{
 "cells": [
  {
   "cell_type": "code",
   "execution_count": 1,
   "metadata": {},
   "outputs": [],
   "source": [
    "from sklearn import model_selection, datasets\n",
    "\n",
    "digits = datasets.load_digits()\n",
    "\n",
    "# Оставьте последние 25% объектов для контроля качества, разделив X и y на X_train, y_train и X_test, y_test.\n",
    "(X_train, X_test,\n",
    " y_train, y_test) = model_selection.train_test_split(digits.data, digits.target, test_size=0.25, \n",
    "                                                     random_state=1, shuffle=False, stratify=None)"
   ]
  },
  {
   "cell_type": "code",
   "execution_count": 2,
   "metadata": {},
   "outputs": [],
   "source": [
    "# Задание 1\n",
    "# Реализуйте самостоятельно метод одного ближайшего соседа с евклидовой метрикой для задачи классификации. "
   ]
  },
  {
   "cell_type": "code",
   "execution_count": 3,
   "metadata": {},
   "outputs": [
    {
     "name": "stdout",
     "output_type": "stream",
     "text": [
      "0.03777777777777778\n"
     ]
    }
   ],
   "source": [
    "predictions = []\n",
    "num_objects = X_test.shape[0]\n",
    "\n",
    "for i in range(num_objects):\n",
    "    obj = X_test[i, :]\n",
    "    distances = list(((X_train - obj) ** 2).sum(axis=1))\n",
    "    min_dist = min(distances)\n",
    "    min_dist_index = list(distances).index(min_dist)\n",
    "    nearest = list(y_train)[min_dist_index]\n",
    "    predictions.append(nearest)\n",
    "    \n",
    "\n",
    "accuracy_1nn = (predictions != y_test).sum() / len(y_test)\n",
    "print(accuracy_1nn)"
   ]
  },
  {
   "cell_type": "code",
   "execution_count": 4,
   "metadata": {},
   "outputs": [],
   "source": [
    "# Задание 2\n",
    "# Теперь обучите RandomForestClassifier(n_estimators=1000) из sklearn. \n",
    "# Сделайте прогнозы на тестовой выборке и оцените долю ошибок классификации на ней."
   ]
  },
  {
   "cell_type": "code",
   "execution_count": 6,
   "metadata": {},
   "outputs": [
    {
     "name": "stdout",
     "output_type": "stream",
     "text": [
      "0.06888888888888889\n"
     ]
    }
   ],
   "source": [
    "from sklearn import ensemble, model_selection\n",
    "\n",
    "rand_forest_clf = ensemble.RandomForestClassifier(n_estimators=1000)\n",
    "rand_forest_clf.fit(X_train, y_train)\n",
    "predictions = rand_forest_clf.predict(X_test)\n",
    "\n",
    "accuracy_rf = (predictions != y_test).sum() / len(y_test)\n",
    "print(accuracy_rf)"
   ]
  },
  {
   "cell_type": "code",
   "execution_count": null,
   "metadata": {},
   "outputs": [],
   "source": []
  }
 ],
 "metadata": {
  "kernelspec": {
   "display_name": "Python 3",
   "language": "python",
   "name": "python3"
  },
  "language_info": {
   "codemirror_mode": {
    "name": "ipython",
    "version": 3
   },
   "file_extension": ".py",
   "mimetype": "text/x-python",
   "name": "python",
   "nbconvert_exporter": "python",
   "pygments_lexer": "ipython3",
   "version": "3.6.6"
  }
 },
 "nbformat": 4,
 "nbformat_minor": 2
}
