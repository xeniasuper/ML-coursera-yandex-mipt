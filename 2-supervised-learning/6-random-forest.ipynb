{
 "cells": [
  {
   "cell_type": "code",
   "execution_count": 1,
   "metadata": {},
   "outputs": [],
   "source": [
    "import pandas as pd\n",
    "import numpy as np\n",
    "import matplotlib.pyplot as plt\n",
    "from sklearn import datasets, tree, model_selection, ensemble"
   ]
  },
  {
   "cell_type": "code",
   "execution_count": 2,
   "metadata": {},
   "outputs": [],
   "source": [
    "digits = datasets.load_digits()"
   ]
  },
  {
   "cell_type": "code",
   "execution_count": 3,
   "metadata": {},
   "outputs": [],
   "source": [
    "X = digits.data\n",
    "y = digits.target\n",
    "\n",
    "n_features = len(X[0])"
   ]
  },
  {
   "cell_type": "code",
   "execution_count": 4,
   "metadata": {},
   "outputs": [
    {
     "name": "stdout",
     "output_type": "stream",
     "text": [
      "0.8308505757157467\n"
     ]
    }
   ],
   "source": [
    "classifier = tree.DecisionTreeClassifier()\n",
    "cross_val_score_DT = model_selection.cross_val_score(classifier, X, y, cv=10).mean()\n",
    "print(cross_val_score_DT)"
   ]
  },
  {
   "cell_type": "code",
   "execution_count": 5,
   "metadata": {},
   "outputs": [
    {
     "name": "stdout",
     "output_type": "stream",
     "text": [
      "0.9205001393757349\n"
     ]
    }
   ],
   "source": [
    "bagging_classifier = ensemble.BaggingClassifier(n_estimators=100)\n",
    "cross_val_score_BC = model_selection.cross_val_score(bagging_classifier, X, y, cv=10, n_jobs=-1).mean()\n",
    "print(cross_val_score_BC)"
   ]
  },
  {
   "cell_type": "code",
   "execution_count": 6,
   "metadata": {},
   "outputs": [
    {
     "name": "stdout",
     "output_type": "stream",
     "text": [
      "0.9291892243068934\n"
     ]
    }
   ],
   "source": [
    "classifier = tree.DecisionTreeClassifier()\n",
    "bagging_classifier_sqrt = ensemble.BaggingClassifier(n_estimators=100, max_features=int(np.sqrt(n_features)))\n",
    "cross_val_score_BC = model_selection.cross_val_score(bagging_classifier_sqrt, X, y, cv=10, n_jobs=-1).mean()\n",
    "print(cross_val_score_BC)"
   ]
  },
  {
   "cell_type": "code",
   "execution_count": 7,
   "metadata": {},
   "outputs": [
    {
     "name": "stdout",
     "output_type": "stream",
     "text": [
      "0.956163002651984\n"
     ]
    }
   ],
   "source": [
    "estimator = tree.DecisionTreeClassifier(max_features=\"sqrt\")\n",
    "bagging_classifier = ensemble.BaggingClassifier(base_estimator=estimator, n_estimators=100)\n",
    "cross_val_score_BC = model_selection.cross_val_score(bagging_classifier, X, y, cv=10, n_jobs=-1).mean()\n",
    "print(cross_val_score_BC)"
   ]
  },
  {
   "cell_type": "code",
   "execution_count": 8,
   "metadata": {},
   "outputs": [
    {
     "name": "stdout",
     "output_type": "stream",
     "text": [
      "0.9478221547489539\n"
     ]
    }
   ],
   "source": [
    "RF_classifier = ensemble.RandomForestClassifier(n_estimators=100)\n",
    "cross_val_score_RF = model_selection.cross_val_score(RF_classifier, X, y, cv=10, n_jobs=-1).mean()\n",
    "print(cross_val_score_RF)"
   ]
  },
  {
   "cell_type": "code",
   "execution_count": null,
   "metadata": {},
   "outputs": [],
   "source": [
    "# как качество классификации зависит от ограничений на глубину дерева\n",
    "\n",
    "max_depths = np.arange(1, 10, 2)\n",
    "cross_val_scores = []\n",
    "\n",
    "for max_depth in max_depths:\n",
    "    RF_classifier = ensemble.RandomForestClassifier(n_estimators=100, max_depth=max_depth)\n",
    "    cross_val_score_RF = model_selection.cross_val_score(RF_classifier, X, y, cv=10, n_jobs=-1).mean()\n",
    "    cross_val_scores.append(cross_val_score_RF)\n",
    "\n",
    "plt.plot(max_depths, cross_val_scores, color=\"lightcoral\")\n",
    "plt.ylabel(\"cross_val_score\")\n",
    "plt.xlabel(\"max_depth\")\n",
    "\n",
    "# чем больше глубина, тем лучше качество классификации"
   ]
  },
  {
   "cell_type": "code",
   "execution_count": 20,
   "metadata": {},
   "outputs": [
    {
     "data": {
      "text/plain": [
       "Text(0.5,0,'n_max_features')"
      ]
     },
     "execution_count": 20,
     "metadata": {},
     "output_type": "execute_result"
    },
    {
     "data": {
      "image/png": "[encoded data removed]",
      "text/plain": [
       "<Figure size 432x288 with 1 Axes>"
      ]
     },
     "metadata": {
      "needs_background": "light"
     },
     "output_type": "display_data"
    }
   ],
   "source": [
    " # как качество классификации зависит от количества признаков, выбираемых при построении каждой вершины дерева\n",
    "\n",
    "n_max_features = np.arange(1, n_features+1, 7)\n",
    "cross_val_scores = []\n",
    "\n",
    "for num in n_max_features:\n",
    "    RF_classifier = ensemble.RandomForestClassifier(max_features=num, n_estimators=100)\n",
    "    cross_val_score_RF = model_selection.cross_val_score(RF_classifier, X, y, cv=10, n_jobs=-1).mean()\n",
    "    cross_val_scores.append(cross_val_score_RF)\n",
    "    \n",
    "plt.plot(n_max_features, cross_val_scores, color=\"lightcoral\")\n",
    "plt.ylabel(\"cross_val_score\")\n",
    "plt.xlabel(\"n_max_features\")\n",
    "\n",
    "# от 0 до 8 растет, в 8 достигает своего максимума, затем падает \n",
    "# sqrt(n_features) == 8"
   ]
  },
  {
   "cell_type": "code",
   "execution_count": 21,
   "metadata": {},
   "outputs": [
    {
     "data": {
      "text/plain": [
       "Text(0.5,0,'n_trees')"
      ]
     },
     "execution_count": 21,
     "metadata": {},
     "output_type": "execute_result"
    },
    {
     "data": {
      "image/png": "[encoded data removed]",
      "text/plain": [
       "<Figure size 432x288 with 1 Axes>"
      ]
     },
     "metadata": {
      "needs_background": "light"
     },
     "output_type": "display_data"
    }
   ],
   "source": [
    "# как качество классификации на данном датасете зависит от количества деревьев\n",
    "\n",
    "n_trees = np.arange(1, 120, 10)\n",
    "cross_val_scores = []\n",
    "\n",
    "for num in n_trees:\n",
    "    RF_classifier = ensemble.RandomForestClassifier(n_estimators=num)\n",
    "    cross_val_score_RF = model_selection.cross_val_score(RF_classifier, X, y, cv=10, n_jobs=-1).mean()\n",
    "    cross_val_scores.append(cross_val_score_RF)\n",
    "    \n",
    "plt.plot(n_trees, cross_val_scores, color=\"lightcoral\")\n",
    "plt.ylabel(\"cross_val_score\")\n",
    "plt.xlabel(\"n_trees\")\n",
    "\n",
    "# при увеличении кол-ва деревьев, качество повышается\n",
    "# а когда их становится достаточно много, почти не меняется"
   ]
  },
  {
   "cell_type": "code",
   "execution_count": null,
   "metadata": {},
   "outputs": [],
   "source": []
  }
 ],
 "metadata": {
  "kernelspec": {
   "display_name": "Python 3",
   "language": "python",
   "name": "python3"
  },
  "language_info": {
   "codemirror_mode": {
    "name": "ipython",
    "version": 3
   },
   "file_extension": ".py",
   "mimetype": "text/x-python",
   "name": "python",
   "nbconvert_exporter": "python",
   "pygments_lexer": "ipython3",
   "version": "3.6.6"
  }
 },
 "nbformat": 4,
 "nbformat_minor": 2
}
