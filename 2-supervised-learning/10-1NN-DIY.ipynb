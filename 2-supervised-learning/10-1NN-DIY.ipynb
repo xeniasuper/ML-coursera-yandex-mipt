{
 "cells": [
  {
   "cell_type": "code",
   "execution_count": 1,
   "metadata": {},
   "outputs": [],
   "source": [
    "import numpy as np\n",
    "from sklearn import model_selection, datasets\n",
    "\n",
    "digits = datasets.load_digits()\n",
    "\n",
    "# Оставьте последние 25% объектов для контроля качества, разделив X и y на X_train, y_train \n",
    "# и X_test, y_test.\n",
    "(X_train, X_test,\n",
    " y_train, y_test) = model_selection.train_test_split(digits.data, digits.target, \n",
    "                                                     test_size=0.25, random_state=1, \n",
    "                                                     shuffle=False, stratify=None)\n",
    "\n",
    "# It seems to me that it's interesting to try another data set\n",
    "cancer = datasets.load_breast_cancer()\n",
    "\n",
    "(cancer_X_train, cancer_X_test,\n",
    " cancer_y_train, cancer_y_test) = model_selection.train_test_split(cancer.data, cancer.target, \n",
    "                                                     test_size=0.25, random_state=1, \n",
    "                                                     shuffle=False, stratify=None)"
   ]
  },
  {
   "cell_type": "code",
   "execution_count": 2,
   "metadata": {},
   "outputs": [],
   "source": [
    "class my_np_array(np.ndarray):\n",
    "    \"\"\"\n",
    "    A subclass of np.ndarray with an index() method.\n",
    "    \"\"\"\n",
    "    def __new__(cls, *args, **kwargs):\n",
    "        return np.array(*args, **kwargs).view(my_np_array)\n",
    "    def index(self, value):\n",
    "        if value in self:\n",
    "            index = 0\n",
    "            i = 0\n",
    "            while not np.array_equal(self[i], value):\n",
    "                index += 1\n",
    "                i += 1\n",
    "            return index\n",
    "        else:\n",
    "            raise RunTimeError(\"Your value is not in the array\")"
   ]
  },
  {
   "cell_type": "code",
   "execution_count": 3,
   "metadata": {},
   "outputs": [],
   "source": [
    "# Задание 1\n",
    "# Реализуйте самостоятельно метод одного ближайшего соседа с евклидовой метрикой для задачи классификации. "
   ]
  },
  {
   "cell_type": "code",
   "execution_count": 4,
   "metadata": {},
   "outputs": [],
   "source": [
    "def oneNN(X_test, X_train):\n",
    "    \"\"\"\n",
    "    An implementation of the oneNN algorithm.\n",
    "    \n",
    "    First, to find the nearest neighbour of the object in X_test,\n",
    "    we want to compute the euclidean distances between all objects in X_train and the object.\n",
    "    \n",
    "    Let distances be an array of distances.\n",
    "    Then, to get the nearest heighbour of the object, \n",
    "    we want to find the min element of the distances.\n",
    "    In this case, we don't need to compute the square root of every distance in distances, \n",
    "    beacuse if a distance is the min element, then sqrt(distance) is the min element.\n",
    "    \n",
    "    Let min_dist_index = distances.index(min_distance)\n",
    "    Then the nearest neighbour for the object in X_test is X_train[min_dist_index].\n",
    "    Let nn_index be the index of the nearest neighbour in X_train.\n",
    "    Then we predict that the class of the object in X_test is y_train[nn_index].\n",
    "    Returns a list of predictions.\n",
    "    \"\"\"\n",
    "    predictions = []\n",
    "    num_objects = X_test.shape[0]\n",
    "    \n",
    "    for i in range(num_objects):\n",
    "        obj = X_test[i, :]\n",
    "        \n",
    "        distances = ((X_train - obj) ** 2).sum(axis=1)\n",
    "        distances = my_np_array(distances)\n",
    "        \n",
    "        min_dist = np.min(distances)\n",
    "        min_dist_index = distances.index(min_dist)\n",
    "        \n",
    "        # In fact, instead of using the section below,\n",
    "        # we can simply write pred = y_train[min_dist_index]\n",
    "        # And the code will be faster\n",
    "        nearest_neighbour = X_train[min_dist_index]\n",
    "        X_train = my_np_array(X_train)\n",
    "        nn_index = X_train.index(nearest_neighbour)\n",
    "        \n",
    "        pred = y_train[nn_index]\n",
    "        predictions.append(pred)\n",
    "        \n",
    "    return predictions"
   ]
  },
  {
   "cell_type": "code",
   "execution_count": 5,
   "metadata": {},
   "outputs": [
    {
     "name": "stdout",
     "output_type": "stream",
     "text": [
      "0.03777777777777778\n"
     ]
    }
   ],
   "source": [
    "preds_oneNN_digits = oneNN(X_test, X_train)\n",
    "accuracy_oneNN_digits = (preds_oneNN_digits != y_test).sum() / len(y_test)\n",
    "print(accuracy_oneNN_digits)"
   ]
  },
  {
   "cell_type": "code",
   "execution_count": 6,
   "metadata": {},
   "outputs": [
    {
     "name": "stdout",
     "output_type": "stream",
     "text": [
      "0.29333333333333333\n"
     ]
    }
   ],
   "source": [
    "preds_oneNN_cancer = oneNN(cancer_X_test, cancer_X_train)\n",
    "accuracy_oneNN_cancer = (preds_oneNN_cancer != cancer_y_test).sum() / len(y_test)\n",
    "print(accuracy_oneNN_cancer)"
   ]
  },
  {
   "cell_type": "code",
   "execution_count": 7,
   "metadata": {},
   "outputs": [],
   "source": [
    "# Задание 2\n",
    "# Теперь обучите RandomForestClassifier(n_estimators=1000) из sklearn. \n",
    "# Сделайте прогнозы на тестовой выборке и оцените долю ошибок классификации на ней."
   ]
  },
  {
   "cell_type": "code",
   "execution_count": 8,
   "metadata": {},
   "outputs": [
    {
     "name": "stdout",
     "output_type": "stream",
     "text": [
      "0.07111111111111111\n"
     ]
    }
   ],
   "source": [
    "from sklearn import ensemble, model_selection\n",
    "\n",
    "rand_forest_clf = ensemble.RandomForestClassifier(n_estimators=1000)\n",
    "rand_forest_clf.fit(X_train, y_train)\n",
    "predictions = rand_forest_clf.predict(X_test)\n",
    "\n",
    "accuracy_rf_digits = (predictions != y_test).sum() / len(y_test)\n",
    "print(accuracy_rf_digits)"
   ]
  },
  {
   "cell_type": "code",
   "execution_count": 9,
   "metadata": {},
   "outputs": [
    {
     "name": "stdout",
     "output_type": "stream",
     "text": [
      "0.02097902097902098\n"
     ]
    }
   ],
   "source": [
    "rand_forest_clf = ensemble.RandomForestClassifier(n_estimators=1000)\n",
    "rand_forest_clf.fit(cancer_X_train, cancer_y_train)\n",
    "predictions = rand_forest_clf.predict(cancer_X_test)\n",
    "\n",
    "accuracy_rf_digits = (predictions != cancer_y_test).sum() / len(cancer_y_test)\n",
    "print(accuracy_rf_digits)"
   ]
  },
  {
   "cell_type": "code",
   "execution_count": null,
   "metadata": {},
   "outputs": [],
   "source": []
  },
  {
   "cell_type": "code",
   "execution_count": null,
   "metadata": {},
   "outputs": [],
   "source": []
  }
 ],
 "metadata": {
  "kernelspec": {
   "display_name": "Python 3",
   "language": "python",
   "name": "python3"
  },
  "language_info": {
   "codemirror_mode": {
    "name": "ipython",
    "version": 3
   },
   "file_extension": ".py",
   "mimetype": "text/x-python",
   "name": "python",
   "nbconvert_exporter": "python",
   "pygments_lexer": "ipython3",
   "version": "3.6.6"
  }
 },
 "nbformat": 4,
 "nbformat_minor": 2
}
